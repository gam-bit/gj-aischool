{
 "cells": [
  {
   "cell_type": "markdown",
   "metadata": {},
   "source": [
    "일시 : 2020.07.21(월) - 2주차 2/4\n",
    "\n",
    "강사 : 양지웅 강사님\n",
    "\n",
    "---"
   ]
  },
  {
   "cell_type": "code",
   "execution_count": 8,
   "metadata": {},
   "outputs": [
    {
     "name": "stdout",
     "output_type": "stream",
     "text": [
      "15\n",
      "push 1\n",
      "push 2\n",
      "front\n",
      "1\n",
      "back\n",
      "2\n",
      "size\n",
      "2\n",
      "empty\n",
      "0\n",
      "pop\n",
      "1\n",
      "pop\n",
      "2\n",
      "pop\n",
      "-1\n",
      "size\n",
      "0\n",
      "empty\n",
      "1\n",
      "pop\n",
      "-1\n",
      "push 3\n",
      "empty\n",
      "0\n",
      "front\n",
      "3\n"
     ]
    }
   ],
   "source": [
    "class Queue:\n",
    "\n",
    "    \n",
    "    def __init__(self):\n",
    "        self.len = 0\n",
    "        self.queue = []\n",
    "        \n",
    "    \n",
    "    def push(self, x):\n",
    "        self.queue += [x]\n",
    "        self.len += 1 \n",
    "\n",
    "    def pop(self):\n",
    "        \n",
    "        a = self.front()\n",
    "        if a == -1:\n",
    "            return a\n",
    "        self.queue = self.queue[1:]\n",
    "        self.len -= 1\n",
    "        return a\n",
    "        \n",
    "\n",
    "    def size(self):   \n",
    "        return self.len\n",
    "\n",
    "    def empty(self):\n",
    "        if self.len:\n",
    "            return 0\n",
    "        return 1\n",
    "\n",
    "\n",
    "    def front(self):\n",
    "        try:\n",
    "            return self.queue[0]\n",
    "        except:\n",
    "            return -1\n",
    "\n",
    "    def back(self):\n",
    "        try:\n",
    "            return self.queue[self.len-1]\n",
    "        except:\n",
    "            return -1\n",
    "\n",
    "q = Queue()\n",
    "\n",
    "order_N = int(float(input()))\n",
    "for i in range(order_N):\n",
    "    order = list(input().split())\n",
    "    \n",
    "    if order[0] == 'push':\n",
    "        q.push(int(order[1]))\n",
    "    elif order[0] == 'pop':\n",
    "        print(q.pop())\n",
    "    elif order[0] == 'size':\n",
    "        print(q.size())\n",
    "    elif order[0] == 'empty':\n",
    "        print(q.empty())\n",
    "    elif order[0] == 'front':\n",
    "        print(q.front())\n",
    "    else:\n",
    "        print(q.back())"
   ]
  },
  {
   "cell_type": "code",
   "execution_count": null,
   "metadata": {},
   "outputs": [],
   "source": []
  },
  {
   "cell_type": "code",
   "execution_count": null,
   "metadata": {},
   "outputs": [],
   "source": []
  }
 ],
 "metadata": {
  "kernelspec": {
   "display_name": "Python 3",
   "language": "python",
   "name": "python3"
  },
  "language_info": {
   "codemirror_mode": {
    "name": "ipython",
    "version": 3
   },
   "file_extension": ".py",
   "mimetype": "text/x-python",
   "name": "python",
   "nbconvert_exporter": "python",
   "pygments_lexer": "ipython3",
   "version": "3.7.6"
  }
 },
 "nbformat": 4,
 "nbformat_minor": 4
}
