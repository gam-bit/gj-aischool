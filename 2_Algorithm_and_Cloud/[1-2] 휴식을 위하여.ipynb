{
 "cells": [
  {
   "cell_type": "markdown",
   "metadata": {},
   "source": [
    "# 휴식을 위하여\n",
    "\n",
    "날씨 좋은 휴일,\n",
    "인근 공원에서 독서를 하기로 했지만 공원에서는 공사가 진행되고 있었습니다.\n",
    "\n",
    "공사 현장 근처는 소음이 크기 때문에 휴식과 독서에 적합하지 않습니다.\n",
    "\n",
    "공사 현장은 공원에서 오직 한 군데이고, 그 위치를 (a, b)라고 합니다. 공사현장에서 R만큼의 거리 미만은 소음이 크기 때문에 독서에 적합하지 않습니다.\n",
    "\n",
    "또한 공원에는 휴식과 독서에 적합한 그늘이 N개 존재합니다. 각각의 그늘 위치는 (x_i, y_i)입니다. (i번째)\n",
    "\n",
    "이상의 정보에서 각 그늘이 독서에 적합한지(공사 현장에서 R이상 떨어진 그늘인지) 판별하는 코드를 작성하시오."
   ]
  },
  {
   "cell_type": "code",
   "execution_count": 1,
   "metadata": {},
   "outputs": [
    {
     "name": "stdout",
     "output_type": "stream",
     "text": [
      "공사 현장의 x, y좌표와 공사장 소음 거리, 그늘 개수를 입력하세요: 50 50 100 4\n",
      "그늘 1의 x, y좌표를 입력하세요: 0 0\n",
      "noisy\n",
      "그늘 2의 x, y좌표를 입력하세요: 0 100\n",
      "noisy\n",
      "그늘 3의 x, y좌표를 입력하세요: 100 0\n",
      "noisy\n",
      "그늘 4의 x, y좌표를 입력하세요: 100 0\n",
      "noisy\n"
     ]
    }
   ],
   "source": [
    "def valid_break(a, b, R, x, y):\n",
    "    \n",
    "    if (x-a)**2 + (y-b)**2 >= R**2:\n",
    "        return 'silent'\n",
    "    return 'noisy'\n",
    "\n",
    "\n",
    "def all_valid_break(a, b, R, n):\n",
    "    for i in range(n):\n",
    "        x, y = map(int, input(f'그늘 {i+1}의 x, y좌표를 입력하세요: ').split(' '))\n",
    "        print(valid_break(a, b, R, x, y))\n",
    "        \n",
    "\n",
    "con_x, con_y, noisy_R, n = map(int, input('공사 현장의 x, y좌표와 공사장 소음 거리, 그늘 개수를 입력하세요: ').split(' '))\n",
    "all_valid_break(con_x, con_y, noisy_R, n)    "
   ]
  },
  {
   "cell_type": "code",
   "execution_count": 1,
   "metadata": {},
   "outputs": [
    {
     "name": "stdout",
     "output_type": "stream",
     "text": [
      "50 50 100\n",
      "4\n",
      "0 0\n",
      "noisy\n",
      "0 100\n",
      "noisy\n",
      "100 0\n",
      "noisy\n",
      "100 0\n",
      "noisy\n"
     ]
    }
   ],
   "source": [
    "# 답안\n",
    "def check_sound_status(a, b, r, x, y):\n",
    "    if (x-a)**2 + (y-b)**2 >= r**2:\n",
    "        return \"silent\"\n",
    "    return \"noisy\"\n",
    "\n",
    "a, b, r = map(int, input().split())\n",
    "n = int(input())\n",
    "\n",
    "for _ in range(n):\n",
    "    x, y = map(int, input().split())\n",
    "    print(check_sound_status(a, b, r, x, y))"
   ]
  },
  {
   "cell_type": "markdown",
   "metadata": {},
   "source": []
  }
 ],
 "metadata": {
  "kernelspec": {
   "display_name": "Python 3",
   "language": "python",
   "name": "python3"
  },
  "language_info": {
   "codemirror_mode": {
    "name": "ipython",
    "version": 3
   },
   "file_extension": ".py",
   "mimetype": "text/x-python",
   "name": "python",
   "nbconvert_exporter": "python",
   "pygments_lexer": "ipython3",
   "version": "3.7.6"
  }
 },
 "nbformat": 4,
 "nbformat_minor": 4
}
