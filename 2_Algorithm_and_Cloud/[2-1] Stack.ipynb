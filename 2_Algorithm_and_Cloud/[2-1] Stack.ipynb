{
 "cells": [
  {
   "cell_type": "markdown",
   "metadata": {},
   "source": [
    "일시 : 2020.07.20(월) - 2주차 1/4\n",
    "\n",
    "강사 : 양지웅 강사님\n",
    "\n",
    "---"
   ]
  },
  {
   "cell_type": "markdown",
   "metadata": {},
   "source": [
    "# 스택 문제\n",
    "\n",
    "- 정수를 저장하는 스택을 구현한 다음, 입력으로 주어지는 명령을 처리하는 프로그램을 작성하시오.\n",
    "\n",
    "- 명령은 총 5가지이다.\n",
    "    - push X: 정수 X를 스택에 넣는 연산\n",
    "    - pop: 스택에서 가장 위에 있는 정수를 빼고, 그 수를 출력한다. 만약 스택에 들어있는 정수가 없는 경우에는 -1을 출력한다.\n",
    "    - size : 스택에 들어있는 정수의 개수를 출력한다.\n",
    "    - empty : ;;스택이 비어있으면 1, 아니면 0을 출력한다.\n",
    "    - top : 스택의 가장 위에 있는 정수를 출력한다. 만약 스택에 들어있는 정수가 없는 경우에는 -1을 출력한다.\n",
    "    \n",
    "    \n",
    "## ※제약 조건※\n",
    "- len 사용X\n",
    "- append, pop만 사용\n",
    "- index -1 사용X\n",
    "\n",
    "**문제)**\n",
    "- 첫째 줄에 주어디는 명령의 수 N(1<=N<=10,000)이 주어진다. 둘째 줄부터 N개의 줄에는 명령이 하나씩 주어진다. 주어지는 정수는 위의 범위를 갖는다. 문제에 나와있지 않은 명령이 주어지는 경우는 없다.\n",
    "- 출력해야하는 명령이 주어질 때마다, 한 줄에 하나씩 출력한다."
   ]
  },
  {
   "cell_type": "code",
   "execution_count": 7,
   "metadata": {},
   "outputs": [
    {
     "name": "stdout",
     "output_type": "stream",
     "text": [
      "7\n",
      "명령을 입력하세요pop\n",
      "-1\n",
      "명령을 입력하세요top\n",
      "-1\n",
      "명령을 입력하세요push 123\n",
      "명령을 입력하세요tpo\n",
      "잘못 입력하셨습니다. 다음 명령으로 넘어갑니다.\n",
      "명령을 입력하세요top\n",
      "123\n",
      "명령을 입력하세요pop\n",
      "123\n",
      "명령을 입력하세요top\n",
      "-1\n"
     ]
    }
   ],
   "source": [
    "def push(x):\n",
    "    stack.append(x)\n",
    "\n",
    "def pop():\n",
    "    try:\n",
    "        a = stack.pop()\n",
    "    except:\n",
    "        a = -1\n",
    "    return a\n",
    "\n",
    "def size(): \n",
    "    n = 0\n",
    "    for i in stack:\n",
    "        n += 1\n",
    "    return n\n",
    "    \n",
    "    \n",
    "def empty():\n",
    "    if size() == 0:\n",
    "        return 1\n",
    "    return 0\n",
    "    \n",
    "def top():\n",
    "    \n",
    "    if empty():\n",
    "        return -1\n",
    "    return stack[size()-1]\n",
    "\n",
    "\n",
    "#----------------------\n",
    "order_N = int(input())\n",
    "stack = []\n",
    "\n",
    "for i in range(order_N):\n",
    "    order = input('명령을 입력하세요')\n",
    "    if 'push' in order:\n",
    "        push(int(order.replace('push ', '')))\n",
    "    \n",
    "    elif order == 'pop':\n",
    "        print(pop())\n",
    "    \n",
    "    elif order == 'top':\n",
    "        print(top())\n",
    "        \n",
    "    elif order == 'empty':\n",
    "        print(empty())\n",
    "    \n",
    "    else: # 무조건 올바른 명령만 입력되므로\n",
    "        print(size())"
   ]
  },
  {
   "cell_type": "code",
   "execution_count": null,
   "metadata": {},
   "outputs": [],
   "source": []
  }
 ],
 "metadata": {
  "kernelspec": {
   "display_name": "Python 3",
   "language": "python",
   "name": "python3"
  },
  "language_info": {
   "codemirror_mode": {
    "name": "ipython",
    "version": 3
   },
   "file_extension": ".py",
   "mimetype": "text/x-python",
   "name": "python",
   "nbconvert_exporter": "python",
   "pygments_lexer": "ipython3",
   "version": "3.7.6"
  }
 },
 "nbformat": 4,
 "nbformat_minor": 4
}
