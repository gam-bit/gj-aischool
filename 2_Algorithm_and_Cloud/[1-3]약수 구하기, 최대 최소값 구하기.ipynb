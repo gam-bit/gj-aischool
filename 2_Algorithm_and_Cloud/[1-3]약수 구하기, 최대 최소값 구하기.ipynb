{
 "cells": [
  {
   "cell_type": "markdown",
   "metadata": {},
   "source": [
    "# 1. 약수 구하기\n",
    "\n",
    "입력받은 숫자 N의 모든 약수를 출력하시오\n",
    "\n",
    "- 입력 예) 100\n",
    "- 출력 예) 1 2 4 5 10 20 25 50 100"
   ]
  },
  {
   "cell_type": "code",
   "execution_count": 6,
   "metadata": {},
   "outputs": [],
   "source": [
    "def allcd(n):\n",
    "    cd = []\n",
    "    \n",
    "    for i in range(1, int(n**(1/2) + 1)):\n",
    "        \n",
    "        if n % i == 0:\n",
    "            cd += list({i, n//i})\n",
    "        cd.sort()\n",
    "        \n",
    "    return ' '.join([str(a) for a in cd])"
   ]
  },
  {
   "cell_type": "code",
   "execution_count": 7,
   "metadata": {
    "scrolled": true
   },
   "outputs": [
    {
     "data": {
      "text/plain": [
       "'1 2 4 5 10 20 25 50 100'"
      ]
     },
     "execution_count": 7,
     "metadata": {},
     "output_type": "execute_result"
    }
   ],
   "source": [
    "allcd(100)"
   ]
  },
  {
   "cell_type": "code",
   "execution_count": 1,
   "metadata": {},
   "outputs": [
    {
     "name": "stdout",
     "output_type": "stream",
     "text": [
      "[1, 2, 4, 5, 10, 20, 25, 50, 100]\n"
     ]
    }
   ],
   "source": [
    "# 답안\n",
    "# 방법1) 제일 간단한 방법 - 모든 숫자 다 확인\n",
    "# → n번 도는 방식\n",
    "num = 100\n",
    "divisor_list = []\n",
    "\n",
    "for i in range(1, num+1):\n",
    "    if num % i == 0:\n",
    "        divisor_list.append(i)\n",
    "        \n",
    "print(divisor_list)"
   ]
  },
  {
   "cell_type": "code",
   "execution_count": 3,
   "metadata": {},
   "outputs": [
    {
     "name": "stdout",
     "output_type": "stream",
     "text": [
      "[1, 2, 4, 5, 10, 20, 25, 50, 100]\n"
     ]
    }
   ],
   "source": [
    "# 답안\n",
    "# 방법2) for문 도는 횟수를 줄인 방법 - my solution과 같은 방식\n",
    "num = 100\n",
    "sqrt_num = int(num ** (1/2))\n",
    "\n",
    "front_divisor_list = [] # 이렇게 나눠서하면 sort함수를 쓰지 않아도 된다.\n",
    "rear_divisor_list = []\n",
    "\n",
    "for i in range(1, sqrt_num+1):\n",
    "    if num % i == 0:\n",
    "        front_divisor_list.append(i)\n",
    "        if i != int(num/i):\n",
    "            rear_divisor_list.append(int(num/i))\n",
    "print(front_divisor_list + rear_divisor_list[::-1]) "
   ]
  },
  {
   "cell_type": "markdown",
   "metadata": {},
   "source": [
    "# 2. 최대값, 최소값 구하기\n",
    "\n",
    "입력받은 정수값들 중 최대값과 최소값 순서대로 출력하시오.\n",
    "(단, 파이썬 내장함수 max, min 및 기타 numpy, pandas 등의 라이브러리는 쓸 수 없다.)\n",
    "\n",
    "- 입력 예) 1 2 100 3 30\n",
    "- 출력 예) 100 1"
   ]
  },
  {
   "cell_type": "code",
   "execution_count": 19,
   "metadata": {},
   "outputs": [],
   "source": [
    "def max_min(intlist):\n",
    "    \n",
    "    mm = intlist[:2]\n",
    "    \n",
    "    for i in intlist:\n",
    "        \n",
    "        if mm[0] < i:\n",
    "            mm[0] = i\n",
    "        \n",
    "        if mm[1] > i:\n",
    "            mm[1] = i\n",
    "    \n",
    "    return ' '.join([str(j) for j in mm])"
   ]
  },
  {
   "cell_type": "code",
   "execution_count": 24,
   "metadata": {},
   "outputs": [
    {
     "name": "stdout",
     "output_type": "stream",
     "text": [
      "숫자를 여러개 입력하세요: 1 2 100 3 30\n"
     ]
    },
    {
     "data": {
      "text/plain": [
       "'100 1'"
      ]
     },
     "execution_count": 24,
     "metadata": {},
     "output_type": "execute_result"
    }
   ],
   "source": [
    "a = list(map(int, input('숫자를 여러개 입력하세요: ').split(' ')))\n",
    "\n",
    "max_min(a)"
   ]
  },
  {
   "cell_type": "code",
   "execution_count": 5,
   "metadata": {},
   "outputs": [
    {
     "name": "stdout",
     "output_type": "stream",
     "text": [
      "100 1\n"
     ]
    }
   ],
   "source": [
    "# 답안\n",
    "num_list = [1, 2, 100, 3, 30]\n",
    "\n",
    "max_num = num_list[0]\n",
    "min_num = num_list[0]\n",
    "\n",
    "for num in num_list:\n",
    "    if max_num < num:\n",
    "        max_num = num\n",
    "    \n",
    "    if min_num > num:\n",
    "        min_num = num\n",
    "    \n",
    "print(max_num, min_num)"
   ]
  }
 ],
 "metadata": {
  "kernelspec": {
   "display_name": "Python 3",
   "language": "python",
   "name": "python3"
  },
  "language_info": {
   "codemirror_mode": {
    "name": "ipython",
    "version": 3
   },
   "file_extension": ".py",
   "mimetype": "text/x-python",
   "name": "python",
   "nbconvert_exporter": "python",
   "pygments_lexer": "ipython3",
   "version": "3.7.6"
  }
 },
 "nbformat": 4,
 "nbformat_minor": 4
}
