{
 "cells": [
  {
   "cell_type": "markdown",
   "metadata": {},
   "source": [
    "# 1. 약수 구하기\n",
    "\n",
    "입력받은 숫자 N의 모든 약수를 출력하시오\n",
    "\n",
    "- 입력 예) 100\n",
    "- 출력 예) 1 2 4 5 10 20 25 50 100"
   ]
  },
  {
   "cell_type": "code",
   "execution_count": 25,
   "metadata": {},
   "outputs": [],
   "source": [
    "def allcd(n):\n",
    "    cd = []\n",
    "    \n",
    "    for i in range(1, int(n**(1/2) + 1)):\n",
    "        \n",
    "        if n % i == 0:\n",
    "            cd += list({i, n//i})\n",
    "            \n",
    "    return ' '.join([str(a) for a in cd])"
   ]
  },
  {
   "cell_type": "code",
   "execution_count": 26,
   "metadata": {
    "scrolled": true
   },
   "outputs": [
    {
     "data": {
      "text/plain": [
       "'1 4 2'"
      ]
     },
     "execution_count": 26,
     "metadata": {},
     "output_type": "execute_result"
    }
   ],
   "source": [
    "allcd(4)"
   ]
  },
  {
   "cell_type": "markdown",
   "metadata": {},
   "source": [
    "# 2. 최대값, 최소값 구하기\n",
    "\n",
    "입력받은 정수값들 중 최대값과 최소값 순서대로 출력하시오.\n",
    "(단, 파이썬 내장함수 max, min 및 기타 numpy, pandas 등의 라이브러리는 쓸 수 없다.)\n",
    "\n",
    "- 입력 예) 1 2 100 3 30\n",
    "- 출력 예) 100 1"
   ]
  },
  {
   "cell_type": "code",
   "execution_count": 20,
   "metadata": {},
   "outputs": [
    {
     "data": {
      "text/plain": [
       "0"
      ]
     },
     "execution_count": 20,
     "metadata": {},
     "output_type": "execute_result"
    }
   ],
   "source": []
  },
  {
   "cell_type": "code",
   "execution_count": null,
   "metadata": {},
   "outputs": [],
   "source": []
  }
 ],
 "metadata": {
  "kernelspec": {
   "display_name": "Python 3",
   "language": "python",
   "name": "python3"
  },
  "language_info": {
   "codemirror_mode": {
    "name": "ipython",
    "version": 3
   },
   "file_extension": ".py",
   "mimetype": "text/x-python",
   "name": "python",
   "nbconvert_exporter": "python",
   "pygments_lexer": "ipython3",
   "version": "3.7.6"
  }
 },
 "nbformat": 4,
 "nbformat_minor": 4
}
