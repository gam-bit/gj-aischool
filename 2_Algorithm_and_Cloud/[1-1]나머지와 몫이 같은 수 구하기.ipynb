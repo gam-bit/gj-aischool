{
 "cells": [
  {
   "cell_type": "markdown",
   "metadata": {},
   "source": [
    "숫자 N이 주어졌습니다.\n",
    "\n",
    "N으로 나누었을때 나머지와 몫이 같은 모든 자연수의 합이 얼마인지 찾는 문제를 풀어봅시다. \n",
    "\n",
    "예를 들어서,\n",
    "\n",
    "N = 1일 경우, 해당하는 자연수는 없으므로 0으로 간주한다.   \n",
    "N = 2일 경우, 3   \n",
    "N = 3일 경우, 12   \n",
    "N = 4일 경우, 30이 정답이다.\n",
    "\n",
    "자연수 N이 주어질 때 나머지와 몫이 같은 모든 자연수의 합을 출력하세요."
   ]
  },
  {
   "cell_type": "code",
   "execution_count": 6,
   "metadata": {},
   "outputs": [],
   "source": [
    "def SumOfNums(n):\n",
    "    \n",
    "    sum = 0\n",
    "    for i in range(n):\n",
    "        sum += n * i + i\n",
    "    return sum"
   ]
  },
  {
   "cell_type": "code",
   "execution_count": 7,
   "metadata": {},
   "outputs": [
    {
     "name": "stdout",
     "output_type": "stream",
     "text": [
      "0\n",
      "3\n",
      "12\n",
      "30\n"
     ]
    }
   ],
   "source": [
    "print(SumOfNums(1))\n",
    "print(SumOfNums(2))\n",
    "print(SumOfNums(3))\n",
    "print(SumOfNums(4))"
   ]
  },
  {
   "cell_type": "markdown",
   "metadata": {},
   "source": [
    "★ 최적화)\n",
    "\n",
    "n * i + i = (n+1) * i = (n+1) * sigma(from 0 to n-1) i"
   ]
  },
  {
   "cell_type": "code",
   "execution_count": 8,
   "metadata": {},
   "outputs": [],
   "source": [
    "def SumOfNums(n):\n",
    "    \n",
    "    return int(n*(n+1)*(n-1)/2)"
   ]
  },
  {
   "cell_type": "code",
   "execution_count": 9,
   "metadata": {
    "scrolled": true
   },
   "outputs": [
    {
     "name": "stdout",
     "output_type": "stream",
     "text": [
      "0\n",
      "3\n",
      "12\n",
      "30\n"
     ]
    }
   ],
   "source": [
    "print(SumOfNums(1))\n",
    "print(SumOfNums(2))\n",
    "print(SumOfNums(3))\n",
    "print(SumOfNums(4))"
   ]
  },
  {
   "cell_type": "code",
   "execution_count": null,
   "metadata": {},
   "outputs": [],
   "source": []
  }
 ],
 "metadata": {
  "kernelspec": {
   "display_name": "Python 3",
   "language": "python",
   "name": "python3"
  },
  "language_info": {
   "codemirror_mode": {
    "name": "ipython",
    "version": 3
   },
   "file_extension": ".py",
   "mimetype": "text/x-python",
   "name": "python",
   "nbconvert_exporter": "python",
   "pygments_lexer": "ipython3",
   "version": "3.7.6"
  }
 },
 "nbformat": 4,
 "nbformat_minor": 4
}
