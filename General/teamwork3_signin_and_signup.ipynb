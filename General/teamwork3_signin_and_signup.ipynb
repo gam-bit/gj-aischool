{
  "nbformat": 4,
  "nbformat_minor": 0,
  "metadata": {
    "colab": {
      "name": "teamwork3_signin_and_signup.ipynb",
      "provenance": [],
      "collapsed_sections": []
    },
    "kernelspec": {
      "name": "python3",
      "display_name": "Python 3"
    }
  },
  "cells": [
    {
      "cell_type": "markdown",
      "metadata": {
        "id": "vsEmTrb9Gc41",
        "colab_type": "text"
      },
      "source": [
        "일시 : 2020-07-08\n",
        "\n",
        "팀원 : 박성찬, 강민지, 천희국\n",
        "\n",
        "내용 : python과 SQL을 이용하여 회원가입/로그인 서비스 만들기 \n",
        "\n",
        "---\n",
        "\n",
        "## [1] 회원가입 만들기(csv 사용)\n",
        "\n",
        "1. 로그인/회원가입을 처음에 인풋으로 분기\n",
        "2. 인풋으로 아이디와 비밀번호를 받고, 이것을 토대로 csv 파일에다가 저장한다.\n",
        "\n",
        "3. 로그인할 때는 csv 파일을 검사해서, 로그인 성공인지 실패인지 여부를 띄운다."
      ]
    },
    {
      "cell_type": "code",
      "metadata": {
        "id": "blpjUaRzGm9z",
        "colab_type": "code",
        "colab": {
          "base_uri": "https://localhost:8080/",
          "height": 180
        },
        "outputId": "829e6961-69c7-4fcd-f867-15c7bce4eb87"
      },
      "source": [
        "import csv\n",
        "\n",
        "check = input(\"아이디가 있습니까?(Y/N)\").upper()\n",
        "\n",
        "\n",
        "\n",
        "if check == 'Y' : # -- 로그인(희국)\n",
        "  print('----------로그인----------')\n",
        "\n",
        "\n",
        "  ## ??? id가 있는지 확인 \n",
        "  # 1) 중간에 id가 있으면 패스워드 입력 -- done \n",
        "  # 2) 다 봤는데도 id가 없으면 print('아이디가 존재하지 않습니다.)\n",
        "  flag = 1\n",
        "  while flag:\n",
        "    id = input('아이디를 입력하세요: ')  \n",
        "    \n",
        "    with open('a.csv', 'r') as csvfile:\n",
        "      csvreader = csv.reader(csvfile)\n",
        "\n",
        "      user_check = 0\n",
        "      for i in csvreader:\n",
        "        if id == i[2]:\n",
        "          flag = 0\n",
        "          user_check = 1\n",
        "          break \n",
        "      \n",
        "      if user_check == 0:\n",
        "        print(\"아이디가 존재하지 않습니다.\")\n",
        "      \n",
        "           \n",
        "        \n",
        "  \n",
        "  checker1 = 0\n",
        "  while checker1 == 0:\n",
        "    pw = input(\"비밀번호를 입력하세요: \")\n",
        "\n",
        "    with open('a.csv', 'r') as csvfile:\n",
        "      csvreader = csv.reader(csvfile)\n",
        "      \n",
        "      for i in csvreader:\n",
        "        if(id == i[2] and pw == i[3]) :\n",
        "          print('로그인 성공!')\n",
        "          checker1 = 1\n",
        "          break\n",
        "        elif(id == i[2] and pw !=i[3]) :\n",
        "          print('비밀번호가 틀렸습니다.')\n",
        "\n",
        "\n",
        "    \n",
        "elif check == 'N': # -- 회원가입(성찬)\n",
        "  print('----------회원가입----------')\n",
        "  with open('a.csv', 'a', newline = '\\n') as csvfile:\n",
        "    csvwriter = csv.writer(csvfile)\n",
        "    id = ''\n",
        "    password = ''\n",
        "\n",
        "    name = input(\"이름을 입력해주세요: \")\n",
        "    YMD = input(\"생년월일을 입력해주세요(0000-00-00): \")\n",
        "    while not id:\n",
        "      id = input(\"아이디를 입력해주세요: \")\n",
        "    ## 중복되는 id가 있는지\n",
        "    with open('a.csv', 'r') as csvfile:\n",
        "      csvreader = csv.reader(csvfile)\n",
        "      for i in csvreader:\n",
        "        check = 0\n",
        "        while id == i[2] and check == 0:\n",
        "          id = input(\"이미 있는 아이디입니다. 다른 아이디를 입력해주세요: \")\n",
        "          if(id != i[2]) :\n",
        "            check = 1\n",
        "            break\n",
        "          \n",
        "\n",
        "    while password == '':\n",
        "      password = input('비밀번호를 입력해주세요.')             \n",
        "\n",
        "    csvwriter.writerow([name, YMD, id, password])\n",
        "    print('----------가입완료----------')\n",
        "\n",
        "  \n",
        "\n",
        "else:\n",
        "  print(\"잘못 입력하셨습니다. 다시 수행해주세요.\")"
      ],
      "execution_count": 5,
      "outputs": [
        {
          "output_type": "stream",
          "text": [
            "아이디가 있습니까?(Y/N)y\n",
            "----------로그인----------\n",
            "아이디를 입력하세요: id3\n",
            "아이디가 존재하지 않습니다.\n",
            "아이디를 입력하세요: id1\n",
            "비밀번호를 입력하세요: p\n",
            "비밀번호가 틀렸습니다.\n",
            "비밀번호를 입력하세요: pw1\n",
            "로그인 성공!\n"
          ],
          "name": "stdout"
        }
      ]
    },
    {
      "cell_type": "markdown",
      "metadata": {
        "id": "CE2gVSkr_r10",
        "colab_type": "text"
      },
      "source": [
        "---\n",
        "\n",
        "## [2] SQL을 통한 로그인 구현\n",
        "\n",
        "1. 로그인/회원가입을 인풋으로 분기\n",
        "\n",
        "2. 인풋으로 아이디와 비번을 받고, 이것을 토대로 db에 쿼리를 날려서 저장\n",
        "\n",
        "3. 로그인할때는 db 파일을 읽어와서, 로그인 성공인지 실패인지 여부를 띄운다"
      ]
    },
    {
      "cell_type": "code",
      "metadata": {
        "id": "erwzwDUxIsaR",
        "colab_type": "code",
        "colab": {
          "base_uri": "https://localhost:8080/",
          "height": 35
        },
        "outputId": "71ed5ad4-a550-4770-c5c9-3c8d316172b8"
      },
      "source": [
        "import sqlite3 \n",
        "conn = sqlite3.connect('USER.db')\n",
        "cur = conn.cursor()\n",
        "\n",
        "cur.execute(\"\"\"CREATE TABLE USER(\n",
        "        name TEXT,\n",
        "        birth TEXT,\n",
        "        phone TEXT,\n",
        "        gender TEXT,\n",
        "        id varchar(10) primary key,\n",
        "        password varchar(15) not null)\"\"\")"
      ],
      "execution_count": 6,
      "outputs": [
        {
          "output_type": "execute_result",
          "data": {
            "text/plain": [
              "<sqlite3.Cursor at 0x7f127bed59d0>"
            ]
          },
          "metadata": {
            "tags": []
          },
          "execution_count": 6
        }
      ]
    },
    {
      "cell_type": "code",
      "metadata": {
        "id": "fNOpPuzvJav6",
        "colab_type": "code",
        "colab": {}
      },
      "source": [
        "def signup(id, password, name='', birth='', phone='', gender=''): # 회원가입\n",
        "  cur = conn.cursor()\n",
        "  sql = \"INSERT INTO USER VALUES (?, ?, ?, ?, ?, ?)\"\n",
        "  new_user = [name, birth, phone, gender, id, password]\n",
        "  cur.execute(sql, new_user)\n",
        "  conn.commit()\n",
        "  conn.close()\n",
        "  print(\"가입이 완료되었습니다.\")\n",
        "  return 0\n",
        "\n",
        "\n",
        "def signin(id, password): # 로그인\n",
        "  cur = conn.cursor()\n",
        "  sql = \"SELECT id, password FROM USER WHERE id = ? and password = ?\"\n",
        "  x = [id, password]\n",
        "  cur.execute(sql, x)\n",
        "  result = cur.fetchall()\n",
        "  if len(result) == 1:\n",
        "    print(\"로그인 성공!\")\n",
        "  else:\n",
        "    print(\"로그인 실패ㅜㅜ 다시 수행해주세요.\")\n",
        "  "
      ],
      "execution_count": 10,
      "outputs": []
    },
    {
      "cell_type": "code",
      "metadata": {
        "id": "QtJwwPjJ_7Xc",
        "colab_type": "code",
        "colab": {
          "base_uri": "https://localhost:8080/",
          "height": 325
        },
        "outputId": "c6b4ded1-2026-44b9-cc9e-5fc38f463948"
      },
      "source": [
        "# 로그인/회원가입 선택\n",
        "check = input(\"아이디가 있습니까?(Y/N)\").upper()\n",
        "conn = sqlite3.connect('USER.db')\n",
        "\n",
        "# 회원가입 -> id, password input으로 받아서 db에 쿼리 날려 저장\n",
        "if check == 'N' :\n",
        "  flag = 1\n",
        "  while flag:\n",
        "    print('----------회원가입----------')\n",
        "    id = input(\"아이디를 입력하세요(필수): \")\n",
        "    pw = input(\"비밀번호를 입력하세요(필수): \")\n",
        "    name = input(\"이름을 입력하세요: \")\n",
        "    birth = input(\"생년월일을 입력하세요(0000-00-00): \")\n",
        "    phone = input(\"전화번호를 입력하세요(000-0000-0000): \")\n",
        "    gender = input('성별을 입력하세요(남/여): ')\n",
        "    \n",
        "    try:\n",
        "      flag = signup(id, password, name, birth, phone, gender)\n",
        "    except:\n",
        "      print('아이디가 이미 존재합니다. 다시 수행해주세요.')\n",
        "\n",
        "# 로그인 -> db파일 읽어와서 로그인 성공, 실패 여부 띄우기\n",
        "elif check == 'Y' :\n",
        "  print('----------로그인----------')\n",
        "  id = input('아이디를 입력하세요: ')  \n",
        "  pw = input(\"비밀번호를 입력하세요: \")\n",
        "\n",
        "\n",
        "else:\n",
        "  print(\"잘못 입력하셨습니다. 다시 수행해주세요.\")"
      ],
      "execution_count": 11,
      "outputs": [
        {
          "output_type": "stream",
          "text": [
            "아이디가 있습니까?(Y/N)n\n",
            "----------회원가입----------\n",
            "아이디를 입력하세요(필수): id5\n",
            "비밀번호를 입력하세요(필수): pw5\n",
            "이름을 입력하세요: name5\n",
            "생년월일을 입력하세요(0000-00-00): 5555-55-5\n",
            "전화번호를 입력하세요(000-0000-0000): 555-5555-5555\n",
            "성별을 입력하세요(남/여): 여\n",
            "아이디가 이미 존재합니다. 다시 수행해주세요.\n",
            "----------회원가입----------\n",
            "아이디를 입력하세요(필수): id3\n",
            "비밀번호를 입력하세요(필수): pw3\n",
            "이름을 입력하세요: name3\n",
            "생년월일을 입력하세요(0000-00-00): 3333-33-33\n",
            "전화번호를 입력하세요(000-0000-0000): 333-3333-3333\n",
            "성별을 입력하세요(남/여): 여\n",
            "가입이 완료되었습니다.\n"
          ],
          "name": "stdout"
        }
      ]
    },
    {
      "cell_type": "code",
      "metadata": {
        "id": "zJlclbcZE7fA",
        "colab_type": "code",
        "colab": {}
      },
      "source": [
        ""
      ],
      "execution_count": null,
      "outputs": []
    }
  ]
}