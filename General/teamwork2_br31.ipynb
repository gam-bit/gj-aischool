{
  "nbformat": 4,
  "nbformat_minor": 0,
  "metadata": {
    "colab": {
      "name": "teamwork2_br31.ipynb",
      "provenance": [],
      "collapsed_sections": []
    },
    "kernelspec": {
      "name": "python3",
      "display_name": "Python 3"
    }
  },
  "cells": [
    {
      "cell_type": "markdown",
      "metadata": {
        "id": "7WUDAUB-IGUn",
        "colab_type": "text"
      },
      "source": [
        "일시 : 2020-07-07(화)\n",
        "\n",
        "내용 : 파이썬을 이용해서 배스킨라빈스31 게임을 항상 이기는 기계 만들기(인공지능화)\n",
        "\n",
        "팀원 : 최다인, 강민지, 천희국\n",
        "\n",
        "---\n",
        "\n",
        "# 베스킨라빈스 31 인공지능화하기!\n",
        "\n",
        "1. 30을 사용자가 무조건 부를수있게 하는 것\n",
        "\n",
        "2. 2, 6, 10, 14, 18, 22, 26, 30 하나만 사용자가 부르기 시작해도 이어서 그 다음을 부를 수 있기에 무조건 승리\n",
        "\n",
        "https://blog.naver.com/jong1003min/220348353765\n",
        "\n",
        "3. 위 숫자들은 +2 혹은 -2를 한 뒤에 4로 나누면 무조건 나머지가 0인 숫자들"
      ]
    },
    {
      "cell_type": "code",
      "metadata": {
        "id": "nz2CFw2YJj9k",
        "colab_type": "code",
        "colab": {
          "base_uri": "https://localhost:8080/",
          "height": 281
        },
        "outputId": "1380da03-1d6d-4a04-9473-f6e18c925a7b"
      },
      "source": [
        "# ===================== step1) 베스킨라빈스31 게임 진행=======================\n",
        "\n",
        "import random\n",
        "\n",
        "br31 = [i for i in range(1, 32)]\n",
        "\n",
        "picked_num = random.randrange(0, 2)\n",
        "\n",
        "x = [] # 컴퓨터\n",
        "y = [] # 사람\n",
        "\n",
        "# 숫자 부르기\n",
        "while br31:\n",
        "\n",
        "  if picked_num % 2 == 0:\n",
        "    ans = random.randrange(1, 4)\n",
        "    if len(br31) < ans:\n",
        "      ans = len(br31)\n",
        "    x += br31[:ans]\n",
        "    print(\"컴퓨터: {}\".format(x[-ans:]))\n",
        "    del br31[:ans]\n",
        "\n",
        "    if x[-1] == 31:\n",
        "      print(\"사람이 이겼습니다.\")\n",
        "  \n",
        "    \n",
        "  else:\n",
        "    ans = random.randrange(1, 4)\n",
        "    if len(br31) < ans:\n",
        "      ans = len(br31)\n",
        "    y += br31[:ans]\n",
        "    print(\"사람: {}\".format(y[-ans:]))\n",
        "    del br31[:ans]\n",
        "\n",
        "    if y[-1] == 31:\n",
        "      print(\"컴퓨터가 이겼습니다.\")\n",
        "\n",
        "  \n",
        "  picked_num += 1\n",
        "\n"
      ],
      "execution_count": null,
      "outputs": [
        {
          "output_type": "stream",
          "text": [
            "컴퓨터: [1, 2]\n",
            "사람: [3, 4]\n",
            "컴퓨터: [5, 6]\n",
            "사람: [7, 8]\n",
            "컴퓨터: [9, 10, 11]\n",
            "사람: [12, 13]\n",
            "컴퓨터: [14, 15]\n",
            "사람: [16, 17, 18]\n",
            "컴퓨터: [19, 20]\n",
            "사람: [21, 22]\n",
            "컴퓨터: [23, 24]\n",
            "사람: [25, 26, 27]\n",
            "컴퓨터: [28, 29]\n",
            "사람: [30, 31]\n",
            "컴퓨터가 이겼습니다.\n"
          ],
          "name": "stdout"
        }
      ]
    },
    {
      "cell_type": "code",
      "metadata": {
        "id": "ZUsIzswbQrGU",
        "colab_type": "code",
        "colab": {}
      },
      "source": [
        "# =====================step2) 베스킨라빈스31 인공지능화=======================\n",
        "# 못 함 "
      ],
      "execution_count": null,
      "outputs": []
    }
  ]
}