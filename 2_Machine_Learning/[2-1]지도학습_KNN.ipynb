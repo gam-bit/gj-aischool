{
 "cells": [
  {
   "cell_type": "markdown",
   "metadata": {},
   "source": [
    "일시 : 2020.07.20(월) - 2주차\n",
    "\n",
    "강사 : 박준영 강사님\n",
    "\n",
    "---"
   ]
  },
  {
   "cell_type": "code",
   "execution_count": 15,
   "metadata": {},
   "outputs": [
    {
     "name": "stdout",
     "output_type": "stream",
     "text": [
      "train 평점: [5.0, 6.8, 9.0]\n",
      "모델로 예측한 train 평점: [5.9 5.9 7.9]\n",
      "모델로 예측한 test 평점: [7.  7.9 5.9]\n"
     ]
    }
   ],
   "source": [
    "from sklearn.neighbors import KNeighborsRegressor\n",
    "\n",
    "# 영화에 대한 3개의 특성\n",
    "X_train = [\n",
    "  [0.5, 0.2, 0.1],\n",
    "  [0.9, 0.7, 0.3],\n",
    "  [0.4, 0.5, 0.7]\n",
    "]\n",
    "# 영화에 대한 별점\n",
    "y_train = [5.0, 6.8, 9.0]\n",
    "\n",
    "\n",
    "# 모델 학습\n",
    "mod = KNeighborsRegressor(n_neighbors=2)\n",
    "mod.fit(X_train, y_train)\n",
    "y_train_pred = mod.predict(X_train)\n",
    "print('train 평점:', y_train)\n",
    "print('모델로 예측한 train 평점:', y_train_pred)\n",
    "\n",
    "# 새로운 영화 3건에 대해 별점을 예측\n",
    "X_test = [\n",
    "  [0.2, 0.1, 0.7],\n",
    "  [0.4, 0.7, 0.6],\n",
    "  [0.5, 0.8, 0.1]\n",
    "]\n",
    "\n",
    "y_pred = mod.predict(X_test)\n",
    "print(\"모델로 예측한 test 평점:\", y_pred)"
   ]
  },
  {
   "cell_type": "code",
   "execution_count": null,
   "metadata": {},
   "outputs": [],
   "source": []
  }
 ],
 "metadata": {
  "kernelspec": {
   "display_name": "Python 3",
   "language": "python",
   "name": "python3"
  },
  "language_info": {
   "codemirror_mode": {
    "name": "ipython",
    "version": 3
   },
   "file_extension": ".py",
   "mimetype": "text/x-python",
   "name": "python",
   "nbconvert_exporter": "python",
   "pygments_lexer": "ipython3",
   "version": "3.7.6"
  }
 },
 "nbformat": 4,
 "nbformat_minor": 4
}
