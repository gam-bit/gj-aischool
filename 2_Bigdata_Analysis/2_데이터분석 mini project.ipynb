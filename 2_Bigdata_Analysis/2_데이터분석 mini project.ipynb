{
 "cells": [
  {
   "cell_type": "code",
   "execution_count": 1,
   "metadata": {},
   "outputs": [],
   "source": [
    "import pandas as pd\n",
    "import numpy as np\n",
    "import re\n",
    "import seaborn as sns\n",
    "import matplotlib.pyplot as plt\n",
    "plt.style.use('seaborn') # sns.set()도 seaborn style로 바꿔줌\n",
    "sns.set(font_scale=1.5)\n",
    "import warnings\n",
    "warnings.filterwarnings('ignore')\n",
    "%matplotlib inline\n",
    "from IPython.core.interactiveshell import InteractiveShell\n",
    "InteractiveShell.ast_node_interactivity = \"all\" # 명령문 결과 다 보여주기\n",
    "pd.set_option('display.max_columns', None)  # 모든 칼럼 다 보여주기"
   ]
  },
  {
   "cell_type": "markdown",
   "metadata": {},
   "source": [
    "# 1. 전국 인구조사 데이터\n",
    "\n",
    "1. `data_population.csv` 데이터 사용(빈 셀은 결측치로 인식)\n",
    "2. 도별로 인구를 합계(sum)\n",
    "    - groupby \n",
    "    - pivot_table 사용"
   ]
  },
  {
   "cell_type": "code",
   "execution_count": 2,
   "metadata": {},
   "outputs": [
    {
     "data": {
      "text/html": [
       "<div>\n",
       "<style scoped>\n",
       "    .dataframe tbody tr th:only-of-type {\n",
       "        vertical-align: middle;\n",
       "    }\n",
       "\n",
       "    .dataframe tbody tr th {\n",
       "        vertical-align: top;\n",
       "    }\n",
       "\n",
       "    .dataframe thead th {\n",
       "        text-align: right;\n",
       "    }\n",
       "</style>\n",
       "<table border=\"1\" class=\"dataframe\">\n",
       "  <thead>\n",
       "    <tr style=\"text-align: right;\">\n",
       "      <th></th>\n",
       "      <th>Unnamed: 0</th>\n",
       "      <th>Province</th>\n",
       "      <th>City</th>\n",
       "      <th>Population</th>\n",
       "      <th>Households</th>\n",
       "      <th>PersInHou</th>\n",
       "      <th>Male</th>\n",
       "      <th>Female</th>\n",
       "      <th>GenderRatio</th>\n",
       "    </tr>\n",
       "  </thead>\n",
       "  <tbody>\n",
       "    <tr>\n",
       "      <th>0</th>\n",
       "      <td>1</td>\n",
       "      <td>서울특별시</td>\n",
       "      <td>NaN</td>\n",
       "      <td>10078850</td>\n",
       "      <td>4197478</td>\n",
       "      <td>2.40</td>\n",
       "      <td>4962774</td>\n",
       "      <td>5116076</td>\n",
       "      <td>0.97</td>\n",
       "    </tr>\n",
       "    <tr>\n",
       "      <th>1</th>\n",
       "      <td>2</td>\n",
       "      <td>서울특별시</td>\n",
       "      <td>종로구</td>\n",
       "      <td>155695</td>\n",
       "      <td>72882</td>\n",
       "      <td>2.14</td>\n",
       "      <td>76962</td>\n",
       "      <td>78733</td>\n",
       "      <td>0.98</td>\n",
       "    </tr>\n",
       "    <tr>\n",
       "      <th>2</th>\n",
       "      <td>3</td>\n",
       "      <td>서울특별시</td>\n",
       "      <td>중구</td>\n",
       "      <td>126817</td>\n",
       "      <td>59614</td>\n",
       "      <td>2.13</td>\n",
       "      <td>63292</td>\n",
       "      <td>63525</td>\n",
       "      <td>1.00</td>\n",
       "    </tr>\n",
       "    <tr>\n",
       "      <th>3</th>\n",
       "      <td>4</td>\n",
       "      <td>서울특별시</td>\n",
       "      <td>용산구</td>\n",
       "      <td>235186</td>\n",
       "      <td>108138</td>\n",
       "      <td>2.17</td>\n",
       "      <td>114119</td>\n",
       "      <td>121067</td>\n",
       "      <td>0.94</td>\n",
       "    </tr>\n",
       "    <tr>\n",
       "      <th>4</th>\n",
       "      <td>5</td>\n",
       "      <td>서울특별시</td>\n",
       "      <td>성동구</td>\n",
       "      <td>298145</td>\n",
       "      <td>126915</td>\n",
       "      <td>2.35</td>\n",
       "      <td>148265</td>\n",
       "      <td>149880</td>\n",
       "      <td>0.99</td>\n",
       "    </tr>\n",
       "  </tbody>\n",
       "</table>\n",
       "</div>"
      ],
      "text/plain": [
       "   Unnamed: 0 Province  City  Population  Households  PersInHou     Male  \\\n",
       "0           1    서울특별시   NaN    10078850     4197478       2.40  4962774   \n",
       "1           2    서울특별시  종로구       155695       72882       2.14    76962   \n",
       "2           3    서울특별시   중구       126817       59614       2.13    63292   \n",
       "3           4    서울특별시  용산구       235186      108138       2.17   114119   \n",
       "4           5    서울특별시  성동구       298145      126915       2.35   148265   \n",
       "\n",
       "    Female  GenderRatio  \n",
       "0  5116076         0.97  \n",
       "1    78733         0.98  \n",
       "2    63525         1.00  \n",
       "3   121067         0.94  \n",
       "4   149880         0.99  "
      ]
     },
     "execution_count": 2,
     "metadata": {},
     "output_type": "execute_result"
    }
   ],
   "source": [
    "data1 = pd.read_csv('./data/data_population.csv', encoding='cp949', na_values=' ')\n",
    "data1.head()"
   ]
  },
  {
   "cell_type": "code",
   "execution_count": 3,
   "metadata": {
    "scrolled": true
   },
   "outputs": [
    {
     "data": {
      "text/html": [
       "<div>\n",
       "<style scoped>\n",
       "    .dataframe tbody tr th:only-of-type {\n",
       "        vertical-align: middle;\n",
       "    }\n",
       "\n",
       "    .dataframe tbody tr th {\n",
       "        vertical-align: top;\n",
       "    }\n",
       "\n",
       "    .dataframe thead th {\n",
       "        text-align: right;\n",
       "    }\n",
       "</style>\n",
       "<table border=\"1\" class=\"dataframe\">\n",
       "  <thead>\n",
       "    <tr style=\"text-align: right;\">\n",
       "      <th></th>\n",
       "      <th>Unnamed: 0</th>\n",
       "      <th>Province</th>\n",
       "      <th>City</th>\n",
       "      <th>Population</th>\n",
       "      <th>Households</th>\n",
       "      <th>PersInHou</th>\n",
       "      <th>Male</th>\n",
       "      <th>Female</th>\n",
       "      <th>GenderRatio</th>\n",
       "    </tr>\n",
       "  </thead>\n",
       "  <tbody>\n",
       "    <tr>\n",
       "      <th>0</th>\n",
       "      <td>1</td>\n",
       "      <td>서울특별시</td>\n",
       "      <td>NaN</td>\n",
       "      <td>10078850</td>\n",
       "      <td>4197478</td>\n",
       "      <td>2.40</td>\n",
       "      <td>4962774</td>\n",
       "      <td>5116076</td>\n",
       "      <td>0.97</td>\n",
       "    </tr>\n",
       "    <tr>\n",
       "      <th>26</th>\n",
       "      <td>27</td>\n",
       "      <td>부산광역시</td>\n",
       "      <td>NaN</td>\n",
       "      <td>3517491</td>\n",
       "      <td>1430441</td>\n",
       "      <td>2.46</td>\n",
       "      <td>1737975</td>\n",
       "      <td>1779516</td>\n",
       "      <td>0.98</td>\n",
       "    </tr>\n",
       "    <tr>\n",
       "      <th>43</th>\n",
       "      <td>44</td>\n",
       "      <td>대구광역시</td>\n",
       "      <td>NaN</td>\n",
       "      <td>2491137</td>\n",
       "      <td>977714</td>\n",
       "      <td>2.55</td>\n",
       "      <td>1239275</td>\n",
       "      <td>1251862</td>\n",
       "      <td>0.99</td>\n",
       "    </tr>\n",
       "    <tr>\n",
       "      <th>52</th>\n",
       "      <td>53</td>\n",
       "      <td>인천광역시</td>\n",
       "      <td>NaN</td>\n",
       "      <td>2914271</td>\n",
       "      <td>1145232</td>\n",
       "      <td>2.54</td>\n",
       "      <td>1464320</td>\n",
       "      <td>1449951</td>\n",
       "      <td>1.01</td>\n",
       "    </tr>\n",
       "    <tr>\n",
       "      <th>63</th>\n",
       "      <td>64</td>\n",
       "      <td>광주광역시</td>\n",
       "      <td>NaN</td>\n",
       "      <td>1476974</td>\n",
       "      <td>577941</td>\n",
       "      <td>2.56</td>\n",
       "      <td>731808</td>\n",
       "      <td>745166</td>\n",
       "      <td>0.98</td>\n",
       "    </tr>\n",
       "    <tr>\n",
       "      <th>69</th>\n",
       "      <td>70</td>\n",
       "      <td>대전광역시</td>\n",
       "      <td>NaN</td>\n",
       "      <td>1525656</td>\n",
       "      <td>595216</td>\n",
       "      <td>2.56</td>\n",
       "      <td>763262</td>\n",
       "      <td>762394</td>\n",
       "      <td>1.00</td>\n",
       "    </tr>\n",
       "    <tr>\n",
       "      <th>75</th>\n",
       "      <td>76</td>\n",
       "      <td>울산광역시</td>\n",
       "      <td>NaN</td>\n",
       "      <td>1169768</td>\n",
       "      <td>447229</td>\n",
       "      <td>2.62</td>\n",
       "      <td>602945</td>\n",
       "      <td>566823</td>\n",
       "      <td>1.06</td>\n",
       "    </tr>\n",
       "    <tr>\n",
       "      <th>81</th>\n",
       "      <td>82</td>\n",
       "      <td>세종특별자치시</td>\n",
       "      <td>NaN</td>\n",
       "      <td>185212</td>\n",
       "      <td>72733</td>\n",
       "      <td>2.55</td>\n",
       "      <td>93058</td>\n",
       "      <td>92154</td>\n",
       "      <td>1.01</td>\n",
       "    </tr>\n",
       "    <tr>\n",
       "      <th>82</th>\n",
       "      <td>83</td>\n",
       "      <td>세종특별자치시</td>\n",
       "      <td>NaN</td>\n",
       "      <td>185212</td>\n",
       "      <td>72733</td>\n",
       "      <td>2.55</td>\n",
       "      <td>93058</td>\n",
       "      <td>92154</td>\n",
       "      <td>1.01</td>\n",
       "    </tr>\n",
       "    <tr>\n",
       "      <th>83</th>\n",
       "      <td>84</td>\n",
       "      <td>경기도</td>\n",
       "      <td>NaN</td>\n",
       "      <td>12432063</td>\n",
       "      <td>4829521</td>\n",
       "      <td>2.57</td>\n",
       "      <td>6256986</td>\n",
       "      <td>6175077</td>\n",
       "      <td>1.01</td>\n",
       "    </tr>\n",
       "    <tr>\n",
       "      <th>135</th>\n",
       "      <td>136</td>\n",
       "      <td>강원도</td>\n",
       "      <td>NaN</td>\n",
       "      <td>1547166</td>\n",
       "      <td>680373</td>\n",
       "      <td>2.27</td>\n",
       "      <td>780487</td>\n",
       "      <td>766679</td>\n",
       "      <td>1.02</td>\n",
       "    </tr>\n",
       "    <tr>\n",
       "      <th>154</th>\n",
       "      <td>155</td>\n",
       "      <td>충청북도</td>\n",
       "      <td>NaN</td>\n",
       "      <td>1582181</td>\n",
       "      <td>664186</td>\n",
       "      <td>2.38</td>\n",
       "      <td>797908</td>\n",
       "      <td>784273</td>\n",
       "      <td>1.02</td>\n",
       "    </tr>\n",
       "    <tr>\n",
       "      <th>170</th>\n",
       "      <td>171</td>\n",
       "      <td>충청남도</td>\n",
       "      <td>NaN</td>\n",
       "      <td>2068444</td>\n",
       "      <td>878544</td>\n",
       "      <td>2.35</td>\n",
       "      <td>1049546</td>\n",
       "      <td>1018898</td>\n",
       "      <td>1.03</td>\n",
       "    </tr>\n",
       "    <tr>\n",
       "      <th>188</th>\n",
       "      <td>189</td>\n",
       "      <td>전라북도</td>\n",
       "      <td>NaN</td>\n",
       "      <td>1869668</td>\n",
       "      <td>778350</td>\n",
       "      <td>2.40</td>\n",
       "      <td>930224</td>\n",
       "      <td>939444</td>\n",
       "      <td>0.99</td>\n",
       "    </tr>\n",
       "    <tr>\n",
       "      <th>205</th>\n",
       "      <td>206</td>\n",
       "      <td>전라남도</td>\n",
       "      <td>NaN</td>\n",
       "      <td>1902638</td>\n",
       "      <td>827264</td>\n",
       "      <td>2.30</td>\n",
       "      <td>950693</td>\n",
       "      <td>951945</td>\n",
       "      <td>1.00</td>\n",
       "    </tr>\n",
       "    <tr>\n",
       "      <th>228</th>\n",
       "      <td>229</td>\n",
       "      <td>경상북도</td>\n",
       "      <td>NaN</td>\n",
       "      <td>2697791</td>\n",
       "      <td>1160150</td>\n",
       "      <td>2.33</td>\n",
       "      <td>1354618</td>\n",
       "      <td>1343173</td>\n",
       "      <td>1.01</td>\n",
       "    </tr>\n",
       "    <tr>\n",
       "      <th>254</th>\n",
       "      <td>255</td>\n",
       "      <td>경상남도</td>\n",
       "      <td>NaN</td>\n",
       "      <td>3356540</td>\n",
       "      <td>1356430</td>\n",
       "      <td>2.47</td>\n",
       "      <td>1690798</td>\n",
       "      <td>1665742</td>\n",
       "      <td>1.02</td>\n",
       "    </tr>\n",
       "    <tr>\n",
       "      <th>278</th>\n",
       "      <td>279</td>\n",
       "      <td>제주특별자치도</td>\n",
       "      <td>NaN</td>\n",
       "      <td>615250</td>\n",
       "      <td>251478</td>\n",
       "      <td>2.45</td>\n",
       "      <td>308627</td>\n",
       "      <td>306623</td>\n",
       "      <td>1.01</td>\n",
       "    </tr>\n",
       "  </tbody>\n",
       "</table>\n",
       "</div>"
      ],
      "text/plain": [
       "     Unnamed: 0 Province City  Population  Households  PersInHou     Male  \\\n",
       "0             1    서울특별시  NaN    10078850     4197478       2.40  4962774   \n",
       "26           27    부산광역시  NaN     3517491     1430441       2.46  1737975   \n",
       "43           44    대구광역시  NaN     2491137      977714       2.55  1239275   \n",
       "52           53    인천광역시  NaN     2914271     1145232       2.54  1464320   \n",
       "63           64    광주광역시  NaN     1476974      577941       2.56   731808   \n",
       "69           70    대전광역시  NaN     1525656      595216       2.56   763262   \n",
       "75           76    울산광역시  NaN     1169768      447229       2.62   602945   \n",
       "81           82  세종특별자치시  NaN      185212       72733       2.55    93058   \n",
       "82           83  세종특별자치시  NaN      185212       72733       2.55    93058   \n",
       "83           84      경기도  NaN    12432063     4829521       2.57  6256986   \n",
       "135         136      강원도  NaN     1547166      680373       2.27   780487   \n",
       "154         155     충청북도  NaN     1582181      664186       2.38   797908   \n",
       "170         171     충청남도  NaN     2068444      878544       2.35  1049546   \n",
       "188         189     전라북도  NaN     1869668      778350       2.40   930224   \n",
       "205         206     전라남도  NaN     1902638      827264       2.30   950693   \n",
       "228         229     경상북도  NaN     2697791     1160150       2.33  1354618   \n",
       "254         255     경상남도  NaN     3356540     1356430       2.47  1690798   \n",
       "278         279  제주특별자치도  NaN      615250      251478       2.45   308627   \n",
       "\n",
       "      Female  GenderRatio  \n",
       "0    5116076         0.97  \n",
       "26   1779516         0.98  \n",
       "43   1251862         0.99  \n",
       "52   1449951         1.01  \n",
       "63    745166         0.98  \n",
       "69    762394         1.00  \n",
       "75    566823         1.06  \n",
       "81     92154         1.01  \n",
       "82     92154         1.01  \n",
       "83   6175077         1.01  \n",
       "135   766679         1.02  \n",
       "154   784273         1.02  \n",
       "170  1018898         1.03  \n",
       "188   939444         0.99  \n",
       "205   951945         1.00  \n",
       "228  1343173         1.01  \n",
       "254  1665742         1.02  \n",
       "278   306623         1.01  "
      ]
     },
     "execution_count": 3,
     "metadata": {},
     "output_type": "execute_result"
    }
   ],
   "source": [
    "data1[data1.isnull().any(axis=1)]"
   ]
  },
  {
   "cell_type": "code",
   "execution_count": 4,
   "metadata": {},
   "outputs": [
    {
     "data": {
      "text/html": [
       "<div>\n",
       "<style scoped>\n",
       "    .dataframe tbody tr th:only-of-type {\n",
       "        vertical-align: middle;\n",
       "    }\n",
       "\n",
       "    .dataframe tbody tr th {\n",
       "        vertical-align: top;\n",
       "    }\n",
       "\n",
       "    .dataframe thead th {\n",
       "        text-align: right;\n",
       "    }\n",
       "</style>\n",
       "<table border=\"1\" class=\"dataframe\">\n",
       "  <thead>\n",
       "    <tr style=\"text-align: right;\">\n",
       "      <th>Province</th>\n",
       "      <th>강원도</th>\n",
       "      <th>경기도</th>\n",
       "      <th>경상남도</th>\n",
       "      <th>경상북도</th>\n",
       "      <th>광주광역시</th>\n",
       "      <th>대구광역시</th>\n",
       "      <th>대전광역시</th>\n",
       "      <th>부산광역시</th>\n",
       "      <th>서울특별시</th>\n",
       "      <th>세종특별자치시</th>\n",
       "      <th>울산광역시</th>\n",
       "      <th>인천광역시</th>\n",
       "      <th>전라남도</th>\n",
       "      <th>전라북도</th>\n",
       "      <th>제주특별자치도</th>\n",
       "      <th>충청남도</th>\n",
       "      <th>충청북도</th>\n",
       "    </tr>\n",
       "  </thead>\n",
       "  <tbody>\n",
       "    <tr>\n",
       "      <th>Population</th>\n",
       "      <td>3094332</td>\n",
       "      <td>31155885</td>\n",
       "      <td>7785302</td>\n",
       "      <td>5913486</td>\n",
       "      <td>2953948</td>\n",
       "      <td>4982274</td>\n",
       "      <td>3051312</td>\n",
       "      <td>7034982</td>\n",
       "      <td>20157700</td>\n",
       "      <td>370424</td>\n",
       "      <td>2339536</td>\n",
       "      <td>5828542</td>\n",
       "      <td>3805276</td>\n",
       "      <td>4393474</td>\n",
       "      <td>1230500</td>\n",
       "      <td>4739827</td>\n",
       "      <td>3996749</td>\n",
       "    </tr>\n",
       "  </tbody>\n",
       "</table>\n",
       "</div>"
      ],
      "text/plain": [
       "Province        강원도       경기도     경상남도     경상북도    광주광역시    대구광역시    대전광역시  \\\n",
       "Population  3094332  31155885  7785302  5913486  2953948  4982274  3051312   \n",
       "\n",
       "Province      부산광역시     서울특별시  세종특별자치시    울산광역시    인천광역시     전라남도     전라북도  \\\n",
       "Population  7034982  20157700   370424  2339536  5828542  3805276  4393474   \n",
       "\n",
       "Province    제주특별자치도     충청남도     충청북도  \n",
       "Population  1230500  4739827  3996749  "
      ]
     },
     "execution_count": 4,
     "metadata": {},
     "output_type": "execute_result"
    }
   ],
   "source": [
    "df_pop_by_prov = data1.groupby('Province').sum()[['Population']]\n",
    "df_pop_by_prov.pivot_table(columns='Province')"
   ]
  },
  {
   "cell_type": "markdown",
   "metadata": {},
   "source": [
    "# 2. 커피숍 영업 현황\n",
    "\n",
    "1. `data_coffee.csv` 데이터 사용\n",
    "2. 1997-2014년도 사이의 개업 횟수를(yearOfStart) 도수분포표로 요약하고 시각화하시오.\n",
    "3. 운영중인 커피숍 대상으로 1997-2014년도 사이의 개업 회수를 도수분포표로 요약하시오\n",
    "4. 지금은 폐업된 커피숍 대상으로 1997-2014년도 사이의 개업 회수를 도수분포표로 요약하시오\n",
    "5. 위 `#3`, `#4` 결과를 하나의 그래프로 시각화한다. 범례도 포함한다."
   ]
  },
  {
   "cell_type": "code",
   "execution_count": 5,
   "metadata": {},
   "outputs": [
    {
     "data": {
      "text/html": [
       "<div>\n",
       "<style scoped>\n",
       "    .dataframe tbody tr th:only-of-type {\n",
       "        vertical-align: middle;\n",
       "    }\n",
       "\n",
       "    .dataframe tbody tr th {\n",
       "        vertical-align: top;\n",
       "    }\n",
       "\n",
       "    .dataframe thead th {\n",
       "        text-align: right;\n",
       "    }\n",
       "</style>\n",
       "<table border=\"1\" class=\"dataframe\">\n",
       "  <thead>\n",
       "    <tr style=\"text-align: right;\">\n",
       "      <th></th>\n",
       "      <th>number</th>\n",
       "      <th>companyName</th>\n",
       "      <th>adress</th>\n",
       "      <th>adressBystreet</th>\n",
       "      <th>dateOflicensing</th>\n",
       "      <th>stateOfbusiness</th>\n",
       "      <th>dateOfclosure</th>\n",
       "      <th>startdateOfcessation</th>\n",
       "      <th>duedateOfcessation</th>\n",
       "      <th>dateOfreOpen</th>\n",
       "      <th>areaOfsite</th>\n",
       "      <th>zip</th>\n",
       "      <th>waterwork</th>\n",
       "      <th>numOfmenWorker</th>\n",
       "      <th>yearOfStart</th>\n",
       "      <th>multipleUse</th>\n",
       "      <th>grade</th>\n",
       "      <th>sizeOfsite</th>\n",
       "      <th>numOfwomenWorker</th>\n",
       "      <th>vicintyOfsite</th>\n",
       "      <th>sanitaryName</th>\n",
       "      <th>businessCondition</th>\n",
       "      <th>totalOfworker</th>\n",
       "    </tr>\n",
       "  </thead>\n",
       "  <tbody>\n",
       "    <tr>\n",
       "      <th>0</th>\n",
       "      <td>1</td>\n",
       "      <td>#11(Sharp eleven)</td>\n",
       "      <td>서울특별시 양천구 목동 956번지 롯데캐슬위너 상가동 107호(한두3길 44)</td>\n",
       "      <td>서울특별시 양천구 목동중앙북로 38 (목동,롯데캐슬위너 상가동 107호(한두3길 44))</td>\n",
       "      <td>20080917</td>\n",
       "      <td>운영중</td>\n",
       "      <td>NaN</td>\n",
       "      <td>NaN</td>\n",
       "      <td>NaN</td>\n",
       "      <td>NaN</td>\n",
       "      <td>NaN</td>\n",
       "      <td>NaN</td>\n",
       "      <td>상수도전용</td>\n",
       "      <td>NaN</td>\n",
       "      <td>2008.0</td>\n",
       "      <td>N</td>\n",
       "      <td>NaN</td>\n",
       "      <td>20.80</td>\n",
       "      <td>NaN</td>\n",
       "      <td>NaN</td>\n",
       "      <td>휴게음식점</td>\n",
       "      <td>커피숍</td>\n",
       "      <td>NaN</td>\n",
       "    </tr>\n",
       "    <tr>\n",
       "      <th>1</th>\n",
       "      <td>2</td>\n",
       "      <td>( 주)커피빈코리아청주지웰시티점</td>\n",
       "      <td>충청북도 청주시 흥덕구 복대동 3379번지 신영지웰시티1차상업시설 124-1, 12...</td>\n",
       "      <td>충청북도 청주시 흥덕구 대농로 17 (복대동,신영지웰시티1차상업시설 124-1, 1...</td>\n",
       "      <td>20101124</td>\n",
       "      <td>운영중</td>\n",
       "      <td>NaN</td>\n",
       "      <td>NaN</td>\n",
       "      <td>NaN</td>\n",
       "      <td>NaN</td>\n",
       "      <td>NaN</td>\n",
       "      <td>NaN</td>\n",
       "      <td>상수도전용</td>\n",
       "      <td>NaN</td>\n",
       "      <td>2010.0</td>\n",
       "      <td>N</td>\n",
       "      <td>NaN</td>\n",
       "      <td>212.72</td>\n",
       "      <td>NaN</td>\n",
       "      <td>NaN</td>\n",
       "      <td>휴게음식점</td>\n",
       "      <td>커피숍</td>\n",
       "      <td>NaN</td>\n",
       "    </tr>\n",
       "    <tr>\n",
       "      <th>2</th>\n",
       "      <td>3</td>\n",
       "      <td>(aA)더블에이</td>\n",
       "      <td>경상북도 경산시 사동 39번지 108-2호</td>\n",
       "      <td>경상북도 경산시 백자로10길 3-11, 108-2호 (사동)</td>\n",
       "      <td>20130902</td>\n",
       "      <td>운영중</td>\n",
       "      <td>NaN</td>\n",
       "      <td>NaN</td>\n",
       "      <td>NaN</td>\n",
       "      <td>NaN</td>\n",
       "      <td>NaN</td>\n",
       "      <td>NaN</td>\n",
       "      <td>상수도전용</td>\n",
       "      <td>NaN</td>\n",
       "      <td>2013.0</td>\n",
       "      <td>N</td>\n",
       "      <td>NaN</td>\n",
       "      <td>20.04</td>\n",
       "      <td>NaN</td>\n",
       "      <td>아파트지역</td>\n",
       "      <td>휴게음식점</td>\n",
       "      <td>커피숍</td>\n",
       "      <td>NaN</td>\n",
       "    </tr>\n",
       "    <tr>\n",
       "      <th>3</th>\n",
       "      <td>4</td>\n",
       "      <td>(강서)카페치따</td>\n",
       "      <td>서울특별시 강서구 등촌동 63-12번지 외 2필지 어위쉬예다인 (지상 1층) 104호</td>\n",
       "      <td>서울특별시 강서구 양천로 452, 1층 104호 (등촌동, 3동 어위쉬예다인)</td>\n",
       "      <td>20121108</td>\n",
       "      <td>운영중</td>\n",
       "      <td>NaN</td>\n",
       "      <td>NaN</td>\n",
       "      <td>NaN</td>\n",
       "      <td>NaN</td>\n",
       "      <td>NaN</td>\n",
       "      <td>NaN</td>\n",
       "      <td>상수도전용</td>\n",
       "      <td>NaN</td>\n",
       "      <td>2012.0</td>\n",
       "      <td>N</td>\n",
       "      <td>NaN</td>\n",
       "      <td>64.17</td>\n",
       "      <td>NaN</td>\n",
       "      <td>NaN</td>\n",
       "      <td>휴게음식점</td>\n",
       "      <td>커피숍</td>\n",
       "      <td>NaN</td>\n",
       "    </tr>\n",
       "    <tr>\n",
       "      <th>4</th>\n",
       "      <td>5</td>\n",
       "      <td>(로즈버드)명동아바타</td>\n",
       "      <td>서울특별시 중구 명동2가 83-5번지 (아바타1층1218)</td>\n",
       "      <td>NaN</td>\n",
       "      <td>20020911</td>\n",
       "      <td>폐업 등</td>\n",
       "      <td>20071105.0</td>\n",
       "      <td>NaN</td>\n",
       "      <td>NaN</td>\n",
       "      <td>NaN</td>\n",
       "      <td>NaN</td>\n",
       "      <td>NaN</td>\n",
       "      <td>상수도전용</td>\n",
       "      <td>0.0</td>\n",
       "      <td>2002.0</td>\n",
       "      <td>N</td>\n",
       "      <td>NaN</td>\n",
       "      <td>11.40</td>\n",
       "      <td>0.0</td>\n",
       "      <td>NaN</td>\n",
       "      <td>휴게음식점</td>\n",
       "      <td>커피숍</td>\n",
       "      <td>0.0</td>\n",
       "    </tr>\n",
       "  </tbody>\n",
       "</table>\n",
       "</div>"
      ],
      "text/plain": [
       "   number        companyName  \\\n",
       "0       1  #11(Sharp eleven)   \n",
       "1       2  ( 주)커피빈코리아청주지웰시티점   \n",
       "2       3           (aA)더블에이   \n",
       "3       4           (강서)카페치따   \n",
       "4       5        (로즈버드)명동아바타   \n",
       "\n",
       "                                              adress  \\\n",
       "0       서울특별시 양천구 목동 956번지 롯데캐슬위너 상가동 107호(한두3길 44)    \n",
       "1  충청북도 청주시 흥덕구 복대동 3379번지 신영지웰시티1차상업시설 124-1, 12...   \n",
       "2                            경상북도 경산시 사동 39번지 108-2호   \n",
       "3    서울특별시 강서구 등촌동 63-12번지 외 2필지 어위쉬예다인 (지상 1층) 104호   \n",
       "4                  서울특별시 중구 명동2가 83-5번지 (아바타1층1218)    \n",
       "\n",
       "                                      adressBystreet  dateOflicensing  \\\n",
       "0  서울특별시 양천구 목동중앙북로 38 (목동,롯데캐슬위너 상가동 107호(한두3길 44))         20080917   \n",
       "1  충청북도 청주시 흥덕구 대농로 17 (복대동,신영지웰시티1차상업시설 124-1, 1...         20101124   \n",
       "2                  경상북도 경산시 백자로10길 3-11, 108-2호 (사동)         20130902   \n",
       "3        서울특별시 강서구 양천로 452, 1층 104호 (등촌동, 3동 어위쉬예다인)         20121108   \n",
       "4                                                NaN         20020911   \n",
       "\n",
       "  stateOfbusiness  dateOfclosure  startdateOfcessation  duedateOfcessation  \\\n",
       "0             운영중            NaN                   NaN                 NaN   \n",
       "1             운영중            NaN                   NaN                 NaN   \n",
       "2             운영중            NaN                   NaN                 NaN   \n",
       "3             운영중            NaN                   NaN                 NaN   \n",
       "4            폐업 등     20071105.0                   NaN                 NaN   \n",
       "\n",
       "   dateOfreOpen  areaOfsite  zip waterwork  numOfmenWorker  yearOfStart  \\\n",
       "0           NaN         NaN  NaN     상수도전용             NaN       2008.0   \n",
       "1           NaN         NaN  NaN     상수도전용             NaN       2010.0   \n",
       "2           NaN         NaN  NaN     상수도전용             NaN       2013.0   \n",
       "3           NaN         NaN  NaN     상수도전용             NaN       2012.0   \n",
       "4           NaN         NaN  NaN     상수도전용             0.0       2002.0   \n",
       "\n",
       "  multipleUse grade  sizeOfsite  numOfwomenWorker vicintyOfsite sanitaryName  \\\n",
       "0           N   NaN       20.80               NaN           NaN        휴게음식점   \n",
       "1           N   NaN      212.72               NaN           NaN        휴게음식점   \n",
       "2           N   NaN       20.04               NaN         아파트지역        휴게음식점   \n",
       "3           N   NaN       64.17               NaN           NaN        휴게음식점   \n",
       "4           N   NaN       11.40               0.0           NaN        휴게음식점   \n",
       "\n",
       "  businessCondition  totalOfworker  \n",
       "0               커피숍            NaN  \n",
       "1               커피숍            NaN  \n",
       "2               커피숍            NaN  \n",
       "3               커피숍            NaN  \n",
       "4               커피숍            0.0  "
      ]
     },
     "execution_count": 5,
     "metadata": {},
     "output_type": "execute_result"
    }
   ],
   "source": [
    "data2 = pd.read_csv('./data/data_coffee.csv', encoding='cp949')\n",
    "data2.head()"
   ]
  },
  {
   "cell_type": "code",
   "execution_count": 6,
   "metadata": {},
   "outputs": [
    {
     "data": {
      "text/plain": [
       "(33587, 23)"
      ]
     },
     "execution_count": 6,
     "metadata": {},
     "output_type": "execute_result"
    }
   ],
   "source": [
    "# 운영중인 커피숍\n",
    "data2_oper = data2[data2['stateOfbusiness'] == '운영중']\n",
    "data2_oper.shape"
   ]
  },
  {
   "cell_type": "code",
   "execution_count": 7,
   "metadata": {},
   "outputs": [
    {
     "data": {
      "text/plain": [
       "(13245, 23)"
      ]
     },
     "execution_count": 7,
     "metadata": {},
     "output_type": "execute_result"
    }
   ],
   "source": [
    "# 폐업상태인 커피숍\n",
    "data2_shut = data2[data2['stateOfbusiness'] == '폐업 등']\n",
    "data2_shut.shape"
   ]
  },
  {
   "cell_type": "markdown",
   "metadata": {},
   "source": [
    "- **1997-2014년도 사이의 개업 횟수를(yearOfStart) 도수분포표로 요약하고 시각화하시오.**"
   ]
  },
  {
   "cell_type": "code",
   "execution_count": 8,
   "metadata": {},
   "outputs": [
    {
     "data": {
      "text/plain": [
       "array([2008., 2010., 2013., 2012., 2002., 2014., 2011., 2006., 2009.,\n",
       "       2015., 2004., 2007., 2005., 2003., 1991., 1998., 1990., 1994.,\n",
       "       2001., 1999., 1995.,   nan, 1975., 1993., 2000., 1997., 1969.,\n",
       "       1988., 1986., 1983., 1987., 1989., 1992., 1982., 1985., 1996.,\n",
       "       1981., 1971., 1972., 1980., 1967., 1984., 1970., 1976., 1979.,\n",
       "       1964., 1974., 1968., 1966.])"
      ]
     },
     "execution_count": 8,
     "metadata": {},
     "output_type": "execute_result"
    }
   ],
   "source": [
    "data2['yearOfStart'].unique()"
   ]
  },
  {
   "cell_type": "code",
   "execution_count": 12,
   "metadata": {},
   "outputs": [
    {
     "data": {
      "text/plain": [
       "1998.0      54\n",
       "1999.0      46\n",
       "2000.0      89\n",
       "2001.0     183\n",
       "2002.0     398\n",
       "2003.0     799\n",
       "2004.0     648\n",
       "2005.0     654\n",
       "2006.0     863\n",
       "2007.0    1233\n",
       "2008.0    1579\n",
       "2009.0    2489\n",
       "2010.0    4172\n",
       "2011.0    5942\n",
       "2012.0    6315\n",
       "2013.0    7270\n",
       "Name: yearOfStart, dtype: int64"
      ]
     },
     "execution_count": 12,
     "metadata": {},
     "output_type": "execute_result"
    }
   ],
   "source": [
    "data_specific  = data2[(data2['yearOfStart'] > 1997) & (data2['yearOfStart'] < 2014)]\n",
    "series_specific = data_specific['yearOfStart'].value_counts()\n",
    "series_specific = series_specific.sort_index()\n",
    "print(series_specific)"
   ]
  },
  {
   "cell_type": "code",
   "execution_count": 19,
   "metadata": {},
   "outputs": [
    {
     "data": {
      "image/png": "[encoded data removed]",
      "text/plain": [
       "<Figure size 432x288 with 1 Axes>"
      ]
     },
     "metadata": {
      "needs_background": "light"
     },
     "output_type": "display_data"
    }
   ],
   "source": [
    "# 방법1) \n",
    "plt.plot(series_specific.index, series_specific.values, color='blue', linewidth=2, linestyle='--')\n",
    "plt.xlim(1997, 2014)\n",
    "plt.show();"
   ]
  },
  {
   "cell_type": "code",
   "execution_count": 20,
   "metadata": {},
   "outputs": [
    {
     "data": {
      "image/png": "[encoded data removed]",
      "text/plain": [
       "<Figure size 432x288 with 1 Axes>"
      ]
     },
     "metadata": {
      "needs_background": "light"
     },
     "output_type": "display_data"
    }
   ],
   "source": [
    "# 방법2)\n",
    "series_specific.plot.line(color='blue', linewidth=2, linestyle='--')\n",
    "plt.xlim(1997, 2014)\n",
    "plt.show();"
   ]
  },
  {
   "cell_type": "markdown",
   "metadata": {},
   "source": [
    "- **운영중인 커피숍 대상으로 1997-2014년도 사이의 개업 회수를 도수분포표로 요약하시오**"
   ]
  },
  {
   "cell_type": "code",
   "execution_count": 23,
   "metadata": {},
   "outputs": [
    {
     "data": {
      "image/png": "[encoded data removed]",
      "text/plain": [
       "<Figure size 432x288 with 1 Axes>"
      ]
     },
     "metadata": {
      "needs_background": "light"
     },
     "output_type": "display_data"
    }
   ],
   "source": [
    "df_oper = data2_oper[(data2_oper['yearOfStart'] > 1997) & (data2_oper['yearOfStart'] < 2014)]\n",
    "sr_oper = df_oper['yearOfStart'].value_counts()\n",
    "sr_oper = sr_oper.sort_index()\n",
    "\n",
    "plt.plot(sr_oper.index, sr_oper.values, color='red');"
   ]
  },
  {
   "cell_type": "markdown",
   "metadata": {},
   "source": [
    "- **폐업상태 커피숍 대상으로 1997~2014년도 사이의 개업 회수를 도수분포표로 요약하시오.**"
   ]
  },
  {
   "cell_type": "code",
   "execution_count": 25,
   "metadata": {},
   "outputs": [
    {
     "data": {
      "image/png": "[encoded data removed]",
      "text/plain": [
       "<Figure size 432x288 with 1 Axes>"
      ]
     },
     "metadata": {
      "needs_background": "light"
     },
     "output_type": "display_data"
    }
   ],
   "source": [
    "df_shut = data2_shut[(data2_shut['yearOfStart'] > 1997) & (data2_shut['yearOfStart'] < 2014)]\n",
    "sr_shut = df_shut['yearOfStart'].value_counts()\n",
    "sr_shut = sr_shut.sort_index()\n",
    "\n",
    "plt.plot(sr_shut.index, sr_shut.values, color='green');"
   ]
  },
  {
   "cell_type": "markdown",
   "metadata": {},
   "source": [
    "- **위 #3과 #4 결과를 하나의 그래프로 시각화한다. 범례도 포함한다.**"
   ]
  },
  {
   "cell_type": "code",
   "execution_count": 26,
   "metadata": {},
   "outputs": [
    {
     "data": {
      "image/png": "[encoded data removed]",
      "text/plain": [
       "<Figure size 432x288 with 1 Axes>"
      ]
     },
     "metadata": {
      "needs_background": "light"
     },
     "output_type": "display_data"
    }
   ],
   "source": [
    "# 방법1) \n",
    "plt.plot(sr_oper.index, sr_oper.values, color='red', label='Open')\n",
    "plt.plot(sr_shut.index, sr_shut.values, color='green', label='Closed')\n",
    "plt.legend()\n",
    "plt.show();"
   ]
  },
  {
   "cell_type": "code",
   "execution_count": 39,
   "metadata": {},
   "outputs": [
    {
     "data": {
      "image/png": "[encoded data removed]",
      "text/plain": [
       "<Figure size 432x288 with 1 Axes>"
      ]
     },
     "metadata": {
      "needs_background": "light"
     },
     "output_type": "display_data"
    }
   ],
   "source": [
    "# 방법2) groupby 사용\n",
    "groups = data2.groupby('stateOfbusiness')\n",
    "my_sr = []\n",
    "my_names = []\n",
    "\n",
    "for name, dfb in groups:\n",
    "    sr = dfb['yearOfStart'].value_counts()\n",
    "    sr = sr.sort_index()\n",
    "    sr = sr[(sr.index > 1997) & (sr.index < 2014)]\n",
    "    my_sr += [sr]\n",
    "    my_names += [name]\n",
    "    \n",
    "my_colors = ['red', 'green']\n",
    "my_ls = ['-', '-']\n",
    "my_labels = ['Open', 'Closed']\n",
    "\n",
    "\n",
    "for i, sr in enumerate(my_sr):\n",
    "    sr.plot.line(color=my_colors[i], linestyle=my_ls[i], label=my_labels[i])\n",
    "\n",
    "plt.legend()\n",
    "plt.show();"
   ]
  },
  {
   "cell_type": "code",
   "execution_count": null,
   "metadata": {},
   "outputs": [],
   "source": []
  },
  {
   "cell_type": "code",
   "execution_count": null,
   "metadata": {},
   "outputs": [],
   "source": []
  },
  {
   "cell_type": "code",
   "execution_count": null,
   "metadata": {},
   "outputs": [],
   "source": []
  }
 ],
 "metadata": {
  "kernelspec": {
   "display_name": "Python 3",
   "language": "python",
   "name": "python3"
  },
  "language_info": {
   "codemirror_mode": {
    "name": "ipython",
    "version": 3
   },
   "file_extension": ".py",
   "mimetype": "text/x-python",
   "name": "python",
   "nbconvert_exporter": "python",
   "pygments_lexer": "ipython3",
   "version": "3.7.6"
  }
 },
 "nbformat": 4,
 "nbformat_minor": 4
}
