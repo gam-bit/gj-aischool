{
 "cells": [
  {
   "cell_type": "markdown",
   "metadata": {},
   "source": [
    "# 구현할 코드 구조\n",
    "\n",
    "![단층퍼셉트론](./image/single_layer_perceptron_CodeTree.PNG)\n",
    "\n",
    "---"
   ]
  },
  {
   "cell_type": "markdown",
   "metadata": {},
   "source": [
    "## 0.0 파이썬 모듈 불러오기"
   ]
  },
  {
   "cell_type": "code",
   "execution_count": 2,
   "metadata": {},
   "outputs": [],
   "source": [
    "import csv\n",
    "import numpy as np\n",
    "# import time\n",
    "\n",
    "np.random.seed(1234)"
   ]
  },
  {
   "cell_type": "markdown",
   "metadata": {},
   "source": [
    "## 0.1 하이퍼 파라미터 정의"
   ]
  },
  {
   "cell_type": "code",
   "execution_count": 3,
   "metadata": {},
   "outputs": [],
   "source": [
    "RND_MEAN = 0\n",
    "RND_STD = 0.0030\n",
    "\n",
    "LEARNING_RATE = 0.001 "
   ]
  },
  {
   "cell_type": "markdown",
   "metadata": {},
   "source": [
    "## A.1 abalone_Exec\n",
    "- 실험용 메인함수"
   ]
  },
  {
   "cell_type": "code",
   "execution_count": 4,
   "metadata": {},
   "outputs": [],
   "source": [
    "def abalone_exec(epoch_count=10, mb_size=10, report=1):\n",
    "    \n",
    "    load_abalone_dataset() # 데이터 로드\n",
    "    \n",
    "    init_model() # 모델 초기화\n",
    "    \n",
    "    train_and_test(epoch_count, mb_size, report) # 학습 및 테스트 "
   ]
  },
  {
   "cell_type": "markdown",
   "metadata": {},
   "source": [
    "## B.1 load_abalone_dataset\n",
    "- 데이터 적재함수 정의\n",
    "    \n",
    "    1. 데이터 불러오기\n",
    "    2. 전역 변수 생성\n",
    "    3. 원-핫 인코딩 처리"
   ]
  },
  {
   "cell_type": "code",
   "execution_count": 5,
   "metadata": {},
   "outputs": [],
   "source": [
    "def load_abalone_dataset():\n",
    "    with open('./data/abalone.csv') as csvfile:\n",
    "        csvreader = csv.reader(csvfile)\n",
    "        next(csvreader, None) # 데이터의 첫번째 행(칼럼명)을 생략\n",
    "        rows = []\n",
    "        for row in csvreader:\n",
    "            rows.append(row)\n",
    "            \n",
    "    global data, input_cnt, output_cnt \n",
    "    input_cnt, output_cnt = 10, 1 # 입,출력 벡터 크기\n",
    "    data = np.zeros([len(rows), input_cnt+output_cnt])\n",
    "\n",
    "    for n, row in enumerate(rows):\n",
    "        if row[0] == 'I': data[n, 0] = 1 # if문 짧게 쓰는 방법\n",
    "        if row[0] == 'M': data[n, 1] = 1\n",
    "        if row[0] == 'F': data[n, 2] = 1\n",
    "        data[n, 3:] = row[1:]"
   ]
  },
  {
   "cell_type": "markdown",
   "metadata": {},
   "source": [
    "---\n",
    "- next() 활용 예제"
   ]
  },
  {
   "cell_type": "code",
   "execution_count": 6,
   "metadata": {},
   "outputs": [
    {
     "name": "stdout",
     "output_type": "stream",
     "text": [
      "['M', '0.455', '0.365', '0.095', '0.514', '0.2245', '0.101', '0.15', '15']\n",
      "4177\n"
     ]
    }
   ],
   "source": [
    "# next() 사용 O\n",
    "with open('./data/abalone.csv') as csvfile:\n",
    "    csvreader = csv.reader(csvfile)\n",
    "    next(csvreader, None) \n",
    "    rows = []\n",
    "    for row in csvreader:\n",
    "        rows.append(row)\n",
    "print(rows[0])\n",
    "print(len(rows))"
   ]
  },
  {
   "cell_type": "code",
   "execution_count": 7,
   "metadata": {},
   "outputs": [
    {
     "name": "stdout",
     "output_type": "stream",
     "text": [
      "['Sex', 'Length', 'Diameter', 'Height', 'Whole weight', 'Shucked weight', 'Viscera weight', 'Shell weight', 'Rings']\n",
      "4178\n"
     ]
    }
   ],
   "source": [
    "# next() 사용 X\n",
    "with open('./data/abalone.csv') as csvfile:\n",
    "    csvreader = csv.reader(csvfile)\n",
    "#     next(csvreader, None) \n",
    "    rows = []\n",
    "    for row in csvreader:\n",
    "        rows.append(row)\n",
    "print(rows[0])\n",
    "print(len(rows))"
   ]
  },
  {
   "cell_type": "markdown",
   "metadata": {},
   "source": [
    "---"
   ]
  },
  {
   "cell_type": "markdown",
   "metadata": {},
   "source": [
    "## B.2 init_model\n",
    "- 파라미터 (랜덤) 초기화 함수"
   ]
  },
  {
   "cell_type": "code",
   "execution_count": 8,
   "metadata": {},
   "outputs": [],
   "source": [
    "def init_model():\n",
    "    global weight, bias, input_cnt, output_cnt\n",
    "    weight = np.random.normal(RND_MEAN, RND_STD, [input_cnt, output_cnt])\n",
    "                            # 평균,표준편차,크기\n",
    "    bias = np.zeros([output_cnt]) # bias는 초반에 영향을 미칠 수 있으므로 처음엔 0으로 지정"
   ]
  },
  {
   "cell_type": "markdown",
   "metadata": {},
   "source": [
    "## B.3 train_and_test\n",
    "- 학습 및 평가 함수 정의\n",
    "    - 하위 함수가 여러 개 있음. 주의.\n",
    "    \n",
    "    \n",
    "    1. 학습\n",
    "    2. 출력"
   ]
  },
  {
   "cell_type": "code",
   "execution_count": 9,
   "metadata": {},
   "outputs": [],
   "source": [
    "def train_and_test(epoch_count, mb_size, report):\n",
    "                   # mb_size : 미니배치크기\n",
    "                   # report  : 출력 주기\n",
    "            \n",
    "    step_count = arrange_data(mb_size) # 미니배치크기에 따른 step_count\n",
    "    test_x, test_y = get_test_data()\n",
    "    \n",
    "    for epoch in range(epoch_count):\n",
    "        losses, accs = [], [] # 손실함수, 정확도 \n",
    "        \n",
    "        for n in range(step_count):\n",
    "            train_x, train_y = get_train_data(mb_size, n) # mini batch마다 파라미터 업데이트!\n",
    "            loss, acc = run_train(train_x, train_y)\n",
    "            losses.append(loss) # step_count 개수만큼의 원소가 생성됨\n",
    "            accs.append(acc)    # step_count 개수만큼의 원소가 생성됨\n",
    "                                # loss, accs는 이 후에 평균낼 것\n",
    "            \n",
    "        if report > 0 and (epoch+1) % report == 0: # 출력 주기 조건\n",
    "            acc = run_test(test_x, test_y)\n",
    "            print('Epoch {}: loss={:5.3f}, accuracy={:5.3f}/{:5.3f}'. \\\n",
    "                  format(epoch+1, np.mean(losses), np.mean(accs), acc))\n",
    "                              # np.mean(accs) : train accracy\n",
    "                              # acc           : test accuracy\n",
    "            \n",
    "    final_acc = run_test(test_x, test_y)\n",
    "    print('\\nFinal Test: final accuracy = {:5.3f}'.format(final_acc))"
   ]
  },
  {
   "cell_type": "markdown",
   "metadata": {},
   "source": [
    "---\n",
    "\n",
    "- arrange_data()의 반환값, 미니배치 스텝 수란"
   ]
  },
  {
   "cell_type": "code",
   "execution_count": 10,
   "metadata": {},
   "outputs": [
    {
     "name": "stdout",
     "output_type": "stream",
     "text": [
      "총 데이터의 수(행) 4177\n",
      "데이터의 80%의 미니배치 스텝수 : 33\n",
      "train size: 3300\n",
      "0.7900406990663156\n"
     ]
    }
   ],
   "source": [
    "load_abalone_dataset()\n",
    "print(\"총 데이터의 수(행)\", data.shape[0])\n",
    "\n",
    "mb_size = 100\n",
    "step_count = int(data.shape[0] * 0.8) // mb_size  # train data는 전체의 80%\n",
    "                                                  # 100개씩 데이터를 처리하면 33step이 걸림\n",
    "print(\"데이터의 80%의 미니배치 스텝수 :\", step_count)\n",
    "print('train size:',step_count * mb_size)\n",
    "print(3300/4177)"
   ]
  },
  {
   "cell_type": "markdown",
   "metadata": {},
   "source": [
    "---"
   ]
  },
  {
   "cell_type": "markdown",
   "metadata": {},
   "source": [
    "## C.1~3 arrange_data, get_test_data, get_train_data\n",
    "- 학습 및 평가 데이터 획득 함수 정의"
   ]
  },
  {
   "cell_type": "code",
   "execution_count": 11,
   "metadata": {},
   "outputs": [],
   "source": [
    "def arrange_data(mb_size): # train: 80%, test: 20%으로 shuffle index\n",
    "    global data, shuffle_map, test_begin_idx\n",
    "    shuffle_map = np.arange(data.shape[0]) # m\n",
    "    np.random.shuffle(shuffle_map)\n",
    "    step_count = int(data.shape[0] * 0.8) // mb_size  # integer\n",
    "    test_begin_idx = step_count * mb_size  # train,test 경계선 index\n",
    "    return step_count\n",
    "\n",
    "def get_test_data(): # test set\n",
    "    global data, shuffle_map, test_begin_idx, output_cnt\n",
    "    test_data = data[shuffle_map[test_begin_idx:]]\n",
    "    return test_data[:, :-output_cnt], test_data[:, -output_cnt:] # X_test, y_text를 return\n",
    "\n",
    "def get_train_data(mb_size, nth): # train set # nth : minibach 실행 순서\n",
    "    global data, shuffle_map, test_begin_idx, output_cnt\n",
    "    if nth == 0: # 각 epoch을 시작할 때, 매번 train set을 선택하는 index를 셔플해 줌\n",
    "        np.random.shuffle(shuffle_map[:test_begin_idx])\n",
    "    train_data = data[shuffle_map[mb_size*nth:mb_size*(nth+1)]]\n",
    "    return train_data[:, :-output_cnt], train_data[:, -output_cnt:]"
   ]
  },
  {
   "cell_type": "markdown",
   "metadata": {},
   "source": [
    "## C.4 run_train\n",
    "- 학습 실행 함수(하나의 step을 수행)"
   ]
  },
  {
   "cell_type": "code",
   "execution_count": 12,
   "metadata": {},
   "outputs": [],
   "source": [
    "def run_train(x, y):\n",
    "    # -----순전파 및 정확도 추출\n",
    "    output, aux_nn = forward_neuralnet(x) # aux_nn : 입력벡터 x\n",
    "                                          # 역전파에서 사용하려고 저장\n",
    "    loss, aux_pp = forward_postproc(output, y) # aux_pp : 편차\n",
    "                                               # 역전파에서 사용하려고 저장\n",
    "    accuracy = eval_accuracy(output, y)\n",
    "    \n",
    "    # -----역전파 과정\n",
    "    G_loss = 1.0\n",
    "    G_output = backprop_postproc(G_loss, aux_pp)\n",
    "    backprop_neuralnet(G_output, aux_nn)  # 역전파\n",
    "    \n",
    "    return loss, accuracy"
   ]
  },
  {
   "cell_type": "markdown",
   "metadata": {},
   "source": [
    "## C.5 run_test\n",
    "- 평가 실행함수 정의"
   ]
  },
  {
   "cell_type": "code",
   "execution_count": 13,
   "metadata": {},
   "outputs": [],
   "source": [
    "def run_test(x, y):\n",
    "    output, _ = forward_neuralnet(x)\n",
    "    accuracy = eval_accuracy(output, y)\n",
    "    return accuracy"
   ]
  },
  {
   "cell_type": "markdown",
   "metadata": {},
   "source": [
    "## D.1 & E.1 forward_neuralnet, backprop_neuralnet\n",
    "- 순전파 및 역전파 함수 정의"
   ]
  },
  {
   "cell_type": "code",
   "execution_count": 14,
   "metadata": {},
   "outputs": [],
   "source": [
    "def forward_neuralnet(x): # 순전파 계산\n",
    "    global weight, bias\n",
    "    output = np.matmul(x, weight) + bias\n",
    "    return output, x\n",
    "\n",
    "def backprop_neuralnet(G_output, x): # 역전파 계산 \n",
    "                                     # G_output = dL/da\n",
    "    global weight, bias\n",
    "    g_output_w = x.transpose() # 각 열에 x(1), x(2), ..., x(m)이 있음\n",
    "                               # n x m matrix\n",
    "     \n",
    "    G_w = np.matmul(g_output_w, G_output) # dw\n",
    "    G_b = np.sum(G_output, axis=0)        # db\n",
    "\n",
    "    # 파라미터 업데이트\n",
    "    weight -= LEARNING_RATE * G_w\n",
    "    bias -= LEARNING_RATE * G_b"
   ]
  },
  {
   "cell_type": "markdown",
   "metadata": {},
   "source": [
    "## D.2 / E.2 후처리 과정에 대한 순전파 및 역전파 함수 정의"
   ]
  },
  {
   "cell_type": "code",
   "execution_count": 15,
   "metadata": {},
   "outputs": [],
   "source": [
    "def forward_postproc(output, y): # da\n",
    "    diff = output - y\n",
    "    square = np.square(diff)\n",
    "    loss = np.mean(square)\n",
    "    return loss, diff\n",
    "\n",
    "def backprop_postproc(G_loss, diff): # ?????????????????노이해\n",
    "    shape = diff.shape # m\n",
    "    \n",
    "    g_loss_square = np.ones(shape) / np.prod(shape)\n",
    "    g_square_diff = 2 * diff\n",
    "    g_diff_output = 1\n",
    "\n",
    "    G_square = g_loss_square * G_loss\n",
    "    G_diff = g_square_diff * G_square\n",
    "    G_output = g_diff_output * G_diff\n",
    "    \n",
    "    return G_output"
   ]
  },
  {
   "cell_type": "markdown",
   "metadata": {},
   "source": [
    "## D.3 정확도 계산 함수 정의  "
   ]
  },
  {
   "cell_type": "code",
   "execution_count": 16,
   "metadata": {},
   "outputs": [],
   "source": [
    "def eval_accuracy(output, y):\n",
    "    mdiff = np.mean(np.abs((output - y)/y))\n",
    "    return 1 - mdiff"
   ]
  },
  {
   "cell_type": "markdown",
   "metadata": {},
   "source": [
    "---\n",
    "\n",
    "## 단층퍼셉트론 메인 함수 실행"
   ]
  },
  {
   "cell_type": "code",
   "execution_count": 17,
   "metadata": {},
   "outputs": [
    {
     "name": "stdout",
     "output_type": "stream",
     "text": [
      "Epoch 1: loss=33.875, accuracy=0.557/0.812\n",
      "Epoch 2: loss=8.226, accuracy=0.820/0.814\n",
      "Epoch 3: loss=7.582, accuracy=0.812/0.809\n",
      "Epoch 4: loss=7.475, accuracy=0.808/0.811\n",
      "Epoch 5: loss=7.395, accuracy=0.810/0.809\n",
      "Epoch 6: loss=7.328, accuracy=0.808/0.810\n",
      "Epoch 7: loss=7.269, accuracy=0.808/0.811\n",
      "Epoch 8: loss=7.217, accuracy=0.808/0.812\n",
      "Epoch 9: loss=7.175, accuracy=0.810/0.810\n",
      "Epoch 10: loss=7.135, accuracy=0.809/0.810\n",
      "\n",
      "Final Test: final accuracy = 0.810\n"
     ]
    }
   ],
   "source": [
    "abalone_exec()"
   ]
  },
  {
   "cell_type": "markdown",
   "metadata": {},
   "source": [
    "## 파라미터 확인"
   ]
  },
  {
   "cell_type": "code",
   "execution_count": 18,
   "metadata": {},
   "outputs": [
    {
     "name": "stdout",
     "output_type": "stream",
     "text": [
      "[[1.02697603]\n",
      " [1.47450981]\n",
      " [1.66960135]\n",
      " [2.04468668]\n",
      " [1.62513525]\n",
      " [0.60292627]\n",
      " [2.39993815]\n",
      " [0.54107313]\n",
      " [0.46878034]\n",
      " [1.01969382]]\n",
      "[4.16894769]\n"
     ]
    }
   ],
   "source": [
    "print(weight)\n",
    "print(bias)"
   ]
  },
  {
   "cell_type": "markdown",
   "metadata": {},
   "source": [
    "## 새로운 입력 벡터 X에 대한 예측"
   ]
  },
  {
   "cell_type": "code",
   "execution_count": 19,
   "metadata": {},
   "outputs": [
    {
     "name": "stdout",
     "output_type": "stream",
     "text": [
      "(array([8.65881481]), array([0.  , 1.  , 0.  , 0.44, 0.3 , 0.08, 0.5 , 0.23, 0.11, 0.2 ]))\n"
     ]
    }
   ],
   "source": [
    "x = np.array([0,1,0,0.44,0.3,0.08,0.5,0.23,0.11,0.2])\n",
    "output = forward_neuralnet(x)\n",
    "print(output)"
   ]
  },
  {
   "cell_type": "markdown",
   "metadata": {},
   "source": [
    "## 하이퍼퍼라미터 수정하며 실험\n",
    "\n",
    "* LEARNING_RATE = 0.001 -> 0.1\n",
    "* epoch_count = 10 -> 100\n",
    "* mb_size = 10 -> 100"
   ]
  },
  {
   "cell_type": "code",
   "execution_count": 20,
   "metadata": {},
   "outputs": [
    {
     "name": "stdout",
     "output_type": "stream",
     "text": [
      "Epoch 20: loss=5.804, accuracy=0.825/0.831\n",
      "Epoch 40: loss=5.259, accuracy=0.834/0.828\n",
      "Epoch 60: loss=5.056, accuracy=0.837/0.838\n",
      "Epoch 80: loss=4.950, accuracy=0.838/0.840\n",
      "Epoch 100: loss=4.910, accuracy=0.840/0.826\n",
      "\n",
      "Final Test: final accuracy = 0.826\n"
     ]
    }
   ],
   "source": [
    "LEARNING_RATE = 0.1\n",
    "abalone_exec(epoch_count=100,mb_size=100,report=20)"
   ]
  },
  {
   "cell_type": "code",
   "execution_count": null,
   "metadata": {},
   "outputs": [],
   "source": []
  }
 ],
 "metadata": {
  "kernelspec": {
   "display_name": "Python 3",
   "language": "python",
   "name": "python3"
  },
  "language_info": {
   "codemirror_mode": {
    "name": "ipython",
    "version": 3
   },
   "file_extension": ".py",
   "mimetype": "text/x-python",
   "name": "python",
   "nbconvert_exporter": "python",
   "pygments_lexer": "ipython3",
   "version": "3.7.6"
  }
 },
 "nbformat": 4,
 "nbformat_minor": 4
}
