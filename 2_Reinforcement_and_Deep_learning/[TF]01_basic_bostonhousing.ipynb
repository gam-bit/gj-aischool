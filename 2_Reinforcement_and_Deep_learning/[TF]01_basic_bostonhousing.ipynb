{
  "nbformat": 4,
  "nbformat_minor": 0,
  "metadata": {
    "colab": {
      "name": "딥러닝_01_basic_tensorflow_bostonhousing.ipynb",
      "provenance": [],
      "collapsed_sections": []
    },
    "kernelspec": {
      "name": "python3",
      "display_name": "Python 3"
    }
  },
  "cells": [
    {
      "cell_type": "markdown",
      "metadata": {
        "id": "0DxrZsHF7Cfg",
        "colab_type": "text"
      },
      "source": [
        "- 신경망과 퍼셉트론\n",
        "- 데이터 정규화\n",
        "- 보스턴의 주택 가격을 예측하기 위한 딥러닝 네트워크"
      ]
    },
    {
      "cell_type": "markdown",
      "metadata": {
        "id": "6_qMc4b-7RzI",
        "colab_type": "text"
      },
      "source": [
        "# 텐서플로우 불러오기 및 버전확"
      ]
    },
    {
      "cell_type": "code",
      "metadata": {
        "id": "MnZR2MDD7UNL",
        "colab_type": "code",
        "colab": {
          "base_uri": "https://localhost:8080/",
          "height": 35
        },
        "outputId": "0b46b351-d6e2-4b64-c61d-08f22eba8886"
      },
      "source": [
        "import tensorflow as tf\n",
        "print(tf.__version__)"
      ],
      "execution_count": 1,
      "outputs": [
        {
          "output_type": "stream",
          "text": [
            "2.2.0\n"
          ],
          "name": "stdout"
        }
      ]
    },
    {
      "cell_type": "markdown",
      "metadata": {
        "id": "mJSHtDaD7Nae",
        "colab_type": "text"
      },
      "source": [
        "# 텐서플로우에 있는 `boston_housing` 데이터 불러오기 \n"
      ]
    },
    {
      "cell_type": "code",
      "metadata": {
        "id": "vs401-LV7cgZ",
        "colab_type": "code",
        "colab": {
          "base_uri": "https://localhost:8080/",
          "height": 53
        },
        "outputId": "f0840637-0bb6-406f-f6c8-e678123390f3"
      },
      "source": [
        "from tensorflow.keras.datasets import boston_housing\n",
        "(train_X, train_Y), (test_X, test_Y) = boston_housing.load_data()"
      ],
      "execution_count": 2,
      "outputs": [
        {
          "output_type": "stream",
          "text": [
            "Downloading data from https://storage.googleapis.com/tensorflow/tf-keras-datasets/boston_housing.npz\n",
            "57344/57026 [==============================] - 0s 0us/step\n"
          ],
          "name": "stdout"
        }
      ]
    },
    {
      "cell_type": "code",
      "metadata": {
        "id": "DEzrmzUU79Zv",
        "colab_type": "code",
        "colab": {
          "base_uri": "https://localhost:8080/",
          "height": 89
        },
        "outputId": "ffe8a197-07e4-468d-a175-e6f025f08da5"
      },
      "source": [
        "print(len(train_X), len(test_X))\n",
        "print(train_X[0])\n",
        "print(train_Y[0])"
      ],
      "execution_count": 3,
      "outputs": [
        {
          "output_type": "stream",
          "text": [
            "404 102\n",
            "[  1.23247   0.        8.14      0.        0.538     6.142    91.7\n",
            "   3.9769    4.      307.       21.      396.9      18.72   ]\n",
            "15.2\n"
          ],
          "name": "stdout"
        }
      ]
    },
    {
      "cell_type": "markdown",
      "metadata": {
        "id": "vEG7aDO87NgM",
        "colab_type": "text"
      },
      "source": [
        "# 데이터 표준화 작업\n",
        "- 현재 각 데이터의 단위가 다름(비율/ 0 or 1/양의 정수 등)\n",
        "- 데이터 표준화 과정이란?\n",
        "  - 각 데이터에서 평균값을 뺀 다음 표준편차로 나눠주는 과정"
      ]
    },
    {
      "cell_type": "code",
      "metadata": {
        "id": "aaFVASqd7NkK",
        "colab_type": "code",
        "colab": {}
      },
      "source": [
        "x_mean = train_X.mean()\n",
        "x_std = train_X.std()\n",
        "\n",
        "train_X -= x_mean\n",
        "train_X /= x_std\n",
        "\n",
        "test_X -= x_mean\n",
        "test_X /= x_std\n",
        "\n",
        "#----------------\n",
        "y_mean = train_Y.mean()\n",
        "y_std = train_Y.std()\n",
        "\n",
        "train_Y -= y_mean\n",
        "train_Y /= y_std\n",
        "\n",
        "test_Y -= y_mean\n",
        "test_Y /= y_std"
      ],
      "execution_count": 4,
      "outputs": []
    },
    {
      "cell_type": "markdown",
      "metadata": {
        "id": "heiICjFg7Nnj",
        "colab_type": "text"
      },
      "source": [
        "# 신경망 모델 구축\n",
        "- 비선형 활성화 함수 : relu\n",
        "  - 1st hidden units : 52\n",
        "  - 2nd hidden units : 39\n",
        "  - 3rd hidden units : 26\n",
        "  - 4th hidden unists : 1\n"
      ]
    },
    {
      "cell_type": "code",
      "metadata": {
        "id": "tjhq4APj-nFT",
        "colab_type": "code",
        "colab": {}
      },
      "source": [
        "model = tf.keras.Sequential([\n",
        "                             tf.keras.layers.Dense(units=52, activation='relu', input_shape=(13, )), # 변수가 13개\n",
        "                             tf.keras.layers.Dense(units=39, activation='relu'), \n",
        "                             tf.keras.layers.Dense(units=26, activation='relu'),\n",
        "                             tf.keras.layers.Dense(units=1)\n",
        "])"
      ],
      "execution_count": 5,
      "outputs": []
    },
    {
      "cell_type": "code",
      "metadata": {
        "id": "111mwpMU_RrI",
        "colab_type": "code",
        "colab": {
          "base_uri": "https://localhost:8080/",
          "height": 307
        },
        "outputId": "d817090a-d8f0-4db0-8c35-7c5eaf007a6a"
      },
      "source": [
        "model.summary()"
      ],
      "execution_count": 6,
      "outputs": [
        {
          "output_type": "stream",
          "text": [
            "Model: \"sequential\"\n",
            "_________________________________________________________________\n",
            "Layer (type)                 Output Shape              Param #   \n",
            "=================================================================\n",
            "dense (Dense)                (None, 52)                728       \n",
            "_________________________________________________________________\n",
            "dense_1 (Dense)              (None, 39)                2067      \n",
            "_________________________________________________________________\n",
            "dense_2 (Dense)              (None, 26)                1040      \n",
            "_________________________________________________________________\n",
            "dense_3 (Dense)              (None, 1)                 27        \n",
            "=================================================================\n",
            "Total params: 3,862\n",
            "Trainable params: 3,862\n",
            "Non-trainable params: 0\n",
            "_________________________________________________________________\n"
          ],
          "name": "stdout"
        }
      ]
    },
    {
      "cell_type": "markdown",
      "metadata": {
        "id": "6ii--GTi_kw1",
        "colab_type": "text"
      },
      "source": [
        "# 컴파일 단계\n",
        "- tf.keras.optimizers.Adam(): 'SGD'와 함께 자주 쓰임"
      ]
    },
    {
      "cell_type": "code",
      "metadata": {
        "id": "wDZKynyIAVqa",
        "colab_type": "code",
        "colab": {}
      },
      "source": [
        "model.compile(optimizer=tf.keras.optimizers.Adam(learning_rate=0.001), loss='mse')"
      ],
      "execution_count": 7,
      "outputs": []
    },
    {
      "cell_type": "markdown",
      "metadata": {
        "id": "5iuFfyqAAdkq",
        "colab_type": "text"
      },
      "source": [
        "# 모델 학습\n",
        "- epochs : 25\n",
        "- batch_size : 32\n",
        "- vaildation_split : 0.25 (학습 데이터의 검증 데이터 비율 설정)\n",
        "\n",
        "※ 미니배치 스텝수가 10인 이유 : '학습데이터의 25%'를 검증테이터로 활용했기 때문.  \n"
      ]
    },
    {
      "cell_type": "code",
      "metadata": {
        "id": "jpaBSUc9-oSx",
        "colab_type": "code",
        "colab": {
          "base_uri": "https://localhost:8080/",
          "height": 960
        },
        "outputId": "6fc07b2f-5515-42d9-fae5-e782e33d48b2"
      },
      "source": [
        "%%time\n",
        "#\n",
        "history = model.fit(train_X, train_Y, epochs=25, batch_size=32, validation_split=0.25)"
      ],
      "execution_count": 8,
      "outputs": [
        {
          "output_type": "stream",
          "text": [
            "Epoch 1/25\n",
            "10/10 [==============================] - 0s 29ms/step - loss: 0.9831 - val_loss: 1.2372\n",
            "Epoch 2/25\n",
            "10/10 [==============================] - 0s 5ms/step - loss: 0.7797 - val_loss: 1.1229\n",
            "Epoch 3/25\n",
            "10/10 [==============================] - 0s 5ms/step - loss: 0.7134 - val_loss: 1.0718\n",
            "Epoch 4/25\n",
            "10/10 [==============================] - 0s 5ms/step - loss: 0.6802 - val_loss: 1.0880\n",
            "Epoch 5/25\n",
            "10/10 [==============================] - 0s 5ms/step - loss: 0.6751 - val_loss: 1.0344\n",
            "Epoch 6/25\n",
            "10/10 [==============================] - 0s 6ms/step - loss: 0.6526 - val_loss: 1.0739\n",
            "Epoch 7/25\n",
            "10/10 [==============================] - 0s 5ms/step - loss: 0.6449 - val_loss: 1.0295\n",
            "Epoch 8/25\n",
            "10/10 [==============================] - 0s 6ms/step - loss: 0.6334 - val_loss: 1.0572\n",
            "Epoch 9/25\n",
            "10/10 [==============================] - 0s 5ms/step - loss: 0.6238 - val_loss: 1.0131\n",
            "Epoch 10/25\n",
            "10/10 [==============================] - 0s 5ms/step - loss: 0.6191 - val_loss: 1.0761\n",
            "Epoch 11/25\n",
            "10/10 [==============================] - 0s 5ms/step - loss: 0.6165 - val_loss: 1.0179\n",
            "Epoch 12/25\n",
            "10/10 [==============================] - 0s 5ms/step - loss: 0.6141 - val_loss: 1.0260\n",
            "Epoch 13/25\n",
            "10/10 [==============================] - 0s 5ms/step - loss: 0.6032 - val_loss: 1.0129\n",
            "Epoch 14/25\n",
            "10/10 [==============================] - 0s 5ms/step - loss: 0.6026 - val_loss: 1.0036\n",
            "Epoch 15/25\n",
            "10/10 [==============================] - 0s 5ms/step - loss: 0.6061 - val_loss: 1.0098\n",
            "Epoch 16/25\n",
            "10/10 [==============================] - 0s 5ms/step - loss: 0.5878 - val_loss: 1.0009\n",
            "Epoch 17/25\n",
            "10/10 [==============================] - 0s 5ms/step - loss: 0.5886 - val_loss: 0.9986\n",
            "Epoch 18/25\n",
            "10/10 [==============================] - 0s 5ms/step - loss: 0.5942 - val_loss: 1.0054\n",
            "Epoch 19/25\n",
            "10/10 [==============================] - 0s 5ms/step - loss: 0.5793 - val_loss: 1.0272\n",
            "Epoch 20/25\n",
            "10/10 [==============================] - 0s 5ms/step - loss: 0.5756 - val_loss: 0.9918\n",
            "Epoch 21/25\n",
            "10/10 [==============================] - 0s 4ms/step - loss: 0.5773 - val_loss: 1.0077\n",
            "Epoch 22/25\n",
            "10/10 [==============================] - 0s 5ms/step - loss: 0.5748 - val_loss: 0.9821\n",
            "Epoch 23/25\n",
            "10/10 [==============================] - 0s 5ms/step - loss: 0.5838 - val_loss: 0.9699\n",
            "Epoch 24/25\n",
            "10/10 [==============================] - 0s 6ms/step - loss: 0.5892 - val_loss: 1.0663\n",
            "Epoch 25/25\n",
            "10/10 [==============================] - 0s 5ms/step - loss: 0.5936 - val_loss: 0.9834\n",
            "CPU times: user 2.1 s, sys: 119 ms, total: 2.22 s\n",
            "Wall time: 2.34 s\n"
          ],
          "name": "stdout"
        }
      ]
    },
    {
      "cell_type": "markdown",
      "metadata": {
        "id": "m5_oRXkD7Nqr",
        "colab_type": "text"
      },
      "source": [
        "# 학습결과 시각화\n",
        "- 학습 데이터로 구한 손실과 검증 데이터의 손실 비교"
      ]
    },
    {
      "cell_type": "code",
      "metadata": {
        "id": "dkXUzS7ACVuv",
        "colab_type": "code",
        "colab": {
          "base_uri": "https://localhost:8080/",
          "height": 279
        },
        "outputId": "528f8060-093f-4864-a627-983549d9e7f5"
      },
      "source": [
        "import matplotlib.pyplot as plt\n",
        "plt.plot(history.history['loss'], 'b-', label='loss')\n",
        "plt.plot(history.history['val_loss'], 'r--', label='val_loss')\n",
        "plt.xlabel('Epoch')\n",
        "plt.legend()\n",
        "plt.show();"
      ],
      "execution_count": 9,
      "outputs": [
        {
          "output_type": "display_data",
          "data": {
            "image/png": "[encoded data removed]",
            "text/plain": [
              "<Figure size 432x288 with 1 Axes>"
            ]
          },
          "metadata": {
            "tags": [],
            "needs_background": "light"
          }
        }
      ]
    },
    {
      "cell_type": "code",
      "metadata": {
        "id": "jMEimrMm7Nti",
        "colab_type": "code",
        "colab": {
          "base_uri": "https://localhost:8080/",
          "height": 53
        },
        "outputId": "ba40aaa6-0191-4396-ec79-19ebfe33f787"
      },
      "source": [
        "model.evaluate(test_X,test_Y)"
      ],
      "execution_count": 10,
      "outputs": [
        {
          "output_type": "stream",
          "text": [
            "4/4 [==============================] - 0s 2ms/step - loss: 0.6586\n"
          ],
          "name": "stdout"
        },
        {
          "output_type": "execute_result",
          "data": {
            "text/plain": [
              "0.658627450466156"
            ]
          },
          "metadata": {
            "tags": []
          },
          "execution_count": 10
        }
      ]
    },
    {
      "cell_type": "code",
      "metadata": {
        "id": "kVaUAyy67Nwd",
        "colab_type": "code",
        "colab": {}
      },
      "source": [
        "pred_Y = model.predict(test_X)"
      ],
      "execution_count": 11,
      "outputs": []
    },
    {
      "cell_type": "markdown",
      "metadata": {
        "id": "iz-XVVT-pfoD",
        "colab_type": "text"
      },
      "source": [
        "### 실제값과 예측값 결과 시각화\n",
        "\n",
        "빨간 선 위에 많은 점이 위치해 있어야 하는데 그렇지 못한 상태이므로 성능이 좋다고 볼 수 없다."
      ]
    },
    {
      "cell_type": "code",
      "metadata": {
        "id": "IdlHXjTdplYD",
        "colab_type": "code",
        "colab": {
          "base_uri": "https://localhost:8080/",
          "height": 334
        },
        "outputId": "be6dd19f-5321-47d2-f44e-7d049100c8d5"
      },
      "source": [
        "import matplotlib.pyplot as plt\n",
        "\n",
        "plt.figure(figsize=(5, 5))\n",
        "plt.plot(test_Y, pred_Y, 'b.')\n",
        "plt.plot([min(test_Y),max(test_Y)], [min(test_Y), max(test_Y)],\"r--\")\n",
        "plt.xlabel('test_Y')\n",
        "plt.ylabel('pred_Y')\n",
        "plt.show();"
      ],
      "execution_count": 14,
      "outputs": [
        {
          "output_type": "display_data",
          "data": {
            "image/png": "[encoded data removed]",
            "text/plain": [
              "<Figure size 360x360 with 1 Axes>"
            ]
          },
          "metadata": {
            "tags": [],
            "needs_background": "light"
          }
        }
      ]
    },
    {
      "cell_type": "markdown",
      "metadata": {
        "id": "iEGsQyuL7NzS",
        "colab_type": "text"
      },
      "source": [
        "## 콜백(callback) 함수 - EarlyStopping() \n",
        "#### **왜 사용해야 하지?** \n",
        "###### 신경망이 훈련 데이터에 '과적합' 되지 않도록 학습 도중 끼어들어 학습을 조기 중단.\n",
        "\n",
        "※ '과적합' : 생성된 모델이 학습 데이터와 지나치게 일치하여 새 데이터를 올바르게 예측하지 못하는 경우\n",
        "\n",
        "- 콜백함수는 모델을 학습할 때 에폭이 끝날 때 마다 호출.\n",
        "- patience : 몇 번의 에폭을 기준으로 할 것인지 설정.\n",
        "- moniter : 어떠한 값을 모니터링 할 것인지 설정. "
      ]
    },
    {
      "cell_type": "code",
      "metadata": {
        "id": "4SbF55sI7N2M",
        "colab_type": "code",
        "colab": {
          "base_uri": "https://localhost:8080/",
          "height": 597
        },
        "outputId": "02320118-970c-41ef-d5f2-06e531155746"
      },
      "source": [
        "model = tf.keras.Sequential([\n",
        "    tf.keras.layers.Dense(units=52, activation='relu', input_shape=(13,)),\n",
        "    tf.keras.layers.Dense(units=40, activation='relu'),\n",
        "    tf.keras.layers.Dense(units=22, activation='relu'),\n",
        "    tf.keras.layers.Dense(units=1)\n",
        "])\n",
        "\n",
        "model.compile(optimizer=tf.keras.optimizers.Adam(lr=0.08), loss='mse')\n",
        "\n",
        "history = model.fit(train_X, train_Y, epochs=100, batch_size = 32, validation_split = 0.25, \n",
        "                    callbacks = [tf.keras.callbacks.EarlyStopping(patience = 4 , monitor='val_loss')])"
      ],
      "execution_count": 20,
      "outputs": [
        {
          "output_type": "stream",
          "text": [
            "Epoch 1/100\n",
            "10/10 [==============================] - 0s 10ms/step - loss: 12.2047 - val_loss: 1.2228\n",
            "Epoch 2/100\n",
            "10/10 [==============================] - 0s 6ms/step - loss: 0.8634 - val_loss: 1.0648\n",
            "Epoch 3/100\n",
            "10/10 [==============================] - 0s 5ms/step - loss: 0.7083 - val_loss: 1.0969\n",
            "Epoch 4/100\n",
            "10/10 [==============================] - 0s 6ms/step - loss: 0.7960 - val_loss: 1.0296\n",
            "Epoch 5/100\n",
            "10/10 [==============================] - 0s 6ms/step - loss: 0.6552 - val_loss: 1.0279\n",
            "Epoch 6/100\n",
            "10/10 [==============================] - 0s 6ms/step - loss: 0.6731 - val_loss: 1.0625\n",
            "Epoch 7/100\n",
            "10/10 [==============================] - 0s 6ms/step - loss: 0.7468 - val_loss: 1.0263\n",
            "Epoch 8/100\n",
            "10/10 [==============================] - 0s 5ms/step - loss: 0.6948 - val_loss: 1.0438\n",
            "Epoch 9/100\n",
            "10/10 [==============================] - 0s 5ms/step - loss: 0.6789 - val_loss: 1.0379\n",
            "Epoch 10/100\n",
            "10/10 [==============================] - 0s 5ms/step - loss: 0.6625 - val_loss: 1.0078\n",
            "Epoch 11/100\n",
            "10/10 [==============================] - 0s 5ms/step - loss: 0.6698 - val_loss: 1.0309\n",
            "Epoch 12/100\n",
            "10/10 [==============================] - 0s 5ms/step - loss: 0.6796 - val_loss: 0.9948\n",
            "Epoch 13/100\n",
            "10/10 [==============================] - 0s 5ms/step - loss: 0.6526 - val_loss: 1.0118\n",
            "Epoch 14/100\n",
            "10/10 [==============================] - 0s 5ms/step - loss: 0.6444 - val_loss: 1.3369\n",
            "Epoch 15/100\n",
            "10/10 [==============================] - 0s 5ms/step - loss: 0.7587 - val_loss: 1.0202\n",
            "Epoch 16/100\n",
            "10/10 [==============================] - 0s 5ms/step - loss: 0.6986 - val_loss: 1.0044\n"
          ],
          "name": "stdout"
        }
      ]
    },
    {
      "cell_type": "markdown",
      "metadata": {
        "id": "aYBaa13u7N5H",
        "colab_type": "text"
      },
      "source": [
        "### 학습 과정의 변화추이 시각화\n",
        "- 검증 데이터의 손실에서 뚜렷한 증가세가 보이지 않는다.\n",
        "- 과적합의 가능성 "
      ]
    },
    {
      "cell_type": "code",
      "metadata": {
        "id": "pqIZP5uhqsUd",
        "colab_type": "code",
        "colab": {
          "base_uri": "https://localhost:8080/",
          "height": 279
        },
        "outputId": "b0c0c75a-09d0-40af-eaf6-9590aea5d796"
      },
      "source": [
        "import matplotlib.pyplot as plt\n",
        "plt.plot(history.history['loss'],'b-',label = 'loss')\n",
        "plt.plot(history.history['val_loss'],'r--',label = 'val_loss')\n",
        "plt.xlabel('Epoch')\n",
        "plt.legend()\n",
        "plt.show()"
      ],
      "execution_count": 21,
      "outputs": [
        {
          "output_type": "display_data",
          "data": {
            "image/png": "[encoded data removed]",
            "text/plain": [
              "<Figure size 432x288 with 1 Axes>"
            ]
          },
          "metadata": {
            "tags": [],
            "needs_background": "light"
          }
        }
      ]
    },
    {
      "cell_type": "code",
      "metadata": {
        "id": "E4utODLb7N8J",
        "colab_type": "code",
        "colab": {
          "base_uri": "https://localhost:8080/",
          "height": 53
        },
        "outputId": "71115117-7fda-4a71-fa05-ca04402fc0a9"
      },
      "source": [
        "model.evaluate(test_X,test_Y)"
      ],
      "execution_count": 22,
      "outputs": [
        {
          "output_type": "stream",
          "text": [
            "4/4 [==============================] - 0s 2ms/step - loss: 0.6990\n"
          ],
          "name": "stdout"
        },
        {
          "output_type": "execute_result",
          "data": {
            "text/plain": [
              "0.6990309357643127"
            ]
          },
          "metadata": {
            "tags": []
          },
          "execution_count": 22
        }
      ]
    },
    {
      "cell_type": "code",
      "metadata": {
        "id": "HeoyA3eo7N_V",
        "colab_type": "code",
        "colab": {
          "base_uri": "https://localhost:8080/",
          "height": 339
        },
        "outputId": "c8dccb5c-133e-449e-cad8-c4426951e38e"
      },
      "source": [
        "import matplotlib.pyplot as plt\n",
        "\n",
        "#신경망을 활용한 test_X에 대한 '예측'\n",
        "pred_Y = model.predict(test_X)\n",
        "\n",
        "plt.figure(figsize=(5,5))\n",
        "plt.plot(test_Y, pred_Y,'b.')\n",
        "plt.axis([min(test_Y),max(test_Y), min(test_Y),max(test_Y)])\n",
        "\n",
        "plt.plot([min(test_Y),max(test_Y)], [min(test_Y), max(test_Y)],\"r--\")\n",
        "plt.xlabel('test_Y')\n",
        "plt.ylabel('pred_Y')\n",
        "\n",
        "plt.show()"
      ],
      "execution_count": 23,
      "outputs": [
        {
          "output_type": "display_data",
          "data": {
            "image/png": "[encoded data removed]",
            "text/plain": [
              "<Figure size 360x360 with 1 Axes>"
            ]
          },
          "metadata": {
            "tags": [],
            "needs_background": "light"
          }
        }
      ]
    },
    {
      "cell_type": "markdown",
      "metadata": {
        "id": "MYbnfOf1rp9O",
        "colab_type": "text"
      },
      "source": [
        "성능이 좋지는 않지만 콜백함수를 사용한 경우가 사용하지 않는 경우보다 성능이 좋음."
      ]
    },
    {
      "cell_type": "code",
      "metadata": {
        "id": "rPN_JAGbrt5Z",
        "colab_type": "code",
        "colab": {}
      },
      "source": [
        ""
      ],
      "execution_count": null,
      "outputs": []
    }
  ]
}