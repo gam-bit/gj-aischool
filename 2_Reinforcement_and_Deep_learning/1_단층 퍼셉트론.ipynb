{
 "cells": [
  {
   "cell_type": "markdown",
   "metadata": {},
   "source": [
    "# 구현할 코드 구조\n",
    "\n",
    "![단층퍼셉트론](./image/single_layer_perceptron_CodeTree.PNG)\n",
    "\n",
    "---"
   ]
  },
  {
   "cell_type": "markdown",
   "metadata": {},
   "source": [
    "## 0.0 파이썬 모듈 불러오기"
   ]
  },
  {
   "cell_type": "code",
   "execution_count": 1,
   "metadata": {},
   "outputs": [],
   "source": [
    "import csv\n",
    "import numpy as np\n",
    "# import time\n",
    "\n",
    "np.random.seed(1234)"
   ]
  },
  {
   "cell_type": "markdown",
   "metadata": {},
   "source": [
    "## 0.1 하이퍼 파라미터 정의"
   ]
  },
  {
   "cell_type": "code",
   "execution_count": 2,
   "metadata": {},
   "outputs": [],
   "source": [
    "RND_MEAN = 0\n",
    "RND_STD = 0.0030\n",
    "\n",
    "LEARNING_RATE = 0.001 "
   ]
  },
  {
   "cell_type": "markdown",
   "metadata": {},
   "source": [
    "## A.1 abalone_Exec\n",
    "- 실험용 메인함수"
   ]
  },
  {
   "cell_type": "code",
   "execution_count": 9,
   "metadata": {},
   "outputs": [],
   "source": [
    "def abalone_Exec(epoch_count=10, mb_size=10, report=1):\n",
    "    \n",
    "    load_abalone_dataset() # 데이터 로드\n",
    "    \n",
    "    init_model() # 모델 초기화\n",
    "    \n",
    "    train_and_test(epoch_count, mb_size, report) # 학습 및 테스트 "
   ]
  },
  {
   "cell_type": "markdown",
   "metadata": {},
   "source": [
    "## B.1 load_abalone_dataset\n",
    "- 데이터 적재함수 정의\n",
    "    \n",
    "    1. 데이터 불러오기\n",
    "    2. 전역 변수 생성\n",
    "    3. 원-핫 인코딩 처리"
   ]
  },
  {
   "cell_type": "code",
   "execution_count": 22,
   "metadata": {},
   "outputs": [],
   "source": [
    "def load_abalone_dataset():\n",
    "    with open('./data/abalone.csv') as csvfile:\n",
    "        csvreader = csv.reader(csvfile)\n",
    "        next(csvreader, None) # 데이터의 첫번째 행(칼럼명)을 생략\n",
    "        rows = []\n",
    "        for row in csvreader:\n",
    "            rows.append(row)\n",
    "            \n",
    "    global data, input_cnt, output_cnt \n",
    "    input_cnt, output_cnt = 10, 1 # 입,출력 벡터 크기\n",
    "    data = np.zeros([len(rows), input_cnt+output_cnt])\n",
    "\n",
    "    for n, row in enumerate(rows):\n",
    "        if row[0] == 'I': data[n, 0] = 1 # if문 짧게 쓰는 방법\n",
    "        if row[0] == 'M': data[n, 1] = 1\n",
    "        if row[0] == 'F': data[n, 2] = 1\n",
    "        data[n, 3:] = row[1:]"
   ]
  },
  {
   "cell_type": "markdown",
   "metadata": {},
   "source": [
    "---\n",
    "- next() 활용 예제"
   ]
  },
  {
   "cell_type": "code",
   "execution_count": 7,
   "metadata": {},
   "outputs": [
    {
     "name": "stdout",
     "output_type": "stream",
     "text": [
      "['M', '0.455', '0.365', '0.095', '0.514', '0.2245', '0.101', '0.15', '15']\n",
      "4177\n"
     ]
    }
   ],
   "source": [
    "# next() 사용 O\n",
    "with open('./data/abalone.csv') as csvfile:\n",
    "    csvreader = csv.reader(csvfile)\n",
    "    next(csvreader, None) \n",
    "    rows = []\n",
    "    for row in csvreader:\n",
    "        rows.append(row)\n",
    "print(rows[0])\n",
    "print(len(rows))"
   ]
  },
  {
   "cell_type": "code",
   "execution_count": 8,
   "metadata": {},
   "outputs": [
    {
     "name": "stdout",
     "output_type": "stream",
     "text": [
      "['Sex', 'Length', 'Diameter', 'Height', 'Whole weight', 'Shucked weight', 'Viscera weight', 'Shell weight', 'Rings']\n",
      "4178\n"
     ]
    }
   ],
   "source": [
    "# next() 사용 X\n",
    "with open('./data/abalone.csv') as csvfile:\n",
    "    csvreader = csv.reader(csvfile)\n",
    "#     next(csvreader, None) \n",
    "    rows = []\n",
    "    for row in csvreader:\n",
    "        rows.append(row)\n",
    "print(rows[0])\n",
    "print(len(rows))"
   ]
  },
  {
   "cell_type": "markdown",
   "metadata": {},
   "source": [
    "---"
   ]
  },
  {
   "cell_type": "markdown",
   "metadata": {},
   "source": [
    "## B.2 init_model\n",
    "- 파라미터 (랜덤) 초기화 함수"
   ]
  },
  {
   "cell_type": "code",
   "execution_count": 16,
   "metadata": {},
   "outputs": [],
   "source": [
    "def init_model():\n",
    "    global weight, bias, input_cnt, output_cnt\n",
    "    weight = np.random.normal(RND_MEAN, RND_STD, [input_cnt, output_cnt])\n",
    "                            # 평균,표준편차,크기\n",
    "    bias = np.zeros([output_cnt]) # bias는 초반에 영향을 미칠 수 있으므로 처음엔 0으로 지정"
   ]
  },
  {
   "cell_type": "markdown",
   "metadata": {},
   "source": [
    "## B.3 train_and_test\n",
    "- 학습 및 평가 함수 정의\n",
    "    - 하위 함수가 여러 개 있음. 주의.\n",
    "    \n",
    "    \n",
    "    1. 학습\n",
    "    2. 출력"
   ]
  },
  {
   "cell_type": "code",
   "execution_count": null,
   "metadata": {},
   "outputs": [],
   "source": [
    "def train_and_test(epoch_count, mb_size, report):\n",
    "                   # mb_size : 미니배치크기\n",
    "                   # report  : 출력 주기\n",
    "            \n",
    "    step_count = arrange_data(mb_size) # 미니배치크기에 따른 step_count\n",
    "    test_x, test_y = get_test_data()\n",
    "    \n",
    "    for epoch in range(epoch_count):\n",
    "        losses, accs = [], [] # 손실함수, 정확도 \n",
    "        \n",
    "        for n in range(step_count):\n",
    "            train_x, train_y = get_train_data(mb_size, n)\n",
    "            loss, acc = run_train(train_x, train_y)\n",
    "            losses.append(loss) # step_count 개수만큼의 원소가 생성됨\n",
    "            accs.append(acc)    # step_count 개수만큼의 원소가 생성됨\n",
    "                                # loss, accs는 이 후에 평균낼 것\n",
    "            \n",
    "        if report > 0 and (epoch+1) % report == 0: # 출력 주기 조건\n",
    "            # report > 10이라 하면 10개 이후부터 출력하겠다는 의미\n",
    "            acc = run_test(test_x, test_y)\n",
    "            print('Epoch {}: loss={:5.3f}, accuracy={:5.3f}/{:5.3f}'. \\\n",
    "                  format(epoch+1, np.mean(losses), np.mean(accs), acc))\n",
    "                              # np.mean(accs) : train accracy\n",
    "                              # acc           : test accuracy\n",
    "            \n",
    "    final_acc = run_test(test_x, test_y)\n",
    "    print('\\nFinal Test: final accuracy = {:5.3f}'.format(final_acc))"
   ]
  },
  {
   "cell_type": "markdown",
   "metadata": {},
   "source": [
    "---\n",
    "\n",
    "- arrange_data()의 반환값, 미니배치 스텝 수란"
   ]
  },
  {
   "cell_type": "code",
   "execution_count": 26,
   "metadata": {},
   "outputs": [
    {
     "name": "stdout",
     "output_type": "stream",
     "text": [
      "총 데이터의 수(행) 4177\n",
      "데이터의 80%의 미니배치 스텝수 : 33\n",
      "3300\n"
     ]
    }
   ],
   "source": [
    "print(\"총 데이터의 수(행)\", data.shape[0])\n",
    "\n",
    "load_abalone_dataset()\n",
    "\n",
    "mb_size = 100\n",
    "step_count = int(data.shape[0] * 0.8) // mb_size  # train data는 전체의 80%\n",
    "                                                  # 100개씩 데이터를 처리하면 33step이 걸림\n",
    "print(\"데이터의 80%의 미니배치 스텝수 :\", step_count)\n",
    "print(step_count * mb_size)"
   ]
  },
  {
   "cell_type": "markdown",
   "metadata": {},
   "source": [
    "---"
   ]
  },
  {
   "cell_type": "code",
   "execution_count": null,
   "metadata": {},
   "outputs": [],
   "source": []
  },
  {
   "cell_type": "code",
   "execution_count": null,
   "metadata": {},
   "outputs": [],
   "source": []
  },
  {
   "cell_type": "code",
   "execution_count": null,
   "metadata": {},
   "outputs": [],
   "source": []
  },
  {
   "cell_type": "code",
   "execution_count": null,
   "metadata": {},
   "outputs": [],
   "source": []
  },
  {
   "cell_type": "code",
   "execution_count": null,
   "metadata": {},
   "outputs": [],
   "source": []
  },
  {
   "cell_type": "code",
   "execution_count": null,
   "metadata": {},
   "outputs": [],
   "source": []
  },
  {
   "cell_type": "code",
   "execution_count": null,
   "metadata": {},
   "outputs": [],
   "source": []
  },
  {
   "cell_type": "code",
   "execution_count": null,
   "metadata": {},
   "outputs": [],
   "source": []
  }
 ],
 "metadata": {
  "kernelspec": {
   "display_name": "Python 3",
   "language": "python",
   "name": "python3"
  },
  "language_info": {
   "codemirror_mode": {
    "name": "ipython",
    "version": 3
   },
   "file_extension": ".py",
   "mimetype": "text/x-python",
   "name": "python",
   "nbconvert_exporter": "python",
   "pygments_lexer": "ipython3",
   "version": "3.7.6"
  }
 },
 "nbformat": 4,
 "nbformat_minor": 4
}
