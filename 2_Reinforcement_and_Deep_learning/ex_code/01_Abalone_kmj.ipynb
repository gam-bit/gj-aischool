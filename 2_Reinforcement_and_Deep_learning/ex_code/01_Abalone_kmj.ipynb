{
 "cells": [
  {
   "cell_type": "code",
   "execution_count": 3,
   "metadata": {},
   "outputs": [],
   "source": [
    "import csv\n",
    "import numpy as np\n",
    "import matplotlib.pyplot as plt"
   ]
  },
  {
   "cell_type": "code",
   "execution_count": 16,
   "metadata": {},
   "outputs": [],
   "source": [
    "def load_dataset():\n",
    "    # 데이터 생성\n",
    "    with open(\"./gj-aischool/2_Reinforcement_and_Deep_learning/data/abalone.csv\") as f:\n",
    "        csvreader = csv.reader(f)\n",
    "        next(csvreader)\n",
    "        rows = []\n",
    "        for row in csvreader:\n",
    "            rows.append(row)\n",
    "    \n",
    "    # 원핫 인코딩\n",
    "    data = np.zeros([len(rows), len(rows[0]) + 2]) # one hot encoding으로 칼럼 2개가 늘어남\n",
    "    for n, d in enumerate(rows):\n",
    "        if rows[0] == \"I\": \n",
    "            data[n, 0] == 1\n",
    "        elif rows[0] == \"M\":\n",
    "            data[n, 1] == 1\n",
    "        else:\n",
    "            data[n, 2] == 1\n",
    "        data[n, 3:] = rows[1:]\n",
    "    \n",
    "    X_array = np.append(data[:-1]).T\n",
    "    y_array = np.append(data[-1])\n",
    "    \n",
    "    # split train and test data\n",
    "    total_m = data_array.shape[1]\n",
    "    indice = np.arange(len(total_m))\n",
    "    np.random.shuffle(indice)\n",
    "    X_train = X_array[:, indice[:total_m*0.8]]\n",
    "    X_test = X_array[:, indice[total_m*0.8:]]\n",
    "    y_train = y_array[indice[:total_m*0.8]].reshape(1,-1)\n",
    "    y_test = y_array[indice[total_m*0.8:]].reshape(1,-1)\n",
    "    \n",
    "    return X_train, y_train, X_test, y_test\n",
    "\n",
    "\n",
    "\n",
    "def initialize_params(dim): # dim은 파라미터 w의 차원\n",
    "    w = np.random.normal(0, 0.03, [dim, 1])\n",
    "    b = 0\n",
    "    \n",
    "    return w, b\n",
    "\n",
    "\n",
    "\n",
    "def propagate(w, b, X, y):\n",
    "    \n",
    "    A = np.matmul(w.T, X) + b\n",
    "    m = X.shape[1] # input dimension\n",
    "    \n",
    "    cost = (1/m) * sum((A-y)**2)\n",
    "    \n",
    "    dw = 1/(2*m) * np.matmul(X * (A-y).T)\n",
    "    db = 1/(2*m) * sum(A-y)\n",
    "    \n",
    "    grads = {\"dw\": dw, \"ds\": ds}\n",
    "    \n",
    "    return grads, cost\n",
    "\n",
    "\n",
    "\n",
    "def optimize(w, b, X, y, epoch, lr, print_cost = False):\n",
    "    costs = []\n",
    "    \n",
    "    for i in range(epoch):\n",
    "        grads, cost = propagte(w, b, X, y)\n",
    "        w = w - lr*grads['dw']\n",
    "        b = b - lr*grads['db']\n",
    "        \n",
    "        if i % 100 == 0:\n",
    "            costs.append(cost)\n",
    "            \n",
    "        if print_cost and i % 100 == 0:\n",
    "            print(\"Cost after iteration {}: {:.6f}\".format(i, cost))\n",
    "            \n",
    "    params = {'w':w, 'b':b}\n",
    "    grads = {'dw':grads['dw'], 'db':grads['db']}\n",
    "    \n",
    "    return params, grads, costs\n",
    "\n",
    "\n",
    "\n",
    "def predict(X, w, b):\n",
    "    return np.matmul(w.T, X) + b\n",
    "\n",
    "def model(X_train, y_train, X_test, y_test, epoch = 2000, lr = 0.5, print_cost=True):\n",
    "    # 1) 파라미터 초기화\n",
    "    w, b = initialize_params(X_train.shape[0])\n",
    "    \n",
    "    # 2) 모델 최적화\n",
    "    params, grads, costs = optimize(w, b, X_train, y_train, epoch, lr, print_cost)\n",
    "    \n",
    "    # 3) 파라미터 업데이트\n",
    "    w = params['w']\n",
    "    b = params['b']\n",
    "    \n",
    "    # 4) train/test error\n",
    "    y_pred_train = predict(X_train, w, b)\n",
    "    y_pred_test = predict(X_test, w, b)\n",
    "    \n",
    "    print(\"Train MSE: {:.6f}\".format((1/m)*sum((y_pred_train - y_train)**2)))\n",
    "    print(\"Test MSE: {:.6f}\".format((1/m)*sum((y_pred_test - y_test)**2)))\n",
    "    \n",
    "    # 5) 모델링 결과\n",
    "    d = {'w': w, 'b':b,\n",
    "         'y_pred_train': y_pred_train, 'y_pred_test': y_pred_test,\n",
    "         'learning_rate': lr, 'epoch': epoch,\n",
    "         'costs': costs}\n",
    "    return d"
   ]
  },
  {
   "cell_type": "code",
   "execution_count": 17,
   "metadata": {},
   "outputs": [
    {
     "ename": "ValueError",
     "evalue": "cannot copy sequence with size 4176 to array axis with dimension 8",
     "output_type": "error",
     "traceback": [
      "\u001b[1;31m---------------------------------------------------------------------------\u001b[0m",
      "\u001b[1;31mValueError\u001b[0m                                Traceback (most recent call last)",
      "\u001b[1;32m<ipython-input-17-1be8ee506653>\u001b[0m in \u001b[0;36m<module>\u001b[1;34m\u001b[0m\n\u001b[1;32m----> 1\u001b[1;33m \u001b[0mX_train\u001b[0m\u001b[1;33m,\u001b[0m \u001b[0my_train\u001b[0m\u001b[1;33m,\u001b[0m \u001b[0mX_test\u001b[0m\u001b[1;33m,\u001b[0m \u001b[0my_test\u001b[0m \u001b[1;33m=\u001b[0m \u001b[0mload_dataset\u001b[0m\u001b[1;33m(\u001b[0m\u001b[1;33m)\u001b[0m\u001b[1;33m\u001b[0m\u001b[1;33m\u001b[0m\u001b[0m\n\u001b[0m\u001b[0;32m      2\u001b[0m \u001b[0mmodel\u001b[0m\u001b[1;33m(\u001b[0m\u001b[0mX_train\u001b[0m\u001b[1;33m,\u001b[0m \u001b[0my_train\u001b[0m\u001b[1;33m,\u001b[0m \u001b[0mX_test\u001b[0m\u001b[1;33m,\u001b[0m \u001b[0my_test\u001b[0m\u001b[1;33m)\u001b[0m\u001b[1;33m\u001b[0m\u001b[1;33m\u001b[0m\u001b[0m\n",
      "\u001b[1;32m<ipython-input-16-197aa357d6f3>\u001b[0m in \u001b[0;36mload_dataset\u001b[1;34m()\u001b[0m\n\u001b[0;32m     17\u001b[0m         \u001b[1;32melse\u001b[0m\u001b[1;33m:\u001b[0m\u001b[1;33m\u001b[0m\u001b[1;33m\u001b[0m\u001b[0m\n\u001b[0;32m     18\u001b[0m             \u001b[0mdata\u001b[0m\u001b[1;33m[\u001b[0m\u001b[0mn\u001b[0m\u001b[1;33m,\u001b[0m \u001b[1;36m2\u001b[0m\u001b[1;33m]\u001b[0m \u001b[1;33m==\u001b[0m \u001b[1;36m1\u001b[0m\u001b[1;33m\u001b[0m\u001b[1;33m\u001b[0m\u001b[0m\n\u001b[1;32m---> 19\u001b[1;33m         \u001b[0mdata\u001b[0m\u001b[1;33m[\u001b[0m\u001b[0mn\u001b[0m\u001b[1;33m,\u001b[0m \u001b[1;36m3\u001b[0m\u001b[1;33m:\u001b[0m\u001b[1;33m]\u001b[0m \u001b[1;33m=\u001b[0m \u001b[0mrows\u001b[0m\u001b[1;33m[\u001b[0m\u001b[1;36m1\u001b[0m\u001b[1;33m:\u001b[0m\u001b[1;33m]\u001b[0m\u001b[1;33m\u001b[0m\u001b[1;33m\u001b[0m\u001b[0m\n\u001b[0m\u001b[0;32m     20\u001b[0m \u001b[1;33m\u001b[0m\u001b[0m\n\u001b[0;32m     21\u001b[0m     \u001b[0mX_array\u001b[0m \u001b[1;33m=\u001b[0m \u001b[0mnp\u001b[0m\u001b[1;33m.\u001b[0m\u001b[0mappend\u001b[0m\u001b[1;33m(\u001b[0m\u001b[0mdata\u001b[0m\u001b[1;33m[\u001b[0m\u001b[1;33m:\u001b[0m\u001b[1;33m-\u001b[0m\u001b[1;36m1\u001b[0m\u001b[1;33m]\u001b[0m\u001b[1;33m)\u001b[0m\u001b[1;33m.\u001b[0m\u001b[0mT\u001b[0m\u001b[1;33m\u001b[0m\u001b[1;33m\u001b[0m\u001b[0m\n",
      "\u001b[1;31mValueError\u001b[0m: cannot copy sequence with size 4176 to array axis with dimension 8"
     ]
    }
   ],
   "source": [
    "X_train, y_train, X_test, y_test = load_dataset()\n",
    "model(X_train, y_train, X_test, y_test)"
   ]
  },
  {
   "cell_type": "code",
   "execution_count": 9,
   "metadata": {},
   "outputs": [],
   "source": []
  },
  {
   "cell_type": "code",
   "execution_count": null,
   "metadata": {},
   "outputs": [],
   "source": []
  },
  {
   "cell_type": "code",
   "execution_count": null,
   "metadata": {},
   "outputs": [],
   "source": []
  },
  {
   "cell_type": "code",
   "execution_count": null,
   "metadata": {},
   "outputs": [],
   "source": []
  },
  {
   "cell_type": "code",
   "execution_count": null,
   "metadata": {},
   "outputs": [],
   "source": []
  },
  {
   "cell_type": "code",
   "execution_count": null,
   "metadata": {},
   "outputs": [],
   "source": []
  },
  {
   "cell_type": "code",
   "execution_count": null,
   "metadata": {},
   "outputs": [],
   "source": []
  }
 ],
 "metadata": {
  "kernelspec": {
   "display_name": "Python 3",
   "language": "python",
   "name": "python3"
  },
  "language_info": {
   "codemirror_mode": {
    "name": "ipython",
    "version": 3
   },
   "file_extension": ".py",
   "mimetype": "text/x-python",
   "name": "python",
   "nbconvert_exporter": "python",
   "pygments_lexer": "ipython3",
   "version": "3.7.6"
  }
 },
 "nbformat": 4,
 "nbformat_minor": 4
}
