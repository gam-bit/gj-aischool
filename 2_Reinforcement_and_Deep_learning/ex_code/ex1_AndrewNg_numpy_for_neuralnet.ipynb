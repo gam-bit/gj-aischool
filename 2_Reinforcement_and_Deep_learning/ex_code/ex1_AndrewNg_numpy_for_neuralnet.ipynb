{
 "cells": [
  {
   "cell_type": "code",
   "execution_count": 1,
   "metadata": {},
   "outputs": [],
   "source": [
    "import numpy as np"
   ]
  },
  {
   "cell_type": "markdown",
   "metadata": {},
   "source": [
    "## ★array에 sigmoid같은 함수를 씌우면 모든 원소에 적용된다."
   ]
  },
  {
   "cell_type": "code",
   "execution_count": 2,
   "metadata": {},
   "outputs": [
    {
     "data": {
      "text/plain": [
       "array([[0.73105858, 0.88079708, 0.95257413],\n",
       "       [0.98201379, 0.99330715, 0.99752738],\n",
       "       [0.99908895, 0.99966465, 0.99987661]])"
      ]
     },
     "execution_count": 2,
     "metadata": {},
     "output_type": "execute_result"
    }
   ],
   "source": [
    "a = np.array([[1, 2, 3],\n",
    "              [4, 5, 6],\n",
    "              [7, 8, 9]])\n",
    "\n",
    "\n",
    "def sigmoid(z):\n",
    "    return 1/(1+np.e**(-z))\n",
    "\n",
    "sigmoid(a)"
   ]
  },
  {
   "cell_type": "markdown",
   "metadata": {},
   "source": [
    "## ★Broadcasting\n",
    "- 코드를 짧게 만들어주는 역할을 함.\n",
    "- (m,n)mat가 있을 때, 행 벡터나 열벡터를 복사해서 (m,n)mat과 계산할 수 있다.\n",
    "\n",
    "\n",
    "### 예1)  \n",
    "Calories from Carbs, Proteins, Fats in 100g of different foods:\n",
    "![foodmat](../image/foodmat.PNG)"
   ]
  },
  {
   "cell_type": "code",
   "execution_count": 8,
   "metadata": {},
   "outputs": [
    {
     "name": "stdout",
     "output_type": "stream",
     "text": [
      "[[94.91525424  0.          2.83140283 88.42652796]\n",
      " [ 2.03389831 43.51464435 33.46203346 10.40312094]\n",
      " [ 3.05084746 56.48535565 63.70656371  1.17035111]]\n"
     ]
    }
   ],
   "source": [
    "# 각각의 음식에서 영양소가 몇 %를 차지하는지 계산하기\n",
    "# -- 열벡터 각각의 값을 더해서 열벡터를 나누면 됨\n",
    "# -- for문 쓰면 안 됨\n",
    "\n",
    "A = np.array([[56, 0, 4.4, 68],\n",
    "              [1.2, 104, 52, 8],\n",
    "              [1.8, 135, 99, 0.9]])\n",
    "\n",
    "cal = A.sum(axis=0) # 열벡터의 합\n",
    "\n",
    "## ★Broadcasting\n",
    "# (3x4 mat) / (1x4 mat)\n",
    "pct = A/(cal.reshape(1, 4)) * 100  # 차원이 확실하지 않을 땐 reshape을 사용 (O(1))\n",
    "                                   \n",
    "print(pct)"
   ]
  },
  {
   "cell_type": "markdown",
   "metadata": {},
   "source": [
    "### 예2) \n",
    "vector + 상수 → vector + vector"
   ]
  },
  {
   "cell_type": "code",
   "execution_count": 12,
   "metadata": {},
   "outputs": [
    {
     "name": "stdout",
     "output_type": "stream",
     "text": [
      "[[1]\n",
      " [2]\n",
      " [3]\n",
      " [4]]\n",
      "-----\n",
      "[[101]\n",
      " [102]\n",
      " [103]\n",
      " [104]]\n"
     ]
    }
   ],
   "source": [
    "colvec = np.array([[1, 2, 3, 4]]).reshape(4, 1)\n",
    "print(colvec)\n",
    "print('-'*5)\n",
    "print(colvec + 100)"
   ]
  },
  {
   "cell_type": "markdown",
   "metadata": {},
   "source": [
    "### 예3)\n",
    "\n",
    "(m,n) mat + (1,n) mat → (m,n) mat + (m,n) mat"
   ]
  },
  {
   "cell_type": "code",
   "execution_count": 13,
   "metadata": {},
   "outputs": [
    {
     "name": "stdout",
     "output_type": "stream",
     "text": [
      "[[101 202 303]\n",
      " [104 205 306]]\n"
     ]
    }
   ],
   "source": [
    "mn_mat = np.array([[1, 2, 3], [4, 5, 6]])\n",
    "n_mat = np.array([[100, 200, 300]])\n",
    "print(mn_mat + n_mat)"
   ]
  },
  {
   "cell_type": "markdown",
   "metadata": {},
   "source": [
    "### 예4)\n",
    "(m,n) mat + (m,1) mat → (m,n) mat + (m,n) mat"
   ]
  },
  {
   "cell_type": "code",
   "execution_count": 14,
   "metadata": {},
   "outputs": [
    {
     "name": "stdout",
     "output_type": "stream",
     "text": [
      "[[101 102 103]\n",
      " [204 205 206]]\n"
     ]
    }
   ],
   "source": [
    "mn_mat = np.array([[1, 2, 3], [4, 5, 6]])\n",
    "m1_mat = np.array([[100, 200]]).reshape(2, 1)\n",
    "print(mn_mat + m1_mat)"
   ]
  },
  {
   "cell_type": "code",
   "execution_count": null,
   "metadata": {},
   "outputs": [],
   "source": []
  },
  {
   "cell_type": "code",
   "execution_count": null,
   "metadata": {},
   "outputs": [],
   "source": []
  },
  {
   "cell_type": "code",
   "execution_count": null,
   "metadata": {},
   "outputs": [],
   "source": []
  },
  {
   "cell_type": "code",
   "execution_count": null,
   "metadata": {},
   "outputs": [],
   "source": []
  },
  {
   "cell_type": "code",
   "execution_count": null,
   "metadata": {},
   "outputs": [],
   "source": []
  },
  {
   "cell_type": "code",
   "execution_count": null,
   "metadata": {},
   "outputs": [],
   "source": []
  },
  {
   "cell_type": "code",
   "execution_count": null,
   "metadata": {},
   "outputs": [],
   "source": []
  },
  {
   "cell_type": "code",
   "execution_count": null,
   "metadata": {},
   "outputs": [],
   "source": []
  },
  {
   "cell_type": "code",
   "execution_count": null,
   "metadata": {},
   "outputs": [],
   "source": []
  }
 ],
 "metadata": {
  "kernelspec": {
   "display_name": "Python 3",
   "language": "python",
   "name": "python3"
  },
  "language_info": {
   "codemirror_mode": {
    "name": "ipython",
    "version": 3
   },
   "file_extension": ".py",
   "mimetype": "text/x-python",
   "name": "python",
   "nbconvert_exporter": "python",
   "pygments_lexer": "ipython3",
   "version": "3.7.6"
  }
 },
 "nbformat": 4,
 "nbformat_minor": 4
}
