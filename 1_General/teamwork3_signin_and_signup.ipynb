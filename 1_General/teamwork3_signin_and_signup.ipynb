{
 "cells": [
  {
   "cell_type": "markdown",
   "metadata": {
    "colab_type": "text",
    "id": "vsEmTrb9Gc41"
   },
   "source": [
    "일시 : 2020-07-08\n",
    "\n",
    "팀원 : 박성찬, 강민지, 천희국\n",
    "\n",
    "내용 : python과 SQL을 이용하여 회원가입/로그인 서비스 만들기 \n",
    "\n",
    "---\n",
    "\n",
    "## [1] 회원가입 만들기(csv 사용)\n",
    "\n",
    "1. 로그인/회원가입을 처음에 인풋으로 분기\n",
    "2. 인풋으로 아이디와 비밀번호를 받고, 이것을 토대로 csv 파일에다가 저장한다.\n",
    "\n",
    "3. 로그인할 때는 csv 파일을 검사해서, 로그인 성공인지 실패인지 여부를 띄운다."
   ]
  },
  {
   "cell_type": "code",
   "execution_count": 5,
   "metadata": {
    "colab": {
     "base_uri": "https://localhost:8080/",
     "height": 180
    },
    "colab_type": "code",
    "id": "blpjUaRzGm9z",
    "outputId": "829e6961-69c7-4fcd-f867-15c7bce4eb87"
   },
   "outputs": [
    {
     "name": "stdout",
     "output_type": "stream",
     "text": [
      "아이디가 있습니까?(Y/N)y\n",
      "----------로그인----------\n",
      "아이디를 입력하세요: id3\n",
      "아이디가 존재하지 않습니다.\n",
      "아이디를 입력하세요: id1\n",
      "비밀번호를 입력하세요: p\n",
      "비밀번호가 틀렸습니다.\n",
      "비밀번호를 입력하세요: pw1\n",
      "로그인 성공!\n"
     ]
    }
   ],
   "source": [
    "import csv\n",
    "\n",
    "check = input(\"아이디가 있습니까?(Y/N)\").upper()\n",
    "\n",
    "\n",
    "\n",
    "if check == 'Y' : # -- 로그인(희국)\n",
    "  print('----------로그인----------')\n",
    "\n",
    "\n",
    "  ## ??? id가 있는지 확인 \n",
    "  # 1) 중간에 id가 있으면 패스워드 입력 -- done \n",
    "  # 2) 다 봤는데도 id가 없으면 print('아이디가 존재하지 않습니다.)\n",
    "  flag = 1\n",
    "  while flag:\n",
    "    id = input('아이디를 입력하세요: ')  \n",
    "    \n",
    "    with open('a.csv', 'r') as csvfile:\n",
    "      csvreader = csv.reader(csvfile)\n",
    "\n",
    "      user_check = 0\n",
    "      for i in csvreader:\n",
    "        if id == i[2]:\n",
    "          flag = 0\n",
    "          user_check = 1\n",
    "          break \n",
    "      \n",
    "      if user_check == 0:\n",
    "        print(\"아이디가 존재하지 않습니다.\")\n",
    "      \n",
    "           \n",
    "        \n",
    "  \n",
    "  checker1 = 0\n",
    "  while checker1 == 0:\n",
    "    pw = input(\"비밀번호를 입력하세요: \")\n",
    "\n",
    "    with open('a.csv', 'r') as csvfile:\n",
    "      csvreader = csv.reader(csvfile)\n",
    "      \n",
    "      for i in csvreader:\n",
    "        if(id == i[2] and pw == i[3]) :\n",
    "          print('로그인 성공!')\n",
    "          checker1 = 1\n",
    "          break\n",
    "        elif(id == i[2] and pw !=i[3]) :\n",
    "          print('비밀번호가 틀렸습니다.')\n",
    "\n",
    "\n",
    "    \n",
    "elif check == 'N': # -- 회원가입(성찬)\n",
    "  print('----------회원가입----------')\n",
    "  with open('a.csv', 'a', newline = '\\n') as csvfile:\n",
    "    csvwriter = csv.writer(csvfile)\n",
    "    id = ''\n",
    "    password = ''\n",
    "\n",
    "    name = input(\"이름을 입력해주세요: \")\n",
    "    YMD = input(\"생년월일을 입력해주세요(0000-00-00): \")\n",
    "    while not id:\n",
    "      id = input(\"아이디를 입력해주세요: \")\n",
    "    ## 중복되는 id가 있는지\n",
    "    with open('a.csv', 'r') as csvfile:\n",
    "      csvreader = csv.reader(csvfile)\n",
    "      for i in csvreader:\n",
    "        check = 0\n",
    "        while id == i[2] and check == 0:\n",
    "          id = input(\"이미 있는 아이디입니다. 다른 아이디를 입력해주세요: \")\n",
    "          if(id != i[2]) :\n",
    "            check = 1\n",
    "            break\n",
    "          \n",
    "\n",
    "    while password == '':\n",
    "      password = input('비밀번호를 입력해주세요.')             \n",
    "\n",
    "    csvwriter.writerow([name, YMD, id, password])\n",
    "    print('----------가입완료----------')\n",
    "\n",
    "  \n",
    "\n",
    "else:\n",
    "  print(\"잘못 입력하셨습니다. 다시 수행해주세요.\")"
   ]
  },
  {
   "cell_type": "markdown",
   "metadata": {
    "colab_type": "text",
    "id": "CE2gVSkr_r10"
   },
   "source": [
    "---\n",
    "\n",
    "## [2] SQL을 통한 로그인 구현\n",
    "\n",
    "1. 로그인/회원가입을 인풋으로 분기\n",
    "\n",
    "2. 인풋으로 아이디와 비번을 받고, 이것을 토대로 db에 쿼리를 날려서 저장\n",
    "\n",
    "3. 로그인할때는 db 파일을 읽어와서, 로그인 성공인지 실패인지 여부를 띄운다"
   ]
  },
  {
   "cell_type": "code",
   "execution_count": 1,
   "metadata": {
    "colab": {
     "base_uri": "https://localhost:8080/",
     "height": 35
    },
    "colab_type": "code",
    "id": "erwzwDUxIsaR",
    "outputId": "71ed5ad4-a550-4770-c5c9-3c8d316172b8"
   },
   "outputs": [
    {
     "data": {
      "text/plain": [
       "<sqlite3.Cursor at 0x19f9e698420>"
      ]
     },
     "execution_count": 1,
     "metadata": {},
     "output_type": "execute_result"
    }
   ],
   "source": [
    "import sqlite3 \n",
    "conn = sqlite3.connect('USER.db')\n",
    "cur = conn.cursor()\n",
    "\n",
    "cur.execute(\"\"\"CREATE TABLE if not exists USER(\n",
    "        name TEXT,\n",
    "        birth TEXT,\n",
    "        phone TEXT,\n",
    "        gender TEXT,\n",
    "        id varchar(10) primary key,\n",
    "        password varchar(15) not null)\"\"\")"
   ]
  },
  {
   "cell_type": "code",
   "execution_count": 2,
   "metadata": {
    "colab": {},
    "colab_type": "code",
    "id": "fNOpPuzvJav6"
   },
   "outputs": [],
   "source": [
    "def signup(cur, id, password, name='', birth='', phone='', gender=''): # 회원가입\n",
    "\n",
    "  sql = \"INSERT INTO USER VALUES (?, ?, ?, ?, ?, ?)\"\n",
    "  new_user = [name, birth, phone, gender, id, password]\n",
    "  cur.execute(sql, new_user)\n",
    "  conn.commit()\n",
    "  print(\"가입이 완료되었습니다.\")\n",
    "\n",
    "def signin(cur, id, password): # 로그인\n",
    "\n",
    "  sql = \"SELECT id, password FROM USER WHERE id = ? and password = ?\"\n",
    "  x = [id, password]\n",
    "  for i in cur.execute(sql, x):\n",
    "    if i[0] == id and i[1] == pw:\n",
    "        print(\"로그인 성공!\")\n",
    "    else:\n",
    "        print(\"로그인 실패ㅜㅜ 다시 수행해주세요.\")\n",
    "  "
   ]
  },
  {
   "cell_type": "code",
   "execution_count": 4,
   "metadata": {
    "colab": {
     "base_uri": "https://localhost:8080/",
     "height": 325
    },
    "colab_type": "code",
    "id": "QtJwwPjJ_7Xc",
    "outputId": "c6b4ded1-2026-44b9-cc9e-5fc38f463948"
   },
   "outputs": [
    {
     "name": "stdout",
     "output_type": "stream",
     "text": [
      "아이디가 있습니까?(Y/N)n\n",
      "----------회원가입----------\n",
      "아이디를 입력하세요(필수): id1\n",
      "비밀번호를 입력하세요(필수): pw1\n",
      "이름을 입력하세요: \n",
      "생년월일을 입력하세요(0000-00-00): \n",
      "전화번호를 입력하세요(000-0000-0000): \n",
      "성별을 입력하세요(남/여): \n",
      "아이디가 이미 존재합니다. 다시 수행해주세요.\n",
      "----------회원가입----------\n",
      "아이디를 입력하세요(필수): id2\n",
      "비밀번호를 입력하세요(필수): pw2\n",
      "이름을 입력하세요: name2\n",
      "생년월일을 입력하세요(0000-00-00): \n",
      "전화번호를 입력하세요(000-0000-0000): \n",
      "성별을 입력하세요(남/여): 여\n",
      "가입이 완료되었습니다.\n"
     ]
    }
   ],
   "source": [
    "# 로그인/회원가입 선택\n",
    "check = input(\"아이디가 있습니까?(Y/N)\").upper()\n",
    "conn = sqlite3.connect('USER.db')\n",
    "cur = conn.cursor()\n",
    "\n",
    "# 회원가입 -> id, password input으로 받아서 db에 쿼리 날려 저장\n",
    "if check == 'N' :\n",
    "    \n",
    "  while True:\n",
    "    print('----------회원가입----------')\n",
    "    id = input(\"아이디를 입력하세요(필수): \")\n",
    "    pw = input(\"비밀번호를 입력하세요(필수): \")\n",
    "    name = input(\"이름을 입력하세요: \")\n",
    "    birth = input(\"생년월일을 입력하세요(0000-00-00): \")\n",
    "    phone = input(\"전화번호를 입력하세요(000-0000-0000): \")\n",
    "    gender = input('성별을 입력하세요(남/여): ')\n",
    "    \n",
    "    try:\n",
    "      signup(cur, id, pw, name, birth, phone, gender)\n",
    "      break\n",
    "    except:\n",
    "      print('아이디가 이미 존재합니다. 다시 수행해주세요.')\n",
    "    \n",
    "# 로그인 -> db파일 읽어와서 로그인 성공, 실패 여부 띄우기\n",
    "elif check == 'Y' :\n",
    "  print('----------로그인----------')\n",
    "  id = input('아이디를 입력하세요: ')  \n",
    "  pw = input(\"비밀번호를 입력하세요: \")\n",
    "  signin(cur, id, pw)\n",
    "\n",
    "\n",
    "else:\n",
    "  print(\"잘못 입력하셨습니다. 다시 수행해주세요.\")\n",
    "\n",
    "conn.close()"
   ]
  },
  {
   "cell_type": "code",
   "execution_count": null,
   "metadata": {
    "colab": {},
    "colab_type": "code",
    "id": "zJlclbcZE7fA"
   },
   "outputs": [],
   "source": []
  }
 ],
 "metadata": {
  "colab": {
   "collapsed_sections": [],
   "name": "teamwork3_signin_and_signup.ipynb",
   "provenance": []
  },
  "kernelspec": {
   "display_name": "Python 3",
   "language": "python",
   "name": "python3"
  },
  "language_info": {
   "codemirror_mode": {
    "name": "ipython",
    "version": 3
   },
   "file_extension": ".py",
   "mimetype": "text/x-python",
   "name": "python",
   "nbconvert_exporter": "python",
   "pygments_lexer": "ipython3",
   "version": "3.7.6"
  }
 },
 "nbformat": 4,
 "nbformat_minor": 1
}
