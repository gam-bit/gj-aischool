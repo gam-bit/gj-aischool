{
  "nbformat": 4,
  "nbformat_minor": 0,
  "metadata": {
    "colab": {
      "name": "teamwork1_upanddowngame.ipynb",
      "provenance": [],
      "collapsed_sections": []
    },
    "kernelspec": {
      "name": "python3",
      "display_name": "Python 3"
    }
  },
  "cells": [
    {
      "cell_type": "markdown",
      "metadata": {
        "id": "EQBBlqLugvRv",
        "colab_type": "text"
      },
      "source": [
        "일자 : 2020-07-06(월)\n",
        "\n",
        "내용 : 파이썬으로 업앤다운 게임 만들어서 인공지능화하기\n",
        "\n",
        "팀원 : 강동구, 강민지, 김강원\n",
        "\n",
        "\n",
        "---\n",
        "\n",
        "\n",
        "# Up and Down Game\n",
        "\n",
        "1. 컴퓨터가 임의의 수(C)를 정했다.\n",
        "\n",
        "2. 플레이어(컴퓨터)가 임의의 수(P)를 정했다.\n",
        "\n",
        "3. 컴퓨터가 플레이어의 수보다 자신의 수가 높은지 낮은지를 출력한다."
      ]
    },
    {
      "cell_type": "code",
      "metadata": {
        "id": "-qirw959bGd0",
        "colab_type": "code",
        "colab": {
          "base_uri": "https://localhost:8080/",
          "height": 180
        },
        "outputId": "c4c616c6-0f04-4246-fa8c-dbe010bdc962"
      },
      "source": [
        "import random\n",
        "\n",
        "x = random.randrange(1,101)\n",
        "count = 0\n",
        "y = random.randrange(1,101)\n",
        "ub = 101\n",
        "lb = 0\n",
        "\n",
        "\n",
        "print(\"정답: %d\" % x)\n",
        "\n",
        "while count < 100:\n",
        "  \n",
        "  \n",
        "  print(y)\n",
        "\n",
        "  if x > y:\n",
        "    print('Up')\n",
        "    lb = max(lb, y)\n",
        "    y = int((ub + lb)/2)\n",
        "  \n",
        "  elif x < y:\n",
        "    print('Down')\n",
        "    ub = min(ub, y)\n",
        "    y = int((ub + lb)/2)\n",
        "  \n",
        "  else:\n",
        "    print(\"정답!\")\n",
        "    break\n",
        "\n",
        "\n",
        "  count += 1"
      ],
      "execution_count": null,
      "outputs": [
        {
          "output_type": "stream",
          "text": [
            "정답: 26\n",
            "30\n",
            "Down\n",
            "15\n",
            "Up\n",
            "22\n",
            "Up\n",
            "26\n",
            "정답!\n"
          ],
          "name": "stdout"
        }
      ]
    },
    {
      "cell_type": "code",
      "metadata": {
        "id": "_29NNQNjgW8s",
        "colab_type": "code",
        "colab": {}
      },
      "source": [
        ""
      ],
      "execution_count": null,
      "outputs": []
    }
  ]
}