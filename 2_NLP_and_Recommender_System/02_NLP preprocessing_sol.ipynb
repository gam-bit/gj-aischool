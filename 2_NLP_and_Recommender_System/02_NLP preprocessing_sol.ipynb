{
 "cells": [
  {
   "cell_type": "code",
   "execution_count": 1,
   "metadata": {
    "colab": {},
    "colab_type": "code",
    "id": "LciXgUynvCnv"
   },
   "outputs": [
    {
     "name": "stdout",
     "output_type": "stream",
     "text": [
      "Requirement already satisfied: nltk in c:\\users\\gjai_kmj\\anaconda3\\lib\\site-packages (3.4.5)\n",
      "Requirement already satisfied: six in c:\\users\\gjai_kmj\\anaconda3\\lib\\site-packages (from nltk) (1.14.0)\n",
      "Collecting wordcloud\n",
      "  Downloading wordcloud-1.7.0-cp37-cp37m-win_amd64.whl (157 kB)\n",
      "Requirement already satisfied: pillow in c:\\users\\gjai_kmj\\anaconda3\\lib\\site-packages (from wordcloud) (7.0.0)\n",
      "Requirement already satisfied: numpy>=1.6.1 in c:\\users\\gjai_kmj\\anaconda3\\lib\\site-packages (from wordcloud) (1.18.1)\n",
      "Requirement already satisfied: matplotlib in c:\\users\\gjai_kmj\\anaconda3\\lib\\site-packages (from wordcloud) (3.1.3)\n",
      "Requirement already satisfied: pyparsing!=2.0.4,!=2.1.2,!=2.1.6,>=2.0.1 in c:\\users\\gjai_kmj\\anaconda3\\lib\\site-packages (from matplotlib->wordcloud) (2.4.6)\n",
      "Requirement already satisfied: cycler>=0.10 in c:\\users\\gjai_kmj\\anaconda3\\lib\\site-packages (from matplotlib->wordcloud) (0.10.0)\n",
      "Requirement already satisfied: python-dateutil>=2.1 in c:\\users\\gjai_kmj\\anaconda3\\lib\\site-packages (from matplotlib->wordcloud) (2.8.1)\n",
      "Requirement already satisfied: kiwisolver>=1.0.1 in c:\\users\\gjai_kmj\\anaconda3\\lib\\site-packages (from matplotlib->wordcloud) (1.1.0)\n",
      "Requirement already satisfied: six in c:\\users\\gjai_kmj\\anaconda3\\lib\\site-packages (from cycler>=0.10->matplotlib->wordcloud) (1.14.0)\n",
      "Requirement already satisfied: setuptools in c:\\users\\gjai_kmj\\anaconda3\\lib\\site-packages (from kiwisolver>=1.0.1->matplotlib->wordcloud) (45.2.0.post20200210)\n",
      "Installing collected packages: wordcloud\n",
      "Successfully installed wordcloud-1.7.0\n"
     ]
    }
   ],
   "source": [
    "!pip install nltk\n",
    "!pip install wordcloud"
   ]
  },
  {
   "cell_type": "code",
   "execution_count": 2,
   "metadata": {
    "colab": {},
    "colab_type": "code",
    "id": "-DISEWGyvtPB"
   },
   "outputs": [
    {
     "name": "stderr",
     "output_type": "stream",
     "text": [
      "[nltk_data] Downloading package punkt to\n",
      "[nltk_data]     C:\\Users\\gjai_kmj\\AppData\\Roaming\\nltk_data...\n",
      "[nltk_data]   Package punkt is already up-to-date!\n"
     ]
    },
    {
     "data": {
      "text/plain": [
       "True"
      ]
     },
     "execution_count": 2,
     "metadata": {},
     "output_type": "execute_result"
    }
   ],
   "source": [
    "import nltk\n",
    "\n",
    "nltk.download('punkt')"
   ]
  },
  {
   "cell_type": "code",
   "execution_count": 3,
   "metadata": {
    "colab": {},
    "colab_type": "code",
    "id": "XSbry5_1vxM8"
   },
   "outputs": [
    {
     "name": "stdout",
     "output_type": "stream",
     "text": [
      "['I', \"'m\", 'only', 'one', 'call', 'away', '.', 'I', \"'ll\", 'be', 'there', 'to', 'save', 'the', 'day', '.', 'Superman', 'got', 'nothing', 'on', 'me', ',', 'I', \"'m\", 'only', 'one', 'call', 'away', '.', 'And', 'when', 'you', \"'re\", 'weak', ',', 'I', \"'ll\", 'be', 'strong', ',', 'I', \"'m\", 'gon', 'na', 'keep', 'holding', 'on', '.', 'Now', 'do', \"n't\", 'you', 'worry', 'it', 'wo', \"n't\", 'be', 'long', 'darling', '.', 'And', 'when', 'you', 'feel', 'like', 'hope', 'is', 'gone', 'just', 'run', 'into', 'my', 'arms', '.']\n"
     ]
    }
   ],
   "source": [
    "from nltk.tokenize import word_tokenize\n",
    "\n",
    "text = '''\n",
    "I'm only one call away.\n",
    "I'll be there to save the day.\n",
    "Superman got nothing on me, I'm only one call away.\n",
    "And when you're weak, I'll be strong, I'm gonna keep holding on.\n",
    "Now don't you worry it won't be long darling.\n",
    "And when you feel like hope is gone just run into my arms.\n",
    "'''\n",
    "print(word_tokenize(text))"
   ]
  },
  {
   "cell_type": "code",
   "execution_count": 4,
   "metadata": {
    "colab": {},
    "colab_type": "code",
    "id": "_hv3d0XFweLc"
   },
   "outputs": [
    {
     "name": "stdout",
     "output_type": "stream",
     "text": [
      "['I', \"'\", 'm', 'only', 'one', 'call', 'away', '.', 'I', \"'\", 'll', 'be', 'there', 'to', 'save', 'the', 'day', '.', 'Superman', 'got', 'nothing', 'on', 'me', ',', 'I', \"'\", 'm', 'only', 'one', 'call', 'away', '.', 'And', 'when', 'you', \"'\", 're', 'weak', ',', 'I', \"'\", 'll', 'be', 'strong', ',', 'I', \"'\", 'm', 'gonna', 'keep', 'holding', 'on', '.', 'Now', 'don', \"'\", 't', 'you', 'worry', 'it', 'won', \"'\", 't', 'be', 'long', 'darling', '.', 'And', 'when', 'you', 'feel', 'like', 'hope', 'is', 'gone', 'just', 'run', 'into', 'my', 'arms', '.']\n"
     ]
    }
   ],
   "source": [
    "from nltk.tokenize import WordPunctTokenizer\n",
    "\n",
    "print(WordPunctTokenizer().tokenize(text))"
   ]
  },
  {
   "cell_type": "code",
   "execution_count": 5,
   "metadata": {
    "colab": {},
    "colab_type": "code",
    "id": "qe7aS2ghKn6A"
   },
   "outputs": [
    {
     "name": "stdout",
     "output_type": "stream",
     "text": [
      "['I', \"'m\", 'only', 'one', 'call', 'away.', 'I', \"'ll\", 'be', 'there', 'to', 'save', 'the', 'day.', 'Superman', 'got', 'nothing', 'on', 'me', ',', 'I', \"'m\", 'only', 'one', 'call', 'away.', 'And', 'when', 'you', \"'re\", 'weak', ',', 'I', \"'ll\", 'be', 'strong', ',', 'I', \"'m\", 'gon', 'na', 'keep', 'holding', 'on.', 'Now', 'do', \"n't\", 'you', 'worry', 'it', 'wo', \"n't\", 'be', 'long', 'darling.', 'And', 'when', 'you', 'feel', 'like', 'hope', 'is', 'gone', 'just', 'run', 'into', 'my', 'arms', '.']\n"
     ]
    }
   ],
   "source": [
    "from nltk.tokenize import TreebankWordTokenizer\n",
    "\n",
    "#하이픈, '는 붙여서 분절화해준다.\n",
    "print(TreebankWordTokenizer().tokenize(text))"
   ]
  },
  {
   "cell_type": "code",
   "execution_count": 6,
   "metadata": {
    "colab": {},
    "colab_type": "code",
    "id": "XPMLR9cSxKM0"
   },
   "outputs": [
    {
     "name": "stdout",
     "output_type": "stream",
     "text": [
      "['I', 'm', 'only', 'one', 'call', 'away', 'I', 'll', 'be', 'there', 'to', 'save', 'the', 'day', 'Superman', 'got', 'nothing', 'on', 'me', 'I', 'm', 'only', 'one', 'call', 'away', 'And', 'when', 'you', 're', 'weak', 'I', 'll', 'be', 'strong', 'I', 'm', 'gonna', 'keep', 'holding', 'on', 'Now', 'don', 't', 'you', 'worry', 'it', 'won', 't', 'be', 'long', 'darling', 'And', 'when', 'you', 'feel', 'like', 'hope', 'is', 'gone', 'just', 'run', 'into', 'my', 'arms']\n"
     ]
    }
   ],
   "source": [
    "from nltk.tokenize import RegexpTokenizer\n",
    "\n",
    "#단어들마다 나뉘되록 정규표현식을 작성해주세요.\n",
    "print(RegexpTokenizer('\\w+').tokenize(text))"
   ]
  },
  {
   "cell_type": "code",
   "execution_count": 7,
   "metadata": {
    "colab": {},
    "colab_type": "code",
    "id": "CzMN0htAdOaZ"
   },
   "outputs": [
    {
     "name": "stdout",
     "output_type": "stream",
     "text": [
      "[\"\\nI'm only one call away.\", \"I'll be there to save the day.\", \"Superman got nothing on me, I'm only one call away.\", \"And when you're weak, I'll be strong, I'm gonna keep holding on.\", \"Now don't you worry it won't be long darling.\", 'And when you feel like hope is gone just run into my arms.']\n"
     ]
    }
   ],
   "source": [
    "#지금까지는 단어 토크나이저였습니다.\n",
    "#토큰화 -> 어떤 기준대로 나눈다\n",
    "# 단어, 문장, 형태소\n",
    "from nltk.tokenize import sent_tokenize\n",
    "\n",
    "print(sent_tokenize(text))"
   ]
  },
  {
   "cell_type": "code",
   "execution_count": 8,
   "metadata": {
    "colab": {},
    "colab_type": "code",
    "id": "AEHfHZqqygm_"
   },
   "outputs": [
    {
     "name": "stdout",
     "output_type": "stream",
     "text": [
      "I\n",
      "'\n",
      "m\n",
      "onli\n",
      "one\n",
      "call\n",
      "away\n",
      ".\n",
      "I\n",
      "'\n",
      "ll\n",
      "be\n",
      "there\n",
      "to\n",
      "save\n",
      "the\n",
      "day\n",
      ".\n",
      "superman\n",
      "got\n",
      "noth\n",
      "on\n",
      "me\n",
      ",\n",
      "I\n",
      "'\n",
      "m\n",
      "onli\n",
      "one\n",
      "call\n",
      "away\n",
      ".\n",
      "and\n",
      "when\n",
      "you\n",
      "'\n",
      "re\n",
      "weak\n",
      ",\n",
      "I\n",
      "'\n",
      "ll\n",
      "be\n",
      "strong\n",
      ",\n",
      "I\n",
      "'\n",
      "m\n",
      "gonna\n",
      "keep\n",
      "hold\n",
      "on\n",
      ".\n",
      "now\n",
      "don\n",
      "'\n",
      "t\n",
      "you\n",
      "worri\n",
      "it\n",
      "won\n",
      "'\n",
      "t\n",
      "be\n",
      "long\n",
      "darl\n",
      ".\n",
      "and\n",
      "when\n",
      "you\n",
      "feel\n",
      "like\n",
      "hope\n",
      "is\n",
      "gone\n",
      "just\n",
      "run\n",
      "into\n",
      "my\n",
      "arm\n",
      ".\n"
     ]
    }
   ],
   "source": [
    "from nltk.stem import PorterStemmer\n",
    "\n",
    "#어간 추출기\n",
    "words = WordPunctTokenizer().tokenize(text)\n",
    "for word in words:\n",
    "    print(PorterStemmer().stem(word))"
   ]
  },
  {
   "cell_type": "code",
   "execution_count": 9,
   "metadata": {
    "colab": {},
    "colab_type": "code",
    "id": "eCUW5-I6y13p"
   },
   "outputs": [
    {
     "name": "stderr",
     "output_type": "stream",
     "text": [
      "[nltk_data] Downloading package stopwords to\n",
      "[nltk_data]     C:\\Users\\gjai_kmj\\AppData\\Roaming\\nltk_data...\n",
      "[nltk_data]   Package stopwords is already up-to-date!\n"
     ]
    },
    {
     "data": {
      "text/plain": [
       "True"
      ]
     },
     "execution_count": 9,
     "metadata": {},
     "output_type": "execute_result"
    }
   ],
   "source": [
    "nltk.download('stopwords')"
   ]
  },
  {
   "cell_type": "code",
   "execution_count": 10,
   "metadata": {
    "colab": {},
    "colab_type": "code",
    "id": "ptfI7O_EztVj"
   },
   "outputs": [
    {
     "name": "stdout",
     "output_type": "stream",
     "text": [
      "['I', 'm', 'only', 'one', 'call', 'away', 'I', 'll', 'be', 'there', 'to', 'save', 'the', 'day', 'Superman', 'got', 'nothing', 'on', 'me', 'I', 'm', 'only', 'one', 'call', 'away', 'And', 'when', 'you', 're', 'weak', 'I', 'll', 'be', 'strong', 'I', 'm', 'gonna', 'keep', 'holding', 'on', 'Now', 'don', 't', 'you', 'worry', 'it', 'won', 't', 'be', 'long', 'darling', 'And', 'when', 'you', 'feel', 'like', 'hope', 'is', 'gone', 'just', 'run', 'into', 'my', 'arms']\n"
     ]
    }
   ],
   "source": [
    "from nltk.corpus import stopwords\n",
    "\n",
    "#words 리스트 안에서 sw 에 해당하는 단어를 제외시킨 리스트를 생성해주세요.\n",
    "#stopwords(불용어, 문장의 의미를 형성하는 것에 있어 큰 영향을 미치지 않는 단어들)\n",
    "sw = ['.', ',', \"'\"]\n",
    "\n",
    "sw_removed = []\n",
    "for i in words:\n",
    "    if i.lower() not in sw:\n",
    "        sw_removed.append(i)\n",
    "\n",
    "print(sw_removed)"
   ]
  },
  {
   "cell_type": "code",
   "execution_count": 11,
   "metadata": {
    "colab": {},
    "colab_type": "code",
    "id": "l8V6mDeU2JZl"
   },
   "outputs": [
    {
     "name": "stdout",
     "output_type": "stream",
     "text": [
      "Counter({'I': 5, 'm': 3, 'be': 3, 'you': 3, 'only': 2, 'one': 2, 'call': 2, 'away': 2, 'll': 2, 'on': 2, 'And': 2, 'when': 2, 't': 2, 'there': 1, 'to': 1, 'save': 1, 'the': 1, 'day': 1, 'Superman': 1, 'got': 1, 'nothing': 1, 'me': 1, 're': 1, 'weak': 1, 'strong': 1, 'gonna': 1, 'keep': 1, 'holding': 1, 'Now': 1, 'don': 1, 'worry': 1, 'it': 1, 'won': 1, 'long': 1, 'darling': 1, 'feel': 1, 'like': 1, 'hope': 1, 'is': 1, 'gone': 1, 'just': 1, 'run': 1, 'into': 1, 'my': 1, 'arms': 1})\n"
     ]
    }
   ],
   "source": [
    "from collections import Counter\n",
    "\n",
    "count_list = Counter(sw_removed)\n",
    "print(count_list)"
   ]
  },
  {
   "cell_type": "code",
   "execution_count": 12,
   "metadata": {
    "colab": {},
    "colab_type": "code",
    "id": "zIqA7fK72qRs"
   },
   "outputs": [
    {
     "name": "stdout",
     "output_type": "stream",
     "text": [
      "[('I', 5), ('m', 3), ('be', 3), ('you', 3), ('only', 2), ('one', 2), ('call', 2), ('away', 2), ('ll', 2), ('on', 2)]\n"
     ]
    }
   ],
   "source": [
    "common_cl = count_list.most_common(10)\n",
    "print(common_cl)"
   ]
  },
  {
   "cell_type": "code",
   "execution_count": 13,
   "metadata": {
    "colab": {},
    "colab_type": "code",
    "id": "SyucbxrP285Y"
   },
   "outputs": [
    {
     "name": "stdout",
     "output_type": "stream",
     "text": [
      "{'I': 0, 'm': 1, 'be': 2, 'you': 3, 'only': 4, 'one': 5, 'call': 6, 'away': 7, 'll': 8, 'on': 9}\n"
     ]
    }
   ],
   "source": [
    "common_cl_dict = {}\n",
    "\n",
    "#빈도순위대로 0위~9위 (빈도수가 가장 높은게 0등)\n",
    "#딕셔너리 형태로, '단어':빈도순위\n",
    "i = 0\n",
    "for (key, value) in common_cl:\n",
    "    common_cl_dict[key] = i\n",
    "    i = i+1\n",
    "\n",
    "print(common_cl_dict)"
   ]
  },
  {
   "cell_type": "code",
   "execution_count": 14,
   "metadata": {
    "colab": {},
    "colab_type": "code",
    "id": "w4DV2iRO4z0n"
   },
   "outputs": [
    {
     "name": "stdout",
     "output_type": "stream",
     "text": [
      "[[1, 0, 0, 0, 0, 0, 0, 0, 0, 0], [0, 1, 0, 0, 0, 0, 0, 0, 0, 0], [0, 0, 1, 0, 0, 0, 0, 0, 0, 0], [0, 0, 0, 1, 0, 0, 0, 0, 0, 0], [0, 0, 0, 0, 1, 0, 0, 0, 0, 0], [0, 0, 0, 0, 0, 1, 0, 0, 0, 0], [0, 0, 0, 0, 0, 0, 1, 0, 0, 0], [0, 0, 0, 0, 0, 0, 0, 1, 0, 0], [0, 0, 0, 0, 0, 0, 0, 0, 1, 0], [0, 0, 0, 0, 0, 0, 0, 0, 0, 1]]\n"
     ]
    }
   ],
   "source": [
    "oh_vector_list = []\n",
    "\n",
    "for value in common_cl_dict.values():\n",
    "    oh_vector = [0] * len(common_cl_dict)\n",
    "    oh_vector[value] = 1\n",
    "    oh_vector_list.append(oh_vector)\n",
    "\n",
    "print(oh_vector_list)"
   ]
  },
  {
   "cell_type": "code",
   "execution_count": 15,
   "metadata": {
    "colab": {},
    "colab_type": "code",
    "id": "ZEcm1BM17f9C"
   },
   "outputs": [
    {
     "data": {
      "image/png": "[encoded data removed]",
      "text/plain": [
       "<Figure size 432x288 with 1 Axes>"
      ]
     },
     "metadata": {
      "needs_background": "light"
     },
     "output_type": "display_data"
    }
   ],
   "source": [
    "from wordcloud import WordCloud\n",
    "import matplotlib.pyplot as plt\n",
    "\n",
    "my_wc = WordCloud(background_color='white')\n",
    "# 많이 나오는 단어는 크게, 적게 나오는 단어는 작게\n",
    "plt.imshow(my_wc.generate_from_frequencies(count_list))\n",
    "plt.show()"
   ]
  }
 ],
 "metadata": {
  "colab": {
   "collapsed_sections": [],
   "name": "tokenizer.ipynb",
   "private_outputs": true,
   "provenance": []
  },
  "kernelspec": {
   "display_name": "Python 3",
   "language": "python",
   "name": "python3"
  },
  "language_info": {
   "codemirror_mode": {
    "name": "ipython",
    "version": 3
   },
   "file_extension": ".py",
   "mimetype": "text/x-python",
   "name": "python",
   "nbconvert_exporter": "python",
   "pygments_lexer": "ipython3",
   "version": "3.7.6"
  }
 },
 "nbformat": 4,
 "nbformat_minor": 1
}
