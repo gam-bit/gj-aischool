{
 "cells": [
  {
   "cell_type": "code",
   "execution_count": 32,
   "metadata": {},
   "outputs": [],
   "source": [
    "import pandas as pd\n",
    "pd.set_option('display.max_columns', None)\n",
    "pd.set_option('display.width', 1000)\n",
    "import numpy as np\n",
    "import warnings\n",
    "warnings.filterwarnings('ignore')\n",
    "\n",
    "from ast import literal_eval"
   ]
  },
  {
   "cell_type": "code",
   "execution_count": 124,
   "metadata": {},
   "outputs": [
    {
     "data": {
      "text/html": [
       "<div>\n",
       "<style scoped>\n",
       "    .dataframe tbody tr th:only-of-type {\n",
       "        vertical-align: middle;\n",
       "    }\n",
       "\n",
       "    .dataframe tbody tr th {\n",
       "        vertical-align: top;\n",
       "    }\n",
       "\n",
       "    .dataframe thead th {\n",
       "        text-align: right;\n",
       "    }\n",
       "</style>\n",
       "<table border=\"1\" class=\"dataframe\">\n",
       "  <thead>\n",
       "    <tr style=\"text-align: right;\">\n",
       "      <th></th>\n",
       "      <th>budget</th>\n",
       "      <th>genres</th>\n",
       "      <th>homepage</th>\n",
       "      <th>id</th>\n",
       "      <th>keywords</th>\n",
       "      <th>original_language</th>\n",
       "      <th>original_title</th>\n",
       "      <th>overview</th>\n",
       "      <th>popularity</th>\n",
       "      <th>production_companies</th>\n",
       "      <th>production_countries</th>\n",
       "      <th>release_date</th>\n",
       "      <th>revenue</th>\n",
       "      <th>runtime</th>\n",
       "      <th>spoken_languages</th>\n",
       "      <th>status</th>\n",
       "      <th>tagline</th>\n",
       "      <th>title</th>\n",
       "      <th>vote_average</th>\n",
       "      <th>vote_count</th>\n",
       "    </tr>\n",
       "  </thead>\n",
       "  <tbody>\n",
       "    <tr>\n",
       "      <th>0</th>\n",
       "      <td>237000000</td>\n",
       "      <td>[{\"id\": 28, \"name\": \"Action\"}, {\"id\": 12, \"nam...</td>\n",
       "      <td>http://www.avatarmovie.com/</td>\n",
       "      <td>19995</td>\n",
       "      <td>[{\"id\": 1463, \"name\": \"culture clash\"}, {\"id\":...</td>\n",
       "      <td>en</td>\n",
       "      <td>Avatar</td>\n",
       "      <td>In the 22nd century, a paraplegic Marine is di...</td>\n",
       "      <td>150.437577</td>\n",
       "      <td>[{\"name\": \"Ingenious Film Partners\", \"id\": 289...</td>\n",
       "      <td>[{\"iso_3166_1\": \"US\", \"name\": \"United States o...</td>\n",
       "      <td>2009-12-10</td>\n",
       "      <td>2787965087</td>\n",
       "      <td>162.0</td>\n",
       "      <td>[{\"iso_639_1\": \"en\", \"name\": \"English\"}, {\"iso...</td>\n",
       "      <td>Released</td>\n",
       "      <td>Enter the World of Pandora.</td>\n",
       "      <td>Avatar</td>\n",
       "      <td>7.2</td>\n",
       "      <td>11800</td>\n",
       "    </tr>\n",
       "    <tr>\n",
       "      <th>1</th>\n",
       "      <td>300000000</td>\n",
       "      <td>[{\"id\": 12, \"name\": \"Adventure\"}, {\"id\": 14, \"...</td>\n",
       "      <td>http://disney.go.com/disneypictures/pirates/</td>\n",
       "      <td>285</td>\n",
       "      <td>[{\"id\": 270, \"name\": \"ocean\"}, {\"id\": 726, \"na...</td>\n",
       "      <td>en</td>\n",
       "      <td>Pirates of the Caribbean: At World's End</td>\n",
       "      <td>Captain Barbossa, long believed to be dead, ha...</td>\n",
       "      <td>139.082615</td>\n",
       "      <td>[{\"name\": \"Walt Disney Pictures\", \"id\": 2}, {\"...</td>\n",
       "      <td>[{\"iso_3166_1\": \"US\", \"name\": \"United States o...</td>\n",
       "      <td>2007-05-19</td>\n",
       "      <td>961000000</td>\n",
       "      <td>169.0</td>\n",
       "      <td>[{\"iso_639_1\": \"en\", \"name\": \"English\"}]</td>\n",
       "      <td>Released</td>\n",
       "      <td>At the end of the world, the adventure begins.</td>\n",
       "      <td>Pirates of the Caribbean: At World's End</td>\n",
       "      <td>6.9</td>\n",
       "      <td>4500</td>\n",
       "    </tr>\n",
       "    <tr>\n",
       "      <th>2</th>\n",
       "      <td>245000000</td>\n",
       "      <td>[{\"id\": 28, \"name\": \"Action\"}, {\"id\": 12, \"nam...</td>\n",
       "      <td>http://www.sonypictures.com/movies/spectre/</td>\n",
       "      <td>206647</td>\n",
       "      <td>[{\"id\": 470, \"name\": \"spy\"}, {\"id\": 818, \"name...</td>\n",
       "      <td>en</td>\n",
       "      <td>Spectre</td>\n",
       "      <td>A cryptic message from Bond’s past sends him o...</td>\n",
       "      <td>107.376788</td>\n",
       "      <td>[{\"name\": \"Columbia Pictures\", \"id\": 5}, {\"nam...</td>\n",
       "      <td>[{\"iso_3166_1\": \"GB\", \"name\": \"United Kingdom\"...</td>\n",
       "      <td>2015-10-26</td>\n",
       "      <td>880674609</td>\n",
       "      <td>148.0</td>\n",
       "      <td>[{\"iso_639_1\": \"fr\", \"name\": \"Fran\\u00e7ais\"},...</td>\n",
       "      <td>Released</td>\n",
       "      <td>A Plan No One Escapes</td>\n",
       "      <td>Spectre</td>\n",
       "      <td>6.3</td>\n",
       "      <td>4466</td>\n",
       "    </tr>\n",
       "    <tr>\n",
       "      <th>3</th>\n",
       "      <td>250000000</td>\n",
       "      <td>[{\"id\": 28, \"name\": \"Action\"}, {\"id\": 80, \"nam...</td>\n",
       "      <td>http://www.thedarkknightrises.com/</td>\n",
       "      <td>49026</td>\n",
       "      <td>[{\"id\": 849, \"name\": \"dc comics\"}, {\"id\": 853,...</td>\n",
       "      <td>en</td>\n",
       "      <td>The Dark Knight Rises</td>\n",
       "      <td>Following the death of District Attorney Harve...</td>\n",
       "      <td>112.312950</td>\n",
       "      <td>[{\"name\": \"Legendary Pictures\", \"id\": 923}, {\"...</td>\n",
       "      <td>[{\"iso_3166_1\": \"US\", \"name\": \"United States o...</td>\n",
       "      <td>2012-07-16</td>\n",
       "      <td>1084939099</td>\n",
       "      <td>165.0</td>\n",
       "      <td>[{\"iso_639_1\": \"en\", \"name\": \"English\"}]</td>\n",
       "      <td>Released</td>\n",
       "      <td>The Legend Ends</td>\n",
       "      <td>The Dark Knight Rises</td>\n",
       "      <td>7.6</td>\n",
       "      <td>9106</td>\n",
       "    </tr>\n",
       "    <tr>\n",
       "      <th>4</th>\n",
       "      <td>260000000</td>\n",
       "      <td>[{\"id\": 28, \"name\": \"Action\"}, {\"id\": 12, \"nam...</td>\n",
       "      <td>http://movies.disney.com/john-carter</td>\n",
       "      <td>49529</td>\n",
       "      <td>[{\"id\": 818, \"name\": \"based on novel\"}, {\"id\":...</td>\n",
       "      <td>en</td>\n",
       "      <td>John Carter</td>\n",
       "      <td>John Carter is a war-weary, former military ca...</td>\n",
       "      <td>43.926995</td>\n",
       "      <td>[{\"name\": \"Walt Disney Pictures\", \"id\": 2}]</td>\n",
       "      <td>[{\"iso_3166_1\": \"US\", \"name\": \"United States o...</td>\n",
       "      <td>2012-03-07</td>\n",
       "      <td>284139100</td>\n",
       "      <td>132.0</td>\n",
       "      <td>[{\"iso_639_1\": \"en\", \"name\": \"English\"}]</td>\n",
       "      <td>Released</td>\n",
       "      <td>Lost in our world, found in another.</td>\n",
       "      <td>John Carter</td>\n",
       "      <td>6.1</td>\n",
       "      <td>2124</td>\n",
       "    </tr>\n",
       "  </tbody>\n",
       "</table>\n",
       "</div>"
      ],
      "text/plain": [
       "      budget                                             genres                                      homepage      id                                           keywords original_language                            original_title                                           overview  popularity                               production_companies                               production_countries release_date     revenue  runtime                                   spoken_languages    status                                         tagline                                     title  vote_average  vote_count\n",
       "0  237000000  [{\"id\": 28, \"name\": \"Action\"}, {\"id\": 12, \"nam...                   http://www.avatarmovie.com/   19995  [{\"id\": 1463, \"name\": \"culture clash\"}, {\"id\":...                en                                    Avatar  In the 22nd century, a paraplegic Marine is di...  150.437577  [{\"name\": \"Ingenious Film Partners\", \"id\": 289...  [{\"iso_3166_1\": \"US\", \"name\": \"United States o...   2009-12-10  2787965087    162.0  [{\"iso_639_1\": \"en\", \"name\": \"English\"}, {\"iso...  Released                     Enter the World of Pandora.                                    Avatar           7.2       11800\n",
       "1  300000000  [{\"id\": 12, \"name\": \"Adventure\"}, {\"id\": 14, \"...  http://disney.go.com/disneypictures/pirates/     285  [{\"id\": 270, \"name\": \"ocean\"}, {\"id\": 726, \"na...                en  Pirates of the Caribbean: At World's End  Captain Barbossa, long believed to be dead, ha...  139.082615  [{\"name\": \"Walt Disney Pictures\", \"id\": 2}, {\"...  [{\"iso_3166_1\": \"US\", \"name\": \"United States o...   2007-05-19   961000000    169.0           [{\"iso_639_1\": \"en\", \"name\": \"English\"}]  Released  At the end of the world, the adventure begins.  Pirates of the Caribbean: At World's End           6.9        4500\n",
       "2  245000000  [{\"id\": 28, \"name\": \"Action\"}, {\"id\": 12, \"nam...   http://www.sonypictures.com/movies/spectre/  206647  [{\"id\": 470, \"name\": \"spy\"}, {\"id\": 818, \"name...                en                                   Spectre  A cryptic message from Bond’s past sends him o...  107.376788  [{\"name\": \"Columbia Pictures\", \"id\": 5}, {\"nam...  [{\"iso_3166_1\": \"GB\", \"name\": \"United Kingdom\"...   2015-10-26   880674609    148.0  [{\"iso_639_1\": \"fr\", \"name\": \"Fran\\u00e7ais\"},...  Released                           A Plan No One Escapes                                   Spectre           6.3        4466\n",
       "3  250000000  [{\"id\": 28, \"name\": \"Action\"}, {\"id\": 80, \"nam...            http://www.thedarkknightrises.com/   49026  [{\"id\": 849, \"name\": \"dc comics\"}, {\"id\": 853,...                en                     The Dark Knight Rises  Following the death of District Attorney Harve...  112.312950  [{\"name\": \"Legendary Pictures\", \"id\": 923}, {\"...  [{\"iso_3166_1\": \"US\", \"name\": \"United States o...   2012-07-16  1084939099    165.0           [{\"iso_639_1\": \"en\", \"name\": \"English\"}]  Released                                 The Legend Ends                     The Dark Knight Rises           7.6        9106\n",
       "4  260000000  [{\"id\": 28, \"name\": \"Action\"}, {\"id\": 12, \"nam...          http://movies.disney.com/john-carter   49529  [{\"id\": 818, \"name\": \"based on novel\"}, {\"id\":...                en                               John Carter  John Carter is a war-weary, former military ca...   43.926995        [{\"name\": \"Walt Disney Pictures\", \"id\": 2}]  [{\"iso_3166_1\": \"US\", \"name\": \"United States o...   2012-03-07   284139100    132.0           [{\"iso_639_1\": \"en\", \"name\": \"English\"}]  Released            Lost in our world, found in another.                               John Carter           6.1        2124"
      ]
     },
     "execution_count": 124,
     "metadata": {},
     "output_type": "execute_result"
    }
   ],
   "source": [
    "movies = pd.read_csv('./data/tmdb_5000_movies.csv')\n",
    "movies.head()"
   ]
  },
  {
   "cell_type": "markdown",
   "metadata": {},
   "source": [
    "`genres`, `keywords` 기반 추천"
   ]
  },
  {
   "cell_type": "code",
   "execution_count": 125,
   "metadata": {},
   "outputs": [],
   "source": [
    "movies = movies[['title', 'genres', 'keywords']]"
   ]
  },
  {
   "cell_type": "markdown",
   "metadata": {},
   "source": [
    "`genres`, `keywords`가 dictionary가 아닌 str이기 때문에, str을 list of dictionaries로 변환시켜야 함"
   ]
  },
  {
   "cell_type": "code",
   "execution_count": 126,
   "metadata": {},
   "outputs": [
    {
     "data": {
      "text/html": [
       "<div>\n",
       "<style scoped>\n",
       "    .dataframe tbody tr th:only-of-type {\n",
       "        vertical-align: middle;\n",
       "    }\n",
       "\n",
       "    .dataframe tbody tr th {\n",
       "        vertical-align: top;\n",
       "    }\n",
       "\n",
       "    .dataframe thead th {\n",
       "        text-align: right;\n",
       "    }\n",
       "</style>\n",
       "<table border=\"1\" class=\"dataframe\">\n",
       "  <thead>\n",
       "    <tr style=\"text-align: right;\">\n",
       "      <th></th>\n",
       "      <th>title</th>\n",
       "      <th>genres</th>\n",
       "      <th>keywords</th>\n",
       "    </tr>\n",
       "  </thead>\n",
       "  <tbody>\n",
       "    <tr>\n",
       "      <th>0</th>\n",
       "      <td>Avatar</td>\n",
       "      <td>[{'id': 28, 'name': 'Action'}, {'id': 12, 'nam...</td>\n",
       "      <td>[{'id': 1463, 'name': 'culture clash'}, {'id':...</td>\n",
       "    </tr>\n",
       "    <tr>\n",
       "      <th>1</th>\n",
       "      <td>Pirates of the Caribbean: At World's End</td>\n",
       "      <td>[{'id': 12, 'name': 'Adventure'}, {'id': 14, '...</td>\n",
       "      <td>[{'id': 270, 'name': 'ocean'}, {'id': 726, 'na...</td>\n",
       "    </tr>\n",
       "    <tr>\n",
       "      <th>2</th>\n",
       "      <td>Spectre</td>\n",
       "      <td>[{'id': 28, 'name': 'Action'}, {'id': 12, 'nam...</td>\n",
       "      <td>[{'id': 470, 'name': 'spy'}, {'id': 818, 'name...</td>\n",
       "    </tr>\n",
       "    <tr>\n",
       "      <th>3</th>\n",
       "      <td>The Dark Knight Rises</td>\n",
       "      <td>[{'id': 28, 'name': 'Action'}, {'id': 80, 'nam...</td>\n",
       "      <td>[{'id': 849, 'name': 'dc comics'}, {'id': 853,...</td>\n",
       "    </tr>\n",
       "    <tr>\n",
       "      <th>4</th>\n",
       "      <td>John Carter</td>\n",
       "      <td>[{'id': 28, 'name': 'Action'}, {'id': 12, 'nam...</td>\n",
       "      <td>[{'id': 818, 'name': 'based on novel'}, {'id':...</td>\n",
       "    </tr>\n",
       "  </tbody>\n",
       "</table>\n",
       "</div>"
      ],
      "text/plain": [
       "                                      title                                             genres                                           keywords\n",
       "0                                    Avatar  [{'id': 28, 'name': 'Action'}, {'id': 12, 'nam...  [{'id': 1463, 'name': 'culture clash'}, {'id':...\n",
       "1  Pirates of the Caribbean: At World's End  [{'id': 12, 'name': 'Adventure'}, {'id': 14, '...  [{'id': 270, 'name': 'ocean'}, {'id': 726, 'na...\n",
       "2                                   Spectre  [{'id': 28, 'name': 'Action'}, {'id': 12, 'nam...  [{'id': 470, 'name': 'spy'}, {'id': 818, 'name...\n",
       "3                     The Dark Knight Rises  [{'id': 28, 'name': 'Action'}, {'id': 80, 'nam...  [{'id': 849, 'name': 'dc comics'}, {'id': 853,...\n",
       "4                               John Carter  [{'id': 28, 'name': 'Action'}, {'id': 12, 'nam...  [{'id': 818, 'name': 'based on novel'}, {'id':..."
      ]
     },
     "execution_count": 126,
     "metadata": {},
     "output_type": "execute_result"
    }
   ],
   "source": [
    "# str -> list of dicts\n",
    "movies['genres'] = movies['genres'].apply(literal_eval) \n",
    "movies['keywords'] = movies['keywords'].apply(literal_eval) \n",
    "movies.head()"
   ]
  },
  {
   "cell_type": "code",
   "execution_count": 127,
   "metadata": {},
   "outputs": [
    {
     "data": {
      "text/html": [
       "<div>\n",
       "<style scoped>\n",
       "    .dataframe tbody tr th:only-of-type {\n",
       "        vertical-align: middle;\n",
       "    }\n",
       "\n",
       "    .dataframe tbody tr th {\n",
       "        vertical-align: top;\n",
       "    }\n",
       "\n",
       "    .dataframe thead th {\n",
       "        text-align: right;\n",
       "    }\n",
       "</style>\n",
       "<table border=\"1\" class=\"dataframe\">\n",
       "  <thead>\n",
       "    <tr style=\"text-align: right;\">\n",
       "      <th></th>\n",
       "      <th>title</th>\n",
       "      <th>genres</th>\n",
       "      <th>keywords</th>\n",
       "    </tr>\n",
       "  </thead>\n",
       "  <tbody>\n",
       "    <tr>\n",
       "      <th>0</th>\n",
       "      <td>Avatar</td>\n",
       "      <td>[Action, Adventure, Fantasy, Science Fiction]</td>\n",
       "      <td>[culture clash, future, space war, space colon...</td>\n",
       "    </tr>\n",
       "    <tr>\n",
       "      <th>1</th>\n",
       "      <td>Pirates of the Caribbean: At World's End</td>\n",
       "      <td>[Adventure, Fantasy, Action]</td>\n",
       "      <td>[ocean, drug abuse, exotic island, east india ...</td>\n",
       "    </tr>\n",
       "    <tr>\n",
       "      <th>2</th>\n",
       "      <td>Spectre</td>\n",
       "      <td>[Action, Adventure, Crime]</td>\n",
       "      <td>[spy, based on novel, secret agent, sequel, mi...</td>\n",
       "    </tr>\n",
       "    <tr>\n",
       "      <th>3</th>\n",
       "      <td>The Dark Knight Rises</td>\n",
       "      <td>[Action, Crime, Drama, Thriller]</td>\n",
       "      <td>[dc comics, crime fighter, terrorist, secret i...</td>\n",
       "    </tr>\n",
       "    <tr>\n",
       "      <th>4</th>\n",
       "      <td>John Carter</td>\n",
       "      <td>[Action, Adventure, Science Fiction]</td>\n",
       "      <td>[based on novel, mars, medallion, space travel...</td>\n",
       "    </tr>\n",
       "  </tbody>\n",
       "</table>\n",
       "</div>"
      ],
      "text/plain": [
       "                                      title                                         genres                                           keywords\n",
       "0                                    Avatar  [Action, Adventure, Fantasy, Science Fiction]  [culture clash, future, space war, space colon...\n",
       "1  Pirates of the Caribbean: At World's End                   [Adventure, Fantasy, Action]  [ocean, drug abuse, exotic island, east india ...\n",
       "2                                   Spectre                     [Action, Adventure, Crime]  [spy, based on novel, secret agent, sequel, mi...\n",
       "3                     The Dark Knight Rises               [Action, Crime, Drama, Thriller]  [dc comics, crime fighter, terrorist, secret i...\n",
       "4                               John Carter           [Action, Adventure, Science Fiction]  [based on novel, mars, medallion, space travel..."
      ]
     },
     "execution_count": 127,
     "metadata": {},
     "output_type": "execute_result"
    }
   ],
   "source": [
    "# name만 추출\n",
    "movies['genres'] = movies['genres'].apply(lambda x: [a['name'] for a in x])\n",
    "movies['keywords'] = movies['keywords'].apply(lambda x: [a['name'] for a in x])\n",
    "movies.head()"
   ]
  },
  {
   "cell_type": "markdown",
   "metadata": {},
   "source": [
    "데이터 정리가 잘 되어 있어서, 대소문자 문제 없음. 따라서 소문자로 변환하는 전처리할 필요없음."
   ]
  },
  {
   "cell_type": "code",
   "execution_count": 128,
   "metadata": {},
   "outputs": [
    {
     "data": {
      "text/html": [
       "<div>\n",
       "<style scoped>\n",
       "    .dataframe tbody tr th:only-of-type {\n",
       "        vertical-align: middle;\n",
       "    }\n",
       "\n",
       "    .dataframe tbody tr th {\n",
       "        vertical-align: top;\n",
       "    }\n",
       "\n",
       "    .dataframe thead th {\n",
       "        text-align: right;\n",
       "    }\n",
       "</style>\n",
       "<table border=\"1\" class=\"dataframe\">\n",
       "  <thead>\n",
       "    <tr style=\"text-align: right;\">\n",
       "      <th></th>\n",
       "      <th>title</th>\n",
       "      <th>genres</th>\n",
       "      <th>keywords</th>\n",
       "    </tr>\n",
       "  </thead>\n",
       "  <tbody>\n",
       "    <tr>\n",
       "      <th>0</th>\n",
       "      <td>Avatar</td>\n",
       "      <td>Action Adventure Fantasy Science Fiction</td>\n",
       "      <td>culture clash future space war space colony so...</td>\n",
       "    </tr>\n",
       "    <tr>\n",
       "      <th>1</th>\n",
       "      <td>Pirates of the Caribbean: At World's End</td>\n",
       "      <td>Adventure Fantasy Action</td>\n",
       "      <td>ocean drug abuse exotic island east india trad...</td>\n",
       "    </tr>\n",
       "    <tr>\n",
       "      <th>2</th>\n",
       "      <td>Spectre</td>\n",
       "      <td>Action Adventure Crime</td>\n",
       "      <td>spy based on novel secret agent sequel mi6 bri...</td>\n",
       "    </tr>\n",
       "    <tr>\n",
       "      <th>3</th>\n",
       "      <td>The Dark Knight Rises</td>\n",
       "      <td>Action Crime Drama Thriller</td>\n",
       "      <td>dc comics crime fighter terrorist secret ident...</td>\n",
       "    </tr>\n",
       "    <tr>\n",
       "      <th>4</th>\n",
       "      <td>John Carter</td>\n",
       "      <td>Action Adventure Science Fiction</td>\n",
       "      <td>based on novel mars medallion space travel pri...</td>\n",
       "    </tr>\n",
       "  </tbody>\n",
       "</table>\n",
       "</div>"
      ],
      "text/plain": [
       "                                      title                                    genres                                           keywords\n",
       "0                                    Avatar  Action Adventure Fantasy Science Fiction  culture clash future space war space colony so...\n",
       "1  Pirates of the Caribbean: At World's End                  Adventure Fantasy Action  ocean drug abuse exotic island east india trad...\n",
       "2                                   Spectre                    Action Adventure Crime  spy based on novel secret agent sequel mi6 bri...\n",
       "3                     The Dark Knight Rises               Action Crime Drama Thriller  dc comics crime fighter terrorist secret ident...\n",
       "4                               John Carter          Action Adventure Science Fiction  based on novel mars medallion space travel pri..."
      ]
     },
     "execution_count": 128,
     "metadata": {},
     "output_type": "execute_result"
    }
   ],
   "source": [
    "# list -> str\n",
    "movies['genres'] = movies['genres'].apply(lambda x: ' '.join(x))\n",
    "movies['keywords'] = movies['keywords'].apply(lambda x: ' '.join(x))\n",
    "movies.head()"
   ]
  },
  {
   "cell_type": "code",
   "execution_count": 129,
   "metadata": {},
   "outputs": [
    {
     "name": "stdout",
     "output_type": "stream",
     "text": [
      "(4803, 276)\n"
     ]
    }
   ],
   "source": [
    "from sklearn.feature_extraction.text import TfidfVectorizer\n",
    "\n",
    "tfidf_vec = TfidfVectorizer(ngram_range=(1, 2)) # space war과 같은 단어들 때문에 n-gram을 2까지\n",
    "tfidf_matrix = tfidf_vec.fit_transform(movies['genres'])\n",
    "# print(tfidf_vec.vocabulary_.items())\n",
    "print(tfidf_matrix.shape) # 장르(276), 키워드(41554)"
   ]
  },
  {
   "cell_type": "code",
   "execution_count": 130,
   "metadata": {},
   "outputs": [
    {
     "name": "stdout",
     "output_type": "stream",
     "text": [
      "[[1.         0.49309367 0.29270708 ... 0.         0.         0.        ]\n",
      " [0.49309367 1.         0.17786505 ... 0.         0.         0.        ]\n",
      " [0.29270708 0.17786505 1.         ... 0.         0.         0.        ]\n",
      " ...\n",
      " [0.         0.         0.         ... 1.         0.         0.        ]\n",
      " [0.         0.         0.         ... 0.         0.         0.        ]\n",
      " [0.         0.         0.         ... 0.         0.         1.        ]]\n",
      "(4803, 4803)\n"
     ]
    }
   ],
   "source": [
    "from sklearn.metrics.pairwise import cosine_similarity\n",
    "genres_similarity = cosine_similarity(tfidf_matrix, tfidf_matrix) # 각 행끼리의 유사도\n",
    "print(genres_similarity) \n",
    "print(genres_similarity.shape)"
   ]
  },
  {
   "cell_type": "markdown",
   "metadata": {},
   "source": [
    "값이 존재하는 행의 경우에 대각 행렬 값 = 1 (0인 경우는 missing value)"
   ]
  },
  {
   "cell_type": "code",
   "execution_count": 131,
   "metadata": {},
   "outputs": [
    {
     "name": "stdout",
     "output_type": "stream",
     "text": [
      "[[   0  870 3494 ... 2355 2397 4802]\n",
      " [ 329  379  199 ... 2323 2325 4802]\n",
      " [1740    2 1542 ... 2359 2344 4802]\n",
      " ...\n",
      " [4800 3809 3285 ... 2085 2142 4802]\n",
      " [   0 3205 3204 ... 1596 1594 4802]\n",
      " [4802 4593 4583 ... 1597 1595 2401]]\n"
     ]
    }
   ],
   "source": [
    "# similarity가 높은 값만 추출\n",
    "similar_index = np.argsort(-genres_similarity) # 큰 값부터 추출하기 위해 minus 처리함\n",
    "print(similar_index)"
   ]
  },
  {
   "cell_type": "code",
   "execution_count": 132,
   "metadata": {},
   "outputs": [
    {
     "name": "stdout",
     "output_type": "stream",
     "text": [
      "Inception\n",
      "[96]\n",
      "[[  96 2966  275 2897 2484 4639 1506  908  564  279]]\n",
      "[  96 2966  275 2897 2484 4639 1506  908  564  279]\n",
      "                           title                                             genres                                           keywords\n",
      "96                     Inception  Action Thriller Science Fiction Mystery Adventure  loss of lover dream kidnapping sleep subconsci...\n",
      "2966       2001: A Space Odyssey                  Science Fiction Mystery Adventure  moon jupiter artificial intelligence man vs ma...\n",
      "275              Minority Report            Action Thriller Science Fiction Mystery  self-fulfilling prophecy washington d.c. evide...\n",
      "2897                      Cypher                   Thriller Science Fiction Mystery  double life undercover lie wife company indust...\n",
      "2484        The Thirteenth Floor                   Thriller Science Fiction Mystery  artificial intelligence simulation computer pr...\n",
      "4639                        Cube                   Thriller Science Fiction Mystery  riddle autism claustrophobia maze prime number...\n",
      "1506                 Source Code                   Thriller Science Fiction Mystery  bomb identity fantasy bomber suspicion time tr...\n",
      "908                      Super 8                   Thriller Science Fiction Mystery  1970s secret alien train crash pistol firecrac...\n",
      "564                        Signs             Drama Thriller Science Fiction Mystery  symbolism water farm faith alien family relati...\n",
      "279   Terminator 2: Judgment Day                    Action Thriller Science Fiction  cyborg shotgun post-apocalyptic dystopia moral...\n"
     ]
    }
   ],
   "source": [
    "# genres\n",
    "input_movie = input()\n",
    "\n",
    "movie_index = movies[movies['title'] == input_movie].index.values # 몇 번째 행에 있는 영화인지\n",
    "print(movie_index)\n",
    "similar_movies = similar_index[movie_index, :int(10)] # 상위 10개만 추출\n",
    "print(similar_movies)\n",
    "similar_movies_index = similar_movies.reshape(-1) # 1차원으로 변경\n",
    "print(similar_movies_index)\n",
    "print(movies.iloc[similar_movies_index])"
   ]
  },
  {
   "cell_type": "code",
   "execution_count": 123,
   "metadata": {},
   "outputs": [
    {
     "name": "stdout",
     "output_type": "stream",
     "text": [
      "Inception\n",
      "[96]\n",
      "[[  96  448 1193 1503 2592 2000 4590 2682 1668 1136]]\n",
      "[  96  448 1193 1503 2592 2000 4590 2682 1668 1136]\n",
      "                          title                                             genres                                           keywords\n",
      "96                    Inception  Action Thriller Science Fiction Mystery Adventure  loss of lover dream kidnapping sleep subconsci...\n",
      "448               Cold Mountain                                              Drama  loss of lover loss of family deserter loss of ...\n",
      "1193  The Count of Monte Cristo                    Action Adventure Drama Thriller  loss of lover lover (female) ex-lover torture ...\n",
      "1503                     Takers                        Action Crime Drama Thriller                                              heist\n",
      "2592        Highlander: Endgame                     Action Fantasy Science Fiction  loss of lover antiquary loss of powers death o...\n",
      "2000          Anywhere But Here                               Drama Comedy Romance                                              dream\n",
      "4590                    Show Me                                     Drama Thriller                                         kidnapping\n",
      "2682             Poetic Justice                                      Drama Romance       loss of lover sadness los angeles road movie\n",
      "1668                Miss Potter                               Drama Family Romance          loss of lover mountain lake author rabbit\n",
      "1136                       Hero                     Drama Adventure Action History  countryside loss of lover right and justice pa...\n"
     ]
    }
   ],
   "source": [
    "# keywords\n",
    "input_movie = input()\n",
    "\n",
    "movie_index = movies[movies['title'] == input_movie].index.values # 몇 번째 행에 있는 영화인지\n",
    "print(movie_index)\n",
    "similar_movies = similar_index[movie_index, :int(10)] # 상위 10개만 추출\n",
    "print(similar_movies)\n",
    "similar_movies_index = similar_movies.reshape(-1) # 1차원으로 변경\n",
    "print(similar_movies_index)\n",
    "print(movies.iloc[similar_movies_index])"
   ]
  },
  {
   "cell_type": "code",
   "execution_count": null,
   "metadata": {},
   "outputs": [],
   "source": [
    "# tfidf와 다른 벡터화\n",
    "from sklearn.feature_extraction.text import CountVectorizer\n",
    "\n",
    "count_vec = CountVectorizer(ngram_range=(1,2))\n",
    "count_matrix = count_vec.fit_transform(movies['keywords'])"
   ]
  },
  {
   "cell_type": "code",
   "execution_count": null,
   "metadata": {},
   "outputs": [],
   "source": []
  },
  {
   "cell_type": "code",
   "execution_count": 93,
   "metadata": {},
   "outputs": [
    {
     "name": "stdout",
     "output_type": "stream",
     "text": [
      "(4803, 276)\n"
     ]
    }
   ],
   "source": [
    "print(tfidf_matrix.shape)"
   ]
  },
  {
   "cell_type": "code",
   "execution_count": null,
   "metadata": {},
   "outputs": [],
   "source": []
  },
  {
   "cell_type": "markdown",
   "metadata": {},
   "source": [
    "# 장르, 키워드 둘 다 사용\n",
    "\n",
    "### 방법1) `genres` + `keywords` 합친 `total` column을 사용 -> `genres`를 이용한 경우와 똑같이 나옴"
   ]
  },
  {
   "cell_type": "code",
   "execution_count": 150,
   "metadata": {},
   "outputs": [],
   "source": [
    "movies = pd.read_csv('./data/tmdb_5000_movies.csv')\n",
    "movies = movies[['title', 'genres', 'keywords']]\n",
    "\n",
    "movies['genres'] = movies['genres'].apply(literal_eval) \n",
    "movies['keywords'] = movies['keywords'].apply(literal_eval) \n",
    "movies['genres'] = movies['genres'].apply(lambda x: [a['name'] for a in x])\n",
    "movies['keywords'] = movies['keywords'].apply(lambda x: [a['name'] for a in x])\n",
    "movies['genres'] = movies['genres'].apply(lambda x: ' '.join(x))\n",
    "movies['keywords'] = movies['keywords'].apply(lambda x: ' '.join(x))\n",
    "\n",
    "# 추가\n",
    "movies['total'] = movies['genres'] + ' ' + movies['keywords']"
   ]
  },
  {
   "cell_type": "code",
   "execution_count": 151,
   "metadata": {},
   "outputs": [
    {
     "name": "stdout",
     "output_type": "stream",
     "text": [
      "(4803, 44261)\n",
      "[[   0  870 3494 ... 2355 2397 4802]\n",
      " [ 329  379  199 ... 2323 2325 4802]\n",
      " [1740    2 1542 ... 2359 2344 4802]\n",
      " ...\n",
      " [4800 3809 3285 ... 2085 2142 4802]\n",
      " [   0 3205 3204 ... 1596 1594 4802]\n",
      " [4802 4593 4583 ... 1597 1595 2401]]\n"
     ]
    }
   ],
   "source": [
    "from sklearn.feature_extraction.text import TfidfVectorizer\n",
    "from sklearn.metrics.pairwise import cosine_similarity\n",
    "\n",
    "tfidf_vec = TfidfVectorizer(ngram_range=(1, 2)) \n",
    "tfidf_matrix = tfidf_vec.fit_transform(movies['total'])\n",
    "print(tfidf_matrix.shape)\n",
    "\n",
    "similarity_total = cosine_similarity(tfidf_matrix, tfidf_matrix)\n",
    "similarity_index = np.argsort(-similarity_total) # 44261개\n",
    "print(similar_index)"
   ]
  },
  {
   "cell_type": "code",
   "execution_count": 153,
   "metadata": {},
   "outputs": [
    {
     "name": "stdout",
     "output_type": "stream",
     "text": [
      "Mad Max\n",
      "4670                        Mad Max\n",
      "122        X-Men Origins: Wolverine\n",
      "300               Starship Troopers\n",
      "4077    Mad Max 2: The Road Warrior\n",
      "587                       The Abyss\n",
      "125             The Matrix Reloaded\n",
      "76      G.I. Joe: The Rise of Cobra\n",
      "123          The Matrix Revolutions\n",
      "41                    Green Lantern\n",
      "334               Jurassic Park III\n",
      "Name: title, dtype: object\n"
     ]
    }
   ],
   "source": [
    "# total1\n",
    "input_movie = input()\n",
    "\n",
    "movie_index = movies[movies['title'] == input_movie].index.values \n",
    "similar_movies = similar_index[movie_index, :int(10)] \n",
    "similar_movies_index = similar_movies.reshape(-1) \n",
    "print(movies.iloc[similar_movies_index]['title'])"
   ]
  },
  {
   "cell_type": "code",
   "execution_count": null,
   "metadata": {},
   "outputs": [],
   "source": []
  },
  {
   "cell_type": "markdown",
   "metadata": {},
   "source": [
    "### 방법2) `genres`로 만든 matrix와 `keywords`로 만든 matrix를 결합해서 사용"
   ]
  },
  {
   "cell_type": "code",
   "execution_count": 133,
   "metadata": {},
   "outputs": [],
   "source": [
    "movies = pd.read_csv('./data/tmdb_5000_movies.csv')\n",
    "movies = movies[['title', 'genres', 'keywords']]\n",
    "\n",
    "movies['genres'] = movies['genres'].apply(literal_eval) \n",
    "movies['keywords'] = movies['keywords'].apply(literal_eval) \n",
    "movies['genres'] = movies['genres'].apply(lambda x: [a['name'] for a in x])\n",
    "movies['keywords'] = movies['keywords'].apply(lambda x: [a['name'] for a in x])\n",
    "movies['genres'] = movies['genres'].apply(lambda x: ' '.join(x))\n",
    "movies['keywords'] = movies['keywords'].apply(lambda x: ' '.join(x))"
   ]
  },
  {
   "cell_type": "code",
   "execution_count": 147,
   "metadata": {},
   "outputs": [
    {
     "name": "stdout",
     "output_type": "stream",
     "text": [
      "(4803, 276)\n",
      "(4803, 41554)\n",
      "(4803, 41830)\n",
      "[[   0  870 3494 ... 2355 2397 4802]\n",
      " [ 329  379  199 ... 2323 2325 4802]\n",
      " [1740    2 1542 ... 2359 2344 4802]\n",
      " ...\n",
      " [4800 3809 3285 ... 2085 2142 4802]\n",
      " [   0 3205 3204 ... 1596 1594 4802]\n",
      " [4802 4593 4583 ... 1597 1595 2401]]\n"
     ]
    }
   ],
   "source": [
    "from sklearn.feature_extraction.text import TfidfVectorizer\n",
    "from sklearn.metrics.pairwise import cosine_similarity\n",
    "import scipy.sparse\n",
    "\n",
    "tfidf_vec_g = TfidfVectorizer(ngram_range=(1, 2)) \n",
    "tfidf_matrix_g = tfidf_vec_g.fit_transform(movies['genres'])\n",
    "print(tfidf_matrix_g.shape)\n",
    "\n",
    "tfidf_vec_k = TfidfVectorizer(ngram_range=(1, 2)) \n",
    "tfidf_matrix_k = tfidf_vec_k.fit_transform(movies['keywords'])\n",
    "print(tfidf_matrix_k.shape)\n",
    "\n",
    "tfidf_matrix = np.concatenate([tfidf_matrix_g.toarray(), tfidf_matrix_k.toarray()], axis=1)\n",
    "tfidf_matrix = scipy.sparse.csr_matrix(tfidf_matrix)\n",
    "print(tfidf_matrix.shape)\n",
    "\n",
    "similarity_total = cosine_similarity(tfidf_matrix, tfidf_matrix)\n",
    "similarity_index = np.argsort(-similarity_total) \n",
    "print(similar_index)"
   ]
  },
  {
   "cell_type": "code",
   "execution_count": 148,
   "metadata": {},
   "outputs": [
    {
     "name": "stdout",
     "output_type": "stream",
     "text": [
      "Inception\n",
      "96                       Inception\n",
      "2966         2001: A Space Odyssey\n",
      "275                Minority Report\n",
      "2897                        Cypher\n",
      "2484          The Thirteenth Floor\n",
      "4639                          Cube\n",
      "1506                   Source Code\n",
      "908                        Super 8\n",
      "564                          Signs\n",
      "279     Terminator 2: Judgment Day\n",
      "Name: title, dtype: object\n"
     ]
    }
   ],
   "source": [
    "# total2\n",
    "input_movie = input()\n",
    "\n",
    "movie_index = movies[movies['title'] == input_movie].index.values \n",
    "similar_movies = similar_index[movie_index, :int(10)] \n",
    "similar_movies_index = similar_movies.reshape(-1) \n",
    "print(movies.iloc[similar_movies_index]['title'])"
   ]
  },
  {
   "cell_type": "code",
   "execution_count": null,
   "metadata": {},
   "outputs": [],
   "source": []
  },
  {
   "cell_type": "code",
   "execution_count": null,
   "metadata": {},
   "outputs": [],
   "source": []
  },
  {
   "cell_type": "code",
   "execution_count": null,
   "metadata": {},
   "outputs": [],
   "source": []
  },
  {
   "cell_type": "code",
   "execution_count": null,
   "metadata": {},
   "outputs": [],
   "source": []
  },
  {
   "cell_type": "code",
   "execution_count": null,
   "metadata": {},
   "outputs": [],
   "source": []
  },
  {
   "cell_type": "code",
   "execution_count": null,
   "metadata": {},
   "outputs": [],
   "source": []
  },
  {
   "cell_type": "code",
   "execution_count": null,
   "metadata": {},
   "outputs": [],
   "source": []
  },
  {
   "cell_type": "code",
   "execution_count": null,
   "metadata": {},
   "outputs": [],
   "source": []
  }
 ],
 "metadata": {
  "kernelspec": {
   "display_name": "Python 3",
   "language": "python",
   "name": "python3"
  },
  "language_info": {
   "codemirror_mode": {
    "name": "ipython",
    "version": 3
   },
   "file_extension": ".py",
   "mimetype": "text/x-python",
   "name": "python",
   "nbconvert_exporter": "python",
   "pygments_lexer": "ipython3",
   "version": "3.7.6"
  }
 },
 "nbformat": 4,
 "nbformat_minor": 4
}
