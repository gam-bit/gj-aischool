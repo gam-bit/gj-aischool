{
 "cells": [
  {
   "cell_type": "code",
   "execution_count": 1,
   "metadata": {
    "colab": {
     "base_uri": "https://localhost:8080/",
     "height": 254
    },
    "colab_type": "code",
    "id": "5dS-N8xT4nLs",
    "outputId": "7a517658-047e-4375-af19-557537915426"
   },
   "outputs": [
    {
     "name": "stdout",
     "output_type": "stream",
     "text": [
      "Collecting glove_python\n",
      "\u001b[?25l  Downloading https://files.pythonhosted.org/packages/3e/79/7e7e548dd9dcb741935d031117f4bed133276c2a047aadad42f1552d1771/glove_python-0.1.0.tar.gz (263kB)\n",
      "\r",
      "\u001b[K     |█▎                              | 10kB 17.1MB/s eta 0:00:01\r",
      "\u001b[K     |██▌                             | 20kB 2.2MB/s eta 0:00:01\r",
      "\u001b[K     |███▊                            | 30kB 2.8MB/s eta 0:00:01\r",
      "\u001b[K     |█████                           | 40kB 3.1MB/s eta 0:00:01\r",
      "\u001b[K     |██████▎                         | 51kB 2.4MB/s eta 0:00:01\r",
      "\u001b[K     |███████▌                        | 61kB 2.8MB/s eta 0:00:01\r",
      "\u001b[K     |████████▊                       | 71kB 3.0MB/s eta 0:00:01\r",
      "\u001b[K     |██████████                      | 81kB 3.4MB/s eta 0:00:01\r",
      "\u001b[K     |███████████▏                    | 92kB 3.6MB/s eta 0:00:01\r",
      "\u001b[K     |████████████▌                   | 102kB 3.4MB/s eta 0:00:01\r",
      "\u001b[K     |█████████████▊                  | 112kB 3.4MB/s eta 0:00:01\r",
      "\u001b[K     |███████████████                 | 122kB 3.4MB/s eta 0:00:01\r",
      "\u001b[K     |████████████████▏               | 133kB 3.4MB/s eta 0:00:01\r",
      "\u001b[K     |█████████████████▍              | 143kB 3.4MB/s eta 0:00:01\r",
      "\u001b[K     |██████████████████▊             | 153kB 3.4MB/s eta 0:00:01\r",
      "\u001b[K     |████████████████████            | 163kB 3.4MB/s eta 0:00:01\r",
      "\u001b[K     |█████████████████████▏          | 174kB 3.4MB/s eta 0:00:01\r",
      "\u001b[K     |██████████████████████▍         | 184kB 3.4MB/s eta 0:00:01\r",
      "\u001b[K     |███████████████████████▋        | 194kB 3.4MB/s eta 0:00:01\r",
      "\u001b[K     |█████████████████████████       | 204kB 3.4MB/s eta 0:00:01\r",
      "\u001b[K     |██████████████████████████▏     | 215kB 3.4MB/s eta 0:00:01\r",
      "\u001b[K     |███████████████████████████▍    | 225kB 3.4MB/s eta 0:00:01\r",
      "\u001b[K     |████████████████████████████▋   | 235kB 3.4MB/s eta 0:00:01\r",
      "\u001b[K     |█████████████████████████████▉  | 245kB 3.4MB/s eta 0:00:01\r",
      "\u001b[K     |███████████████████████████████▏| 256kB 3.4MB/s eta 0:00:01\r",
      "\u001b[K     |████████████████████████████████| 266kB 3.4MB/s \n",
      "\u001b[?25hRequirement already satisfied: numpy in /usr/local/lib/python3.6/dist-packages (from glove_python) (1.18.5)\n",
      "Requirement already satisfied: scipy in /usr/local/lib/python3.6/dist-packages (from glove_python) (1.4.1)\n",
      "Building wheels for collected packages: glove-python\n",
      "  Building wheel for glove-python (setup.py) ... \u001b[?25l\u001b[?25hdone\n",
      "  Created wheel for glove-python: filename=glove_python-0.1.0-cp36-cp36m-linux_x86_64.whl size=700261 sha256=3cb72a5574d07a6eda9c4cc2e9c850399e25a7be24d4668c38182a44bc192108\n",
      "  Stored in directory: /root/.cache/pip/wheels/88/4b/6d/10c0d2ad32c9d9d68beec9694a6f0b6e83ab1662a90a089a4b\n",
      "Successfully built glove-python\n",
      "Installing collected packages: glove-python\n",
      "Successfully installed glove-python-0.1.0\n"
     ]
    }
   ],
   "source": [
    "!pip install glove_python"
   ]
  },
  {
   "cell_type": "code",
   "execution_count": 2,
   "metadata": {
    "colab": {
     "base_uri": "https://localhost:8080/",
     "height": 127
    },
    "colab_type": "code",
    "id": "oa47l37k5MjP",
    "outputId": "3a6f4f81-0f98-49a0-9781-b9a1baad721a"
   },
   "outputs": [
    {
     "name": "stdout",
     "output_type": "stream",
     "text": [
      "Go to this URL in a browser: https://accounts.google.com/o/oauth2/auth?client_id=947318989803-6bn6qk8qdgf4n4g3pfee6491hc0brc4i.apps.googleusercontent.com&redirect_uri=urn%3aietf%3awg%3aoauth%3a2.0%3aoob&response_type=code&scope=email%20https%3a%2f%2fwww.googleapis.com%2fauth%2fdocs.test%20https%3a%2f%2fwww.googleapis.com%2fauth%2fdrive%20https%3a%2f%2fwww.googleapis.com%2fauth%2fdrive.photos.readonly%20https%3a%2f%2fwww.googleapis.com%2fauth%2fpeopleapi.readonly\n",
      "\n",
      "Enter your authorization code:\n",
      "··········\n",
      "Mounted at /content/drive/\n"
     ]
    }
   ],
   "source": [
    "# google drive 연동\n",
    "from google.colab import drive\n",
    "drive.mount('/content/drive/')"
   ]
  },
  {
   "cell_type": "code",
   "execution_count": 3,
   "metadata": {
    "colab": {},
    "colab_type": "code",
    "id": "Zy7MqEh35Prl"
   },
   "outputs": [],
   "source": [
    "import os\n",
    "os.getcwd()\n",
    "os.chdir(\"/content/drive/My Drive/Colab Notebooks\")"
   ]
  },
  {
   "cell_type": "code",
   "execution_count": 4,
   "metadata": {
    "colab": {},
    "colab_type": "code",
    "id": "WfPoXVvi5ytt"
   },
   "outputs": [],
   "source": [
    "from gensim.models import Word2Vec, KeyedVectors\n",
    "import csv\n",
    "import re\n",
    "\n",
    "def open_csv():\n",
    "    # csv파일을 연다!\n",
    "    f = open('IMDB Dataset.csv', 'r', encoding='utf-8')\n",
    "    csvreader = csv.reader(f)\n",
    "    \n",
    "    doc_list = []\n",
    "\n",
    "    next(csvreader)\n",
    "    for f in csvreader:\n",
    "        line = re.compile(\"[^\\w]\").sub(' ', f[0].lower())\n",
    "        doc_list.append(line.split())\n",
    "\n",
    "    return doc_list\n",
    "\n",
    "doc_list = open_csv()"
   ]
  },
  {
   "cell_type": "code",
   "execution_count": 5,
   "metadata": {
    "colab": {
     "base_uri": "https://localhost:8080/",
     "height": 216
    },
    "colab_type": "code",
    "id": "vVlsLEi84w9v",
    "outputId": "4ba55d6d-3cc2-42d0-ab96-aea2a2eebcca"
   },
   "outputs": [
    {
     "name": "stdout",
     "output_type": "stream",
     "text": [
      "Performing 10 training epochs with 4 threads\n",
      "Epoch 0\n",
      "Epoch 1\n",
      "Epoch 2\n",
      "Epoch 3\n",
      "Epoch 4\n",
      "Epoch 5\n",
      "Epoch 6\n",
      "Epoch 7\n",
      "Epoch 8\n",
      "Epoch 9\n"
     ]
    }
   ],
   "source": [
    "from glove import Corpus, Glove \n",
    "# corpus : 단어, 텍스트를 저장하는 객체 (like list)\n",
    "\n",
    "corpus = Corpus()\n",
    "corpus.fit(doc_list, window=3)\n",
    "\n",
    "\n",
    "\n",
    "# 임베딩을 최적화해 나갈 때 경사하강법을 사용함\n",
    "glove = Glove(no_components=50, learning_rate=0.05)\n",
    "  # no_components : output vector size\n",
    "\n",
    "# training-------------------------------------------------------\n",
    "glove.fit(corpus.matrix, epochs=10, no_threads=4, verbose=True)\n",
    "  # no_threads : workers\n",
    "  # verbose : 훈련 내용 출력"
   ]
  },
  {
   "cell_type": "code",
   "execution_count": 6,
   "metadata": {
    "colab": {},
    "colab_type": "code",
    "id": "3M7X0kVW4rK9"
   },
   "outputs": [],
   "source": [
    "# 유사도 검색---------------------------------------------------\n",
    "glove.add_dictionary(corpus.dictionary) # 행렬의 index에 해당하는 정보를 단어 이름으로 검색할 수 있게 함"
   ]
  },
  {
   "cell_type": "code",
   "execution_count": 7,
   "metadata": {
    "colab": {
     "base_uri": "https://localhost:8080/",
     "height": 35
    },
    "colab_type": "code",
    "id": "GPUuYZSL63k6",
    "outputId": "dbc44d7d-abbf-4cab-e9b4-5ab60b818518"
   },
   "outputs": [
    {
     "name": "stdout",
     "output_type": "stream",
     "text": [
      "[('baby', 0.9130754558123968), ('business', 0.9062528806873447), ('horse', 0.8964228286429897), ('victim', 0.8939840635263233)]\n"
     ]
    }
   ],
   "source": [
    "glove_result1 = glove.most_similar('dog')\n",
    "print(glove_result1)"
   ]
  },
  {
   "cell_type": "markdown",
   "metadata": {
    "colab_type": "text",
    "id": "AAPO5ULG4rat"
   },
   "source": [
    "실제로는 most_similar를 많이 사용하지는 않음. 이를 통해 단어 임베딩을 하는 것이 목적임.\n",
    "\n",
    "---\n",
    "\n",
    "# 케라스 토크나이저"
   ]
  },
  {
   "cell_type": "code",
   "execution_count": 14,
   "metadata": {
    "colab": {
     "base_uri": "https://localhost:8080/",
     "height": 180
    },
    "colab_type": "code",
    "id": "_uINfblA7cdD",
    "outputId": "3d7c468f-220d-4f6c-b265-66982ab03357"
   },
   "outputs": [
    {
     "name": "stdout",
     "output_type": "stream",
     "text": [
      "{'this': 1, 'tokenizer': 2, 'is': 3, 'good': 4}\n",
      "OrderedDict([('this', 1), ('tokenizer', 1), ('is', 1), ('good', 1)])\n",
      "[[1, 2, 3, 4, 4]]\n",
      "[[0 1 2]\n",
      " [0 3 4]\n",
      " [0 5 6]]\n",
      "[[0. 1. 0. 0. 0. 0. 0. 1. 1. 1. 1. 0. 0. 0. 0. 0.]\n",
      " [0. 1. 1. 0. 0. 0. 0. 0. 0. 0. 0. 1. 1. 1. 0. 0.]\n",
      " [0. 3. 1. 0. 0. 0. 0. 0. 0. 0. 0. 0. 0. 0. 1. 1.]]\n"
     ]
    }
   ],
   "source": [
    "from tensorflow.keras.preprocessing.text import Tokenizer\n",
    "from tensorflow.keras.preprocessing.sequence import pad_sequences # padding\n",
    "\n",
    "\n",
    "token = Tokenizer()\n",
    "text = \"This tokenizer is good\"\n",
    "token.fit_on_texts([text])\n",
    "\n",
    "# 단어 집합---------------------------------\n",
    "print(token.word_index)\n",
    "# 단어 빈도---------------------------------\n",
    "print(token.word_counts)\n",
    "# 인덱스 부여, 정수 인코딩------------------\n",
    "text_2 = \"This tokenizer is not good good\"\n",
    "int_encoding = token.texts_to_sequences([text_2]) # 만들어진 tokenizer를 이용해서 index를 지정\n",
    "print(int_encoding) # [1, 2, 3, 4, 4] : not은 이전 텍스트에 없었기 때문에 index 출력X\n",
    "\n",
    "# padding-----------------------------------\n",
    "# 샘플의 길이를 맞출 때 사용\n",
    "# 없는 부분을 0으로 표시(pre면 앞에 0, post면 뒤에 0)\n",
    "padding = pad_sequences([[1, 2], [3, 4], [5, 6]], maxlen=3, padding='pre')\n",
    "print(padding)\n",
    "\n",
    "# 행렬화------------------------------------\n",
    "text_list= ['안녕하세요 감사해요 잘있어요 다시 만나요',\n",
    "    '안녕하세요 오늘도 좋은 하루 보내세요',\n",
    "    '안녕하세요 안녕하세요 안녕하세요 오늘도 날씨가 좋네요']\n",
    "token.fit_on_texts(text_list)\n",
    "matrix = token.texts_to_matrix(text_list, mode='count')\n",
    "       # mode : count는 dtm, binary는 존재 여부 표시, freq 빈도율, tfidf는 tfidf 행렬\n",
    "print(matrix)"
   ]
  },
  {
   "cell_type": "code",
   "execution_count": 16,
   "metadata": {
    "colab": {
     "base_uri": "https://localhost:8080/",
     "height": 55
    },
    "colab_type": "code",
    "id": "lgmA2UlQ8XqN",
    "outputId": "5337cb83-535f-4259-aec6-8dbd7c759da5"
   },
   "outputs": [
    {
     "name": "stdout",
     "output_type": "stream",
     "text": [
      "{'안녕하세요': 1, '오늘도': 2, 'this': 3, 'tokenizer': 4, 'is': 5, 'good': 6, '감사해요': 7, '잘있어요': 8, '다시': 9, '만나요': 10, '좋은': 11, '하루': 12, '보내세요': 13, '날씨가': 14, '좋네요': 15}\n"
     ]
    }
   ],
   "source": [
    "print(token.word_index)"
   ]
  },
  {
   "cell_type": "code",
   "execution_count": null,
   "metadata": {
    "colab": {},
    "colab_type": "code",
    "id": "Pf2owNPB7f0_"
   },
   "outputs": [],
   "source": []
  },
  {
   "cell_type": "code",
   "execution_count": null,
   "metadata": {
    "colab": {},
    "colab_type": "code",
    "id": "CqY1EI2Z7fhR"
   },
   "outputs": [],
   "source": []
  },
  {
   "cell_type": "code",
   "execution_count": null,
   "metadata": {
    "colab": {},
    "colab_type": "code",
    "id": "XSeidvg14rgG"
   },
   "outputs": [],
   "source": []
  },
  {
   "cell_type": "code",
   "execution_count": null,
   "metadata": {
    "colab": {},
    "colab_type": "code",
    "id": "lkaqLm8J4rkY"
   },
   "outputs": [],
   "source": []
  },
  {
   "cell_type": "code",
   "execution_count": null,
   "metadata": {
    "colab": {},
    "colab_type": "code",
    "id": "w8VNKUS04rn8"
   },
   "outputs": [],
   "source": []
  },
  {
   "cell_type": "code",
   "execution_count": null,
   "metadata": {
    "colab": {},
    "colab_type": "code",
    "id": "je1lwY3c4rra"
   },
   "outputs": [],
   "source": []
  },
  {
   "cell_type": "code",
   "execution_count": null,
   "metadata": {
    "colab": {},
    "colab_type": "code",
    "id": "PtJ3AUMC4ruW"
   },
   "outputs": [],
   "source": []
  },
  {
   "cell_type": "code",
   "execution_count": null,
   "metadata": {
    "colab": {},
    "colab_type": "code",
    "id": "NGHjhShX4rxC"
   },
   "outputs": [],
   "source": []
  }
 ],
 "metadata": {
  "colab": {
   "collapsed_sections": [],
   "name": "08_Embedding_Glove.ipynb",
   "provenance": []
  },
  "kernelspec": {
   "display_name": "Python 3",
   "language": "python",
   "name": "python3"
  },
  "language_info": {
   "codemirror_mode": {
    "name": "ipython",
    "version": 3
   },
   "file_extension": ".py",
   "mimetype": "text/x-python",
   "name": "python",
   "nbconvert_exporter": "python",
   "pygments_lexer": "ipython3",
   "version": "3.7.6"
  }
 },
 "nbformat": 4,
 "nbformat_minor": 1
}
