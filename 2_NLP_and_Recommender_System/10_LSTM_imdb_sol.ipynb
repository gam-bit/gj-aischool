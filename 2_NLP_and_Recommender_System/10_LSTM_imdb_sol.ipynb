{
  "nbformat": 4,
  "nbformat_minor": 0,
  "metadata": {
    "colab": {
      "name": "10_LSTM_imdb_sol.ipynb",
      "provenance": [],
      "private_outputs": true,
      "collapsed_sections": []
    },
    "kernelspec": {
      "display_name": "Python 3",
      "language": "python",
      "name": "python3"
    }
  },
  "cells": [
    {
      "cell_type": "code",
      "metadata": {
        "colab_type": "code",
        "id": "g2C9h5qC9qDv",
        "colab": {}
      },
      "source": [
        "from tensorflow.keras.preprocessing.sequence import pad_sequences\n",
        "from tensorflow.keras.models import Sequential\n",
        "from tensorflow.keras.layers import Dense, LSTM, Embedding\n",
        "from tensorflow.keras.callbacks import EarlyStopping, ModelCheckpoint"
      ],
      "execution_count": null,
      "outputs": []
    },
    {
      "cell_type": "code",
      "metadata": {
        "colab_type": "code",
        "id": "ElWcBGG0FGxJ",
        "colab": {}
      },
      "source": [
        "# 간단하게 처리하는 방법\n",
        "from tensorflow.keras.datasets import imdb\n",
        "\n",
        "(X_train, y_train), (X_test, y_test) = imdb.load_data(num_words=5000)"
      ],
      "execution_count": null,
      "outputs": []
    },
    {
      "cell_type": "code",
      "metadata": {
        "colab_type": "code",
        "id": "Pb7jiQeYX3lt",
        "colab": {}
      },
      "source": [
        "print(X_train[1])\n",
        "print(y_train[1])"
      ],
      "execution_count": null,
      "outputs": []
    },
    {
      "cell_type": "code",
      "metadata": {
        "colab_type": "code",
        "id": "Dd6GpxL3FiuH",
        "colab": {}
      },
      "source": [
        "# 문장 길이를 맞춰준다\n",
        "max_len = 500\n",
        "X_train = pad_sequences(X_train, maxlen=max_len)\n",
        "X_test = pad_sequences(X_test, maxlen=max_len)"
      ],
      "execution_count": null,
      "outputs": []
    },
    {
      "cell_type": "code",
      "metadata": {
        "colab_type": "code",
        "id": "cvJuOr7aGXI2",
        "colab": {}
      },
      "source": [
        "print(X_train[1])"
      ],
      "execution_count": null,
      "outputs": []
    },
    {
      "cell_type": "code",
      "metadata": {
        "colab_type": "code",
        "id": "5BSOtN80GiTG",
        "colab": {}
      },
      "source": [
        "# 레이어들을 쌓을 모델을 생성\n",
        "model = Sequential()\n",
        "# 단어를 임베딩하는데, 5000개의 단어를 120차원으로 내보내겠다\n",
        "model.add(Embedding(5000, 120))\n",
        "# RNN - simpleRNN / LSTM\n",
        "model.add(LSTM(120))\n",
        "# 긍정/부정을 판단하니까 이진 분류 -> sigmoid 함수 사용\n",
        "model.add(Dense(1, activation='sigmoid'))"
      ],
      "execution_count": null,
      "outputs": []
    },
    {
      "cell_type": "code",
      "metadata": {
        "colab_type": "code",
        "id": "P761nRyqHLUB",
        "colab": {}
      },
      "source": [
        "# 혹시 5회 이상 검증데이터 loss가 증가하면, 과적합될 수 있으므로 학습을 조기종료!\n",
        "early_stop = EarlyStopping(monitor='val_loss', mode='min', verbose=1, patience=5)\n",
        "# 훈련을 거듭하면서, 가장 검증데이터 정확도가 높았던 순간을 체크포인트로 저장\n",
        "model_check = ModelCheckpoint('the_best.h5', monitor='val_acc', mode='max', verbose=1, save_best_only=True)"
      ],
      "execution_count": null,
      "outputs": []
    },
    {
      "cell_type": "code",
      "metadata": {
        "colab_type": "code",
        "id": "29WEfh8GH3UH",
        "colab": {}
      },
      "source": [
        "# 긍정/부정을 판단하니까 손실함수는 이진 교차 엔트로피, 최적화는 adam, 평가 기준은 acc (출력할때 뜬다)\n",
        "model.compile(loss='binary_crossentropy', optimizer='adam', metrics=['acc'])\n",
        "model.fit(X_train, y_train, validation_data=(X_test, y_test), epochs=1, batch_size=64, callbacks=[early_stop, model_check])"
      ],
      "execution_count": null,
      "outputs": []
    },
    {
      "cell_type": "code",
      "metadata": {
        "colab_type": "code",
        "id": "Jx-KCvH9sLQz",
        "colab": {}
      },
      "source": [
        "# 정확도 측정\n",
        "print(model.evaluate(X_test, y_test))"
      ],
      "execution_count": null,
      "outputs": []
    }
  ]
}