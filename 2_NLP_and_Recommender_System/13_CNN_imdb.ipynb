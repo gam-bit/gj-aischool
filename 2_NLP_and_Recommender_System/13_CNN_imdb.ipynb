{
  "nbformat": 4,
  "nbformat_minor": 0,
  "metadata": {
    "colab": {
      "name": "13_CNN_imdb",
      "provenance": [],
      "collapsed_sections": []
    },
    "kernelspec": {
      "name": "python3",
      "display_name": "Python 3"
    }
  },
  "cells": [
    {
      "cell_type": "code",
      "metadata": {
        "id": "_DJHvkn0FAp8",
        "colab_type": "code",
        "colab": {}
      },
      "source": [
        "import os\n",
        "os.getcwd()\n",
        "os.chdir(\"/content/drive/My Drive/Colab Notebooks\")"
      ],
      "execution_count": 13,
      "outputs": []
    },
    {
      "cell_type": "code",
      "metadata": {
        "id": "rtUepBI6FHRU",
        "colab_type": "code",
        "colab": {}
      },
      "source": [
        "from tensorflow.keras.preprocessing.text import Tokenizer\n",
        "from tensorflow.keras.preprocessing.sequence import pad_sequences\n",
        "from tensorflow.keras.models import Sequential, Model\n",
        "from tensorflow.keras.layers import Dense, LSTM, Embedding, Conv1D, GlobalMaxPooling1D, Flatten, Concatenate, Input\n",
        "from tensorflow.keras.callbacks import EarlyStopping, ModelCheckpoint\n",
        "from tensorflow.keras.models import load_model\n",
        "import pandas as pd\n",
        "import numpy as np\n",
        "from sklearn.model_selection import train_test_split"
      ],
      "execution_count": 18,
      "outputs": []
    },
    {
      "cell_type": "code",
      "metadata": {
        "id": "pKHZoi2kFYpx",
        "colab_type": "code",
        "colab": {
          "base_uri": "https://localhost:8080/",
          "height": 125
        },
        "outputId": "cb3cbade-3516-41c8-b423-222319753eb8"
      },
      "source": [
        "imdb_data = pd.read_csv(\"IMDB Dataset.csv\")\n",
        "print(imdb_data.head())"
      ],
      "execution_count": 19,
      "outputs": [
        {
          "output_type": "stream",
          "text": [
            "                                              review sentiment\n",
            "0  One of the other reviewers has mentioned that ...  positive\n",
            "1  A wonderful little production. <br /><br />The...  positive\n",
            "2  I thought this was a wonderful way to spend ti...  positive\n",
            "3  Basically there's a family where a little boy ...  negative\n",
            "4  Petter Mattei's \"Love in the Time of Money\" is...  positive\n"
          ],
          "name": "stdout"
        }
      ]
    },
    {
      "cell_type": "code",
      "metadata": {
        "id": "KY785QlCFo9o",
        "colab_type": "code",
        "colab": {
          "base_uri": "https://localhost:8080/",
          "height": 89
        },
        "outputId": "be18a4d8-d732-4641-dc65-5abae6de706e"
      },
      "source": [
        "# pos, neg 값을 숫자로 변형(1, 0)\n",
        "imdb_data['sentiment'] = imdb_data['sentiment'].replace('positive', 1)\n",
        "imdb_data['sentiment'] = imdb_data['sentiment'].replace('negative', 0)\n",
        "\n",
        "\n",
        "# 전처리---------------------------------------------------------------\n",
        "# 1) 단어가 아니면 삭제\n",
        "imdb_data['review'] = imdb_data['review'].str.replace(\"[^\\w]|br\", \" \")\n",
        "# 2) 공백만 있는 경우 null array로 변환\n",
        "imdb_data['review'] = imdb_data['review'].replace('', np.nan)\n",
        "imdb_data['sentiment'] = imdb_data['sentiment'].replace('', np.nan)\n",
        "# 3) null인 행 제거\n",
        "imdb_data = imdb_data.dropna(how='any', axis=0)\n",
        "print(\"# preprocessing done\")\n",
        "#---------------------------------------------------------------------\n",
        "\n",
        "review_train, review_test, y_train, y_test = train_test_split(imdb_data['review'], imdb_data['sentiment'], shuffle=False, random_state=34)\n",
        "     # default : test_size = 0.25\n",
        "print(\"# split done\")\n",
        "#---------------------------------------------------------------------\n",
        "\n",
        "# 리뷰 문장 -> 토크나이즈(using split)\n",
        "stopwords = ['a', 'an', 'the']\n",
        "\n",
        "X_train = []\n",
        "for stc in review_train:\n",
        "    token = []\n",
        "    words = stc.split()\n",
        "    for word in words:\n",
        "      if word not in stopwords:\n",
        "        token.append(word)\n",
        "    X_train.append(token)\n",
        "\n",
        "X_test = []\n",
        "for stc in review_test:\n",
        "    token = []\n",
        "    words = stc.split()\n",
        "    for word in words:\n",
        "      if word not in stopwords:\n",
        "        token.append(word)\n",
        "    X_test.append(token)\n",
        "print(\"# tokenization done\")\n",
        "#-----------------------------------------------------------------------\n",
        "\n",
        "# 단어 -> 정수 인코딩\n",
        "# 임베딩 전 컴퓨터가 단어를 구별할 수 있도록 함. OHE로 바꿔서 하는 것과 동일한 맥락\n",
        "tokenizer = Tokenizer(5000)\n",
        "tokenizer.fit_on_texts(X_train) # 각 단어에 정수 인덱스를 부여\n",
        "X_train = tokenizer.texts_to_sequences(X_train)\n",
        "X_test = tokenizer.texts_to_sequences(X_test)\n",
        "print(\"# int_encoding done\")"
      ],
      "execution_count": 20,
      "outputs": [
        {
          "output_type": "stream",
          "text": [
            "# preprocessing done\n",
            "# split done\n",
            "# tokenization done\n",
            "# int_encoding done\n"
          ],
          "name": "stdout"
        }
      ]
    },
    {
      "cell_type": "code",
      "metadata": {
        "id": "qxhaVtsB-YX_",
        "colab_type": "code",
        "colab": {
          "base_uri": "https://localhost:8080/",
          "height": 337
        },
        "outputId": "28199c28-3f1d-40a5-eead-a97df3e34d64"
      },
      "source": [
        "import matplotlib.pyplot as plt\n",
        "\n",
        "len_stc = []\n",
        "for data in X_train:\n",
        "    len_stc.append(len(data))\n",
        "\n",
        "y, x, _ = plt.hist(len_stc, bins=100)\n",
        "print(sum(len_stc)/len(len_stc))\n",
        "print(y.max())\n",
        "print(x.max())\n",
        "print(x[np.where(y==y.max())])"
      ],
      "execution_count": 21,
      "outputs": [
        {
          "output_type": "stream",
          "text": [
            "194.66568\n",
            "4705.0\n",
            "1743.0\n",
            "[108.34]\n"
          ],
          "name": "stdout"
        },
        {
          "output_type": "display_data",
          "data": {
            "image/png": "[encoded data removed]",
            "text/plain": [
              "<Figure size 432x288 with 1 Axes>"
            ]
          },
          "metadata": {
            "tags": [],
            "needs_background": "light"
          }
        }
      ]
    },
    {
      "cell_type": "code",
      "metadata": {
        "id": "qx1epSRqF78-",
        "colab_type": "code",
        "colab": {}
      },
      "source": [
        "# 문장마다 길이가 다르므로 길이를 맞춰주기\n",
        "# 문장마다 embedding layer를 통과하게 할 것이기 때문\n",
        "\n",
        "# max_len은 데이터셋을 보면서 최대 문장의 길이로 설정\n",
        "# max_len = max([len(x) for x in X_train]) # 1743\n",
        "max_len = 200\n",
        "X_train = pad_sequences(X_train, maxlen=max_len) # 더 길면 자르고, 짧으면 0을 추가\n",
        "X_test = pad_sequences(X_test, maxlen=max_len)"
      ],
      "execution_count": 22,
      "outputs": []
    },
    {
      "cell_type": "code",
      "metadata": {
        "id": "HsZKxGFbGYsK",
        "colab_type": "code",
        "colab": {
          "base_uri": "https://localhost:8080/",
          "height": 289
        },
        "outputId": "04daca19-97de-4218-fc86-b1f672d41a23"
      },
      "source": [
        "print(X_train[0])"
      ],
      "execution_count": 23,
      "outputs": [
        {
          "output_type": "stream",
          "text": [
            "[  55   15    3 1437  376   38  562   90    4 3686    6  362  356    2\n",
            "  658    5    4  435 2916   13    9    4  359    3 2590 1063    5 2683\n",
            " 1422   21  514 4799 2458    2 1164  114   29   26 2820    1  389   34\n",
            "    4   22  302   21 4772 1689  514    4  348    3  105 4746 2374    1\n",
            "   49   34  327    1   24  110  228  239    7   58  132  285 1322    2\n",
            "  117    4  683    3  191    9    5  271  114   70  278  586   20 3064\n",
            "  830  181 1320 4259   16 2447 1205  830 1418  830  877 2916  155   20\n",
            "  950  186   12   85  410    7  122  210 3229   66   13   34 1599    5\n",
            "   11 2306    7  421   20  132    7   11 1593   16    5   17   13    7\n",
            "  292   49    7 1425 1294   16 2916    1  192    3  302 2132    2 2205\n",
            "  562   22   39  562   17   33  229   28 2841   41   16   33  229  506\n",
            "   21  624    1   74  239   15    5   67  652  689  108  648   81 1164\n",
            "  683    3   64  560    2  894 2095   38 1164  542  147 2916   19  202\n",
            "  434 3712   15   45    4 3407  808 1666   43   19   48   74    6 1190\n",
            "   15  125 4260  488]\n"
          ],
          "name": "stdout"
        }
      ]
    },
    {
      "cell_type": "code",
      "metadata": {
        "id": "XrCnp-OiGayj",
        "colab_type": "code",
        "colab": {}
      },
      "source": [
        "# 모델 생성-------------------------------------------\n",
        "# CNN 모델 : Embedding → Conv → Pooling → Flatten → Dense\n",
        "\n",
        "model = Sequential()\n",
        "# 단어 임베딩 -> 5000개의 단어를 256차원으로 내보내겠다(정수 -> 256 dimension vector)\n",
        "model.add(Embedding(5000, 256))\n",
        "model.add(Conv1D(256, 3, padding='valid', activation='relu')) # 커널 수: 256, 커널의 크기: 3(단어를 3개씩 봄)\n",
        "model.add(GlobalMaxPooling1D()) # 모든 feature map에서 max pooling을 해서 하나의 vector로 full layer를 위한 출력값이 나옴 \n",
        "# model.add(Flatten()) # 2차원이상의 CNN에서 사용\n",
        "model.add(Dense(1, activation='sigmoid'))\n",
        "#------------------------------------------------------"
      ],
      "execution_count": 24,
      "outputs": []
    },
    {
      "cell_type": "code",
      "metadata": {
        "id": "fAtpX6-TH6PG",
        "colab_type": "code",
        "colab": {
          "base_uri": "https://localhost:8080/",
          "height": 200
        },
        "outputId": "212b1302-8fa3-4f2a-cc15-dde02a92ff29"
      },
      "source": [
        "model.compile(loss='binary_crossentropy', optimizer='adam', metrics=['acc'])\n",
        "model.fit(X_train, y_train, validation_data=(X_test, y_test), epochs=4)"
      ],
      "execution_count": 27,
      "outputs": [
        {
          "output_type": "stream",
          "text": [
            "Epoch 1/4\n",
            "1172/1172 [==============================] - 202s 173ms/step - loss: 0.2493 - acc: 0.8980 - val_loss: 0.2390 - val_acc: 0.9026\n",
            "Epoch 2/4\n",
            "1172/1172 [==============================] - 205s 175ms/step - loss: 0.1418 - acc: 0.9491 - val_loss: 0.2557 - val_acc: 0.9011\n",
            "Epoch 3/4\n",
            "1172/1172 [==============================] - 199s 170ms/step - loss: 0.0574 - acc: 0.9842 - val_loss: 0.2977 - val_acc: 0.8975\n",
            "Epoch 4/4\n",
            "1172/1172 [==============================] - 193s 164ms/step - loss: 0.0171 - acc: 0.9969 - val_loss: 0.3798 - val_acc: 0.8937\n"
          ],
          "name": "stdout"
        },
        {
          "output_type": "execute_result",
          "data": {
            "text/plain": [
              "<tensorflow.python.keras.callbacks.History at 0x7f857ad79e10>"
            ]
          },
          "metadata": {
            "tags": []
          },
          "execution_count": 27
        }
      ]
    },
    {
      "cell_type": "code",
      "metadata": {
        "id": "lOS69dLbDxL-",
        "colab_type": "code",
        "colab": {}
      },
      "source": [
        "# 앙상블 모델 생성-------------------------------------------\n",
        "# CNN 모델 : Embedding → Conv → Pooling → Flatten → Dense\n",
        "# 함수형 API 사용\n",
        "\n",
        "# 함수형 케라스 -- 복잡한 모델을 구현할 때 사용\n",
        "inputs = Input(shape=(200, ))\n",
        "embed = Embedding(5000, 256)(inputs)\n",
        "\n",
        "\n",
        "# 모델 합성\n",
        "concat_layers = []\n",
        "\n",
        "conv = Conv1D(256, 3, padding='valid', activation='relu')(embed)\n",
        "pool = GlobalMaxPooling1D()(conv)\n",
        "flat = Flatten()(pool)\n",
        "concat_layers.append(flat)\n",
        "\n",
        "conv = Conv1D(256, 4, padding='valid', activation='relu')(embed)\n",
        "pool = GlobalMaxPooling1D()(conv)\n",
        "flat = Flatten()(pool)\n",
        "concat_layers.append(flat)\n",
        "\n",
        "conv = Conv1D(256, 5, padding='valid', activation='relu')(embed)\n",
        "pool = GlobalMaxPooling1D()(conv)\n",
        "flat = Flatten()(pool)\n",
        "concat_layers.append(flat)\n",
        "\n",
        "####\n",
        "concat = Concatenate(concat_layers)\n",
        "outputs = Dense(1, activation='sigmoid')(concat)\n",
        "model = Model(inputs, outputs)"
      ],
      "execution_count": null,
      "outputs": []
    },
    {
      "cell_type": "code",
      "metadata": {
        "id": "_GHKn4O781FX",
        "colab_type": "code",
        "colab": {}
      },
      "source": [
        "model.compile(loss='binary_crossentropy', optimizer='adam', metrics=['acc'])\n",
        "model.fit(X_train, y_train, validation_data=(X_test, y_test), epochs=4)"
      ],
      "execution_count": null,
      "outputs": []
    },
    {
      "cell_type": "code",
      "metadata": {
        "id": "ExJtSAxSGjUl",
        "colab_type": "code",
        "colab": {}
      },
      "source": [
        ""
      ],
      "execution_count": null,
      "outputs": []
    }
  ]
}