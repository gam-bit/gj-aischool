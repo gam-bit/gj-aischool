{
  "nbformat": 4,
  "nbformat_minor": 0,
  "metadata": {
    "colab": {
      "name": "14_twitter data_감성분석.ipynb",
      "provenance": [],
      "collapsed_sections": []
    },
    "kernelspec": {
      "name": "python3",
      "display_name": "Python 3"
    },
    "accelerator": "GPU"
  },
  "cells": [
    {
      "cell_type": "code",
      "metadata": {
        "id": "kb8k9xrfE5l4",
        "colab_type": "code",
        "colab": {}
      },
      "source": [
        "from tensorflow.keras.models import Sequential, Model\n",
        "from tensorflow.keras.layers import Embedding, Conv1D, GlobalMaxPooling1D, LSTM, Dense, Flatten, Concatenate, Input, Dropout, SimpleRNN\n",
        "from tensorflow.keras.utils import to_categorical\n",
        "from tensorflow.keras.preprocessing.sequence import pad_sequences\n",
        "from tensorflow.keras.preprocessing.text import Tokenizer\n",
        "\n",
        "import matplotlib.pyplot as plt\n",
        "import os\n",
        "import pandas as pd\n",
        "import numpy as np\n",
        "\n",
        "from sklearn.model_selection import train_test_split\n",
        "import warnings\n",
        "warnings.filterwarnings(action='ignore')\n",
        "\n",
        "\n",
        "import nltk\n",
        "from nltk.corpus import stopwords\n",
        "from  nltk.stem import SnowballStemmer"
      ],
      "execution_count": null,
      "outputs": []
    },
    {
      "cell_type": "code",
      "metadata": {
        "id": "OrzFe54gN4XQ",
        "colab_type": "code",
        "colab": {}
      },
      "source": [
        "os.chdir('/content/drive/My Drive/Colab Notebooks')"
      ],
      "execution_count": null,
      "outputs": []
    },
    {
      "cell_type": "markdown",
      "metadata": {
        "id": "giO209zmFMOq",
        "colab_type": "text"
      },
      "source": [
        "# [캐글 tweet-sentiment-data](https://www.kaggle.com/maxjon/complete-tweet-sentiment-extraction-data/)를 이용한 감성분석 \n",
        "\n",
        "\n",
        "## 1. Preprocessing"
      ]
    },
    {
      "cell_type": "code",
      "metadata": {
        "id": "2-PA15RANYo1",
        "colab_type": "code",
        "colab": {
          "base_uri": "https://localhost:8080/",
          "height": 89
        },
        "outputId": "5f9c4d84-0f49-40bd-ef6d-3a105a5fe084"
      },
      "source": [
        "# 데이터 로드---------------------------------------\n",
        "tweet_data = pd.read_csv('./data/tweet_dataset.csv')\n",
        "# tweet_data.head()\n",
        "tweet = tweet_data[['text', 'sentiment']]\n",
        "\n",
        "# print(tweet.sentiment.unique(), '→', tweet.sentiment.nunique())  \n",
        "# print(tweet.isna().sum()) # text에 66개의 null data 있음\n",
        "print(\"# loaded data\")\n",
        "\n",
        "\n",
        "\n",
        "# 데이터 전처리-------------------------------------\n",
        "tweet['text'] = tweet['text'].apply(lambda x: str(x).lower())\n",
        "tweet['text'] = tweet['text'].str.replace(r'[^\\w]', ' ')\n",
        "tweet['text'] = tweet['text'].replace('', np.nan)\n",
        "\n",
        "y_cate_list = pd.factorize(tweet['sentiment'])[1]\n",
        "tweet['senti_label'] = pd.factorize(tweet['sentiment'])[0]\n",
        "\n",
        "tweet = tweet.dropna(how='any', axis=0)\n",
        "tweet = tweet[tweet['text'] != 'nan']\n",
        "print('# preprocessing done')\n",
        "\n",
        "\n",
        "# split---------------------------------------------\n",
        "txt_train, txt_test, y_train, y_test = train_test_split(tweet['text'], tweet['senti_label'], test_size=0.2, shuffle=True, random_state=1234)\n",
        "print('# split done')\n",
        "\n",
        "# y OHE-------------------------------------\n",
        "y_train = to_categorical(y_train)\n",
        "y_test = to_categorical(y_test)\n",
        "\n",
        "\n",
        "# 토큰화--------------------------------------------\n",
        "stopwords = ['a', 'an', 'in', 'on', 'and', 'for', 'the', 's', 'to', 'is', 'with', 'of', 'you',\n",
        "             'at', 'that', 'what', 'this', 'be', 'your', 't', 'it', 'from', 'are', 'about', 'as', 'i', 'my']\n",
        "\n",
        "X_train = []\n",
        "for stc in txt_train:\n",
        "    token = []\n",
        "    words = stc.split()\n",
        "    for word in words:\n",
        "        if word not in stopwords:\n",
        "            token.append(word)\n",
        "    X_train.append(token)\n",
        "\n",
        "X_test = []\n",
        "for stc in txt_test:\n",
        "    token = []\n",
        "    words = stc.split()\n",
        "    for word in words:\n",
        "        if word not in stopwords:\n",
        "            token.append(word)\n",
        "    X_test.append(token)\n",
        "\n",
        "print('# tokenization done')"
      ],
      "execution_count": null,
      "outputs": [
        {
          "output_type": "stream",
          "text": [
            "# loaded data\n",
            "# preprocessing done\n",
            "# split done\n",
            "# tokenization done\n"
          ],
          "name": "stdout"
        }
      ]
    },
    {
      "cell_type": "code",
      "metadata": {
        "id": "sYbpBWULS8dn",
        "colab_type": "code",
        "colab": {
          "base_uri": "https://localhost:8080/",
          "height": 573
        },
        "outputId": "0bcad172-2bbc-4a2f-a51d-e265a08a1673"
      },
      "source": [
        "# 정수 인코딩 이전 과정\n",
        "tokenizer = Tokenizer()\n",
        "tokenizer.fit_on_texts(X_train)\n",
        "\n",
        "# > 단어 개수 확인\n",
        "print(\"전체 단어 개수:\", len(tokenizer.word_index))\n",
        "print(\"빈도수 3이상인 단어 개수:\", len([token for token, count in tokenizer.word_counts.items() if count >= 3]))\n",
        "print(\"빈도수 4이상인 단어 개수:\", len([token for token, count in tokenizer.word_counts.items() if count >= 4]))\n",
        "plt.subplots()\n",
        "plt.hist(list(tokenizer.word_counts.values()))\n",
        "plt.subplots()\n",
        "plt.boxplot(list(tokenizer.word_counts.values()));"
      ],
      "execution_count": null,
      "outputs": [
        {
          "output_type": "stream",
          "text": [
            "전체 단어 개수: 29043\n",
            "빈도수 3이상인 단어 개수: 7772\n",
            "빈도수 4이상인 단어 개수: 6012\n"
          ],
          "name": "stdout"
        },
        {
          "output_type": "display_data",
          "data": {
            "image/png": "[encoded data removed]",
            "text/plain": [
              "<Figure size 432x288 with 1 Axes>"
            ]
          },
          "metadata": {
            "tags": [],
            "needs_background": "light"
          }
        },
        {
          "output_type": "display_data",
          "data": {
            "image/png": "[encoded data removed]",
            "text/plain": [
              "<Figure size 432x288 with 1 Axes>"
            ]
          },
          "metadata": {
            "tags": [],
            "needs_background": "light"
          }
        }
      ]
    },
    {
      "cell_type": "code",
      "metadata": {
        "id": "1TLcFbCnQpxy",
        "colab_type": "code",
        "colab": {
          "base_uri": "https://localhost:8080/",
          "height": 35
        },
        "outputId": "25ff2c2d-ecf0-4cdb-c254-89cde7b8aec1"
      },
      "source": [
        "# 정수 인코딩\n",
        "tokenizer = Tokenizer(num_words=7000)\n",
        "tokenizer.fit_on_texts(X_train)\n",
        "X_train = tokenizer.texts_to_sequences(X_train)\n",
        "X_test = tokenizer.texts_to_sequences(X_test)\n",
        "print('# int_encoding done')"
      ],
      "execution_count": null,
      "outputs": [
        {
          "output_type": "stream",
          "text": [
            "# int_encoding done\n"
          ],
          "name": "stdout"
        }
      ]
    },
    {
      "cell_type": "code",
      "metadata": {
        "id": "GgVP6bQMQp1W",
        "colab_type": "code",
        "colab": {
          "base_uri": "https://localhost:8080/",
          "height": 35
        },
        "outputId": "ef069894-cb9a-4689-d2c4-e6e5371127ac"
      },
      "source": [
        "# padding\n",
        "X_train = pad_sequences(X_train, padding='post', maxlen=30)\n",
        "X_test = pad_sequences(X_test, padding='post', maxlen=30)\n",
        "print('# padding done')"
      ],
      "execution_count": null,
      "outputs": [
        {
          "output_type": "stream",
          "text": [
            "# padding done\n"
          ],
          "name": "stdout"
        }
      ]
    },
    {
      "cell_type": "markdown",
      "metadata": {
        "id": "SSoE1BKdOoYw",
        "colab_type": "text"
      },
      "source": [
        "## 2. Training"
      ]
    },
    {
      "cell_type": "code",
      "metadata": {
        "id": "YBd-kxcQY54P",
        "colab_type": "code",
        "colab": {
          "base_uri": "https://localhost:8080/",
          "height": 35
        },
        "outputId": "ea33a7c7-f2a8-4854-f355-8a5ee0867bb2"
      },
      "source": [
        "print(X_train.shape, X_test.shape)"
      ],
      "execution_count": null,
      "outputs": [
        {
          "output_type": "stream",
          "text": [
            "(31947, 30) (7987, 30)\n"
          ],
          "name": "stdout"
        }
      ]
    },
    {
      "cell_type": "markdown",
      "metadata": {
        "id": "Z4dHKFvw_y8U",
        "colab_type": "text"
      },
      "source": [
        "#### - LSTM"
      ]
    },
    {
      "cell_type": "code",
      "metadata": {
        "id": "SNrCYJNiOoct",
        "colab_type": "code",
        "colab": {}
      },
      "source": [
        "# model = Sequential()\n",
        "\n",
        "# model.add(Embedding(7000, 256, input_length=len(X_train[0])))\n",
        "# model.add(LSTM(256))\n",
        "# model.add(Dense(y_train.shape[1], activation='softmax'))"
      ],
      "execution_count": null,
      "outputs": []
    },
    {
      "cell_type": "code",
      "metadata": {
        "id": "s2YEUQMy_Weg",
        "colab_type": "code",
        "colab": {}
      },
      "source": [
        "# model.compile(optimizer='rmsprop', loss='categorical_crossentropy', metrics=['accuracy'])\n",
        "# model.fit(X_train, y_train, epochs=50, validation_data=(X_test, y_test))\n",
        "# # overfitting 조짐이 보여서 lstm layer 수 변경\n",
        "# # 128 -> 32 -> 256 : 32가 제일 낫긴 한데 구리긴 마찬가지(val_acc : 0.3대가 제일 높음)"
      ],
      "execution_count": null,
      "outputs": []
    },
    {
      "cell_type": "markdown",
      "metadata": {
        "id": "cLd4FR60lTCT",
        "colab_type": "text"
      },
      "source": [
        "#### - CNN(LSTM의 성능이 나빠서 solution 참고하여 CNN 사용 → 성능은 LSTM과 비슷하게 좋지 않음)"
      ]
    },
    {
      "cell_type": "code",
      "metadata": {
        "id": "BM4iUiB-_9MY",
        "colab_type": "code",
        "colab": {}
      },
      "source": [
        "# 함수형 케라스\n",
        "inputs = Input(shape=(30,))\n",
        "embed = Embedding(7000, 30)(inputs)\n",
        "drop = Dropout(0.3)(embed)\n",
        "\n",
        "\n",
        "# 모델 합성\n",
        "concat_layers = []\n",
        "\n",
        "conv = Conv1D(30 , 3, padding='same', activation='relu')(drop)\n",
        "pool = GlobalMaxPooling1D()(conv)\n",
        "flat = Flatten()(pool)\n",
        "concat_layers.append(flat)\n",
        "\n",
        "conv = Conv1D(30, 4, padding='same', activation='relu')(drop)\n",
        "pool = GlobalMaxPooling1D()(conv)\n",
        "flat = Flatten()(pool)\n",
        "concat_layers.append(flat)\n",
        "\n",
        "conv = Conv1D(30, 5, padding='same', activation='relu')(drop)\n",
        "pool = GlobalMaxPooling1D()(conv)\n",
        "flat = Flatten()(pool)\n",
        "concat_layers.append(flat)\n",
        "\n",
        "concat = Concatenate()(concat_layers)\n",
        "relu = Dense(64, activation='relu')(concat)\n",
        "drop = Dropout(0.5)(relu)\n",
        "\n",
        "outputs = Dense(y_train[0].shape[0], activation='softmax')(drop)\n",
        "\n",
        "model = Model(inputs, outputs)"
      ],
      "execution_count": null,
      "outputs": []
    },
    {
      "cell_type": "code",
      "metadata": {
        "id": "GWPh3QSrFyva",
        "colab_type": "code",
        "colab": {
          "base_uri": "https://localhost:8080/",
          "height": 1000
        },
        "outputId": "f9bdf074-2aeb-4ce5-e779-4aac7eb08703"
      },
      "source": [
        "model.compile(loss='categorical_crossentropy', optimizer='rmsprop', metrics=['accuracy'])\n",
        "model.fit(X_train, y_train, validation_data=(X_test, y_test), batch_size=64, epochs=100)"
      ],
      "execution_count": null,
      "outputs": [
        {
          "output_type": "stream",
          "text": [
            "Epoch 1/100\n",
            "500/500 [==============================] - 4s 7ms/step - loss: 2.1803 - accuracy: 0.2361 - val_loss: 2.0924 - val_accuracy: 0.2707\n",
            "Epoch 2/100\n",
            "500/500 [==============================] - 3s 7ms/step - loss: 2.0212 - accuracy: 0.3082 - val_loss: 1.9732 - val_accuracy: 0.3268\n",
            "Epoch 3/100\n",
            "500/500 [==============================] - 3s 7ms/step - loss: 1.9476 - accuracy: 0.3427 - val_loss: 1.9303 - val_accuracy: 0.3411\n",
            "Epoch 4/100\n",
            "500/500 [==============================] - 3s 7ms/step - loss: 1.9057 - accuracy: 0.3555 - val_loss: 1.9061 - val_accuracy: 0.3523\n",
            "Epoch 5/100\n",
            "500/500 [==============================] - 3s 7ms/step - loss: 1.8729 - accuracy: 0.3702 - val_loss: 1.8970 - val_accuracy: 0.3528\n",
            "Epoch 6/100\n",
            "500/500 [==============================] - 3s 7ms/step - loss: 1.8499 - accuracy: 0.3804 - val_loss: 1.9038 - val_accuracy: 0.3489\n",
            "Epoch 7/100\n",
            "500/500 [==============================] - 3s 7ms/step - loss: 1.8279 - accuracy: 0.3881 - val_loss: 1.9024 - val_accuracy: 0.3524\n",
            "Epoch 8/100\n",
            "500/500 [==============================] - 3s 7ms/step - loss: 1.8099 - accuracy: 0.3938 - val_loss: 1.9099 - val_accuracy: 0.3529\n",
            "Epoch 9/100\n",
            "500/500 [==============================] - 3s 7ms/step - loss: 1.7931 - accuracy: 0.4005 - val_loss: 1.9089 - val_accuracy: 0.3547\n",
            "Epoch 10/100\n",
            "500/500 [==============================] - 3s 7ms/step - loss: 1.7761 - accuracy: 0.4066 - val_loss: 1.9157 - val_accuracy: 0.3532\n",
            "Epoch 11/100\n",
            "500/500 [==============================] - 3s 7ms/step - loss: 1.7542 - accuracy: 0.4123 - val_loss: 1.9282 - val_accuracy: 0.3533\n",
            "Epoch 12/100\n",
            "500/500 [==============================] - 3s 7ms/step - loss: 1.7441 - accuracy: 0.4178 - val_loss: 1.9306 - val_accuracy: 0.3501\n",
            "Epoch 13/100\n",
            "500/500 [==============================] - 3s 7ms/step - loss: 1.7247 - accuracy: 0.4262 - val_loss: 1.9436 - val_accuracy: 0.3479\n",
            "Epoch 14/100\n",
            "500/500 [==============================] - 3s 7ms/step - loss: 1.7123 - accuracy: 0.4278 - val_loss: 1.9633 - val_accuracy: 0.3472\n",
            "Epoch 15/100\n",
            "500/500 [==============================] - 3s 7ms/step - loss: 1.7009 - accuracy: 0.4330 - val_loss: 1.9572 - val_accuracy: 0.3463\n",
            "Epoch 16/100\n",
            "500/500 [==============================] - 3s 7ms/step - loss: 1.6813 - accuracy: 0.4441 - val_loss: 1.9865 - val_accuracy: 0.3438\n",
            "Epoch 17/100\n",
            "500/500 [==============================] - 3s 7ms/step - loss: 1.6715 - accuracy: 0.4440 - val_loss: 1.9880 - val_accuracy: 0.3476\n",
            "Epoch 18/100\n",
            "500/500 [==============================] - 3s 7ms/step - loss: 1.6637 - accuracy: 0.4470 - val_loss: 1.9885 - val_accuracy: 0.3452\n",
            "Epoch 19/100\n",
            "500/500 [==============================] - 3s 7ms/step - loss: 1.6523 - accuracy: 0.4530 - val_loss: 2.0037 - val_accuracy: 0.3471\n",
            "Epoch 20/100\n",
            "500/500 [==============================] - 3s 7ms/step - loss: 1.6375 - accuracy: 0.4544 - val_loss: 2.0180 - val_accuracy: 0.3427\n",
            "Epoch 21/100\n",
            "500/500 [==============================] - 3s 7ms/step - loss: 1.6317 - accuracy: 0.4597 - val_loss: 2.0238 - val_accuracy: 0.3443\n",
            "Epoch 22/100\n",
            "500/500 [==============================] - 3s 7ms/step - loss: 1.6232 - accuracy: 0.4618 - val_loss: 2.0547 - val_accuracy: 0.3393\n",
            "Epoch 23/100\n",
            "500/500 [==============================] - 3s 7ms/step - loss: 1.6143 - accuracy: 0.4662 - val_loss: 2.0424 - val_accuracy: 0.3427\n",
            "Epoch 24/100\n",
            "500/500 [==============================] - 3s 7ms/step - loss: 1.6089 - accuracy: 0.4726 - val_loss: 2.0556 - val_accuracy: 0.3412\n",
            "Epoch 25/100\n",
            "500/500 [==============================] - 3s 7ms/step - loss: 1.5970 - accuracy: 0.4735 - val_loss: 2.0667 - val_accuracy: 0.3414\n",
            "Epoch 26/100\n",
            "500/500 [==============================] - 3s 7ms/step - loss: 1.5947 - accuracy: 0.4765 - val_loss: 2.0629 - val_accuracy: 0.3389\n",
            "Epoch 27/100\n",
            "500/500 [==============================] - 3s 7ms/step - loss: 1.5851 - accuracy: 0.4783 - val_loss: 2.0900 - val_accuracy: 0.3423\n",
            "Epoch 28/100\n",
            "500/500 [==============================] - 4s 7ms/step - loss: 1.5799 - accuracy: 0.4808 - val_loss: 2.1178 - val_accuracy: 0.3380\n",
            "Epoch 29/100\n",
            "500/500 [==============================] - 4s 7ms/step - loss: 1.5705 - accuracy: 0.4856 - val_loss: 2.1024 - val_accuracy: 0.3392\n",
            "Epoch 30/100\n",
            "500/500 [==============================] - 4s 7ms/step - loss: 1.5579 - accuracy: 0.4871 - val_loss: 2.1127 - val_accuracy: 0.3419\n",
            "Epoch 31/100\n",
            "500/500 [==============================] - 3s 7ms/step - loss: 1.5603 - accuracy: 0.4875 - val_loss: 2.1115 - val_accuracy: 0.3363\n",
            "Epoch 32/100\n",
            "500/500 [==============================] - 3s 7ms/step - loss: 1.5496 - accuracy: 0.4890 - val_loss: 2.1632 - val_accuracy: 0.3345\n",
            "Epoch 33/100\n",
            "500/500 [==============================] - 3s 7ms/step - loss: 1.5461 - accuracy: 0.4908 - val_loss: 2.1190 - val_accuracy: 0.3379\n",
            "Epoch 34/100\n",
            "500/500 [==============================] - 3s 7ms/step - loss: 1.5424 - accuracy: 0.4970 - val_loss: 2.1713 - val_accuracy: 0.3357\n",
            "Epoch 35/100\n",
            "500/500 [==============================] - 3s 7ms/step - loss: 1.5437 - accuracy: 0.4959 - val_loss: 2.1727 - val_accuracy: 0.3412\n",
            "Epoch 36/100\n",
            "500/500 [==============================] - 3s 7ms/step - loss: 1.5293 - accuracy: 0.5007 - val_loss: 2.1845 - val_accuracy: 0.3378\n",
            "Epoch 37/100\n",
            "500/500 [==============================] - 3s 7ms/step - loss: 1.5329 - accuracy: 0.5028 - val_loss: 2.1423 - val_accuracy: 0.3343\n",
            "Epoch 38/100\n",
            "500/500 [==============================] - 3s 7ms/step - loss: 1.5268 - accuracy: 0.5007 - val_loss: 2.1855 - val_accuracy: 0.3403\n",
            "Epoch 39/100\n",
            "500/500 [==============================] - 3s 7ms/step - loss: 1.5259 - accuracy: 0.5087 - val_loss: 2.2244 - val_accuracy: 0.3377\n",
            "Epoch 40/100\n",
            "500/500 [==============================] - 3s 7ms/step - loss: 1.5248 - accuracy: 0.5025 - val_loss: 2.2349 - val_accuracy: 0.3354\n",
            "Epoch 41/100\n",
            "500/500 [==============================] - 3s 7ms/step - loss: 1.5119 - accuracy: 0.5066 - val_loss: 2.2038 - val_accuracy: 0.3357\n",
            "Epoch 42/100\n",
            "500/500 [==============================] - 3s 7ms/step - loss: 1.5091 - accuracy: 0.5079 - val_loss: 2.1921 - val_accuracy: 0.3358\n",
            "Epoch 43/100\n",
            "500/500 [==============================] - 3s 7ms/step - loss: 1.5062 - accuracy: 0.5113 - val_loss: 2.1499 - val_accuracy: 0.3328\n",
            "Epoch 44/100\n",
            "500/500 [==============================] - 3s 7ms/step - loss: 1.5033 - accuracy: 0.5104 - val_loss: 2.2358 - val_accuracy: 0.3364\n",
            "Epoch 45/100\n",
            "500/500 [==============================] - 3s 7ms/step - loss: 1.5085 - accuracy: 0.5093 - val_loss: 2.2802 - val_accuracy: 0.3391\n",
            "Epoch 46/100\n",
            "500/500 [==============================] - 3s 7ms/step - loss: 1.5096 - accuracy: 0.5074 - val_loss: 2.2539 - val_accuracy: 0.3345\n",
            "Epoch 47/100\n",
            "500/500 [==============================] - 3s 7ms/step - loss: 1.5010 - accuracy: 0.5118 - val_loss: 2.2398 - val_accuracy: 0.3334\n",
            "Epoch 48/100\n",
            "500/500 [==============================] - 3s 7ms/step - loss: 1.4935 - accuracy: 0.5133 - val_loss: 2.2556 - val_accuracy: 0.3292\n",
            "Epoch 49/100\n",
            "500/500 [==============================] - 3s 7ms/step - loss: 1.5009 - accuracy: 0.5103 - val_loss: 2.2458 - val_accuracy: 0.3322\n",
            "Epoch 50/100\n",
            "500/500 [==============================] - 3s 7ms/step - loss: 1.4996 - accuracy: 0.5131 - val_loss: 2.2546 - val_accuracy: 0.3319\n",
            "Epoch 51/100\n",
            "500/500 [==============================] - 3s 7ms/step - loss: 1.4995 - accuracy: 0.5120 - val_loss: 2.2854 - val_accuracy: 0.3323\n",
            "Epoch 52/100\n",
            "500/500 [==============================] - 3s 7ms/step - loss: 1.4989 - accuracy: 0.5112 - val_loss: 2.2654 - val_accuracy: 0.3339\n",
            "Epoch 53/100\n",
            "500/500 [==============================] - 3s 6ms/step - loss: 1.5030 - accuracy: 0.5145 - val_loss: 2.2143 - val_accuracy: 0.3319\n",
            "Epoch 54/100\n",
            "500/500 [==============================] - 3s 7ms/step - loss: 1.4957 - accuracy: 0.5141 - val_loss: 2.2780 - val_accuracy: 0.3347\n",
            "Epoch 55/100\n",
            "500/500 [==============================] - 3s 7ms/step - loss: 1.4955 - accuracy: 0.5119 - val_loss: 2.3023 - val_accuracy: 0.3328\n",
            "Epoch 56/100\n",
            "500/500 [==============================] - 3s 7ms/step - loss: 1.4884 - accuracy: 0.5179 - val_loss: 2.2763 - val_accuracy: 0.3302\n",
            "Epoch 57/100\n",
            "500/500 [==============================] - 3s 6ms/step - loss: 1.4927 - accuracy: 0.5176 - val_loss: 2.3126 - val_accuracy: 0.3317\n",
            "Epoch 58/100\n",
            "500/500 [==============================] - 3s 6ms/step - loss: 1.4954 - accuracy: 0.5149 - val_loss: 2.2408 - val_accuracy: 0.3305\n",
            "Epoch 59/100\n",
            "500/500 [==============================] - 3s 6ms/step - loss: 1.4931 - accuracy: 0.5149 - val_loss: 2.2932 - val_accuracy: 0.3365\n",
            "Epoch 60/100\n",
            "500/500 [==============================] - 3s 7ms/step - loss: 1.4920 - accuracy: 0.5195 - val_loss: 2.2898 - val_accuracy: 0.3305\n",
            "Epoch 61/100\n",
            "500/500 [==============================] - 3s 6ms/step - loss: 1.4947 - accuracy: 0.5160 - val_loss: 2.2242 - val_accuracy: 0.3288\n",
            "Epoch 62/100\n",
            "500/500 [==============================] - 3s 6ms/step - loss: 1.4959 - accuracy: 0.5172 - val_loss: 2.2690 - val_accuracy: 0.3345\n",
            "Epoch 63/100\n",
            "500/500 [==============================] - 3s 7ms/step - loss: 1.4997 - accuracy: 0.5149 - val_loss: 2.2694 - val_accuracy: 0.3312\n",
            "Epoch 64/100\n",
            "500/500 [==============================] - 3s 6ms/step - loss: 1.4892 - accuracy: 0.5161 - val_loss: 2.3153 - val_accuracy: 0.3294\n",
            "Epoch 65/100\n",
            "500/500 [==============================] - 3s 6ms/step - loss: 1.4970 - accuracy: 0.5134 - val_loss: 2.3038 - val_accuracy: 0.3315\n",
            "Epoch 66/100\n",
            "500/500 [==============================] - 3s 7ms/step - loss: 1.4986 - accuracy: 0.5147 - val_loss: 2.3075 - val_accuracy: 0.3303\n",
            "Epoch 67/100\n",
            "500/500 [==============================] - 3s 7ms/step - loss: 1.4971 - accuracy: 0.5165 - val_loss: 2.3015 - val_accuracy: 0.3285\n",
            "Epoch 68/100\n",
            "500/500 [==============================] - 3s 7ms/step - loss: 1.4997 - accuracy: 0.5167 - val_loss: 2.3075 - val_accuracy: 0.3303\n",
            "Epoch 69/100\n",
            "500/500 [==============================] - 3s 7ms/step - loss: 1.4976 - accuracy: 0.5114 - val_loss: 2.3115 - val_accuracy: 0.3255\n",
            "Epoch 70/100\n",
            "500/500 [==============================] - 3s 7ms/step - loss: 1.5090 - accuracy: 0.5160 - val_loss: 2.3220 - val_accuracy: 0.3299\n",
            "Epoch 71/100\n",
            "500/500 [==============================] - 3s 7ms/step - loss: 1.5058 - accuracy: 0.5116 - val_loss: 2.3056 - val_accuracy: 0.3307\n",
            "Epoch 72/100\n",
            "500/500 [==============================] - 3s 7ms/step - loss: 1.5073 - accuracy: 0.5127 - val_loss: 2.3893 - val_accuracy: 0.3299\n",
            "Epoch 73/100\n",
            "500/500 [==============================] - 3s 6ms/step - loss: 1.5027 - accuracy: 0.5155 - val_loss: 2.3080 - val_accuracy: 0.3290\n",
            "Epoch 74/100\n",
            "500/500 [==============================] - 3s 7ms/step - loss: 1.5055 - accuracy: 0.5165 - val_loss: 2.3057 - val_accuracy: 0.3252\n",
            "Epoch 75/100\n",
            "500/500 [==============================] - 3s 7ms/step - loss: 1.5091 - accuracy: 0.5128 - val_loss: 2.3490 - val_accuracy: 0.3295\n",
            "Epoch 76/100\n",
            "500/500 [==============================] - 3s 7ms/step - loss: 1.5034 - accuracy: 0.5154 - val_loss: 2.3502 - val_accuracy: 0.3258\n",
            "Epoch 77/100\n",
            "500/500 [==============================] - 3s 7ms/step - loss: 1.5185 - accuracy: 0.5139 - val_loss: 2.2317 - val_accuracy: 0.3268\n",
            "Epoch 78/100\n",
            "500/500 [==============================] - 3s 7ms/step - loss: 1.5139 - accuracy: 0.5120 - val_loss: 2.3416 - val_accuracy: 0.3240\n",
            "Epoch 79/100\n",
            "500/500 [==============================] - 3s 6ms/step - loss: 1.5231 - accuracy: 0.5096 - val_loss: 2.2907 - val_accuracy: 0.3290\n",
            "Epoch 80/100\n",
            "500/500 [==============================] - 3s 6ms/step - loss: 1.5200 - accuracy: 0.5105 - val_loss: 2.3255 - val_accuracy: 0.3282\n",
            "Epoch 81/100\n",
            "500/500 [==============================] - 3s 7ms/step - loss: 1.5146 - accuracy: 0.5095 - val_loss: 2.2486 - val_accuracy: 0.3307\n",
            "Epoch 82/100\n",
            "500/500 [==============================] - 3s 7ms/step - loss: 1.5184 - accuracy: 0.5087 - val_loss: 2.3549 - val_accuracy: 0.3304\n",
            "Epoch 83/100\n",
            "500/500 [==============================] - 3s 6ms/step - loss: 1.5165 - accuracy: 0.5091 - val_loss: 2.4181 - val_accuracy: 0.3334\n",
            "Epoch 84/100\n",
            "500/500 [==============================] - 3s 7ms/step - loss: 1.5223 - accuracy: 0.5096 - val_loss: 2.3143 - val_accuracy: 0.3277\n",
            "Epoch 85/100\n",
            "500/500 [==============================] - 3s 7ms/step - loss: 1.5276 - accuracy: 0.5068 - val_loss: 2.3529 - val_accuracy: 0.3328\n",
            "Epoch 86/100\n",
            "500/500 [==============================] - 3s 6ms/step - loss: 1.5266 - accuracy: 0.5063 - val_loss: 2.3187 - val_accuracy: 0.3289\n",
            "Epoch 87/100\n",
            "500/500 [==============================] - 3s 7ms/step - loss: 1.5269 - accuracy: 0.5115 - val_loss: 2.3622 - val_accuracy: 0.3285\n",
            "Epoch 88/100\n",
            "500/500 [==============================] - 3s 7ms/step - loss: 1.5403 - accuracy: 0.5069 - val_loss: 2.3354 - val_accuracy: 0.3278\n",
            "Epoch 89/100\n",
            "500/500 [==============================] - 3s 7ms/step - loss: 1.5300 - accuracy: 0.5113 - val_loss: 2.2777 - val_accuracy: 0.3194\n",
            "Epoch 90/100\n",
            "500/500 [==============================] - 3s 6ms/step - loss: 1.5439 - accuracy: 0.5040 - val_loss: 2.2786 - val_accuracy: 0.3219\n",
            "Epoch 91/100\n",
            "500/500 [==============================] - 3s 7ms/step - loss: 1.5386 - accuracy: 0.5083 - val_loss: 2.3205 - val_accuracy: 0.3272\n",
            "Epoch 92/100\n",
            "500/500 [==============================] - 3s 7ms/step - loss: 1.5406 - accuracy: 0.5025 - val_loss: 2.3836 - val_accuracy: 0.3303\n",
            "Epoch 93/100\n",
            "500/500 [==============================] - 3s 7ms/step - loss: 1.5434 - accuracy: 0.5047 - val_loss: 2.3365 - val_accuracy: 0.3243\n",
            "Epoch 94/100\n",
            "500/500 [==============================] - 3s 7ms/step - loss: 1.5399 - accuracy: 0.5048 - val_loss: 2.2848 - val_accuracy: 0.3210\n",
            "Epoch 95/100\n",
            "500/500 [==============================] - 3s 7ms/step - loss: 1.5539 - accuracy: 0.5015 - val_loss: 2.3369 - val_accuracy: 0.3257\n",
            "Epoch 96/100\n",
            "500/500 [==============================] - 3s 6ms/step - loss: 1.5479 - accuracy: 0.5017 - val_loss: 2.3240 - val_accuracy: 0.3199\n",
            "Epoch 97/100\n",
            "500/500 [==============================] - 3s 6ms/step - loss: 1.5477 - accuracy: 0.5022 - val_loss: 2.3377 - val_accuracy: 0.3300\n",
            "Epoch 98/100\n",
            "500/500 [==============================] - 3s 6ms/step - loss: 1.5487 - accuracy: 0.4990 - val_loss: 2.3237 - val_accuracy: 0.3206\n",
            "Epoch 99/100\n",
            "500/500 [==============================] - 3s 6ms/step - loss: 1.5632 - accuracy: 0.4995 - val_loss: 2.3135 - val_accuracy: 0.3221\n",
            "Epoch 100/100\n",
            "500/500 [==============================] - 3s 6ms/step - loss: 1.5585 - accuracy: 0.5031 - val_loss: 2.2728 - val_accuracy: 0.3280\n"
          ],
          "name": "stdout"
        },
        {
          "output_type": "execute_result",
          "data": {
            "text/plain": [
              "<tensorflow.python.keras.callbacks.History at 0x7faf78754400>"
            ]
          },
          "metadata": {
            "tags": []
          },
          "execution_count": 56
        }
      ]
    },
    {
      "cell_type": "markdown",
      "metadata": {
        "id": "3CXLZTLwG3yP",
        "colab_type": "text"
      },
      "source": [
        "---\n",
        "\n",
        "# 모델 수정해서 성능 높이기\n",
        "\n",
        "- nltk를 이용해서 토큰화하기\n",
        "- 그동안 배운 RNN, LSTM, CNN을 이용하여 레이어를 다양하게 쌓아보기\n",
        "- 하이퍼파라미터 다양하게 바꿔보기\n",
        "- 앙상블하기\n"
      ]
    },
    {
      "cell_type": "markdown",
      "metadata": {
        "id": "6A-2o6LZdB3W",
        "colab_type": "text"
      },
      "source": [
        "## 1. SimpleRNN \n",
        "- loss: 1.8556 - accuracy: 0.3823 - val_loss: 2.1245 - val_accuracy: 0.2719"
      ]
    },
    {
      "cell_type": "code",
      "metadata": {
        "id": "9KwPLdgId9Xj",
        "colab_type": "code",
        "colab": {}
      },
      "source": [
        "from tensorflow.keras.layers import SimpleRNN\n",
        "\n",
        "vocab_size = len(tokenizer.word_index) + 1\n",
        "\n",
        "Inputs = Input(shape=(30,))\n",
        "embed = Embedding(vocab_size, 50)(Inputs)\n",
        "rnn_outputs = SimpleRNN(50)(embed) # 50 = dimensionality of the output space\n",
        "Outputs = Dense(y_train[0].shape[0], activation='softmax')(rnn_outputs)\n",
        "\n",
        "mod_rnn = Model(Inputs, Outputs)"
      ],
      "execution_count": null,
      "outputs": []
    },
    {
      "cell_type": "code",
      "metadata": {
        "id": "Ue4Qi4Vc39bw",
        "colab_type": "code",
        "colab": {
          "base_uri": "https://localhost:8080/",
          "height": 1000
        },
        "outputId": "480dde81-f62f-4475-ecc4-96f7c7e8ad9f"
      },
      "source": [
        "mod_rnn.compile(optimizer='rmsprop', loss='categorical_crossentropy', metrics=['accuracy'])\n",
        "mod_rnn.fit(X_train, y_train, validation_data=(X_test, y_test), batch_size=64, epochs=50)"
      ],
      "execution_count": null,
      "outputs": [
        {
          "output_type": "stream",
          "text": [
            "Epoch 1/50\n",
            "500/500 [==============================] - 15s 30ms/step - loss: 2.1118 - accuracy: 0.2537 - val_loss: 2.1045 - val_accuracy: 0.2661\n",
            "Epoch 2/50\n",
            "500/500 [==============================] - 15s 30ms/step - loss: 1.9870 - accuracy: 0.3215 - val_loss: 2.1580 - val_accuracy: 0.2517\n",
            "Epoch 3/50\n",
            "500/500 [==============================] - 15s 30ms/step - loss: 1.8556 - accuracy: 0.3823 - val_loss: 2.1245 - val_accuracy: 0.2719\n",
            "Epoch 4/50\n",
            "500/500 [==============================] - 15s 29ms/step - loss: 1.7304 - accuracy: 0.4312 - val_loss: 2.2374 - val_accuracy: 0.2499\n",
            "Epoch 5/50\n",
            "500/500 [==============================] - 14s 29ms/step - loss: 1.6139 - accuracy: 0.4750 - val_loss: 2.3350 - val_accuracy: 0.2514\n",
            "Epoch 6/50\n",
            "500/500 [==============================] - 14s 29ms/step - loss: 1.5032 - accuracy: 0.5176 - val_loss: 2.3210 - val_accuracy: 0.2583\n",
            "Epoch 7/50\n",
            "500/500 [==============================] - 15s 29ms/step - loss: 1.4034 - accuracy: 0.5567 - val_loss: 2.5739 - val_accuracy: 0.2296\n",
            "Epoch 8/50\n",
            "500/500 [==============================] - 15s 29ms/step - loss: 1.3114 - accuracy: 0.5895 - val_loss: 2.5985 - val_accuracy: 0.2399\n",
            "Epoch 9/50\n",
            "500/500 [==============================] - 14s 29ms/step - loss: 1.2250 - accuracy: 0.6182 - val_loss: 2.7378 - val_accuracy: 0.2339\n",
            "Epoch 10/50\n",
            "500/500 [==============================] - 14s 29ms/step - loss: 1.1506 - accuracy: 0.6464 - val_loss: 2.8118 - val_accuracy: 0.2091\n",
            "Epoch 11/50\n",
            "500/500 [==============================] - 14s 28ms/step - loss: 1.0833 - accuracy: 0.6706 - val_loss: 2.6953 - val_accuracy: 0.2400\n",
            "Epoch 12/50\n",
            "500/500 [==============================] - 14s 29ms/step - loss: 1.0183 - accuracy: 0.6898 - val_loss: 2.9115 - val_accuracy: 0.2182\n",
            "Epoch 13/50\n",
            "500/500 [==============================] - 14s 29ms/step - loss: 0.9586 - accuracy: 0.7101 - val_loss: 3.1034 - val_accuracy: 0.2235\n",
            "Epoch 14/50\n",
            "500/500 [==============================] - 14s 29ms/step - loss: 0.9089 - accuracy: 0.7256 - val_loss: 3.0602 - val_accuracy: 0.2108\n",
            "Epoch 15/50\n",
            "500/500 [==============================] - 14s 28ms/step - loss: 0.8605 - accuracy: 0.7412 - val_loss: 3.2097 - val_accuracy: 0.2115\n",
            "Epoch 16/50\n",
            "500/500 [==============================] - 14s 28ms/step - loss: 0.8156 - accuracy: 0.7584 - val_loss: 3.1492 - val_accuracy: 0.2152\n",
            "Epoch 17/50\n",
            "500/500 [==============================] - 14s 28ms/step - loss: 0.7748 - accuracy: 0.7668 - val_loss: 3.4281 - val_accuracy: 0.2051\n",
            "Epoch 18/50\n",
            "500/500 [==============================] - 14s 28ms/step - loss: 0.7400 - accuracy: 0.7812 - val_loss: 3.3435 - val_accuracy: 0.2122\n",
            "Epoch 19/50\n",
            "500/500 [==============================] - 14s 28ms/step - loss: 0.7039 - accuracy: 0.7895 - val_loss: 3.2922 - val_accuracy: 0.2186\n",
            "Epoch 20/50\n",
            "500/500 [==============================] - 14s 28ms/step - loss: 0.6763 - accuracy: 0.7993 - val_loss: 3.4554 - val_accuracy: 0.2107\n",
            "Epoch 21/50\n",
            "500/500 [==============================] - 14s 28ms/step - loss: 0.6429 - accuracy: 0.8102 - val_loss: 3.4711 - val_accuracy: 0.2078\n",
            "Epoch 22/50\n",
            "500/500 [==============================] - 14s 28ms/step - loss: 0.6187 - accuracy: 0.8182 - val_loss: 3.5748 - val_accuracy: 0.1927\n",
            "Epoch 23/50\n",
            "500/500 [==============================] - 14s 27ms/step - loss: 0.5949 - accuracy: 0.8232 - val_loss: 3.6733 - val_accuracy: 0.1947\n",
            "Epoch 24/50\n",
            "500/500 [==============================] - 14s 29ms/step - loss: 0.5707 - accuracy: 0.8300 - val_loss: 3.6180 - val_accuracy: 0.2086\n",
            "Epoch 25/50\n",
            "500/500 [==============================] - 14s 28ms/step - loss: 0.5509 - accuracy: 0.8369 - val_loss: 3.6264 - val_accuracy: 0.2110\n",
            "Epoch 26/50\n",
            "500/500 [==============================] - 14s 28ms/step - loss: 0.5277 - accuracy: 0.8433 - val_loss: 3.8411 - val_accuracy: 0.2006\n",
            "Epoch 27/50\n",
            "500/500 [==============================] - 14s 28ms/step - loss: 0.5125 - accuracy: 0.8475 - val_loss: 3.9291 - val_accuracy: 0.2043\n",
            "Epoch 28/50\n",
            "500/500 [==============================] - 14s 28ms/step - loss: 0.4937 - accuracy: 0.8545 - val_loss: 3.7280 - val_accuracy: 0.2060\n",
            "Epoch 29/50\n",
            "500/500 [==============================] - 14s 28ms/step - loss: 0.4741 - accuracy: 0.8587 - val_loss: 3.8416 - val_accuracy: 0.2030\n",
            "Epoch 30/50\n",
            "500/500 [==============================] - 14s 28ms/step - loss: 0.4655 - accuracy: 0.8640 - val_loss: 3.9121 - val_accuracy: 0.1976\n",
            "Epoch 31/50\n",
            "500/500 [==============================] - 14s 28ms/step - loss: 0.4513 - accuracy: 0.8661 - val_loss: 3.8747 - val_accuracy: 0.2122\n",
            "Epoch 32/50\n",
            "500/500 [==============================] - 14s 27ms/step - loss: 0.4359 - accuracy: 0.8719 - val_loss: 3.8750 - val_accuracy: 0.2137\n",
            "Epoch 33/50\n",
            "500/500 [==============================] - 13s 27ms/step - loss: 0.4264 - accuracy: 0.8748 - val_loss: 4.0162 - val_accuracy: 0.2087\n",
            "Epoch 34/50\n",
            "500/500 [==============================] - 14s 27ms/step - loss: 0.4163 - accuracy: 0.8773 - val_loss: 4.1398 - val_accuracy: 0.2055\n",
            "Epoch 35/50\n",
            "500/500 [==============================] - 13s 27ms/step - loss: 0.4038 - accuracy: 0.8790 - val_loss: 3.9611 - val_accuracy: 0.2068\n",
            "Epoch 36/50\n",
            "500/500 [==============================] - 14s 27ms/step - loss: 0.3941 - accuracy: 0.8841 - val_loss: 4.3998 - val_accuracy: 0.1778\n",
            "Epoch 37/50\n",
            "500/500 [==============================] - 14s 27ms/step - loss: 0.3857 - accuracy: 0.8850 - val_loss: 4.1824 - val_accuracy: 0.2027\n",
            "Epoch 38/50\n",
            "500/500 [==============================] - 13s 27ms/step - loss: 0.3720 - accuracy: 0.8901 - val_loss: 4.2998 - val_accuracy: 0.1992\n",
            "Epoch 39/50\n",
            "500/500 [==============================] - 13s 27ms/step - loss: 0.3684 - accuracy: 0.8894 - val_loss: 4.2580 - val_accuracy: 0.1981\n",
            "Epoch 40/50\n",
            "500/500 [==============================] - 13s 27ms/step - loss: 0.3600 - accuracy: 0.8925 - val_loss: 4.1182 - val_accuracy: 0.2146\n",
            "Epoch 41/50\n",
            "500/500 [==============================] - 13s 27ms/step - loss: 0.3553 - accuracy: 0.8949 - val_loss: 4.3443 - val_accuracy: 0.1903\n",
            "Epoch 42/50\n",
            "500/500 [==============================] - 13s 27ms/step - loss: 0.3455 - accuracy: 0.8965 - val_loss: 4.4196 - val_accuracy: 0.1957\n",
            "Epoch 43/50\n",
            "500/500 [==============================] - 13s 27ms/step - loss: 0.3354 - accuracy: 0.9000 - val_loss: 4.5194 - val_accuracy: 0.1858\n",
            "Epoch 44/50\n",
            "500/500 [==============================] - 13s 27ms/step - loss: 0.3355 - accuracy: 0.9000 - val_loss: 4.3748 - val_accuracy: 0.1979\n",
            "Epoch 45/50\n",
            "500/500 [==============================] - 13s 27ms/step - loss: 0.3258 - accuracy: 0.9023 - val_loss: 4.4027 - val_accuracy: 0.2106\n",
            "Epoch 46/50\n",
            "500/500 [==============================] - 14s 27ms/step - loss: 0.3199 - accuracy: 0.9043 - val_loss: 4.4877 - val_accuracy: 0.1986\n",
            "Epoch 47/50\n",
            "500/500 [==============================] - 14s 28ms/step - loss: 0.3138 - accuracy: 0.9072 - val_loss: 4.4769 - val_accuracy: 0.2032\n",
            "Epoch 48/50\n",
            "500/500 [==============================] - 14s 27ms/step - loss: 0.3089 - accuracy: 0.9064 - val_loss: 4.4069 - val_accuracy: 0.1988\n",
            "Epoch 49/50\n",
            "500/500 [==============================] - 13s 27ms/step - loss: 0.3048 - accuracy: 0.9091 - val_loss: 4.6075 - val_accuracy: 0.2001\n",
            "Epoch 50/50\n",
            "500/500 [==============================] - 13s 27ms/step - loss: 0.2963 - accuracy: 0.9121 - val_loss: 4.3216 - val_accuracy: 0.2052\n"
          ],
          "name": "stdout"
        },
        {
          "output_type": "execute_result",
          "data": {
            "text/plain": [
              "<tensorflow.python.keras.callbacks.History at 0x7f2d49e39470>"
            ]
          },
          "metadata": {
            "tags": []
          },
          "execution_count": 14
        }
      ]
    },
    {
      "cell_type": "code",
      "metadata": {
        "id": "E3kGJlCYORjf",
        "colab_type": "code",
        "colab": {}
      },
      "source": [
        ""
      ],
      "execution_count": null,
      "outputs": []
    },
    {
      "cell_type": "markdown",
      "metadata": {
        "id": "Tc5o7wYSOotq",
        "colab_type": "text"
      },
      "source": [
        "## 3. Prediction"
      ]
    },
    {
      "cell_type": "code",
      "metadata": {
        "id": "2WCL42fAZ3zG",
        "colab_type": "code",
        "colab": {
          "base_uri": "https://localhost:8080/",
          "height": 53
        },
        "outputId": "bfbe9e95-b3b2-4b07-d523-f7878705d165"
      },
      "source": [
        "stc = input() # 영어\n",
        "stc = stc.lower()\n",
        "\n",
        "import re\n",
        "stc = re.sub('[^\\w]', ' ', stc)\n",
        "token_stc = stc.split()\n",
        "encode_stc = tokenizer.texts_to_sequences([token_stc])\n",
        "pad_stc = pad_sequences(encode_stc, maxlen=32)\n",
        "\n",
        "score = model.predict(pad_stc)\n",
        "\n",
        "print(y_cate_list[score.argmax()], score[0, score.argmax()])"
      ],
      "execution_count": null,
      "outputs": [
        {
          "output_type": "stream",
          "text": [
            "i know  i was listenin to bad habit earlier and i started freakin at his part\n",
            "worry 0.17115688\n"
          ],
          "name": "stdout"
        }
      ]
    },
    {
      "cell_type": "code",
      "metadata": {
        "id": "l1FImaevRbH6",
        "colab_type": "code",
        "colab": {}
      },
      "source": [
        ""
      ],
      "execution_count": null,
      "outputs": []
    }
  ]
}