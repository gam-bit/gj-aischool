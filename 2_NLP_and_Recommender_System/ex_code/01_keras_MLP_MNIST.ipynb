{
  "nbformat": 4,
  "nbformat_minor": 0,
  "metadata": {
    "colab": {
      "name": "01_keras_MNIST.ipynb",
      "provenance": [],
      "collapsed_sections": []
    },
    "kernelspec": {
      "name": "python3",
      "display_name": "Python 3"
    }
  },
  "cells": [
    {
      "cell_type": "code",
      "metadata": {
        "id": "PvANOnSi5ISg",
        "colab_type": "code",
        "colab": {
          "base_uri": "https://localhost:8080/",
          "height": 35
        },
        "outputId": "78a66437-1979-4edc-c18a-b74e116838b9"
      },
      "source": [
        "import numpy as np\n",
        "import keras\n",
        "from keras.datasets import mnist\n",
        "from keras.models import Sequential\n",
        "from keras.layers import Dense\n",
        "from keras.optimizers import RMSprop"
      ],
      "execution_count": 1,
      "outputs": [
        {
          "output_type": "stream",
          "text": [
            "Using TensorFlow backend.\n"
          ],
          "name": "stderr"
        }
      ]
    },
    {
      "cell_type": "markdown",
      "metadata": {
        "id": "mtiQs08B97Ac",
        "colab_type": "text"
      },
      "source": [
        "# 손글씨 분류 문제(손글씨 인식)"
      ]
    },
    {
      "cell_type": "code",
      "metadata": {
        "id": "gLZtsSqn5TdY",
        "colab_type": "code",
        "colab": {}
      },
      "source": [
        "# Load Dataset(28x28 handwrited numbers)\n",
        "(X_train, y_train), (X_test, y_test) = mnist.load_data()\n",
        "\n",
        "# Reshaping input values\n",
        "X_train = X_train.reshape(-1, 784)\n",
        "X_train = X_train.astype('float32')\n",
        "X_train /= 255 # normalization\n",
        "\n",
        "X_test = X_test.reshape(-1, 784)\n",
        "X_test = X_test.astype('float32')\n",
        "X_test /= 255"
      ],
      "execution_count": 14,
      "outputs": []
    },
    {
      "cell_type": "code",
      "metadata": {
        "id": "MF18Lz7HA-EP",
        "colab_type": "code",
        "colab": {
          "base_uri": "https://localhost:8080/",
          "height": 35
        },
        "outputId": "f4983522-d94e-41e9-9a40-52dd1bc2995a"
      },
      "source": [
        "X_train.shape, X_test.shape"
      ],
      "execution_count": 21,
      "outputs": [
        {
          "output_type": "execute_result",
          "data": {
            "text/plain": [
              "((60000, 784), (10000, 784))"
            ]
          },
          "metadata": {
            "tags": []
          },
          "execution_count": 21
        }
      ]
    },
    {
      "cell_type": "code",
      "metadata": {
        "id": "UQtEAq3aABWo",
        "colab_type": "code",
        "colab": {}
      },
      "source": [
        "# Reshaping output values into O-H vector\n",
        "num_class = len(set(y_train))\n",
        "y_train = keras.utils.to_categorical(y_train, num_class)\n",
        "y_test = keras.utils.to_categorical(y_test, num_class)"
      ],
      "execution_count": 16,
      "outputs": []
    },
    {
      "cell_type": "code",
      "metadata": {
        "id": "4x_6GBw45w-5",
        "colab_type": "code",
        "colab": {
          "base_uri": "https://localhost:8080/",
          "height": 798
        },
        "outputId": "b06ff3dd-666e-483a-874a-fa05f1545482"
      },
      "source": [
        "# Training structure with MLP\n",
        "batch_size = 128\n",
        "epochs = 20\n",
        "\n",
        "model = Sequential()\n",
        "model.add(Dense(512, activation='relu', input_shape=(784,), kernel_initializer=\"he_uniform\"))\n",
        "model.add(Dense(512, activation='relu', kernel_initializer='he_uniform'))\n",
        "model.add(Dense(num_class, activation='softmax', kernel_initializer='he_uniform'))\n",
        "\n",
        "# Model training\n",
        "model.compile(loss = 'categorical_crossentropy', optimizer = RMSprop(), metrics=['accuracy'])\n",
        "history = model.fit(X_train, y_train, batch_size = batch_size, epochs = epochs, verbose=1, validation_data=(X_test, y_test))"
      ],
      "execution_count": 17,
      "outputs": [
        {
          "output_type": "stream",
          "text": [
            "Train on 60000 samples, validate on 10000 samples\n",
            "Epoch 1/20\n",
            "60000/60000 [==============================] - 8s 127us/step - loss: 0.2166 - accuracy: 0.9328 - val_loss: 0.0929 - val_accuracy: 0.9707\n",
            "Epoch 2/20\n",
            "60000/60000 [==============================] - 7s 124us/step - loss: 0.0808 - accuracy: 0.9750 - val_loss: 0.0766 - val_accuracy: 0.9772\n",
            "Epoch 3/20\n",
            "60000/60000 [==============================] - 7s 124us/step - loss: 0.0520 - accuracy: 0.9835 - val_loss: 0.0794 - val_accuracy: 0.9771\n",
            "Epoch 4/20\n",
            "60000/60000 [==============================] - 7s 123us/step - loss: 0.0372 - accuracy: 0.9883 - val_loss: 0.0828 - val_accuracy: 0.9782\n",
            "Epoch 5/20\n",
            "60000/60000 [==============================] - 7s 124us/step - loss: 0.0277 - accuracy: 0.9912 - val_loss: 0.0756 - val_accuracy: 0.9814\n",
            "Epoch 6/20\n",
            "60000/60000 [==============================] - 8s 125us/step - loss: 0.0231 - accuracy: 0.9930 - val_loss: 0.0815 - val_accuracy: 0.9803\n",
            "Epoch 7/20\n",
            "60000/60000 [==============================] - 8s 126us/step - loss: 0.0189 - accuracy: 0.9943 - val_loss: 0.1065 - val_accuracy: 0.9785\n",
            "Epoch 8/20\n",
            "60000/60000 [==============================] - 7s 122us/step - loss: 0.0140 - accuracy: 0.9954 - val_loss: 0.0869 - val_accuracy: 0.9833\n",
            "Epoch 9/20\n",
            "60000/60000 [==============================] - 7s 123us/step - loss: 0.0129 - accuracy: 0.9962 - val_loss: 0.0952 - val_accuracy: 0.9816\n",
            "Epoch 10/20\n",
            "60000/60000 [==============================] - 7s 122us/step - loss: 0.0108 - accuracy: 0.9966 - val_loss: 0.1192 - val_accuracy: 0.9805\n",
            "Epoch 11/20\n",
            "60000/60000 [==============================] - 7s 122us/step - loss: 0.0104 - accuracy: 0.9970 - val_loss: 0.1163 - val_accuracy: 0.9812\n",
            "Epoch 12/20\n",
            "60000/60000 [==============================] - 7s 123us/step - loss: 0.0079 - accuracy: 0.9976 - val_loss: 0.1211 - val_accuracy: 0.9821\n",
            "Epoch 13/20\n",
            "60000/60000 [==============================] - 7s 122us/step - loss: 0.0072 - accuracy: 0.9976 - val_loss: 0.1170 - val_accuracy: 0.9836\n",
            "Epoch 14/20\n",
            "60000/60000 [==============================] - 7s 123us/step - loss: 0.0062 - accuracy: 0.9982 - val_loss: 0.1235 - val_accuracy: 0.9842\n",
            "Epoch 15/20\n",
            "60000/60000 [==============================] - 7s 122us/step - loss: 0.0068 - accuracy: 0.9980 - val_loss: 0.1593 - val_accuracy: 0.9802\n",
            "Epoch 16/20\n",
            "60000/60000 [==============================] - 7s 122us/step - loss: 0.0065 - accuracy: 0.9984 - val_loss: 0.1434 - val_accuracy: 0.9825\n",
            "Epoch 17/20\n",
            "60000/60000 [==============================] - 7s 122us/step - loss: 0.0051 - accuracy: 0.9985 - val_loss: 0.1356 - val_accuracy: 0.9830\n",
            "Epoch 18/20\n",
            "60000/60000 [==============================] - 7s 124us/step - loss: 0.0054 - accuracy: 0.9987 - val_loss: 0.1639 - val_accuracy: 0.9771\n",
            "Epoch 19/20\n",
            "60000/60000 [==============================] - 7s 124us/step - loss: 0.0041 - accuracy: 0.9988 - val_loss: 0.1581 - val_accuracy: 0.9831\n",
            "Epoch 20/20\n",
            "60000/60000 [==============================] - 8s 126us/step - loss: 0.0052 - accuracy: 0.9988 - val_loss: 0.1645 - val_accuracy: 0.9821\n",
            "10000/10000 [==============================] - 1s 66us/step\n"
          ],
          "name": "stdout"
        }
      ]
    },
    {
      "cell_type": "code",
      "metadata": {
        "id": "ftns4nSs51M9",
        "colab_type": "code",
        "colab": {
          "base_uri": "https://localhost:8080/",
          "height": 53
        },
        "outputId": "e7cf9364-9889-43e8-ced3-bfaa84583459"
      },
      "source": [
        "model.evaluate(X_test, y_test, verbose=1) # loss, accuracy"
      ],
      "execution_count": 19,
      "outputs": [
        {
          "output_type": "stream",
          "text": [
            "10000/10000 [==============================] - 1s 66us/step\n"
          ],
          "name": "stdout"
        },
        {
          "output_type": "execute_result",
          "data": {
            "text/plain": [
              "[0.16445741490145907, 0.9821000099182129]"
            ]
          },
          "metadata": {
            "tags": []
          },
          "execution_count": 19
        }
      ]
    },
    {
      "cell_type": "markdown",
      "metadata": {
        "id": "Bnkm-VNWA1wA",
        "colab_type": "text"
      },
      "source": [
        "## Test `Adam`"
      ]
    },
    {
      "cell_type": "code",
      "metadata": {
        "id": "yPAj0dYWBWOl",
        "colab_type": "code",
        "colab": {
          "base_uri": "https://localhost:8080/",
          "height": 780
        },
        "outputId": "af6f39f7-6f06-460e-93c1-b530535d706e"
      },
      "source": [
        "# Training structure with MLP\n",
        "batch_size = 128\n",
        "epochs = 20\n",
        "\n",
        "model = Sequential()\n",
        "model.add(Dense(512, activation='relu', input_shape=(784,), kernel_initializer=\"he_uniform\"))\n",
        "model.add(Dense(512, activation='relu', kernel_initializer='he_uniform'))\n",
        "model.add(Dense(num_class, activation='softmax', kernel_initializer='he_uniform'))\n",
        "\n",
        "# Model training\n",
        "model.compile(loss = 'categorical_crossentropy', optimizer = 'adam', metrics=['accuracy'])\n",
        "history = model.fit(X_train, y_train, batch_size = batch_size, epochs = epochs, verbose=1, validation_data=(X_test, y_test))"
      ],
      "execution_count": 22,
      "outputs": [
        {
          "output_type": "stream",
          "text": [
            "Train on 60000 samples, validate on 10000 samples\n",
            "Epoch 1/20\n",
            "60000/60000 [==============================] - 8s 130us/step - loss: 0.2153 - accuracy: 0.9355 - val_loss: 0.0879 - val_accuracy: 0.9738\n",
            "Epoch 2/20\n",
            "60000/60000 [==============================] - 8s 129us/step - loss: 0.0769 - accuracy: 0.9768 - val_loss: 0.0822 - val_accuracy: 0.9757\n",
            "Epoch 3/20\n",
            "60000/60000 [==============================] - 8s 129us/step - loss: 0.0522 - accuracy: 0.9833 - val_loss: 0.0702 - val_accuracy: 0.9791\n",
            "Epoch 4/20\n",
            "60000/60000 [==============================] - 8s 130us/step - loss: 0.0319 - accuracy: 0.9897 - val_loss: 0.0677 - val_accuracy: 0.9801\n",
            "Epoch 5/20\n",
            "60000/60000 [==============================] - 8s 128us/step - loss: 0.0235 - accuracy: 0.9923 - val_loss: 0.0721 - val_accuracy: 0.9805\n",
            "Epoch 6/20\n",
            "60000/60000 [==============================] - 8s 130us/step - loss: 0.0214 - accuracy: 0.9925 - val_loss: 0.0892 - val_accuracy: 0.9773\n",
            "Epoch 7/20\n",
            "60000/60000 [==============================] - 8s 133us/step - loss: 0.0184 - accuracy: 0.9939 - val_loss: 0.0957 - val_accuracy: 0.9761\n",
            "Epoch 8/20\n",
            "60000/60000 [==============================] - 8s 129us/step - loss: 0.0157 - accuracy: 0.9949 - val_loss: 0.0881 - val_accuracy: 0.9779\n",
            "Epoch 9/20\n",
            "60000/60000 [==============================] - 8s 129us/step - loss: 0.0141 - accuracy: 0.9953 - val_loss: 0.0895 - val_accuracy: 0.9778\n",
            "Epoch 10/20\n",
            "60000/60000 [==============================] - 8s 129us/step - loss: 0.0134 - accuracy: 0.9957 - val_loss: 0.0706 - val_accuracy: 0.9828\n",
            "Epoch 11/20\n",
            "60000/60000 [==============================] - 8s 129us/step - loss: 0.0094 - accuracy: 0.9970 - val_loss: 0.0918 - val_accuracy: 0.9784\n",
            "Epoch 12/20\n",
            "60000/60000 [==============================] - 8s 129us/step - loss: 0.0111 - accuracy: 0.9963 - val_loss: 0.0894 - val_accuracy: 0.9794\n",
            "Epoch 13/20\n",
            "60000/60000 [==============================] - 8s 129us/step - loss: 0.0105 - accuracy: 0.9964 - val_loss: 0.0932 - val_accuracy: 0.9803\n",
            "Epoch 14/20\n",
            "60000/60000 [==============================] - 8s 129us/step - loss: 0.0138 - accuracy: 0.9954 - val_loss: 0.0941 - val_accuracy: 0.9816\n",
            "Epoch 15/20\n",
            "60000/60000 [==============================] - 8s 130us/step - loss: 0.0062 - accuracy: 0.9980 - val_loss: 0.0981 - val_accuracy: 0.9805\n",
            "Epoch 16/20\n",
            "60000/60000 [==============================] - 8s 129us/step - loss: 0.0070 - accuracy: 0.9978 - val_loss: 0.0993 - val_accuracy: 0.9808\n",
            "Epoch 17/20\n",
            "60000/60000 [==============================] - 8s 128us/step - loss: 0.0097 - accuracy: 0.9969 - val_loss: 0.1061 - val_accuracy: 0.9804\n",
            "Epoch 18/20\n",
            "60000/60000 [==============================] - 8s 130us/step - loss: 0.0100 - accuracy: 0.9970 - val_loss: 0.0983 - val_accuracy: 0.9802\n",
            "Epoch 19/20\n",
            "60000/60000 [==============================] - 8s 130us/step - loss: 0.0065 - accuracy: 0.9980 - val_loss: 0.1027 - val_accuracy: 0.9802\n",
            "Epoch 20/20\n",
            "60000/60000 [==============================] - 8s 130us/step - loss: 0.0057 - accuracy: 0.9981 - val_loss: 0.0982 - val_accuracy: 0.9829\n"
          ],
          "name": "stdout"
        }
      ]
    },
    {
      "cell_type": "code",
      "metadata": {
        "id": "02COIgCUBYyq",
        "colab_type": "code",
        "colab": {
          "base_uri": "https://localhost:8080/",
          "height": 53
        },
        "outputId": "2e7eb046-731b-4933-9d12-6a52df3a9f78"
      },
      "source": [
        "model.evaluate(X_test, y_test, verbose=1) # loss, accuracy"
      ],
      "execution_count": 23,
      "outputs": [
        {
          "output_type": "stream",
          "text": [
            "10000/10000 [==============================] - 1s 63us/step\n"
          ],
          "name": "stdout"
        },
        {
          "output_type": "execute_result",
          "data": {
            "text/plain": [
              "[0.09824489922598555, 0.9829000234603882]"
            ]
          },
          "metadata": {
            "tags": []
          },
          "execution_count": 23
        }
      ]
    },
    {
      "cell_type": "markdown",
      "metadata": {
        "id": "AGsOQRwPB_uW",
        "colab_type": "text"
      },
      "source": [
        "# >> `Adam` optimizer의 성능이 `RMSprop`보다 좋다!"
      ]
    }
  ]
}