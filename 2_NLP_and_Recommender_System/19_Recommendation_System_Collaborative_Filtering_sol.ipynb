{
  "nbformat": 4,
  "nbformat_minor": 0,
  "metadata": {
    "colab": {
      "name": "19_Recommendation System_Collaborative Filtering_sol.ipynb",
      "provenance": [],
      "private_outputs": true,
      "collapsed_sections": []
    },
    "kernelspec": {
      "display_name": "Python 3",
      "language": "python",
      "name": "python3"
    },
    "language_info": {
      "codemirror_mode": {
        "name": "ipython",
        "version": 3
      },
      "file_extension": ".py",
      "mimetype": "text/x-python",
      "name": "python",
      "nbconvert_exporter": "python",
      "pygments_lexer": "ipython3",
      "version": "3.7.6"
    }
  },
  "cells": [
    {
      "cell_type": "code",
      "metadata": {
        "colab_type": "code",
        "id": "cIvcxrwuf6V8",
        "colab": {}
      },
      "source": [
        "import pandas as pd\n",
        "import numpy as np"
      ],
      "execution_count": null,
      "outputs": []
    },
    {
      "cell_type": "code",
      "metadata": {
        "id": "c9EDdUQjkLQc",
        "colab_type": "code",
        "colab": {}
      },
      "source": [
        "from google.colab import drive\n",
        "drive.mount('/content/drive')"
      ],
      "execution_count": null,
      "outputs": []
    },
    {
      "cell_type": "code",
      "metadata": {
        "colab_type": "code",
        "id": "3YqPe6MKgUiF",
        "colab": {}
      },
      "source": [
        "ratings = pd.read_csv('/content/drive/My Drive/Colab Notebooks/data/ratings.csv')\n",
        "movies = pd.read_csv('/content/drive/My Drive/Colab Notebooks/data/movies.csv')\n",
        "\n",
        "pd.set_option('display.max_columns', 6)\n",
        "pd.set_option('display.width', 300)\n",
        "\n",
        "movie_ratings = pd.merge(ratings, movies, on='movieId')\n",
        "print(movie_ratings)"
      ],
      "execution_count": null,
      "outputs": []
    },
    {
      "cell_type": "code",
      "metadata": {
        "colab_type": "code",
        "id": "uUlAwSTyhYb6",
        "colab": {}
      },
      "source": [
        "title_user = movie_ratings.pivot_table('rating', index='userId', columns='title')\n",
        "title_user.fillna(0, inplace=True)\n",
        "print(title_user)"
      ],
      "execution_count": null,
      "outputs": []
    },
    {
      "cell_type": "code",
      "metadata": {
        "colab_type": "code",
        "id": "0garZHWyh6dn",
        "colab": {}
      },
      "source": [
        "from sklearn.metrics.pairwise import cosine_similarity\n",
        "\n",
        "# 유저와 유저 간의 유사도\n",
        "user_based_collab = cosine_similarity(title_user, title_user)\n",
        "print(user_based_collab)"
      ],
      "execution_count": null,
      "outputs": []
    },
    {
      "cell_type": "code",
      "metadata": {
        "colab_type": "code",
        "id": "UgsxsRcXiQz7",
        "colab": {}
      },
      "source": [
        "user_based_collab = pd.DataFrame(user_based_collab, index=title_user.index, columns=title_user.index)\n",
        "print(user_based_collab)"
      ],
      "execution_count": null,
      "outputs": []
    },
    {
      "cell_type": "code",
      "metadata": {
        "colab_type": "code",
        "id": "yjt6jx89iisG",
        "colab": {}
      },
      "source": [
        "# 1번째 유저와 유사한 10명의 유저를 뽑는다\n",
        "print(user_based_collab[1].sort_values(ascending=False)[:10])"
      ],
      "execution_count": null,
      "outputs": []
    },
    {
      "cell_type": "code",
      "metadata": {
        "colab_type": "code",
        "id": "2D2WdUO8i_AW",
        "colab": {}
      },
      "source": [
        "# 가장 유사한 유저를 뽑아서 해당 유저가 본 영화 추천\n",
        "user = user_based_collab[1].sort_values(ascending=False)[:10].index[1]\n",
        "result = title_user.query(f\"userId == {user}\").sort_values(ascending=False, by=user, axis=1)\n",
        "print(result)"
      ],
      "execution_count": null,
      "outputs": []
    },
    {
      "cell_type": "code",
      "metadata": {
        "colab_type": "code",
        "id": "kKM0m4toj1ky",
        "colab": {}
      },
      "source": [
        "# 1번 유저와 유사한 유저들 9명을 뽑아서, 그 유저들이 어떤 영화에 대해서 부여한 평점에\n",
        "# 유사도만큼의 가중치를 부여해서 이걸 토대로 1번 유저가 부여할 평점을 계산/예측\n",
        "# 가중치 -> 유저 9명 유사도의 합 중에서 해당 유저가 차지하는 유사도\n",
        "user_index_list = user_based_collab[1].sort_values(ascending=False)[:10].index.tolist()\n",
        "user_weight_list = user_based_collab[1].sort_values(ascending=False)[:10].tolist()\n",
        "print(user_index_list)\n",
        "print(user_weight_list)\n",
        "print(sum(user_weight_list)-1)"
      ],
      "execution_count": null,
      "outputs": []
    },
    {
      "cell_type": "code",
      "metadata": {
        "colab_type": "code",
        "id": "UXgu86sJkoLZ",
        "colab": {}
      },
      "source": [
        "# 유사한 유저들조차도 평점을 부여하지 않았다면\n",
        "# 1번 유저가 부여할 평점을 예측할 수 없다...\n",
        "movie_title = 'Dark Knight, The (2008)'\n",
        "weighted_sum = []\n",
        "for i in range(1, 10):\n",
        "    weighted_sum.append(title_user[movie_title][user_index_list[i]] * user_weight_list[i]/(sum(user_weight_list)-1))\n",
        "print(sum(weighted_sum))"
      ],
      "execution_count": null,
      "outputs": []
    },
    {
      "cell_type": "markdown",
      "metadata": {
        "colab_type": "text",
        "id": "sXeB0dkKpHsF"
      },
      "source": [
        "# 아이템 기반"
      ]
    },
    {
      "cell_type": "code",
      "metadata": {
        "colab_type": "code",
        "id": "pApPdoLemU93",
        "colab": {}
      },
      "source": [
        "user_title = movie_ratings.pivot_table('rating', index='title', columns='userId')\n",
        "user_title.fillna(0, inplace=True)\n",
        "print(user_title)"
      ],
      "execution_count": null,
      "outputs": []
    },
    {
      "cell_type": "code",
      "metadata": {
        "colab_type": "code",
        "id": "BDA9vgpvns2a",
        "colab": {}
      },
      "source": [
        "from sklearn.metrics.pairwise import cosine_similarity\n",
        "\n",
        "# 영화와 영화 간의 유사도\n",
        "item_based_collab = cosine_similarity(user_title, user_title)\n",
        "print(item_based_collab)"
      ],
      "execution_count": null,
      "outputs": []
    },
    {
      "cell_type": "code",
      "metadata": {
        "colab_type": "code",
        "id": "s8o4n3A8n_R_",
        "colab": {}
      },
      "source": [
        "item_based_collab = pd.DataFrame(item_based_collab, index=user_title.index, columns=user_title.index)\n",
        "print(item_based_collab)"
      ],
      "execution_count": null,
      "outputs": []
    },
    {
      "cell_type": "code",
      "metadata": {
        "colab_type": "code",
        "id": "ct1OhYlvoN0F",
        "colab": {}
      },
      "source": [
        "print(item_based_collab['Avatar (2009)'].sort_values(ascending=False)[:10])"
      ],
      "execution_count": null,
      "outputs": []
    },
    {
      "cell_type": "markdown",
      "metadata": {
        "colab_type": "text",
        "id": "lKbh3UZXrltC"
      },
      "source": [
        "# 잠재 요인"
      ]
    },
    {
      "cell_type": "code",
      "metadata": {
        "colab_type": "code",
        "id": "4UKS5yBSrnb2",
        "colab": {}
      },
      "source": [
        "print(user_title)"
      ],
      "execution_count": null,
      "outputs": []
    },
    {
      "cell_type": "code",
      "metadata": {
        "colab_type": "code",
        "id": "ytfw86jXruEe",
        "colab": {}
      },
      "source": [
        "from sklearn.decomposition import TruncatedSVD\n",
        "\n",
        "SVD = TruncatedSVD(n_components=12)\n",
        "SVD_matrix = SVD.fit_transform(user_title)\n",
        "print(SVD_matrix)\n",
        "# 이번에는 코사인 유사도말고, 상관계수를 사용\n",
        "corr = np.corrcoef(SVD_matrix)"
      ],
      "execution_count": null,
      "outputs": []
    },
    {
      "cell_type": "code",
      "metadata": {
        "colab_type": "code",
        "id": "S5x55pgYsXhv",
        "colab": {}
      },
      "source": [
        "movie_title = title_user.columns.tolist()\n",
        "print(movie_title)\n",
        "movie_index = movie_title.index(\"Avengers, The (2012)\")\n",
        "print(movie_index)\n",
        "top_index = np.where(corr[movie_index] > 0.9)\n",
        "for i in top_index[0]:\n",
        "    print(movie_title[i])"
      ],
      "execution_count": null,
      "outputs": []
    },
    {
      "cell_type": "code",
      "metadata": {
        "id": "08G8mVXfkZrV",
        "colab_type": "code",
        "colab": {}
      },
      "source": [
        ""
      ],
      "execution_count": null,
      "outputs": []
    }
  ]
}