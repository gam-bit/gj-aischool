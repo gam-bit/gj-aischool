{
  "nbformat": 4,
  "nbformat_minor": 0,
  "metadata": {
    "colab": {
      "name": "11_LSTM_korean.ipynb",
      "provenance": [],
      "collapsed_sections": [],
      "toc_visible": true
    },
    "kernelspec": {
      "name": "python3",
      "display_name": "Python 3"
    }
  },
  "cells": [
    {
      "cell_type": "code",
      "metadata": {
        "id": "4loDgTiMMU5u",
        "colab_type": "code",
        "colab": {}
      },
      "source": [
        "import os\n",
        "os.getcwd()\n",
        "os.chdir(\"/content/drive/My Drive/Colab Notebooks/mecab\")"
      ],
      "execution_count": 1,
      "outputs": []
    },
    {
      "cell_type": "code",
      "metadata": {
        "id": "gmsbRVe9Mhu0",
        "colab_type": "code",
        "colab": {}
      },
      "source": [
        "from tensorflow.keras.preprocessing.text import Tokenizer\n",
        "from tensorflow.keras.preprocessing.sequence import pad_sequences\n",
        "from tensorflow.keras.models import Sequential\n",
        "from tensorflow.keras.layers import Dense, LSTM, Embedding\n",
        "from tensorflow.keras.callbacks import EarlyStopping, ModelCheckpoint\n",
        "from tensorflow.keras.models import load_model\n",
        "import pandas as pd\n",
        "import numpy as np\n",
        "from sklearn.model_selection import train_test_split"
      ],
      "execution_count": 2,
      "outputs": []
    },
    {
      "cell_type": "code",
      "metadata": {
        "id": "fjltD63TMjt0",
        "colab_type": "code",
        "colab": {
          "base_uri": "https://localhost:8080/",
          "height": 197
        },
        "outputId": "6ec64638-fbfe-45ab-c5ae-e4b4d7af91b7"
      },
      "source": [
        "ratings_data = pd.read_table('../ratings.txt')\n",
        "ratings_data.head()"
      ],
      "execution_count": 3,
      "outputs": [
        {
          "output_type": "execute_result",
          "data": {
            "text/html": [
              "<div>\n",
              "<style scoped>\n",
              "    .dataframe tbody tr th:only-of-type {\n",
              "        vertical-align: middle;\n",
              "    }\n",
              "\n",
              "    .dataframe tbody tr th {\n",
              "        vertical-align: top;\n",
              "    }\n",
              "\n",
              "    .dataframe thead th {\n",
              "        text-align: right;\n",
              "    }\n",
              "</style>\n",
              "<table border=\"1\" class=\"dataframe\">\n",
              "  <thead>\n",
              "    <tr style=\"text-align: right;\">\n",
              "      <th></th>\n",
              "      <th>id</th>\n",
              "      <th>document</th>\n",
              "      <th>label</th>\n",
              "    </tr>\n",
              "  </thead>\n",
              "  <tbody>\n",
              "    <tr>\n",
              "      <th>0</th>\n",
              "      <td>8112052</td>\n",
              "      <td>어릴때보고 지금다시봐도 재밌어요ㅋㅋ</td>\n",
              "      <td>1</td>\n",
              "    </tr>\n",
              "    <tr>\n",
              "      <th>1</th>\n",
              "      <td>8132799</td>\n",
              "      <td>디자인을 배우는 학생으로, 외국디자이너와 그들이 일군 전통을 통해 발전해가는 문화산...</td>\n",
              "      <td>1</td>\n",
              "    </tr>\n",
              "    <tr>\n",
              "      <th>2</th>\n",
              "      <td>4655635</td>\n",
              "      <td>폴리스스토리 시리즈는 1부터 뉴까지 버릴께 하나도 없음.. 최고.</td>\n",
              "      <td>1</td>\n",
              "    </tr>\n",
              "    <tr>\n",
              "      <th>3</th>\n",
              "      <td>9251303</td>\n",
              "      <td>와.. 연기가 진짜 개쩔구나.. 지루할거라고 생각했는데 몰입해서 봤다.. 그래 이런...</td>\n",
              "      <td>1</td>\n",
              "    </tr>\n",
              "    <tr>\n",
              "      <th>4</th>\n",
              "      <td>10067386</td>\n",
              "      <td>안개 자욱한 밤하늘에 떠 있는 초승달 같은 영화.</td>\n",
              "      <td>1</td>\n",
              "    </tr>\n",
              "  </tbody>\n",
              "</table>\n",
              "</div>"
            ],
            "text/plain": [
              "         id                                           document  label\n",
              "0   8112052                                어릴때보고 지금다시봐도 재밌어요ㅋㅋ      1\n",
              "1   8132799  디자인을 배우는 학생으로, 외국디자이너와 그들이 일군 전통을 통해 발전해가는 문화산...      1\n",
              "2   4655635               폴리스스토리 시리즈는 1부터 뉴까지 버릴께 하나도 없음.. 최고.      1\n",
              "3   9251303  와.. 연기가 진짜 개쩔구나.. 지루할거라고 생각했는데 몰입해서 봤다.. 그래 이런...      1\n",
              "4  10067386                        안개 자욱한 밤하늘에 떠 있는 초승달 같은 영화.      1"
            ]
          },
          "metadata": {
            "tags": []
          },
          "execution_count": 3
        }
      ]
    },
    {
      "cell_type": "code",
      "metadata": {
        "id": "B-cSaGlKNlcB",
        "colab_type": "code",
        "colab": {
          "base_uri": "https://localhost:8080/",
          "height": 198
        },
        "outputId": "80c48879-1c4f-47b3-d973-57907caf0e4f"
      },
      "source": [
        "ratings_data.info()"
      ],
      "execution_count": 4,
      "outputs": [
        {
          "output_type": "stream",
          "text": [
            "<class 'pandas.core.frame.DataFrame'>\n",
            "RangeIndex: 200000 entries, 0 to 199999\n",
            "Data columns (total 3 columns):\n",
            " #   Column    Non-Null Count   Dtype \n",
            "---  ------    --------------   ----- \n",
            " 0   id        200000 non-null  int64 \n",
            " 1   document  199992 non-null  object\n",
            " 2   label     200000 non-null  int64 \n",
            "dtypes: int64(2), object(1)\n",
            "memory usage: 4.6+ MB\n"
          ],
          "name": "stdout"
        }
      ]
    },
    {
      "cell_type": "markdown",
      "metadata": {
        "id": "M-5vRY3oW-vs",
        "colab_type": "text"
      },
      "source": [
        "# 1. 한국어 토크나이저 사용X. split으로"
      ]
    },
    {
      "cell_type": "code",
      "metadata": {
        "id": "CDIP5AliNpJ7",
        "colab_type": "code",
        "colab": {
          "base_uri": "https://localhost:8080/",
          "height": 89
        },
        "outputId": "be0c2c86-89f1-4629-c172-e97a6509976e"
      },
      "source": [
        "# 전처리---------------------------------------------\n",
        "ratings_data['document'] = ratings_data['document'].str.replace(r'[^\\w]', ' ')\n",
        "ratings_data['document'] = ratings_data['document'].replace('', np.nan)\n",
        "ratings_data = ratings_data.dropna(how='any', axis=0)\n",
        "print(\"# preprocessing done\")\n",
        "\n",
        "\n",
        "# 토크나이즈-----------------------------------------\n",
        "docu_train, docu_test, y_train, y_test = train_test_split(ratings_data['document'], ratings_data['label'], shuffle=False)\n",
        "print(\"# split done\")\n",
        "\n",
        "X_train = []\n",
        "for stc in docu_train:\n",
        "    X_train.append(stc.split())\n",
        "  \n",
        "X_test = []\n",
        "for stc in docu_test:\n",
        "    X_test.append(stc.split())\n",
        "\n",
        "print(\"# tokenization done\")\n",
        "\n",
        "# 정수 인코딩----------------------------------------\n",
        "tokenizer = Tokenizer(20000) # 단어 개수\n",
        "tokenizer.fit_on_texts(X_train)\n",
        "\n",
        "X_train = tokenizer.texts_to_sequences(X_train)\n",
        "X_test = tokenizer.texts_to_sequences(X_test)\n",
        "print(\"# int_encoding done\")"
      ],
      "execution_count": null,
      "outputs": [
        {
          "output_type": "stream",
          "text": [
            "# preprocessing done\n",
            "# split done\n",
            "# tokenization done\n",
            "# int_encoding done\n"
          ],
          "name": "stdout"
        }
      ]
    },
    {
      "cell_type": "code",
      "metadata": {
        "id": "OXPi9Ta2O3I_",
        "colab_type": "code",
        "colab": {
          "base_uri": "https://localhost:8080/",
          "height": 35
        },
        "outputId": "118248aa-2ca4-4481-f3e2-085d188346ff"
      },
      "source": [
        "# padding---------------------------------------------\n",
        "max_len = max([len(x) for x in X_train]) # < 50\n",
        "X_train = pad_sequences(X_train, maxlen=max_len)\n",
        "X_test = pad_sequences(X_test, maxlen=max_len)\n",
        "print(\"# padding done\")"
      ],
      "execution_count": null,
      "outputs": [
        {
          "output_type": "stream",
          "text": [
            "# padding done\n"
          ],
          "name": "stdout"
        }
      ]
    },
    {
      "cell_type": "code",
      "metadata": {
        "id": "scnXyIhEXjK8",
        "colab_type": "code",
        "colab": {}
      },
      "source": [
        "# 모델 생성-------------------------------------------\n",
        "\n",
        "model = Sequential()\n",
        "# 단어 임베딩 -> 5000개의 단어를 120차원으로 내보내겠다(정수 -> 120 dimension vector)\n",
        "model.add(Embedding(20000, 120))\n",
        "# LSTM\n",
        "model.add(LSTM(120))\n",
        "# 이진 분류(sigmoid)\n",
        "model.add(Dense(1, activation='sigmoid'))\n",
        "#------------------------------------------------------"
      ],
      "execution_count": null,
      "outputs": []
    },
    {
      "cell_type": "code",
      "metadata": {
        "id": "8GprLK53O270",
        "colab_type": "code",
        "colab": {}
      },
      "source": [
        "# 모델 성능 향상---------------------------------------\n",
        "\n",
        "# validation loss를 계속 보다가 5회 이상 loss가 증가하면, 과적합될 수 있으므로 학습을 조기 종료하겠다.\n",
        "early_stop = EarlyStopping(monitor='val_loss', mode='min', verbose=1, patience=5)\n",
        "# epoch를 반복하면서, 가장 검증데이터 정확도가 높았던 순간을 체크포인트(the_best.h5)로 저장\n",
        "# 정확도가 낮아지면 모델 버려라\n",
        "model_check = ModelCheckpoint('the_best_korean_split.h5', monitor='val_acc', mode='max', verbose=1, save_best_only=True)"
      ],
      "execution_count": null,
      "outputs": []
    },
    {
      "cell_type": "code",
      "metadata": {
        "id": "LMDtsXuCNrAb",
        "colab_type": "code",
        "colab": {
          "base_uri": "https://localhost:8080/",
          "height": 579
        },
        "outputId": "ec33b562-0885-47ca-b182-9744a22ed687"
      },
      "source": [
        "%%time\n",
        "model.compile(loss='binary_crossentropy', optimizer='adam', metrics=['acc'])\n",
        "model.fit(X_train, y_train, validation_data=(X_test, y_test), epochs=10, batch_size=64, callbacks=[early_stop, model_check])"
      ],
      "execution_count": null,
      "outputs": [
        {
          "output_type": "stream",
          "text": [
            "Epoch 1/10\n",
            "2344/2344 [==============================] - ETA: 0s - loss: 0.3938 - acc: 0.8181\n",
            "Epoch 00001: val_acc improved from -inf to 0.67121, saving model to the_best.h5\n",
            "2344/2344 [==============================] - 303s 129ms/step - loss: 0.3938 - acc: 0.8181 - val_loss: 0.6448 - val_acc: 0.6712\n",
            "Epoch 2/10\n",
            "2344/2344 [==============================] - ETA: 0s - loss: 0.3113 - acc: 0.8597\n",
            "Epoch 00002: val_acc improved from 0.67121 to 0.68067, saving model to the_best.h5\n",
            "2344/2344 [==============================] - 297s 127ms/step - loss: 0.3113 - acc: 0.8597 - val_loss: 0.5702 - val_acc: 0.6807\n",
            "Epoch 3/10\n",
            "2344/2344 [==============================] - ETA: 0s - loss: 0.2660 - acc: 0.8803\n",
            "Epoch 00003: val_acc did not improve from 0.68067\n",
            "2344/2344 [==============================] - 299s 127ms/step - loss: 0.2660 - acc: 0.8803 - val_loss: 0.6672 - val_acc: 0.6739\n",
            "Epoch 4/10\n",
            "2344/2344 [==============================] - ETA: 0s - loss: 0.2254 - acc: 0.8973\n",
            "Epoch 00004: val_acc did not improve from 0.68067\n",
            "2344/2344 [==============================] - 295s 126ms/step - loss: 0.2254 - acc: 0.8973 - val_loss: 0.7248 - val_acc: 0.6745\n",
            "Epoch 5/10\n",
            "2344/2344 [==============================] - ETA: 0s - loss: 0.1902 - acc: 0.9145\n",
            "Epoch 00005: val_acc did not improve from 0.68067\n",
            "2344/2344 [==============================] - 292s 125ms/step - loss: 0.1902 - acc: 0.9145 - val_loss: 0.8027 - val_acc: 0.6736\n",
            "Epoch 6/10\n",
            "2344/2344 [==============================] - ETA: 0s - loss: 0.1589 - acc: 0.9280\n",
            "Epoch 00006: val_acc did not improve from 0.68067\n",
            "2344/2344 [==============================] - 298s 127ms/step - loss: 0.1589 - acc: 0.9280 - val_loss: 0.9337 - val_acc: 0.6803\n",
            "Epoch 7/10\n",
            "2344/2344 [==============================] - ETA: 0s - loss: 0.1378 - acc: 0.9366\n",
            "Epoch 00007: val_acc did not improve from 0.68067\n",
            "2344/2344 [==============================] - 293s 125ms/step - loss: 0.1378 - acc: 0.9366 - val_loss: 1.1185 - val_acc: 0.6772\n",
            "Epoch 00007: early stopping\n",
            "CPU times: user 57min 56s, sys: 3min 25s, total: 1h 1min 22s\n",
            "Wall time: 34min 39s\n"
          ],
          "name": "stdout"
        }
      ]
    },
    {
      "cell_type": "code",
      "metadata": {
        "id": "7zQgRFhPOue1",
        "colab_type": "code",
        "colab": {
          "base_uri": "https://localhost:8080/",
          "height": 53
        },
        "outputId": "2c3e30af-1b98-4158-f095-8f6ed917515f"
      },
      "source": [
        "# 정확도 측정\n",
        "print(model.evaluate(X_test, y_test)) # [loss, acc]"
      ],
      "execution_count": null,
      "outputs": [
        {
          "output_type": "stream",
          "text": [
            "1563/1563 [==============================] - 24s 16ms/step - loss: 1.1185 - acc: 0.6772\n",
            "[1.1184991598129272, 0.6771670579910278]\n"
          ],
          "name": "stdout"
        }
      ]
    },
    {
      "cell_type": "markdown",
      "metadata": {
        "id": "xkyJ_rEHNrEn",
        "colab_type": "text"
      },
      "source": [
        "# 2. 한국어 tokenizer 사용 "
      ]
    },
    {
      "cell_type": "code",
      "metadata": {
        "id": "ZA9MjkCQi3z7",
        "colab_type": "code",
        "colab": {
          "base_uri": "https://localhost:8080/",
          "height": 615
        },
        "outputId": "2b0832fc-baac-4d43-adc4-f4f8105a3c31"
      },
      "source": [
        "!pip install konlpy"
      ],
      "execution_count": 5,
      "outputs": [
        {
          "output_type": "stream",
          "text": [
            "Collecting konlpy\n",
            "\u001b[?25l  Downloading https://files.pythonhosted.org/packages/85/0e/f385566fec837c0b83f216b2da65db9997b35dd675e107752005b7d392b1/konlpy-0.5.2-py2.py3-none-any.whl (19.4MB)\n",
            "\u001b[K     |████████████████████████████████| 19.4MB 1.3MB/s \n",
            "\u001b[?25hCollecting colorama\n",
            "  Downloading https://files.pythonhosted.org/packages/c9/dc/45cdef1b4d119eb96316b3117e6d5708a08029992b2fee2c143c7a0a5cc5/colorama-0.4.3-py2.py3-none-any.whl\n",
            "Collecting tweepy>=3.7.0\n",
            "  Downloading https://files.pythonhosted.org/packages/bb/7c/99d51f80f3b77b107ebae2634108717362c059a41384a1810d13e2429a81/tweepy-3.9.0-py2.py3-none-any.whl\n",
            "Requirement already satisfied: numpy>=1.6 in /usr/local/lib/python3.6/dist-packages (from konlpy) (1.18.5)\n",
            "Collecting JPype1>=0.7.0\n",
            "\u001b[?25l  Downloading https://files.pythonhosted.org/packages/50/49/725710351d78d26c65337b1e3b322d7b27b34b704535ab56afc0d9ab0ffd/JPype1-1.0.1-cp36-cp36m-manylinux2010_x86_64.whl (3.8MB)\n",
            "\u001b[K     |████████████████████████████████| 3.8MB 46.3MB/s \n",
            "\u001b[?25hCollecting beautifulsoup4==4.6.0\n",
            "\u001b[?25l  Downloading https://files.pythonhosted.org/packages/9e/d4/10f46e5cfac773e22707237bfcd51bbffeaf0a576b0a847ec7ab15bd7ace/beautifulsoup4-4.6.0-py3-none-any.whl (86kB)\n",
            "\u001b[K     |████████████████████████████████| 92kB 10.4MB/s \n",
            "\u001b[?25hRequirement already satisfied: lxml>=4.1.0 in /usr/local/lib/python3.6/dist-packages (from konlpy) (4.2.6)\n",
            "Requirement already satisfied: requests[socks]>=2.11.1 in /usr/local/lib/python3.6/dist-packages (from tweepy>=3.7.0->konlpy) (2.23.0)\n",
            "Requirement already satisfied: requests-oauthlib>=0.7.0 in /usr/local/lib/python3.6/dist-packages (from tweepy>=3.7.0->konlpy) (1.3.0)\n",
            "Requirement already satisfied: six>=1.10.0 in /usr/local/lib/python3.6/dist-packages (from tweepy>=3.7.0->konlpy) (1.15.0)\n",
            "Requirement already satisfied: typing-extensions; python_version < \"3.8\" in /usr/local/lib/python3.6/dist-packages (from JPype1>=0.7.0->konlpy) (3.7.4.2)\n",
            "Requirement already satisfied: chardet<4,>=3.0.2 in /usr/local/lib/python3.6/dist-packages (from requests[socks]>=2.11.1->tweepy>=3.7.0->konlpy) (3.0.4)\n",
            "Requirement already satisfied: urllib3!=1.25.0,!=1.25.1,<1.26,>=1.21.1 in /usr/local/lib/python3.6/dist-packages (from requests[socks]>=2.11.1->tweepy>=3.7.0->konlpy) (1.24.3)\n",
            "Requirement already satisfied: certifi>=2017.4.17 in /usr/local/lib/python3.6/dist-packages (from requests[socks]>=2.11.1->tweepy>=3.7.0->konlpy) (2020.6.20)\n",
            "Requirement already satisfied: idna<3,>=2.5 in /usr/local/lib/python3.6/dist-packages (from requests[socks]>=2.11.1->tweepy>=3.7.0->konlpy) (2.10)\n",
            "Requirement already satisfied: PySocks!=1.5.7,>=1.5.6; extra == \"socks\" in /usr/local/lib/python3.6/dist-packages (from requests[socks]>=2.11.1->tweepy>=3.7.0->konlpy) (1.7.1)\n",
            "Requirement already satisfied: oauthlib>=3.0.0 in /usr/local/lib/python3.6/dist-packages (from requests-oauthlib>=0.7.0->tweepy>=3.7.0->konlpy) (3.1.0)\n",
            "Installing collected packages: colorama, tweepy, JPype1, beautifulsoup4, konlpy\n",
            "  Found existing installation: tweepy 3.6.0\n",
            "    Uninstalling tweepy-3.6.0:\n",
            "      Successfully uninstalled tweepy-3.6.0\n",
            "  Found existing installation: beautifulsoup4 4.6.3\n",
            "    Uninstalling beautifulsoup4-4.6.3:\n",
            "      Successfully uninstalled beautifulsoup4-4.6.3\n",
            "Successfully installed JPype1-1.0.1 beautifulsoup4-4.6.0 colorama-0.4.3 konlpy-0.5.2 tweepy-3.9.0\n"
          ],
          "name": "stdout"
        }
      ]
    },
    {
      "cell_type": "code",
      "metadata": {
        "id": "_PgEM6mKZJVa",
        "colab_type": "code",
        "colab": {}
      },
      "source": [
        "from konlpy.tag import Okt"
      ],
      "execution_count": 6,
      "outputs": []
    },
    {
      "cell_type": "code",
      "metadata": {
        "id": "0qoWeft_ZH_N",
        "colab_type": "code",
        "colab": {
          "base_uri": "https://localhost:8080/",
          "height": 197
        },
        "outputId": "1eed6d5f-1138-4f9f-9cc3-0eaa9ff86e33"
      },
      "source": [
        "ratings_data = pd.read_table('../ratings.txt')\n",
        "ratings_data.head()"
      ],
      "execution_count": 8,
      "outputs": [
        {
          "output_type": "execute_result",
          "data": {
            "text/html": [
              "<div>\n",
              "<style scoped>\n",
              "    .dataframe tbody tr th:only-of-type {\n",
              "        vertical-align: middle;\n",
              "    }\n",
              "\n",
              "    .dataframe tbody tr th {\n",
              "        vertical-align: top;\n",
              "    }\n",
              "\n",
              "    .dataframe thead th {\n",
              "        text-align: right;\n",
              "    }\n",
              "</style>\n",
              "<table border=\"1\" class=\"dataframe\">\n",
              "  <thead>\n",
              "    <tr style=\"text-align: right;\">\n",
              "      <th></th>\n",
              "      <th>id</th>\n",
              "      <th>document</th>\n",
              "      <th>label</th>\n",
              "    </tr>\n",
              "  </thead>\n",
              "  <tbody>\n",
              "    <tr>\n",
              "      <th>0</th>\n",
              "      <td>8112052</td>\n",
              "      <td>어릴때보고 지금다시봐도 재밌어요ㅋㅋ</td>\n",
              "      <td>1</td>\n",
              "    </tr>\n",
              "    <tr>\n",
              "      <th>1</th>\n",
              "      <td>8132799</td>\n",
              "      <td>디자인을 배우는 학생으로, 외국디자이너와 그들이 일군 전통을 통해 발전해가는 문화산...</td>\n",
              "      <td>1</td>\n",
              "    </tr>\n",
              "    <tr>\n",
              "      <th>2</th>\n",
              "      <td>4655635</td>\n",
              "      <td>폴리스스토리 시리즈는 1부터 뉴까지 버릴께 하나도 없음.. 최고.</td>\n",
              "      <td>1</td>\n",
              "    </tr>\n",
              "    <tr>\n",
              "      <th>3</th>\n",
              "      <td>9251303</td>\n",
              "      <td>와.. 연기가 진짜 개쩔구나.. 지루할거라고 생각했는데 몰입해서 봤다.. 그래 이런...</td>\n",
              "      <td>1</td>\n",
              "    </tr>\n",
              "    <tr>\n",
              "      <th>4</th>\n",
              "      <td>10067386</td>\n",
              "      <td>안개 자욱한 밤하늘에 떠 있는 초승달 같은 영화.</td>\n",
              "      <td>1</td>\n",
              "    </tr>\n",
              "  </tbody>\n",
              "</table>\n",
              "</div>"
            ],
            "text/plain": [
              "         id                                           document  label\n",
              "0   8112052                                어릴때보고 지금다시봐도 재밌어요ㅋㅋ      1\n",
              "1   8132799  디자인을 배우는 학생으로, 외국디자이너와 그들이 일군 전통을 통해 발전해가는 문화산...      1\n",
              "2   4655635               폴리스스토리 시리즈는 1부터 뉴까지 버릴께 하나도 없음.. 최고.      1\n",
              "3   9251303  와.. 연기가 진짜 개쩔구나.. 지루할거라고 생각했는데 몰입해서 봤다.. 그래 이런...      1\n",
              "4  10067386                        안개 자욱한 밤하늘에 떠 있는 초승달 같은 영화.      1"
            ]
          },
          "metadata": {
            "tags": []
          },
          "execution_count": 8
        }
      ]
    },
    {
      "cell_type": "code",
      "metadata": {
        "id": "J4B0rPnsYmA6",
        "colab_type": "code",
        "colab": {
          "base_uri": "https://localhost:8080/",
          "height": 671
        },
        "outputId": "248cdcbe-b4c6-4f9c-a6ea-dce6b58bc578"
      },
      "source": [
        "# 전처리---------------------------------------------\n",
        "ratings_data['document'] = ratings_data['document'].str.replace(r'[^\\w]', ' ')\n",
        "ratings_data['document'] = ratings_data['document'].replace('', np.nan)\n",
        "ratings_data = ratings_data.dropna(how='any', axis=0)\n",
        "print(\"# preprocessing done\")\n",
        "\n",
        "\n",
        "# Tokenization---------------------------------------\n",
        "docu_train, docu_test, y_train, y_test = train_test_split(ratings_data['document'], ratings_data['label'], shuffle=False)\n",
        "print('# split done')\n",
        "\n",
        "okt = Okt()\n",
        "stopwords = ['은', '는', '이', '가', '을', '를', '에게', '에', '께', '것', '이다', '하다', '한다', '의', '으로', '로']\n",
        "\n",
        "X_train = []\n",
        "for stc in docu_train:\n",
        "    words = okt.morphs(stc)\n",
        "    for word in words:\n",
        "        if word in stopwords:\n",
        "            words.remove(word)\n",
        "    X_train.append(words)\n",
        "\n",
        "X_test = []\n",
        "for stc in docu_test:\n",
        "    words = okt.morphs(stc)\n",
        "    for word in words:\n",
        "        if word in stopwords:\n",
        "            words.remove(word)\n",
        "    X_test.append(words)\n",
        "print(\"# tokenization done\")\n",
        "\n",
        "# 정수 인코딩------------------------------------------\n",
        "tokenizer = Tokenizer(20000)\n",
        "tokenizer.fit_on_texts(X_train)\n",
        "\n",
        "X_train = tokenizer.texts_to_sequences(X_train)\n",
        "X_test = tokenizer.texts_to_sequences(X_test)\n",
        "print('# int_encoding done')\n",
        "\n",
        "\n",
        "# padding----------------------------------------------\n",
        "max_len = max([len(x) for x in X_train])\n",
        "X_train = pad_sequences(X_train, maxlen=max_len)\n",
        "X_test = pad_sequences(X_test, maxlen=max_len)\n",
        "print(\"# padding done\")\n",
        "\n",
        "\n",
        "\n",
        "# 모델 생성--------------------------------------------\n",
        "model = Sequential()\n",
        "model.add(Embedding(20000, 120, input_length = max_len))\n",
        "model.add(LSTM(120))\n",
        "model.add(Dense(1, activation='sigmoid'))\n",
        "\n",
        "# 모델 성능 향상---------------------------------------\n",
        "\n",
        "# validation loss를 계속 보다가 5회 이상 loss가 증가하면, 과적합될 수 있으므로 학습을 조기 종료하겠다.\n",
        "early_stop = EarlyStopping(monitor='val_loss', mode='min', verbose=1, patience=5)\n",
        "# epoch를 반복하면서, 가장 검증데이터 정확도가 높았던 순간을 체크포인트(the_best.h5)로 저장\n",
        "# 정확도가 낮아지면 모델 버려라\n",
        "model_check = ModelCheckpoint('the_best_korean_okt_tokenizer.h5', monitor='val_acc', mode='max', verbose=1, save_best_only=True)\n",
        "\n",
        "# 모델 훈련--------------------------------------------\n",
        "model.compile(optimizer='adam', loss='binary_crossentropy', metrics=['acc'])\n",
        "model.fit(X_train, y_train, validation_data = (X_test, y_test), epochs=10, batch_size=64, callbacks=[early_stop, model_check] )\n",
        "\n",
        "# 모델 평가--------------------------------------------\n",
        "print(model.evaluate(X_test, y_test)) # [loss, acc]"
      ],
      "execution_count": 11,
      "outputs": [
        {
          "output_type": "stream",
          "text": [
            "Epoch 1/10\n",
            "2344/2344 [==============================] - ETA: 0s - loss: 0.3455 - acc: 0.8464\n",
            "Epoch 00001: val_acc improved from -inf to 0.76335, saving model to the_best_korean_okt_tokenizer.h5\n",
            "2344/2344 [==============================] - 450s 192ms/step - loss: 0.3455 - acc: 0.8464 - val_loss: 0.5080 - val_acc: 0.7634\n",
            "Epoch 2/10\n",
            "2344/2344 [==============================] - ETA: 0s - loss: 0.2560 - acc: 0.8909\n",
            "Epoch 00002: val_acc did not improve from 0.76335\n",
            "2344/2344 [==============================] - 405s 173ms/step - loss: 0.2560 - acc: 0.8909 - val_loss: 0.5888 - val_acc: 0.7327\n",
            "Epoch 3/10\n",
            "2344/2344 [==============================] - ETA: 0s - loss: 0.2085 - acc: 0.9127\n",
            "Epoch 00003: val_acc improved from 0.76335 to 0.78593, saving model to the_best_korean_okt_tokenizer.h5\n",
            "2344/2344 [==============================] - 407s 173ms/step - loss: 0.2085 - acc: 0.9127 - val_loss: 0.4927 - val_acc: 0.7859\n",
            "Epoch 4/10\n",
            "2344/2344 [==============================] - ETA: 0s - loss: 0.1661 - acc: 0.9322\n",
            "Epoch 00004: val_acc did not improve from 0.78593\n",
            "2344/2344 [==============================] - 405s 173ms/step - loss: 0.1661 - acc: 0.9322 - val_loss: 0.5613 - val_acc: 0.7788\n",
            "Epoch 5/10\n",
            "2344/2344 [==============================] - ETA: 0s - loss: 0.1258 - acc: 0.9505\n",
            "Epoch 00005: val_acc did not improve from 0.78593\n",
            "2344/2344 [==============================] - 404s 172ms/step - loss: 0.1258 - acc: 0.9505 - val_loss: 0.7642 - val_acc: 0.7635\n",
            "Epoch 6/10\n",
            "2344/2344 [==============================] - ETA: 0s - loss: 0.0948 - acc: 0.9631\n",
            "Epoch 00006: val_acc did not improve from 0.78593\n",
            "2344/2344 [==============================] - 404s 172ms/step - loss: 0.0948 - acc: 0.9631 - val_loss: 0.9123 - val_acc: 0.7463\n",
            "Epoch 7/10\n",
            "2344/2344 [==============================] - ETA: 0s - loss: 0.0742 - acc: 0.9715\n",
            "Epoch 00007: val_acc did not improve from 0.78593\n",
            "2344/2344 [==============================] - 404s 172ms/step - loss: 0.0742 - acc: 0.9715 - val_loss: 0.9318 - val_acc: 0.7704\n",
            "Epoch 8/10\n",
            "2344/2344 [==============================] - ETA: 0s - loss: 0.0604 - acc: 0.9772\n",
            "Epoch 00008: val_acc did not improve from 0.78593\n",
            "2344/2344 [==============================] - 403s 172ms/step - loss: 0.0604 - acc: 0.9772 - val_loss: 1.1602 - val_acc: 0.7583\n",
            "Epoch 00008: early stopping\n",
            "1563/1563 [==============================] - 33s 21ms/step - loss: 1.1602 - acc: 0.7583\n",
            "[1.1601521968841553, 0.75825035572052]\n"
          ],
          "name": "stdout"
        }
      ]
    },
    {
      "cell_type": "markdown",
      "metadata": {
        "id": "73iMVcoUNrJX",
        "colab_type": "text"
      },
      "source": [
        "# 해석\n",
        "\n",
        "방법1) split로 토크나이즈한 감성 분석 → [loss, accuracy] = [1.1184991598129272, 0.6771670579910278]\n",
        "\n",
        "방법2) okt를 이용한 형태소로 토크나이즈한 감성 분석 → [loss, accuracy] = [1.1601521968841553, 0.75825035572052]\n",
        "\n",
        "\n",
        "- accuracy를 보면 2번째, 형태소를 이용한 감성 분석의 결과가 더 좋다.\n",
        "- 그런데 왜 loss는 split을 한 쪽이 더 작을까?\n",
        "  - case1> split을 이용한 경우, 결과값(확률)이 0.5 근처에 있다.\n",
        "  - case2> 형태소를 이용한 경우, 결과값이 0 or 1 쪽으로 치우쳐 있다.<br>\n",
        "  => 시각화를 통해 확인하자"
      ]
    },
    {
      "cell_type": "code",
      "metadata": {
        "id": "kenx_Nk4JOEs",
        "colab_type": "code",
        "colab": {}
      },
      "source": [
        "model_split = load_model('the_best.h5')"
      ],
      "execution_count": 13,
      "outputs": []
    },
    {
      "cell_type": "code",
      "metadata": {
        "id": "DvaaQBKSNrQk",
        "colab_type": "code",
        "colab": {}
      },
      "source": [
        "split_pred = model_split.predict(X_test)\n",
        "okt_pred = model.predict(X_test)"
      ],
      "execution_count": 16,
      "outputs": []
    },
    {
      "cell_type": "code",
      "metadata": {
        "id": "A2ZVR3EDNANK",
        "colab_type": "code",
        "colab": {
          "base_uri": "https://localhost:8080/",
          "height": 545
        },
        "outputId": "c6dfe2c0-cff7-4aac-8161-a63eb3c819d0"
      },
      "source": [
        "import seaborn as sns\n",
        "import matplotlib.pyplot as plt\n",
        "plt.subplots()\n",
        "ax1 = sns.distplot(split_pred.flatten(), kde=True)\n",
        "ax1.set_title(\"<split>\")\n",
        "\n",
        "plt.subplots()\n",
        "ax2 = sns.distplot(okt_pred.flatten(), kde=True)\n",
        "ax2.set_title(\"<okt morphs>\");"
      ],
      "execution_count": 27,
      "outputs": [
        {
          "output_type": "display_data",
          "data": {
            "image/png": "[encoded data removed]",
            "text/plain": [
              "<Figure size 432x288 with 1 Axes>"
            ]
          },
          "metadata": {
            "tags": [],
            "needs_background": "light"
          }
        },
        {
          "output_type": "display_data",
          "data": {
            "image/png": "[encoded data removed]",
            "text/plain": [
              "<Figure size 432x288 with 1 Axes>"
            ]
          },
          "metadata": {
            "tags": [],
            "needs_background": "light"
          }
        }
      ]
    },
    {
      "cell_type": "markdown",
      "metadata": {
        "id": "NDNkrXTdNrTn",
        "colab_type": "text"
      },
      "source": [
        "(density임에도 불구하고, y축이 1보다 크게 나오는 이유는 그래프 아래쪽 넓이의 합을 1로 맞추기 위함이다. x축의 범위가 작은 경우에 이런 식으로 나타나는데, 그래프 모양은 맞는 것이므로 해석에는 지장이 없다.)\n",
        "\n",
        "아무튼, 예상했던 대로 형태소를 이용한 감성 분석의 경우가 극단적인 값으로 치우쳐있음을 알 수 있다. 또한, split으로 나눈 경우는 상대적으로 0.5 근처의 값이 많이 나타나는 것을 확인할 수 있다."
      ]
    },
    {
      "cell_type": "code",
      "metadata": {
        "id": "U-Hd-A3INrWE",
        "colab_type": "code",
        "colab": {}
      },
      "source": [
        ""
      ],
      "execution_count": null,
      "outputs": []
    }
  ]
}