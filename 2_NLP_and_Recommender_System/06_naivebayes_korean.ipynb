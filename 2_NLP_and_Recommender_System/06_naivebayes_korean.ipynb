{
 "cells": [
  {
   "cell_type": "code",
   "execution_count": 1,
   "metadata": {},
   "outputs": [],
   "source": [
    "import re\n",
    "import csv\n",
    "from math import log, exp   # 기본 자연로그\n",
    "from collections import Counter"
   ]
  },
  {
   "cell_type": "code",
   "execution_count": 80,
   "metadata": {},
   "outputs": [],
   "source": [
    "def start():\n",
    "    train_datas = open_csv() \n",
    "    \n",
    "    test_data = input()\n",
    "    prob = naive_bayes(train_datas, test_data, 0.5, 0.5)\n",
    "    \n",
    "    print(f\"리뷰가 부정적인 확률 : {round(prob[0], 5)}, 긍정적일 확률 : {round(prob[1], 5)}\")\n",
    "\n",
    "    \n",
    "def open_csv():\n",
    "    \n",
    "    train_datas = [[], []]\n",
    "    f_train = open(\"./data/ratings.txt\", 'r', encoding='utf-8')\n",
    "    csvreader = csv.reader(f_train, delimiter='\\t')\n",
    "    next(csvreader)\n",
    "    for line in csvreader:\n",
    "        if line[2] == '1':\n",
    "            train_datas[1].append(line[1])\n",
    "        else:\n",
    "            train_datas[0].append(line[1])\n",
    "\n",
    "            \n",
    "    return [' '.join(train_datas[0]), ' '.join(train_datas[1])]\n",
    "\n",
    "   \n",
    "#----------------------------------------\n",
    "\n",
    "def start_validate():\n",
    "    train_datas, test_datas = open_csv_validate()\n",
    "    \n",
    "    prob_neg = naive_bayes(train_datas, test_datas[0], 0.5, 0.5)\n",
    "    prob_pos = naive_bayes(train_datas, test_datas[1], 0.5, 0.5)\n",
    "    \n",
    "    print(f\"부정 텍스트가 부정적일 확률 : {round(prob_neg[0], 5)}, 긍정적인 확률 : {round(prob_neg[1], 5)}\")\n",
    "    print(f\"긍정 텍스트가 부정적일 확률 : {round(prob_pos[0], 5)}, 긍정적인 확률 : {round(prob_pos[1], 5)}\")\n",
    "    \n",
    "\n",
    "    \n",
    "\n",
    "def open_csv_validate():\n",
    "    \n",
    "    train_datas = [[], []]\n",
    "    f_train = open(\"./data/ratings_train.txt\", 'r', encoding='utf-8')\n",
    "    csvreader = csv.reader(f_train, delimiter='\\t')\n",
    "    next(csvreader)\n",
    "    for line in csvreader:\n",
    "        if line[2] == '1':\n",
    "            train_datas[1].append(line[1])\n",
    "        else:\n",
    "            train_datas[0].append(line[1])\n",
    "            \n",
    "    test_datas = [[], []]\n",
    "    f_test = open(\"./data/ratings_test.txt\", 'r', encoding='utf-8')\n",
    "    csvreader = csv.reader(f_test, delimiter='\\t')\n",
    "    next(csvreader)\n",
    "    for line in csvreader:\n",
    "        if line[2] == '1':\n",
    "            test_datas[1].append(line[1])\n",
    "        else:\n",
    "            test_datas[0].append(line[1])\n",
    "            \n",
    "    return [' '.join(train_datas[0]), ' '.join(train_datas[1])], [' '.join(test_datas[0]), ' '.join(test_datas[1])]\n",
    "\n",
    "\n",
    "\n",
    "def calculate_doc_prob(train_data, test_data, nowords_weight):\n",
    "    log_prob = 0 \n",
    "        \n",
    "   \n",
    "    sw_train_data = re.compile(\"[^\\w]\").sub(' ', train_data)\n",
    "\n",
    "    sw_train_token = sw_train_data.split() \n",
    "    train_vector = dict(Counter(sw_train_token))\n",
    "    \n",
    "\n",
    "    sw_test_data = re.compile(\"[^\\w]\").sub(' ', test_data)\n",
    "    sw_test_token = sw_test_data.split()\n",
    "    test_vector = dict(Counter(sw_test_token)) \n",
    "    \n",
    "   \n",
    "    total_wc = len(sw_train_token)\n",
    "    \n",
    "    for word in test_vector:\n",
    "        if word in train_vector:\n",
    "            log_prob += log(train_vector[word]/total_wc)\n",
    "        else:\n",
    "            log_prob += log(nowords_weight/total_wc) \n",
    "            \n",
    "    return log_prob\n",
    "\n",
    "\n",
    "\n",
    "def naive_bayes(train_datas, test_data, pos_prob, neg_prob):\n",
    "    test_pos_prob = calculate_doc_prob(train_datas[1], test_data, 0.1) + log(pos_prob) \n",
    "    test_neg_prob = calculate_doc_prob(train_datas[0], test_data, 0.1) + log(neg_prob)\n",
    "     \n",
    "    maxprob = max(test_neg_prob, test_pos_prob)\n",
    "    test_pos_prob -= maxprob\n",
    "    test_neg_prob -= maxprob\n",
    "    print(test_pos_prob, test_neg_prob)\n",
    "    test_pos_prob = exp(test_pos_prob)\n",
    "    test_neg_prob = exp(test_neg_prob)\n",
    "    normalized_prob = [test_neg_prob/(test_neg_prob+test_pos_prob), test_pos_prob/(test_neg_prob+test_pos_prob)]\n",
    "    \n",
    "    return normalized_prob\n",
    "\n",
    "\n",
    "\n",
    "    \n"
   ]
  },
  {
   "cell_type": "code",
   "execution_count": 81,
   "metadata": {},
   "outputs": [
    {
     "name": "stdout",
     "output_type": "stream",
     "text": [
      "나이스\n",
      "0.0 -2.226970516162611\n",
      "리뷰가 부정적인 확률 : 0.09735, 긍정적일 확률 : 0.90265\n"
     ]
    }
   ],
   "source": [
    "start()"
   ]
  },
  {
   "cell_type": "code",
   "execution_count": 82,
   "metadata": {
    "scrolled": true
   },
   "outputs": [
    {
     "name": "stdout",
     "output_type": "stream",
     "text": [
      "-22891.8269452611 0.0\n",
      "0.0 -19819.128885605838\n",
      "부정 텍스트가 부정적일 확률 : 1.0, 긍정적인 확률 : 0.0\n",
      "긍정 텍스트가 부정적일 확률 : 0.0, 긍정적인 확률 : 1.0\n"
     ]
    }
   ],
   "source": [
    "start_validate()"
   ]
  },
  {
   "cell_type": "code",
   "execution_count": null,
   "metadata": {},
   "outputs": [],
   "source": []
  },
  {
   "cell_type": "code",
   "execution_count": null,
   "metadata": {},
   "outputs": [],
   "source": []
  },
  {
   "cell_type": "code",
   "execution_count": null,
   "metadata": {},
   "outputs": [],
   "source": []
  },
  {
   "cell_type": "code",
   "execution_count": null,
   "metadata": {},
   "outputs": [],
   "source": []
  }
 ],
 "metadata": {
  "kernelspec": {
   "display_name": "Python 3",
   "language": "python",
   "name": "python3"
  },
  "language_info": {
   "codemirror_mode": {
    "name": "ipython",
    "version": 3
   },
   "file_extension": ".py",
   "mimetype": "text/x-python",
   "name": "python",
   "nbconvert_exporter": "python",
   "pygments_lexer": "ipython3",
   "version": "3.7.6"
  }
 },
 "nbformat": 4,
 "nbformat_minor": 4
}
