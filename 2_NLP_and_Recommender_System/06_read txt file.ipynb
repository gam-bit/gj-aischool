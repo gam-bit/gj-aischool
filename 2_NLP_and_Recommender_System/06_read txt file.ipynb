{
 "cells": [
  {
   "cell_type": "code",
   "execution_count": 10,
   "metadata": {},
   "outputs": [],
   "source": [
    "# open_txt\n",
    "\n",
    "f = open('./data/ratings.txt', 'r', encoding='utf-8')\n",
    "\n",
    "neg_doc = []\n",
    "pos_doc = []\n",
    "\n",
    "for line in f:\n",
    "    a = line.replace('\\n', '').split('\\t')\n",
    "    i = 0\n",
    "    if i == 20:\n",
    "        break\n",
    "    else:\n",
    "        if a[2] == '1':\n",
    "            pos_doc.append(a[1])\n",
    "        elif a[2] == '0':\n",
    "            neg_doc.append(a[1])\n",
    "        i += 1\n"
   ]
  }
 ],
 "metadata": {
  "kernelspec": {
   "display_name": "Python 3",
   "language": "python",
   "name": "python3"
  },
  "language_info": {
   "codemirror_mode": {
    "name": "ipython",
    "version": 3
   },
   "file_extension": ".py",
   "mimetype": "text/x-python",
   "name": "python",
   "nbconvert_exporter": "python",
   "pygments_lexer": "ipython3",
   "version": "3.7.6"
  }
 },
 "nbformat": 4,
 "nbformat_minor": 4
}
