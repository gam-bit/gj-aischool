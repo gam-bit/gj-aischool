{
 "cells": [
  {
   "cell_type": "markdown",
   "metadata": {},
   "source": [
    "1. \\['abbbbba', 'cddb', 'aerb', 'aeeeb', 'almnj']\n",
    "(모두 문자열)일 때 1, 3번째만 True를 리턴하는 정규표현식을 작성하시오"
   ]
  },
  {
   "cell_type": "code",
   "execution_count": 16,
   "metadata": {
    "tags": []
   },
   "outputs": [
    {
     "name": "stdout",
     "output_type": "stream",
     "text": [
      "abbb\n",
      "aerb\n"
     ]
    }
   ],
   "source": [
    "import re\n",
    "\n",
    "s = ['abbbbba', 'cddb', 'aerb', 'aeeeb', 'almnj'] \n",
    "p = re.compile('^a.{2}b') # a, b 사이에 2개의 문자가 있다\n",
    "\n",
    "for i in s:\n",
    "    m = p.match(i)\n",
    "    if m is not None:\n",
    "        print(m.group())"
   ]
  },
  {
   "cell_type": "markdown",
   "metadata": {},
   "source": [
    "2. \\['abcd efghopqr-stuv', 'abcd-efgh', 'abc defghijk', 'ab cdhijk'] 일 때 1, 3, 4번째만 match되도록 정규표현식을 작성하시오."
   ]
  },
  {
   "cell_type": "code",
   "execution_count": 24,
   "metadata": {
    "tags": []
   },
   "outputs": [
    {
     "name": "stdout",
     "output_type": "stream",
     "text": [
      "abcd efghopqr-stuv\n",
      "abc defghijk\n",
      "ab cdhijk\n"
     ]
    }
   ],
   "source": [
    "import re\n",
    "\n",
    "stringlst = ['abcd efghopqr-stuv', 'abcd-efgh', 'abc defghijk', 'ab cdhijk'] \n",
    "\n",
    "\n",
    "for s in stringlst:\n",
    "    p = re.compile(r'.+\\s.+')\n",
    "    m = p.match(s)\n",
    "    \n",
    "    if m is not None:\n",
    "        print(m.group())"
   ]
  },
  {
   "cell_type": "markdown",
   "metadata": {},
   "source": [
    "3. 그룹을 사용해서 \\['코끼리는 코끼리', '강아지는 강아지', '고양이는 고양이'] 모두에게 True를 리턴하는 정규표현식을 작성하고, 주어들을 순서대로 출력하세요."
   ]
  },
  {
   "cell_type": "code",
   "execution_count": 43,
   "metadata": {
    "tags": []
   },
   "outputs": [
    {
     "name": "stdout",
     "output_type": "stream",
     "text": [
      "코끼리\n",
      "강아지\n",
      "고양이\n",
      "민정\n"
     ]
    }
   ],
   "source": [
    "import re\n",
    "\n",
    "stringlst = ['코끼리는 코끼리', '강아지는 강아지', '고양이는 고양이', '민정은 민정'] \n",
    "\n",
    "for s in stringlst:\n",
    "    p = re.compile(r'(?P<animal>.+)[는은]\\s\\1') # 대괄호로 묶으면 그 자체로 문자 1개임!\n",
    "    m = p.match(s)\n",
    "    \n",
    "    if m is not None:\n",
    "        print(m.group(1))"
   ]
  },
  {
   "cell_type": "markdown",
   "metadata": {},
   "source": [
    "4. \\['김준태 - 학점 2.0', '이재화 - 학점 3.0', '최주원 - 학점 4.0']에서 학점을 모두 4.5로 바꿔주세요!"
   ]
  },
  {
   "cell_type": "code",
   "execution_count": 53,
   "metadata": {},
   "outputs": [
    {
     "name": "stdout",
     "output_type": "stream",
     "text": [
      "김준태 - 학점 4.5\n",
      "이재화 - 학점 4.5\n",
      "최주원 - 학점 4.5\n"
     ]
    }
   ],
   "source": [
    "stringlst = ['김준태 - 학점 2.0', '이재화 - 학점 3.0', '최주원 - 학점 4.0']\n",
    "\n",
    "p = re.compile('(?P<name>.+)\\s+.\\s+.+(?P<grade>[\\d]\\.[\\d])')\n",
    "\n",
    "for s in stringlst:\n",
    "    print(re.sub(p, r'\\g<name> - 학점 4.5', s))"
   ]
  },
  {
   "cell_type": "markdown",
   "metadata": {},
   "source": [
    "5. <div id=\"u_skip\"> <a href=\"#newsstand\"><span>뉴스스탠드 바로가기</span></a> <a href=\"#themecast\"><span>주제별캐스트 바로가기</span></a> <a href=\"#timesquare\"><span>타임스퀘어 바로가기</span></a> <a href=\"#shopcast\"><span>쇼핑캐스트 바로가기</span></a> <a href=\"#account\"><span>로그인 바로가기</span></a> </div> 에서 사용된 모든 태그(<>)를 출력하세요. "
   ]
  },
  {
   "cell_type": "code",
   "execution_count": null,
   "metadata": {
    "tags": []
   },
   "outputs": [],
   "source": []
  },
  {
   "cell_type": "markdown",
   "metadata": {},
   "source": [
    "6. '1100+1200+1300+1800=5400' 이라는 문장에서 등호표시 전의 숫자만 8진법으로 변경하세요."
   ]
  },
  {
   "cell_type": "code",
   "execution_count": null,
   "metadata": {
    "tags": []
   },
   "outputs": [],
   "source": []
  },
  {
   "cell_type": "markdown",
   "metadata": {},
   "source": [
    "7. \\['https://naver.com', 'https://korea.ac.kr', 'https://www.google.com', 'google.com', 'https://facebook.com', 'naver.com'] 에서 https로 시작하고, www.이 없고, 마지막이 .com으로 끝나는 주소만 True를 리턴하는 정규표현식을 작성하세요."
   ]
  },
  {
   "cell_type": "code",
   "execution_count": null,
   "metadata": {
    "tags": []
   },
   "outputs": [],
   "source": []
  },
  {
   "cell_type": "markdown",
   "metadata": {},
   "source": [
    "8. a = '''mike 010-1234-0907 mikeman@naver.com hi! my name is mike!\n",
    "jay 010-1112-3456 jayman@naver.com hi! my name is jay!\n",
    "yohan 010-2223-5874 yohanman@naver.com hi! my name is yohan!'''\n",
    "위 문장에서 순서 배치를 전화번호, 이메일, 자기소개, 이름 순서로 변경하시오."
   ]
  },
  {
   "cell_type": "code",
   "execution_count": null,
   "metadata": {
    "tags": []
   },
   "outputs": [],
   "source": []
  }
 ],
 "metadata": {
  "kernelspec": {
   "display_name": "Python 3",
   "language": "python",
   "name": "python3"
  },
  "language_info": {
   "codemirror_mode": {
    "name": "ipython",
    "version": 3
   },
   "file_extension": ".py",
   "mimetype": "text/x-python",
   "name": "python",
   "nbconvert_exporter": "python",
   "pygments_lexer": "ipython3",
   "version": "3.7.6"
  }
 },
 "nbformat": 4,
 "nbformat_minor": 2
}
