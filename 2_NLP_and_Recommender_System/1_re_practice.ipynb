{
 "cells": [
  {
   "cell_type": "markdown",
   "metadata": {},
   "source": [
    "★ 알게 된 것\n",
    "\n",
    "\n",
    "1. 반복되는 패턴을 수정하고 싶을 땐, 해당 패턴을 compile해서 sub에 넣어 바꾸면 match되는 모든 부분에 대하여 수정된다.\n",
    "\n",
    "2. 특정 단어로 시작하는 패턴 ^(단어) / 특정 단어로 끝나는 패턴 (단어)$\n",
    "\n",
    "3. 특정 단어를 제외하는 패턴 (?!(?:단어))\n",
    "\n",
    "4. pattern.sub(repl_func, string) 인 경우에 repl_func에는 pattern.match(string) 객체가 들어간다.\n",
    "\n",
    "5. html 파싱할 때 findall을 쓰는 경우, <.\\*?>로 패턴을 정해야 괄호 하나씩 분리된다. 그냥 <.*>로 하면 <><><><><>이런식의 경우가 하나의 string으로 나타난다. 따라서 ?를 쓰면 최소한의 구간으로 줄여준다고 생각하면 된다.\n",
    "---"
   ]
  },
  {
   "cell_type": "markdown",
   "metadata": {},
   "source": [
    "1. \\['abbbbba', 'cddb', 'aerb', 'aeeeb', 'almnj']\n",
    "(모두 문자열)일 때 1, 3번째만 True를 리턴하는 정규표현식을 작성하시오"
   ]
  },
  {
   "cell_type": "code",
   "execution_count": 1,
   "metadata": {
    "tags": []
   },
   "outputs": [
    {
     "name": "stdout",
     "output_type": "stream",
     "text": [
      "abbb\n",
      "aerb\n"
     ]
    }
   ],
   "source": [
    "import re\n",
    "\n",
    "s = ['abbbbba', 'cddb', 'aerb', 'aeeeb', 'almnj'] \n",
    "p = re.compile('^a.{2}b') # a, b 사이에 2개의 문자가 있다\n",
    "\n",
    "for i in s:\n",
    "    m = p.match(i)\n",
    "    if m is not None:\n",
    "        print(m.group())"
   ]
  },
  {
   "cell_type": "markdown",
   "metadata": {},
   "source": [
    "2. \\['abcd efghopqr-stuv', 'abcd-efgh', 'abc defghijk', 'ab cdhijk'] 일 때 1, 3, 4번째만 match되도록 정규표현식을 작성하시오."
   ]
  },
  {
   "cell_type": "code",
   "execution_count": 2,
   "metadata": {
    "tags": []
   },
   "outputs": [
    {
     "name": "stdout",
     "output_type": "stream",
     "text": [
      "abcd efghopqr-stuv\n",
      "abc defghijk\n",
      "ab cdhijk\n"
     ]
    }
   ],
   "source": [
    "import re\n",
    "\n",
    "stringlst = ['abcd efghopqr-stuv', 'abcd-efgh', 'abc defghijk', 'ab cdhijk'] \n",
    "\n",
    "\n",
    "for s in stringlst:\n",
    "    p = re.compile(r'.+\\s.+')\n",
    "    m = p.match(s)\n",
    "    \n",
    "    if m is not None:\n",
    "        print(m.group())"
   ]
  },
  {
   "cell_type": "markdown",
   "metadata": {},
   "source": [
    "3. 그룹을 사용해서 \\['코끼리는 코끼리', '강아지는 강아지', '고양이는 고양이'] 모두에게 True를 리턴하는 정규표현식을 작성하고, 주어들을 순서대로 출력하세요."
   ]
  },
  {
   "cell_type": "code",
   "execution_count": 3,
   "metadata": {
    "tags": []
   },
   "outputs": [
    {
     "name": "stdout",
     "output_type": "stream",
     "text": [
      "코끼리\n",
      "강아지\n",
      "고양이\n",
      "민정\n"
     ]
    }
   ],
   "source": [
    "import re\n",
    "\n",
    "stringlst = ['코끼리는 코끼리', '강아지는 강아지', '고양이는 고양이', '민정은 민정'] \n",
    "\n",
    "for s in stringlst:\n",
    "    p = re.compile(r'(?P<animal>.+)[는은]\\s\\1') # 대괄호로 묶으면 그 자체로 문자 1개임!\n",
    "    m = p.match(s)\n",
    "    \n",
    "    if m is not None:\n",
    "        print(m.group(1))"
   ]
  },
  {
   "cell_type": "markdown",
   "metadata": {},
   "source": [
    "4. \\['김준태 - 학점 2.0', '이재화 - 학점 3.0', '최주원 - 학점 4.0']에서 학점을 모두 4.5로 바꿔주세요!"
   ]
  },
  {
   "cell_type": "code",
   "execution_count": 4,
   "metadata": {},
   "outputs": [
    {
     "name": "stdout",
     "output_type": "stream",
     "text": [
      "김준태 - 학점 4.5\n",
      "이재화 - 학점 4.5\n",
      "최주원 - 학점 4.5\n"
     ]
    }
   ],
   "source": [
    "stringlst = ['김준태 - 학점 2.0', '이재화 - 학점 3.0', '최주원 - 학점 4.0']\n",
    "\n",
    "p = re.compile('(?P<name>.+)\\s.\\s.+(?P<grade>[\\d]\\.[\\d])')\n",
    "\n",
    "for s in stringlst:\n",
    "    print(p.sub(r'\\g<name> - 학점 4.5', s))"
   ]
  },
  {
   "cell_type": "code",
   "execution_count": 5,
   "metadata": {},
   "outputs": [
    {
     "name": "stdout",
     "output_type": "stream",
     "text": [
      "김준태 - 학점 4.5\n",
      "이재화 - 학점 4.5\n",
      "최주원 - 학점 4.5\n"
     ]
    }
   ],
   "source": [
    "# 답안 by 강사님\n",
    "stringlst = ['김준태 - 학점 2.0', '이재화 - 학점 3.0', '최주원 - 학점 4.0']\n",
    "p = re.compile(r'(?P<rest>.+\\s.\\s).+') # 바꿀 부분을 제외한 나머지\n",
    "\n",
    "for i in stringlst:\n",
    "    matched = p.match(i)\n",
    "    print(p.sub('\\g<rest>학점 4.5', i))"
   ]
  },
  {
   "cell_type": "markdown",
   "metadata": {},
   "source": [
    "---\n",
    "\n",
    "- sub 함수 사용 예"
   ]
  },
  {
   "cell_type": "code",
   "execution_count": 11,
   "metadata": {},
   "outputs": [
    {
     "name": "stdout",
     "output_type": "stream",
     "text": [
      "aa\n",
      "abewfc good\n",
      "ac good\n",
      "d\n",
      "e\n"
     ]
    }
   ],
   "source": [
    "def dummy(match):\n",
    "    a = match.group()\n",
    "    return a + ' good'\n",
    "\n",
    "list_a = ['aa', 'abewfc', 'ac', 'd', 'e']\n",
    "p = re.compile('a.*c')\n",
    "\n",
    "for i in list_a:\n",
    "    print(p.sub(dummy, i))  # The re.sub() function passes the matched object to repl_function as an argument \n",
    "                            # p.match(i)를 dummy에 대입함"
   ]
  },
  {
   "cell_type": "markdown",
   "metadata": {},
   "source": [
    "- ? 사용 예 :최소한으로 일치된 여부를 파악할 때 사용"
   ]
  },
  {
   "cell_type": "code",
   "execution_count": 14,
   "metadata": {},
   "outputs": [
    {
     "name": "stdout",
     "output_type": "stream",
     "text": [
      "<re.Match object; span=(0, 4), match='(hi)'>\n"
     ]
    }
   ],
   "source": [
    "a = '(hi)(hi)'\n",
    "p = re.compile('\\(\\w+\\)') # 괄호는 escape 처리를 해야 함\n",
    "\n",
    "print(p.match(a))"
   ]
  },
  {
   "cell_type": "code",
   "execution_count": 15,
   "metadata": {},
   "outputs": [
    {
     "name": "stdout",
     "output_type": "stream",
     "text": [
      "<re.Match object; span=(0, 7), match='<안녕하세요>'>\n"
     ]
    }
   ],
   "source": [
    "a = '<안녕하세요><안녕하세요>'\n",
    "p = re.compile('<.+?>')\n",
    " \n",
    "print(p.match(a))"
   ]
  },
  {
   "cell_type": "code",
   "execution_count": 16,
   "metadata": {},
   "outputs": [
    {
     "name": "stdout",
     "output_type": "stream",
     "text": [
      "<re.Match object; span=(0, 7), match='<안녕하세요>'>\n"
     ]
    }
   ],
   "source": [
    "a = '<안녕하세요><안녕하세요>'\n",
    "p = re.compile('<\\w+>')\n",
    " \n",
    "print(p.match(a))"
   ]
  },
  {
   "cell_type": "markdown",
   "metadata": {},
   "source": [
    "---"
   ]
  },
  {
   "cell_type": "markdown",
   "metadata": {},
   "source": [
    "5. `<div id=\"u_skip\"> <a href=\"#newsstand\"><span>뉴스스탠드 바로가기</span></a> <a href=\"#themecast\"><span>주제별캐스트 바로가기</span></a> <a href=\"#timesquare\"><span>타임스퀘어 바로가기</span></a> <a href=\"#shopcast\"><span>쇼핑캐스트 바로가기</span></a> <a href=\"#account\"><span>로그인 바로가기</span></a> </div>` 에서 사용된 모든 태그(<>)를 출력하세요. "
   ]
  },
  {
   "cell_type": "code",
   "execution_count": 20,
   "metadata": {
    "tags": []
   },
   "outputs": [
    {
     "name": "stdout",
     "output_type": "stream",
     "text": [
      "['<div id=\"u_skip\">', '<a href=\"#newsstand\">', '<span>', '</span>', '</a>', '<a href=\"#themecast\">', '<span>', '</span>', '</a>', '<a href=\"#timesquare\">', '<span>', '</span>', '</a>', '<a href=\"#shopcast\">', '<span>', '</span>', '</a>', '<a href=\"#account\">', '<span>', '</span>', '</a>', '</div>']\n"
     ]
    }
   ],
   "source": [
    "string = '''<div id=\"u_skip\"> <a href=\"#newsstand\"><span>뉴스스탠드 바로가기\n",
    "</span></a> <a href=\"#themecast\"><span>주제별캐스트 바로가기</span></a> \n",
    "<a href=\"#timesquare\"><span>타임스퀘어 바로가기</span></a> \n",
    "<a href=\"#shopcast\"><span>쇼핑캐스트 바로가기</span></a> \n",
    "<a href=\"#account\"><span>로그인 바로가기</span></a> </div>'''\n",
    "\n",
    "\n",
    "p = re.compile('<.+?>') # ?가 들어가면 최소 단위로 잘라줌\n",
    "print(p.findall(string))"
   ]
  },
  {
   "cell_type": "markdown",
   "metadata": {},
   "source": [
    "★6. '1100+1200+1300+1800=5400' 이라는 문장에서 등호표시 전의 숫자만 8진법으로 변경하세요."
   ]
  },
  {
   "cell_type": "code",
   "execution_count": 46,
   "metadata": {
    "tags": []
   },
   "outputs": [
    {
     "name": "stdout",
     "output_type": "stream",
     "text": [
      "0o3410\n"
     ]
    }
   ],
   "source": [
    "# 틀린 답\n",
    "string = '1100+1200+1300+1800=5400' \n",
    "p = re.compile(r'\\d+\\+\\d+\\+\\d+\\+(?P<num>\\d{4})=\\d+')\n",
    "picked_num = p.sub('\\g<num>', string)\n",
    "print(oct(int(picked_num)))"
   ]
  },
  {
   "cell_type": "code",
   "execution_count": 63,
   "metadata": {},
   "outputs": [
    {
     "name": "stdout",
     "output_type": "stream",
     "text": [
      "0o2114+0o2260+0o2424+0o3410=5400\n"
     ]
    }
   ],
   "source": [
    "import re\n",
    "\n",
    "def octa(match):\n",
    "    a = int(match.group())\n",
    "    return oct(a)\n",
    "\n",
    "a = '1100+1200+1300+1800=5400'\n",
    "# p = re.findall('1\\d{3}', a) # findall을 해보면 sub로 바꿀 자리를 확인할 수 있다.\n",
    "p = re.compile('1\\d{3}') # 바꿀 부분을 compile\n",
    "                         # 1로 시작하는 네자리수\n",
    "b = p.sub(octa, a)\n",
    "\n",
    "print(b)"
   ]
  },
  {
   "cell_type": "markdown",
   "metadata": {},
   "source": [
    "★7. `['https://naver.com', 'https://korea.ac.kr', 'https://www.google.com', 'google.com', 'https://facebook.com', 'naver.com']` 에서 https로 시작하고, www.이 없고, 마지막이 .com으로 끝나는 주소만 True를 리턴하는 정규표현식을 작성하세요."
   ]
  },
  {
   "cell_type": "code",
   "execution_count": 54,
   "metadata": {
    "tags": []
   },
   "outputs": [
    {
     "name": "stdout",
     "output_type": "stream",
     "text": [
      "https://naver.com True\n",
      "https://facebook.com True\n"
     ]
    }
   ],
   "source": [
    "str_list = ['https://naver.com', 'https://korea.ac.kr', 'https://www.google.com', \n",
    "            'google.com', 'https://facebook.com', 'naver.com']\n",
    "\n",
    "def true(match):\n",
    "    a = match.group()\n",
    "    \n",
    "    return a + ' True'\n",
    "\n",
    "p = re.compile('^(https)://\\w+(\\.com)$')\n",
    "\n",
    "\n",
    "for s in str_list:\n",
    "    m = p.match(s)\n",
    "    \n",
    "    if m:\n",
    "        print(p.sub(true, s))"
   ]
  },
  {
   "cell_type": "code",
   "execution_count": 66,
   "metadata": {},
   "outputs": [
    {
     "name": "stdout",
     "output_type": "stream",
     "text": [
      "None\n",
      "<re.Match object; span=(0, 17), match='https://naver.com'>\n",
      "None\n",
      "None\n",
      "None\n",
      "<re.Match object; span=(0, 20), match='https://facebook.com'>\n",
      "None\n"
     ]
    }
   ],
   "source": [
    "# 답안\n",
    "# 'https://wavve.com'도 match 안 함 -> 수정\n",
    "import re\n",
    "\n",
    "a = ['https://wavve.com', 'https://naver.com', 'https://korea.ac.kr', 'https://www.google.com', 'google.com', 'https://facebook.com', 'naver.com']\n",
    "\n",
    "p = re.compile('^https://[^w].com$')\n",
    "\n",
    "for i in a:\n",
    "    matched = p.match(i)\n",
    "    print(matched)"
   ]
  },
  {
   "cell_type": "code",
   "execution_count": 78,
   "metadata": {},
   "outputs": [
    {
     "name": "stdout",
     "output_type": "stream",
     "text": [
      "<re.Match object; span=(0, 17), match='https://wavve.com'>\n",
      "<re.Match object; span=(0, 17), match='https://naver.com'>\n",
      "None\n",
      "<re.Match object; span=(0, 22), match='https://www.google.com'>\n",
      "None\n",
      "<re.Match object; span=(0, 20), match='https://facebook.com'>\n",
      "None\n",
      "None\n"
     ]
    }
   ],
   "source": [
    "# 답안 수정\n",
    "a = ['https://wavve.com', 'https://naver.com', 'https://korea.ac.kr', \n",
    "     'https://www.google.com', 'google.com', 'https://facebook.com', \n",
    "     'h.com', 'naver.com']\n",
    "\n",
    "p = re.compile(r'^(https)(?!(?:www)).*(.com)$')\n",
    "\n",
    "\n",
    "for i in a:\n",
    "    print(p.match(i))"
   ]
  },
  {
   "cell_type": "markdown",
   "metadata": {},
   "source": [
    "★8. `a = '''mike 010-1234-0907 mikeman@naver.com hi! my name is mike!\n",
    "jay 010-1112-3456 jayman@naver.com hi! my name is jay!\n",
    "yohan 010-2223-5874 yohanman@naver.com hi! my name is yohan!'''`\n",
    "위 문장에서 순서 배치를 전화번호, 이메일, 자기소개, 이름 순서로 변경하시오."
   ]
  },
  {
   "cell_type": "code",
   "execution_count": 71,
   "metadata": {
    "tags": []
   },
   "outputs": [
    {
     "data": {
      "text/plain": [
       "'010-1234-0907 mikeman@naver.com hi! my name is mike! mike\\n010-1112-3456 jayman@naver.com hi! my name is jay! jay\\nyohan 010-2223-5874 yohanman@naver.com hi! my name is yohan!'"
      ]
     },
     "execution_count": 71,
     "metadata": {},
     "output_type": "execute_result"
    }
   ],
   "source": [
    "# 답안\n",
    "a = '''mike 010-1234-0907 mikeman@naver.com hi! my name is mike!\n",
    "jay 010-1112-3456 jayman@naver.com hi! my name is jay!\n",
    "yohan 010-2223-5874 yohanman@naver.com hi! my name is yohan!'''\n",
    "\n",
    "p = re.compile(r'''(?P<name>\\w+)\\s(?P<phone>\\d{3}.\\d{4}.\\d{4})\\s(?P<mail>.+.\\w+)\\s(?P<intro>.+\\1!)\\n''')\n",
    "\n",
    "p.sub(r'\\g<phone> \\g<mail> \\g<intro> \\g<name>\\n', a)"
   ]
  }
 ],
 "metadata": {
  "kernelspec": {
   "display_name": "Python 3",
   "language": "python",
   "name": "python3"
  },
  "language_info": {
   "codemirror_mode": {
    "name": "ipython",
    "version": 3
   },
   "file_extension": ".py",
   "mimetype": "text/x-python",
   "name": "python",
   "nbconvert_exporter": "python",
   "pygments_lexer": "ipython3",
   "version": "3.7.6"
  }
 },
 "nbformat": 4,
 "nbformat_minor": 2
}
