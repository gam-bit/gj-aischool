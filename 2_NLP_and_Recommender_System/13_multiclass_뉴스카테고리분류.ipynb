{
  "nbformat": 4,
  "nbformat_minor": 0,
  "metadata": {
    "colab": {
      "name": "13_multiclass_뉴스카테고리분류.ipynb",
      "provenance": [],
      "collapsed_sections": []
    },
    "kernelspec": {
      "name": "python3",
      "display_name": "Python 3"
    }
  },
  "cells": [
    {
      "cell_type": "code",
      "metadata": {
        "id": "X-PpIsmBFfeB",
        "colab_type": "code",
        "colab": {}
      },
      "source": [
        "from tensorflow.keras.datasets import reuters\n",
        "from tensorflow.keras.models import Sequential\n",
        "from tensorflow.keras.layers import Dense, LSTM, Embedding, SimpleRNN\n",
        "from tensorflow.keras.preprocessing.sequence import pad_sequences\n",
        "from tensorflow.keras.utils import to_categorical\n",
        "from tensorflow.keras.callbacks import EarlyStopping, ModelCheckpoint\n",
        "from tensorflow.keras.models import load_model\n",
        "from tensorflow.keras.preprocessing.text import Tokenizer\n",
        "import matplotlib.pyplot as plt"
      ],
      "execution_count": 1,
      "outputs": []
    },
    {
      "cell_type": "markdown",
      "metadata": {
        "id": "kXMZOombVWGX",
        "colab_type": "text"
      },
      "source": [
        "# 1. `reuters`를 이용한 다중 클래스 분류"
      ]
    },
    {
      "cell_type": "code",
      "metadata": {
        "id": "xokW-B6KF-ti",
        "colab_type": "code",
        "colab": {
          "base_uri": "https://localhost:8080/",
          "height": 53
        },
        "outputId": "c05dae4c-01b8-4f6a-d991-9f4bafdab580"
      },
      "source": [
        "(X_train, y_train), (X_test, y_test) = reuters.load_data(num_words=1000, )"
      ],
      "execution_count": 2,
      "outputs": [
        {
          "output_type": "stream",
          "text": [
            "Downloading data from https://storage.googleapis.com/tensorflow/tf-keras-datasets/reuters.npz\n",
            "2113536/2110848 [==============================] - 0s 0us/step\n"
          ],
          "name": "stdout"
        }
      ]
    },
    {
      "cell_type": "code",
      "metadata": {
        "id": "qfYrqnxwPzqh",
        "colab_type": "code",
        "colab": {
          "base_uri": "https://localhost:8080/",
          "height": 182
        },
        "outputId": "de87d115-aad1-4d85-d16e-19f1bdb4d2b0"
      },
      "source": [
        "X_train"
      ],
      "execution_count": 3,
      "outputs": [
        {
          "output_type": "execute_result",
          "data": {
            "text/plain": [
              "array([list([1, 2, 2, 8, 43, 10, 447, 5, 25, 207, 270, 5, 2, 111, 16, 369, 186, 90, 67, 7, 89, 5, 19, 102, 6, 19, 124, 15, 90, 67, 84, 22, 482, 26, 7, 48, 4, 49, 8, 864, 39, 209, 154, 6, 151, 6, 83, 11, 15, 22, 155, 11, 15, 7, 48, 9, 2, 2, 504, 6, 258, 6, 272, 11, 15, 22, 134, 44, 11, 15, 16, 8, 197, 2, 90, 67, 52, 29, 209, 30, 32, 132, 6, 109, 15, 17, 12]),\n",
              "       list([1, 2, 699, 2, 2, 56, 2, 2, 9, 56, 2, 2, 81, 5, 2, 57, 366, 737, 132, 20, 2, 7, 2, 49, 2, 2, 2, 2, 699, 2, 8, 7, 10, 241, 16, 855, 129, 231, 783, 5, 4, 587, 2, 2, 2, 775, 7, 48, 34, 191, 44, 35, 2, 505, 17, 12]),\n",
              "       list([1, 53, 12, 284, 15, 14, 272, 26, 53, 959, 32, 818, 15, 14, 272, 26, 39, 684, 70, 11, 14, 12, 2, 18, 180, 183, 187, 70, 11, 14, 102, 32, 11, 29, 53, 44, 704, 15, 14, 19, 758, 15, 53, 959, 47, 2, 15, 14, 19, 132, 15, 39, 965, 32, 11, 14, 147, 72, 11, 180, 183, 187, 44, 11, 14, 102, 19, 11, 123, 186, 90, 67, 960, 4, 78, 13, 68, 467, 511, 110, 59, 89, 90, 67, 2, 55, 2, 92, 617, 80, 2, 46, 905, 220, 13, 4, 346, 48, 235, 629, 5, 211, 5, 2, 7, 2, 81, 5, 187, 11, 15, 9, 2, 201, 5, 47, 2, 18, 478, 2, 5, 2, 7, 232, 2, 71, 5, 160, 63, 11, 9, 2, 81, 5, 102, 59, 11, 17, 12]),\n",
              "       ...,\n",
              "       list([1, 141, 2, 387, 81, 8, 16, 2, 10, 340, 2, 850, 31, 56, 2, 691, 9, 2, 71, 9, 2, 2, 2, 699, 2, 2, 2, 699, 244, 2, 4, 49, 8, 4, 656, 850, 33, 2, 9, 2, 340, 2, 2, 9, 2, 22, 2, 2, 687, 83, 35, 15, 257, 6, 57, 2, 7, 4, 2, 654, 5, 2, 2, 2, 4, 49, 8, 16, 369, 646, 6, 2, 7, 124, 407, 17, 12]),\n",
              "       list([1, 53, 46, 957, 26, 14, 74, 132, 26, 39, 46, 258, 2, 18, 14, 74, 134, 2, 18, 88, 2, 72, 11, 14, 2, 32, 11, 123, 383, 89, 39, 46, 235, 10, 864, 728, 5, 258, 44, 11, 15, 22, 753, 9, 42, 92, 131, 728, 5, 69, 312, 11, 15, 22, 222, 2, 2, 383, 48, 39, 74, 235, 10, 864, 276, 5, 61, 32, 11, 15, 21, 4, 211, 5, 126, 2, 42, 92, 131, 46, 19, 352, 11, 15, 22, 710, 220, 9, 42, 92, 131, 276, 5, 59, 61, 11, 15, 22, 10, 455, 7, 2, 137, 336, 2, 6, 2, 142, 971, 2, 43, 359, 5, 4, 326, 753, 364, 17, 12]),\n",
              "       list([1, 227, 2, 91, 2, 125, 2, 21, 4, 2, 76, 7, 4, 757, 481, 2, 790, 2, 2, 9, 111, 149, 8, 7, 10, 76, 223, 51, 4, 417, 8, 2, 91, 2, 2, 340, 7, 194, 2, 6, 2, 21, 127, 2, 2, 2, 6, 2, 4, 329, 433, 7, 65, 87, 2, 10, 2, 2, 290, 9, 21, 567, 16, 2, 24, 4, 76, 209, 30, 2, 2, 2, 8, 4, 60, 8, 4, 966, 308, 40, 2, 129, 2, 295, 277, 2, 9, 24, 286, 2, 234, 222, 9, 4, 906, 2, 2, 114, 2, 2, 7, 4, 113, 17, 12])],\n",
              "      dtype=object)"
            ]
          },
          "metadata": {
            "tags": []
          },
          "execution_count": 3
        }
      ]
    },
    {
      "cell_type": "code",
      "metadata": {
        "id": "txXEeHCDGMfA",
        "colab_type": "code",
        "colab": {}
      },
      "source": [
        "max_len = 100\n",
        "X_train = pad_sequences(X_train, maxlen=max_len)\n",
        "X_test = pad_sequences(X_test, maxlen=max_len)"
      ],
      "execution_count": 4,
      "outputs": []
    },
    {
      "cell_type": "code",
      "metadata": {
        "id": "Z-paVluYGMvo",
        "colab_type": "code",
        "colab": {}
      },
      "source": [
        "# OHE\n",
        "y_train = to_categorical(y_train)\n",
        "y_test = to_categorical(y_test)"
      ],
      "execution_count": 5,
      "outputs": []
    },
    {
      "cell_type": "code",
      "metadata": {
        "id": "4UWtLlRrGMzI",
        "colab_type": "code",
        "colab": {}
      },
      "source": [
        "model = Sequential()\n",
        "model.add(Embedding(1000, 120))\n",
        "model.add(LSTM(120))\n",
        "model.add(Dense(46, activation='softmax'))"
      ],
      "execution_count": 6,
      "outputs": []
    },
    {
      "cell_type": "code",
      "metadata": {
        "id": "TNxio5fJGM2S",
        "colab_type": "code",
        "colab": {
          "base_uri": "https://localhost:8080/",
          "height": 53
        },
        "outputId": "03acfd08-c84e-4ac2-fa80-4a68389d8779"
      },
      "source": [
        "model.compile(loss='categorical_crossentropy', optimizer='adam', metrics=['acc'])\n",
        "model.fit(X_train, y_train, batch_size=128, epochs=1, validation_data=(X_test, y_test)) "
      ],
      "execution_count": 7,
      "outputs": [
        {
          "output_type": "stream",
          "text": [
            "71/71 [==============================] - 26s 360ms/step - loss: 2.6109 - acc: 0.3393 - val_loss: 2.4025 - val_acc: 0.3620\n"
          ],
          "name": "stdout"
        },
        {
          "output_type": "execute_result",
          "data": {
            "text/plain": [
              "<tensorflow.python.keras.callbacks.History at 0x7f2d8208fe10>"
            ]
          },
          "metadata": {
            "tags": []
          },
          "execution_count": 7
        }
      ]
    },
    {
      "cell_type": "markdown",
      "metadata": {
        "id": "ZHGMBA1eGM5R",
        "colab_type": "text"
      },
      "source": [
        "epoch 10\\~15번 반복하면 60\\~70%까지 올라감"
      ]
    },
    {
      "cell_type": "code",
      "metadata": {
        "id": "guCWdH8DGM8J",
        "colab_type": "code",
        "colab": {}
      },
      "source": [
        ""
      ],
      "execution_count": 46,
      "outputs": []
    },
    {
      "cell_type": "markdown",
      "metadata": {
        "id": "iKiDT7nMGM--",
        "colab_type": "text"
      },
      "source": [
        "# 2. kaggle data를 이용한 뉴스 카테고리 분류 실습"
      ]
    },
    {
      "cell_type": "code",
      "metadata": {
        "id": "P5hAFQzfGNBp",
        "colab_type": "code",
        "colab": {}
      },
      "source": [
        "import os\n",
        "os.getcwd()\n",
        "os.chdir(\"/content/drive/My Drive/Colab Notebooks\")"
      ],
      "execution_count": 8,
      "outputs": []
    },
    {
      "cell_type": "code",
      "metadata": {
        "id": "9tfbgf88JsaI",
        "colab_type": "code",
        "colab": {
          "base_uri": "https://localhost:8080/",
          "height": 71
        },
        "outputId": "1ebe49cc-bcdd-4074-d874-244b36442299"
      },
      "source": [
        "import pandas as pd\n",
        "import numpy as np\n",
        "from sklearn.model_selection import train_test_split\n",
        "\n",
        "news_data = pd.read_json('./data/News_Category_Dataset_v2.json', lines=True)\n",
        "news_data = news_data.loc[:, [\"category\", \"headline\"]]\n",
        "\n",
        "# 카테고리를 숫자로 변경\n",
        "news_data.category = pd.Categorical(news_data.category)\n",
        "news_data.category = news_data.category.cat.codes \n",
        "\n",
        "\n",
        "# 단어만 남기고 공백 제거\n",
        "news_data['headline'] = news_data['headline'].str.replace('[^\\w]', ' ')\n",
        "news_data['headline'].replace('', np.nan)\n",
        "news_data = news_data.dropna(how='any', axis=0)\n",
        "news_data['headline'] = news_data['headline'].apply(lambda x: x.lower())\n",
        "\n",
        "print(\"# preprocessing done\")\n",
        "\n",
        "\n",
        "\n",
        "# split train/test\n",
        "news_train, news_test, y_train, y_test = train_test_split(news_data['headline'], news_data['category'], test_size=0.2, shuffle=True, random_state=1234) \n",
        "print('# split done')\n",
        "\n",
        "# OHE\n",
        "y_train = to_categorical(y_train)\n",
        "y_test = to_categorical(y_test)\n",
        "\n",
        "\n",
        "# 토큰화\n",
        "stopwords = ['a', 'an', 'in', 'on', 'and', 'for', 'the', 's', 'to', 'is', 'with', 'of', 'you',\n",
        "             'at', 'that', 'what', 'this', 'be', 'your', 't', 'it', 'from', 'are', 'about', 'as', 'i']\n",
        "\n",
        "X_train = []\n",
        "for news in news_train:\n",
        "    token = []\n",
        "    words = news.split()\n",
        "    for word in words:\n",
        "        if word not in stopwords:\n",
        "            token.append(word)\n",
        "    X_train.append(token)\n",
        "\n",
        "X_test = []\n",
        "for news in news_test:\n",
        "    token = []\n",
        "    words = news.split()\n",
        "    for word in words:\n",
        "        if word not in stopwords:\n",
        "            token.append(word)\n",
        "    X_test.append(token)\n",
        "\n",
        "\n",
        "print('# tokenization done')"
      ],
      "execution_count": 36,
      "outputs": [
        {
          "output_type": "stream",
          "text": [
            "# preprocessing done\n",
            "# split done\n",
            "# tokenization done\n"
          ],
          "name": "stdout"
        }
      ]
    },
    {
      "cell_type": "code",
      "metadata": {
        "id": "AIblidWfVQ0c",
        "colab_type": "code",
        "colab": {
          "base_uri": "https://localhost:8080/",
          "height": 571
        },
        "outputId": "7145b8e1-8f0e-43c4-843d-e6c269b18e8f"
      },
      "source": [
        "# 정수 인코딩\n",
        "tokenizer = Tokenizer()\n",
        "tokenizer.fit_on_texts(X_train)\n",
        "\n",
        "# > 단어 개수 확인\n",
        "print(\"전체 단어 개수:\", len(tokenizer.word_index))\n",
        "print(\"빈도수 3이상인 단어 개수:\", len([token for token, count in tokenizer.word_counts.items() if count >= 3]))\n",
        "print(\"빈도수 4이상인 단어 개수:\", len([token for token, count in tokenizer.word_counts.items() if count >= 4]))\n",
        "plt.subplots()\n",
        "plt.hist(list(tokenizer.word_counts.values()))\n",
        "plt.subplots()\n",
        "plt.boxplot(list(tokenizer.word_counts.values()))\n",
        "plt.ylim(0, 10000);"
      ],
      "execution_count": 38,
      "outputs": [
        {
          "output_type": "stream",
          "text": [
            "전체 단어 개수: 50847\n",
            "빈도수 3이상인 단어 개수: 23971\n",
            "빈도수 4이상인 단어 개수: 20362\n"
          ],
          "name": "stdout"
        },
        {
          "output_type": "display_data",
          "data": {
            "image/png": "[encoded data removed]",
            "text/plain": [
              "<Figure size 432x288 with 1 Axes>"
            ]
          },
          "metadata": {
            "tags": [],
            "needs_background": "light"
          }
        },
        {
          "output_type": "display_data",
          "data": {
            "image/png": "[encoded data removed]",
            "text/plain": [
              "<Figure size 432x288 with 1 Axes>"
            ]
          },
          "metadata": {
            "tags": [],
            "needs_background": "light"
          }
        }
      ]
    },
    {
      "cell_type": "code",
      "metadata": {
        "id": "u9YEcGcBVkcU",
        "colab_type": "code",
        "colab": {
          "base_uri": "https://localhost:8080/",
          "height": 35
        },
        "outputId": "35e32806-91a8-4ecb-d0d8-7e360e1812f4"
      },
      "source": [
        "# 정수 인코딩\n",
        "tokenizer = Tokenizer(20000)\n",
        "tokenizer.fit_on_texts(X_train)\n",
        "X_train = tokenizer.texts_to_sequences(X_train)\n",
        "X_test = tokenizer.texts_to_sequences(X_test)\n",
        "print(\"# int_encoding done\")"
      ],
      "execution_count": 39,
      "outputs": [
        {
          "output_type": "stream",
          "text": [
            "# int_encoding done\n"
          ],
          "name": "stdout"
        }
      ]
    },
    {
      "cell_type": "code",
      "metadata": {
        "id": "ciQPTZAqQd7R",
        "colab_type": "code",
        "colab": {
          "base_uri": "https://localhost:8080/",
          "height": 282
        },
        "outputId": "da0c769e-96d3-45ad-99f7-d4aa408fe851"
      },
      "source": [
        "# padding\n",
        "# > max_len 확인\n",
        "print(\"최대 토큰 개수:\", max([len(x) for x in X_train]))\n",
        "plt.hist([len(x) for x in X_train], bins=20);"
      ],
      "execution_count": 40,
      "outputs": [
        {
          "output_type": "stream",
          "text": [
            "최대 토큰 개수: 40\n"
          ],
          "name": "stdout"
        },
        {
          "output_type": "display_data",
          "data": {
            "image/png": "[encoded data removed]",
            "text/plain": [
              "<Figure size 432x288 with 1 Axes>"
            ]
          },
          "metadata": {
            "tags": [],
            "needs_background": "light"
          }
        }
      ]
    },
    {
      "cell_type": "code",
      "metadata": {
        "id": "VWnNia13Qd-S",
        "colab_type": "code",
        "colab": {
          "base_uri": "https://localhost:8080/",
          "height": 35
        },
        "outputId": "819cc94a-6f62-4c92-d0e5-bd02061fc611"
      },
      "source": [
        "# padding\n",
        "X_train = pad_sequences(X_train, maxlen=15)\n",
        "X_test = pad_sequences(X_test, maxlen=15)\n",
        "print(\"# padding done\")"
      ],
      "execution_count": 41,
      "outputs": [
        {
          "output_type": "stream",
          "text": [
            "# padding done\n"
          ],
          "name": "stdout"
        }
      ]
    },
    {
      "cell_type": "markdown",
      "metadata": {
        "id": "d7p0YMGdbZ5J",
        "colab_type": "text"
      },
      "source": [
        "### model1) simple RNN"
      ]
    },
    {
      "cell_type": "code",
      "metadata": {
        "id": "NJq9Wq8ebfpX",
        "colab_type": "code",
        "colab": {}
      },
      "source": [
        "model1 = Sequential()\n",
        "model1.add(Embedding(20000, 32))\n",
        "model1.add(SimpleRNN(32))\n",
        "model1.add(Dense(41, activation='softmax'))"
      ],
      "execution_count": 42,
      "outputs": []
    },
    {
      "cell_type": "code",
      "metadata": {
        "id": "25g82jNodZzm",
        "colab_type": "code",
        "colab": {
          "base_uri": "https://localhost:8080/",
          "height": 252
        },
        "outputId": "b4da2a1a-9b61-418f-8ddb-8775fba32a87"
      },
      "source": [
        "model1.compile(loss='categorical_crossentropy',optimizer='adam', metrics=['accuracy'])\n",
        "model1.fit(X_train, y_train, validation_data=(X_test, y_test), epochs=6, batch_size=128)"
      ],
      "execution_count": 43,
      "outputs": [
        {
          "output_type": "stream",
          "text": [
            "Epoch 1/6\n",
            "1256/1256 [==============================] - 16s 12ms/step - loss: 2.6462 - accuracy: 0.3263 - val_loss: 2.1927 - val_accuracy: 0.4346\n",
            "Epoch 2/6\n",
            "1256/1256 [==============================] - 15s 12ms/step - loss: 1.9067 - accuracy: 0.4993 - val_loss: 1.9179 - val_accuracy: 0.4973\n",
            "Epoch 3/6\n",
            "1256/1256 [==============================] - 15s 12ms/step - loss: 1.6318 - accuracy: 0.5641 - val_loss: 1.8591 - val_accuracy: 0.5120\n",
            "Epoch 4/6\n",
            "1256/1256 [==============================] - 15s 12ms/step - loss: 1.4508 - accuracy: 0.6069 - val_loss: 1.8631 - val_accuracy: 0.5151\n",
            "Epoch 5/6\n",
            "1256/1256 [==============================] - 15s 12ms/step - loss: 1.3076 - accuracy: 0.6434 - val_loss: 1.9021 - val_accuracy: 0.5071\n",
            "Epoch 6/6\n",
            "1256/1256 [==============================] - 15s 12ms/step - loss: 1.1852 - accuracy: 0.6752 - val_loss: 1.9496 - val_accuracy: 0.5064\n"
          ],
          "name": "stdout"
        },
        {
          "output_type": "execute_result",
          "data": {
            "text/plain": [
              "<tensorflow.python.keras.callbacks.History at 0x7f2d5f0e9e80>"
            ]
          },
          "metadata": {
            "tags": []
          },
          "execution_count": 43
        }
      ]
    },
    {
      "cell_type": "code",
      "metadata": {
        "id": "LEMh6gK1bpVI",
        "colab_type": "code",
        "colab": {
          "base_uri": "https://localhost:8080/",
          "height": 53
        },
        "outputId": "bc9ac55f-d32d-4567-d2c2-07530c44e88d"
      },
      "source": [
        "model1.evaluate(X_test, y_test)"
      ],
      "execution_count": 44,
      "outputs": [
        {
          "output_type": "stream",
          "text": [
            "1256/1256 [==============================] - 2s 2ms/step - loss: 1.9496 - accuracy: 0.5064\n"
          ],
          "name": "stdout"
        },
        {
          "output_type": "execute_result",
          "data": {
            "text/plain": [
              "[1.9496369361877441, 0.5063602924346924]"
            ]
          },
          "metadata": {
            "tags": []
          },
          "execution_count": 44
        }
      ]
    },
    {
      "cell_type": "code",
      "metadata": {
        "id": "cVSHwQhCbasX",
        "colab_type": "code",
        "colab": {}
      },
      "source": [
        ""
      ],
      "execution_count": null,
      "outputs": []
    },
    {
      "cell_type": "code",
      "metadata": {
        "id": "t0vTc-wDbaws",
        "colab_type": "code",
        "colab": {}
      },
      "source": [
        ""
      ],
      "execution_count": null,
      "outputs": []
    },
    {
      "cell_type": "markdown",
      "metadata": {
        "id": "uYGCy-GLbazU",
        "colab_type": "text"
      },
      "source": [
        "### model2) LSTM"
      ]
    },
    {
      "cell_type": "code",
      "metadata": {
        "id": "E9Kf5rZRbiQY",
        "colab_type": "code",
        "colab": {}
      },
      "source": [
        "model2 = Sequential()\n",
        "model2.add(Embedding(20000, 32))\n",
        "model2.add(LSTM(32))\n",
        "model2.add(Dense(41, activation='softmax'))"
      ],
      "execution_count": 45,
      "outputs": []
    },
    {
      "cell_type": "code",
      "metadata": {
        "id": "MbrhwV9DPeoa",
        "colab_type": "code",
        "colab": {
          "base_uri": "https://localhost:8080/",
          "height": 252
        },
        "outputId": "8afdb70a-4991-461b-9030-186409ec9a9e"
      },
      "source": [
        "model2.compile(loss='categorical_crossentropy',optimizer='adam', metrics=['accuracy'])\n",
        "model2.fit(X_train, y_train, validation_data=(X_test, y_test), epochs=6, batch_size=128)"
      ],
      "execution_count": 46,
      "outputs": [
        {
          "output_type": "stream",
          "text": [
            "Epoch 1/6\n",
            "1256/1256 [==============================] - 24s 19ms/step - loss: 2.5159 - accuracy: 0.3551 - val_loss: 1.9836 - val_accuracy: 0.4792\n",
            "Epoch 2/6\n",
            "1256/1256 [==============================] - 24s 19ms/step - loss: 1.7157 - accuracy: 0.5417 - val_loss: 1.7108 - val_accuracy: 0.5416\n",
            "Epoch 3/6\n",
            "1256/1256 [==============================] - 24s 19ms/step - loss: 1.4261 - accuracy: 0.6078 - val_loss: 1.6509 - val_accuracy: 0.5581\n",
            "Epoch 4/6\n",
            "1256/1256 [==============================] - 24s 19ms/step - loss: 1.2639 - accuracy: 0.6464 - val_loss: 1.6273 - val_accuracy: 0.5636\n",
            "Epoch 5/6\n",
            "1256/1256 [==============================] - 24s 19ms/step - loss: 1.1422 - accuracy: 0.6777 - val_loss: 1.6618 - val_accuracy: 0.5602\n",
            "Epoch 6/6\n",
            "1256/1256 [==============================] - 24s 19ms/step - loss: 1.0423 - accuracy: 0.7037 - val_loss: 1.6743 - val_accuracy: 0.5605\n"
          ],
          "name": "stdout"
        },
        {
          "output_type": "execute_result",
          "data": {
            "text/plain": [
              "<tensorflow.python.keras.callbacks.History at 0x7f2d57710208>"
            ]
          },
          "metadata": {
            "tags": []
          },
          "execution_count": 46
        }
      ]
    },
    {
      "cell_type": "code",
      "metadata": {
        "id": "uM3y1VgUbo4x",
        "colab_type": "code",
        "colab": {
          "base_uri": "https://localhost:8080/",
          "height": 53
        },
        "outputId": "b94b3969-3c93-4321-9e7e-a86761877bc0"
      },
      "source": [
        "model2.evaluate(X_test, y_test)"
      ],
      "execution_count": 47,
      "outputs": [
        {
          "output_type": "stream",
          "text": [
            "1256/1256 [==============================] - 3s 2ms/step - loss: 1.6743 - accuracy: 0.5605\n"
          ],
          "name": "stdout"
        },
        {
          "output_type": "execute_result",
          "data": {
            "text/plain": [
              "[1.6743135452270508, 0.560478925704956]"
            ]
          },
          "metadata": {
            "tags": []
          },
          "execution_count": 47
        }
      ]
    },
    {
      "cell_type": "code",
      "metadata": {
        "id": "tiiPrA2Nbo79",
        "colab_type": "code",
        "colab": {}
      },
      "source": [
        ""
      ],
      "execution_count": null,
      "outputs": []
    },
    {
      "cell_type": "code",
      "metadata": {
        "id": "9cdbQnMRbo-w",
        "colab_type": "code",
        "colab": {}
      },
      "source": [
        ""
      ],
      "execution_count": null,
      "outputs": []
    },
    {
      "cell_type": "code",
      "metadata": {
        "id": "GYG747K2Perd",
        "colab_type": "code",
        "colab": {}
      },
      "source": [
        ""
      ],
      "execution_count": null,
      "outputs": []
    },
    {
      "cell_type": "markdown",
      "metadata": {
        "id": "epGxx0dCPeuQ",
        "colab_type": "text"
      },
      "source": [
        "### model3) CNN"
      ]
    },
    {
      "cell_type": "code",
      "metadata": {
        "id": "u3ewhY5io__i",
        "colab_type": "code",
        "colab": {}
      },
      "source": [
        "from tensorflow.keras.layers import Conv1D, GlobalMaxPooling1D, Flatten"
      ],
      "execution_count": 49,
      "outputs": []
    },
    {
      "cell_type": "code",
      "metadata": {
        "id": "3Z93d24tPexM",
        "colab_type": "code",
        "colab": {}
      },
      "source": [
        "model3 = Sequential()\n",
        "model3.add(Embedding(20000, 25))\n",
        "model3.add(Conv1D(25, 3, padding='valid', activation='relu'))\n",
        "model3.add(GlobalMaxPooling1D())\n",
        "model3.add(Flatten())\n",
        "model3.add(Dense(41, activation='softmax'))"
      ],
      "execution_count": 53,
      "outputs": []
    },
    {
      "cell_type": "code",
      "metadata": {
        "id": "h13h5xSAPez-",
        "colab_type": "code",
        "colab": {
          "base_uri": "https://localhost:8080/",
          "height": 252
        },
        "outputId": "3c8d870a-ed2e-4024-e3ba-a8d247c6a320"
      },
      "source": [
        "model3.compile(loss='categorical_crossentropy',optimizer='adam', metrics=['accuracy'])\n",
        "model3.fit(X_train, y_train, validation_data=(X_test, y_test), epochs=6, batch_size=128)"
      ],
      "execution_count": 54,
      "outputs": [
        {
          "output_type": "stream",
          "text": [
            "Epoch 1/6\n",
            "1256/1256 [==============================] - 11s 9ms/step - loss: 2.5925 - accuracy: 0.3495 - val_loss: 2.0996 - val_accuracy: 0.4662\n",
            "Epoch 2/6\n",
            "1256/1256 [==============================] - 11s 9ms/step - loss: 1.8463 - accuracy: 0.5233 - val_loss: 1.8547 - val_accuracy: 0.5216\n",
            "Epoch 3/6\n",
            "1256/1256 [==============================] - 11s 9ms/step - loss: 1.5649 - accuracy: 0.5815 - val_loss: 1.7778 - val_accuracy: 0.5370\n",
            "Epoch 4/6\n",
            "1256/1256 [==============================] - 11s 8ms/step - loss: 1.3817 - accuracy: 0.6223 - val_loss: 1.7648 - val_accuracy: 0.5399\n",
            "Epoch 5/6\n",
            "1256/1256 [==============================] - 11s 9ms/step - loss: 1.2429 - accuracy: 0.6564 - val_loss: 1.7838 - val_accuracy: 0.5400\n",
            "Epoch 6/6\n",
            "1256/1256 [==============================] - 15s 12ms/step - loss: 1.1289 - accuracy: 0.6872 - val_loss: 1.8262 - val_accuracy: 0.5360\n"
          ],
          "name": "stdout"
        },
        {
          "output_type": "execute_result",
          "data": {
            "text/plain": [
              "<tensorflow.python.keras.callbacks.History at 0x7f2d6c6f2208>"
            ]
          },
          "metadata": {
            "tags": []
          },
          "execution_count": 54
        }
      ]
    },
    {
      "cell_type": "code",
      "metadata": {
        "id": "gI8jN7NwPe5l",
        "colab_type": "code",
        "colab": {
          "base_uri": "https://localhost:8080/",
          "height": 53
        },
        "outputId": "adb65d77-77cb-4d87-e3b5-cf9dfdd4c80d"
      },
      "source": [
        "model3.evaluate(X_test, y_test)"
      ],
      "execution_count": 52,
      "outputs": [
        {
          "output_type": "stream",
          "text": [
            "1256/1256 [==============================] - 6s 5ms/step - loss: 2.3504 - accuracy: 0.5511\n"
          ],
          "name": "stdout"
        },
        {
          "output_type": "execute_result",
          "data": {
            "text/plain": [
              "[2.3503522872924805, 0.5510692000389099]"
            ]
          },
          "metadata": {
            "tags": []
          },
          "execution_count": 52
        }
      ]
    },
    {
      "cell_type": "code",
      "metadata": {
        "id": "aO-fvs_sboa1",
        "colab_type": "code",
        "colab": {}
      },
      "source": [
        ""
      ],
      "execution_count": null,
      "outputs": []
    },
    {
      "cell_type": "code",
      "metadata": {
        "id": "nbZQxVHTboeE",
        "colab_type": "code",
        "colab": {}
      },
      "source": [
        ""
      ],
      "execution_count": null,
      "outputs": []
    }
  ]
}